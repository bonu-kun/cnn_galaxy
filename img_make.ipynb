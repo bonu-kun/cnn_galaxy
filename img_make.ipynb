{
 "cells": [
  {
   "cell_type": "code",
   "execution_count": 1,
   "metadata": {
    "scrolled": true
   },
   "outputs": [
    {
     "output_type": "execute_result",
     "data": {
      "text/plain": [
       "'/home/homma/iida/research/cnn_galaxy'"
      ]
     },
     "metadata": {},
     "execution_count": 1
    }
   ],
   "source": [
    "pwd"
   ]
  },
  {
   "cell_type": "code",
   "execution_count": 2,
   "metadata": {},
   "outputs": [],
   "source": [
    "from astropy.table import Table\n",
    "import astropy.wcs\n",
    "import astropy.io.fits\n",
    "from astropy.coordinates import SkyCoord\n",
    "from astropy import units as u\n",
    "from pydl.photoop.photoobj import unwrap_objid\n",
    "import numpy as np\n",
    "import matplotlib.pyplot as plt\n",
    "import csv"
   ]
  },
  {
   "cell_type": "markdown",
   "metadata": {},
   "source": [
    "津田くんからもらった画像切り出しスクリプトを実行"
   ]
  },
  {
   "source": [
    "run main.py"
   ],
   "cell_type": "code",
   "metadata": {
    "scrolled": false,
    "tags": []
   },
   "execution_count": 3,
   "outputs": [
    {
     "output_type": "display_data",
     "data": {
      "text/plain": "HBox(children=(FloatProgress(value=0.0, max=10000.0), HTML(value='')))",
      "application/vnd.jupyter.widget-view+json": {
       "version_major": 2,
       "version_minor": 0,
       "model_id": "1011c4a0ce8e47908f7bf690e29f8e95"
      }
     },
     "metadata": {}
    },
    {
     "output_type": "stream",
     "name": "stdout",
     "text": [
      "\n"
     ]
    }
   ]
  },
  {
   "cell_type": "code",
   "execution_count": 2,
   "metadata": {},
   "outputs": [
    {
     "name": "stdout",
     "output_type": "stream",
     "text": [
      "      OBJID             RA         DEC     NVOTE P_EL  P_CW P_ACW P_EDGE  P_DK  P_MG  P_CS P_EL_DEBIASED P_CS_DEBIASED SPIRAL ELLIPTICAL UNCERTAIN\n",
      "                       hms         dms                                                                                                            \n",
      "------------------ ----------- ----------- ----- ---- ----- ----- ------ ----- ----- ----- ------------- ------------- ------ ---------- ---------\n",
      "587727178986356823 00:00:00.41 -10:22:25.7    59 0.61 0.034   0.0  0.153 0.153 0.051 0.186          0.61         0.186      0          0         1\n"
     ]
    }
   ],
   "source": [
    "gz_table = Table.read('GalaxyZoo1_DR_table2.fits')\n",
    "galaxy_info = gz_table[0]\n",
    "print(galaxy_info)"
   ]
  },
  {
   "cell_type": "code",
   "execution_count": 3,
   "metadata": {},
   "outputs": [
    {
     "name": "stdout",
     "output_type": "stream",
     "text": [
      "-10:22:25.7\n"
     ]
    }
   ],
   "source": [
    "\n",
    "f = open(\"data/csv/galaxy_csv.csv\")\n",
    "reader = csv.reader(f)\n",
    "l = [row for row in reader]\n",
    "print(l[0][2])"
   ]
  }
 ],
 "metadata": {
  "kernelspec": {
   "display_name": "Python 3",
   "language": "python",
   "name": "python3"
  },
  "language_info": {
   "codemirror_mode": {
    "name": "ipython",
    "version": 3
   },
   "file_extension": ".py",
   "mimetype": "text/x-python",
   "name": "python",
   "nbconvert_exporter": "python",
   "pygments_lexer": "ipython3",
   "version": "3.6.12-final"
  }
 },
 "nbformat": 4,
 "nbformat_minor": 4
}