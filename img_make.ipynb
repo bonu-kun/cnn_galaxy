{
 "cells": [
  {
   "cell_type": "code",
   "execution_count": 5,
   "metadata": {
    "scrolled": true
   },
   "outputs": [
    {
     "output_type": "execute_result",
     "data": {
      "text/plain": [
       "'/home/homma/iida/research/cnn_galaxy'"
      ]
     },
     "metadata": {},
     "execution_count": 5
    }
   ],
   "source": [
    "pwd"
   ]
  },
  {
   "cell_type": "code",
   "execution_count": 6,
   "metadata": {},
   "outputs": [],
   "source": [
    "from astropy.table import Table\n",
    "import astropy.wcs\n",
    "import astropy.io.fits\n",
    "from astropy.coordinates import SkyCoord\n",
    "from astropy import units as u\n",
    "from pydl.photoop.photoobj import unwrap_objid\n",
    "import numpy as np\n",
    "import matplotlib.pyplot as plt\n",
    "import csv"
   ]
  },
  {
   "cell_type": "markdown",
   "metadata": {},
   "source": [
    "津田くんからもらった画像切り出しスクリプトを実行"
   ]
  },
  {
   "source": [
    "run main.py"
   ],
   "cell_type": "code",
   "metadata": {
    "scrolled": false,
    "tags": []
   },
   "execution_count": 7,
   "outputs": [
    {
     "output_type": "error",
     "ename": "SyntaxError",
     "evalue": "invalid syntax (main.py, line 54)",
     "traceback": [
      "\u001b[0;36m  File \u001b[0;32m\"/home/homma/iida/research/cnn_galaxy/main.py\"\u001b[0;36m, line \u001b[0;32m54\u001b[0m\n\u001b[0;31m    if objid == 587724198813433876 of objid == 587724199349518483:\u001b[0m\n\u001b[0m                                    ^\u001b[0m\n\u001b[0;31mSyntaxError\u001b[0m\u001b[0;31m:\u001b[0m invalid syntax\n"
     ]
    }
   ]
  },
  {
   "cell_type": "code",
   "execution_count": 2,
   "metadata": {},
   "outputs": [
    {
     "name": "stdout",
     "output_type": "stream",
     "text": [
      "      OBJID             RA         DEC     NVOTE P_EL  P_CW P_ACW P_EDGE  P_DK  P_MG  P_CS P_EL_DEBIASED P_CS_DEBIASED SPIRAL ELLIPTICAL UNCERTAIN\n",
      "                       hms         dms                                                                                                            \n",
      "------------------ ----------- ----------- ----- ---- ----- ----- ------ ----- ----- ----- ------------- ------------- ------ ---------- ---------\n",
      "587727178986356823 00:00:00.41 -10:22:25.7    59 0.61 0.034   0.0  0.153 0.153 0.051 0.186          0.61         0.186      0          0         1\n"
     ]
    }
   ],
   "source": [
    "gz_table = Table.read('GalaxyZoo1_DR_table2.fits')\n",
    "galaxy_info = gz_table[0]\n",
    "print(galaxy_info)"
   ]
  },
  {
   "cell_type": "code",
   "execution_count": 3,
   "metadata": {},
   "outputs": [
    {
     "name": "stdout",
     "output_type": "stream",
     "text": [
      "-10:22:25.7\n"
     ]
    }
   ],
   "source": [
    "\n",
    "f = open(\"data/csv/galaxy_csv.csv\")\n",
    "reader = csv.reader(f)\n",
    "l = [row for row in reader]\n",
    "print(l[0][2])"
   ]
  }
 ],
 "metadata": {
  "kernelspec": {
   "name": "Python 3.6.12 64-bit ('cnn_3.6': conda)",
   "display_name": "Python 3.6.12 64-bit ('cnn_3.6': conda)",
   "metadata": {
    "interpreter": {
     "hash": "537aab7285bea616fedad228ac42c187cf0debb9853bf3abc8adf98fccc694b5"
    }
   }
  },
  "language_info": {
   "codemirror_mode": {
    "name": "ipython",
    "version": 3
   },
   "file_extension": ".py",
   "mimetype": "text/x-python",
   "name": "python",
   "nbconvert_exporter": "python",
   "pygments_lexer": "ipython3",
   "version": "3.6.12-final"
  }
 },
 "nbformat": 4,
 "nbformat_minor": 4
}