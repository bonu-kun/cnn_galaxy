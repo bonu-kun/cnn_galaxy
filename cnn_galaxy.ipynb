{
 "cells": [
  {
   "cell_type": "code",
   "execution_count": 15,
   "metadata": {},
   "outputs": [
    {
     "data": {
      "text/plain": [
       "'/home/homma/iida/research/cnn_galaxy'"
      ]
     },
     "execution_count": 15,
     "metadata": {},
     "output_type": "execute_result"
    }
   ],
   "source": [
    "pwd"
   ]
  },
  {
   "cell_type": "code",
   "execution_count": 2,
   "metadata": {
    "scrolled": true
   },
   "outputs": [
    {
     "name": "stderr",
     "output_type": "stream",
     "text": [
      "Using TensorFlow backend.\n"
     ]
    }
   ],
   "source": [
    "import os\n",
    "import tensorflow as tf\n",
    "import keras"
   ]
  },
  {
   "cell_type": "code",
   "execution_count": 3,
   "metadata": {},
   "outputs": [],
   "source": [
    "# Kerasの必要なコンポーネントをインポート\n",
    "from keras.models import Sequential, model_from_json\n",
    "from keras.layers import Dense, Dropout, Flatten, Conv2D, MaxPooling2D, Activation\n",
    "from keras.optimizers import RMSprop\n",
    "from keras.utils import np_utils, plot_model\n",
    "\n",
    "# Scikit-learn(Sklearn)のインポート\n",
    "#  from sklearn.datasets import fetch_openml\n",
    "\n",
    "# データを高速かつ効率的に使えるPandasをインポート\n",
    "import pandas as pd\n",
    "# 数値計算を効率的に行うNumpyをインポート\n",
    "import numpy as np\n",
    "#グラフが簡単に描写できるMatplotlibをインポート\n",
    "import matplotlib\n",
    "import matplotlib.pyplot as plt\n",
    "\n",
    "#astropy関連のインポート\n",
    "from astropy.table import Table\n",
    "\n",
    "#csv\n",
    "import csv"
   ]
  },
  {
   "cell_type": "code",
   "execution_count": 3,
   "metadata": {},
   "outputs": [],
   "source": [
    "# Load the TensorBoard notebook extension\n",
    "%load_ext tensorboard"
   ]
  },
  {
   "cell_type": "code",
   "execution_count": 4,
   "metadata": {},
   "outputs": [],
   "source": [
    "import datetime\n",
    "import pydot"
   ]
  },
  {
   "cell_type": "code",
   "execution_count": 5,
   "metadata": {},
   "outputs": [
    {
     "name": "stderr",
     "output_type": "stream",
     "text": [
      "'rm' は、内部コマンドまたは外部コマンド、\n",
      "操作可能なプログラムまたはバッチ ファイルとして認識されていません。\n"
     ]
    }
   ],
   "source": [
    " # Clear any logs from previous runs\n",
    "!rm -rf ./logs/ "
   ]
  },
  {
   "cell_type": "markdown",
   "metadata": {},
   "source": [
    "# テスト - 一旦画像表示させてみる"
   ]
  },
  {
   "cell_type": "code",
   "execution_count": 5,
   "metadata": {
    "scrolled": false
   },
   "outputs": [],
   "source": [
    "galaxy_arr = np.load(\"data/npz/587727178986356823.npy\")"
   ]
  },
  {
   "cell_type": "code",
   "execution_count": 19,
   "metadata": {},
   "outputs": [
    {
     "name": "stdout",
     "output_type": "stream",
     "text": [
      "[[1196 1188 1197 ... 1191 1191 1187]\n",
      " [1179 1185 1179 ... 1196 1189 1191]\n",
      " [1194 1189 1197 ... 1194 1199 1196]\n",
      " ...\n",
      " [1188 1189 1194 ... 1187 1202 1186]\n",
      " [1179 1189 1190 ... 1199 1195 1205]\n",
      " [1196 1196 1189 ... 1187 1189 1185]]\n",
      "(60, 60)\n"
     ]
    }
   ],
   "source": [
    "# 画像\n",
    "print(galaxy_arr)\n",
    "print(galaxy_arr.shape)"
   ]
  },
  {
   "cell_type": "code",
   "execution_count": 7,
   "metadata": {},
   "outputs": [
    {
     "data": {
      "text/plain": [
       "<matplotlib.image.AxesImage at 0x29a04a2c198>"
      ]
     },
     "execution_count": 7,
     "metadata": {},
     "output_type": "execute_result"
    },
    {
     "data": {
      "image/png": "[encoded data removed]",
      "text/plain": [
       "<Figure size 432x288 with 1 Axes>"
      ]
     },
     "metadata": {
      "needs_background": "light"
     },
     "output_type": "display_data"
    }
   ],
   "source": [
    "# 画像表示\n",
    "plt.imshow(np.log10(galaxy_arr.T[::-1, ::-1]), cmap='gray', vmin=3.05, vmax=3.09)"
   ]
  },
  {
   "cell_type": "code",
   "execution_count": 17,
   "metadata": {},
   "outputs": [
    {
     "name": "stdout",
     "output_type": "stream",
     "text": [
      "1891\n",
      "(31, 31)\n",
      "1516\n"
     ]
    }
   ],
   "source": [
    "#最大値参照\n",
    "print(np.argmax(galaxy_arr)) #これは平坦化した際のインデックス\n",
    "print(np.unravel_index(np.argmax(galaxy_arr),galaxy_arr.shape))\n",
    "print(galaxy_arr[31,31])"
   ]
  },
  {
   "cell_type": "markdown",
   "metadata": {},
   "source": [
    "# テスト - Table比較"
   ]
  },
  {
   "cell_type": "code",
   "execution_count": 19,
   "metadata": {},
   "outputs": [
    {
     "name": "stdout",
     "output_type": "stream",
     "text": [
      "(587727178986356823, b'00:00:00.41', b'-10:22:25.7', 59, 0.61, 0.034, 0., 0.153, 0.153, 0.051, 0.186, 0.61, 0.186, 0, 0, 1)\n"
     ]
    }
   ],
   "source": [
    "# ラベル\n",
    "print(galaxy_arr['arr_1'])"
   ]
  },
  {
   "cell_type": "markdown",
   "metadata": {},
   "source": [
    "ここでTableと比較してみる"
   ]
  },
  {
   "cell_type": "code",
   "execution_count": 26,
   "metadata": {},
   "outputs": [
    {
     "data": {
      "text/html": [
       "<i>Row index=0</i>\n",
       "<table id=\"table2860523497680\">\n",
       "<thead><tr><th>OBJID</th><th>RA</th><th>DEC</th><th>NVOTE</th><th>P_EL</th><th>P_CW</th><th>P_ACW</th><th>P_EDGE</th><th>P_DK</th><th>P_MG</th><th>P_CS</th><th>P_EL_DEBIASED</th><th>P_CS_DEBIASED</th><th>SPIRAL</th><th>ELLIPTICAL</th><th>UNCERTAIN</th></tr></thead>\n",
       "<thead><tr><th></th><th>hms</th><th>dms</th><th></th><th></th><th></th><th></th><th></th><th></th><th></th><th></th><th></th><th></th><th></th><th></th><th></th></tr></thead>\n",
       "<thead><tr><th>int64</th><th>bytes11</th><th>bytes11</th><th>int16</th><th>float32</th><th>float32</th><th>float32</th><th>float32</th><th>float32</th><th>float32</th><th>float32</th><th>float32</th><th>float32</th><th>int16</th><th>int16</th><th>int16</th></tr></thead>\n",
       "<tr><td>587727178986356823</td><td>00:00:00.41</td><td>-10:22:25.7</td><td>59</td><td>0.61</td><td>0.034</td><td>0.0</td><td>0.153</td><td>0.153</td><td>0.051</td><td>0.186</td><td>0.61</td><td>0.186</td><td>0</td><td>0</td><td>1</td></tr>\n",
       "</table>"
      ],
      "text/plain": [
       "<Row index=0>\n",
       "      OBJID             RA         DEC     NVOTE   P_EL    P_CW   P_ACW   P_EDGE   P_DK    P_MG    P_CS  P_EL_DEBIASED P_CS_DEBIASED SPIRAL ELLIPTICAL UNCERTAIN\n",
       "                       hms         dms                                                                                                                          \n",
       "      int64          bytes11     bytes11   int16 float32 float32 float32 float32 float32 float32 float32    float32       float32    int16    int16      int16  \n",
       "------------------ ----------- ----------- ----- ------- ------- ------- ------- ------- ------- ------- ------------- ------------- ------ ---------- ---------\n",
       "587727178986356823 00:00:00.41 -10:22:25.7    59    0.61   0.034     0.0   0.153   0.153   0.051   0.186          0.61         0.186      0          0         1"
      ]
     },
     "execution_count": 26,
     "metadata": {},
     "output_type": "execute_result"
    }
   ],
   "source": [
    "table_hontai = Table.read('GalaxyZoo1_DR_table2.fits')\n",
    "table_hontai[0]"
   ]
  },
  {
   "cell_type": "markdown",
   "metadata": {},
   "source": [
    "# データセット生成"
   ]
  },
  {
   "cell_type": "code",
   "execution_count": 67,
   "metadata": {
    "scrolled": true
   },
   "outputs": [
    {
     "name": "stdout",
     "output_type": "stream",
     "text": [
      "(588015509806252189, b'00:00:26.31', b'+00:35:50.8', 26, 0.654, 0., 0., 0.231, 0.115, 0., 0.231, 0.394, 0.447, 0, 0, 1)\n"
     ]
    }
   ],
   "source": [
    "# npzディレクトリのファイル名取得\n",
    "#path = \"data/npz\"\n",
    "#files = os.listdir(path)\n",
    "#files_file = [f for f in files if os.path.isfile(os.path.join(path, f))]\n",
    "\n",
    "#dataset_gal = []\n",
    "#for npzname in files_file[:1]:\n",
    "#    galaxy_arr = np.load('data/npz/' + npzname)\n",
    "#    header = galaxy_arr['arr_1']\n",
    "#    print(header)\n",
    "    "
   ]
  },
  {
   "cell_type": "code",
   "execution_count": 4,
   "metadata": {},
   "outputs": [],
   "source": [
    "# まず、作成したcsvをロード\n",
    "csv_obj = open('data/csv/galaxy_csv.csv')\n",
    "csv_reader = csv.reader(csv_obj)\n",
    "gz_table = [row for row in csv_reader]"
   ]
  },
  {
   "cell_type": "code",
   "execution_count": 5,
   "metadata": {
    "scrolled": true
   },
   "outputs": [],
   "source": [
    "# x(画像データ)のロード\n",
    "x = [np.load('data/npz/' + i[0] + '.npy') for i in gz_table[:1000]]"
   ]
  },
  {
   "cell_type": "code",
   "execution_count": 6,
   "metadata": {},
   "outputs": [
    {
     "name": "stdout",
     "output_type": "stream",
     "text": [
      "[[1196 1188 1197 ... 1191 1191 1187]\n",
      " [1179 1185 1179 ... 1196 1189 1191]\n",
      " [1194 1189 1197 ... 1194 1199 1196]\n",
      " ...\n",
      " [1188 1189 1194 ... 1187 1202 1186]\n",
      " [1179 1189 1190 ... 1199 1195 1205]\n",
      " [1196 1196 1189 ... 1187 1189 1185]]\n",
      "uint16\n"
     ]
    }
   ],
   "source": [
    "print(x[0])\n",
    "print(x[0].dtype)"
   ]
  },
  {
   "cell_type": "code",
   "execution_count": 7,
   "metadata": {},
   "outputs": [],
   "source": [
    "# list → nparray、およびint → float\n",
    "X = np.array(x)\n",
    "X = X.astype('float32')"
   ]
  },
  {
   "cell_type": "code",
   "execution_count": 8,
   "metadata": {},
   "outputs": [
    {
     "name": "stdout",
     "output_type": "stream",
     "text": [
      "[[1196. 1188. 1197. ... 1191. 1191. 1187.]\n",
      " [1179. 1185. 1179. ... 1196. 1189. 1191.]\n",
      " [1194. 1189. 1197. ... 1194. 1199. 1196.]\n",
      " ...\n",
      " [1188. 1189. 1194. ... 1187. 1202. 1186.]\n",
      " [1179. 1189. 1190. ... 1199. 1195. 1205.]\n",
      " [1196. 1196. 1189. ... 1187. 1189. 1185.]]\n",
      "float32\n"
     ]
    }
   ],
   "source": [
    "print(X[0])\n",
    "print(X[0].dtype)"
   ]
  },
  {
   "cell_type": "code",
   "execution_count": 9,
   "metadata": {
    "scrolled": true
   },
   "outputs": [],
   "source": [
    "# 正規化\n",
    "for i in range(len(gz_table)):\n",
    "    idx = np.unravel_index(np.argmax(X[i]), X[i].shape)\n",
    "    idx_content = X[i][idx]\n",
    "    X[i] = X[i]/idx_content"
   ]
  },
  {
   "cell_type": "code",
   "execution_count": 12,
   "metadata": {},
   "outputs": [
    {
     "name": "stdout",
     "output_type": "stream",
     "text": [
      "[[0.7889182  0.78364116 0.78957784 ... 0.78562003 0.78562003 0.7829815 ]\n",
      " [0.7777045  0.7816623  0.7777045  ... 0.7889182  0.7843008  0.78562003]\n",
      " [0.78759897 0.7843008  0.78957784 ... 0.78759897 0.7908971  0.7889182 ]\n",
      " ...\n",
      " [0.78364116 0.7843008  0.78759897 ... 0.7829815  0.792876   0.7823219 ]\n",
      " [0.7777045  0.7843008  0.78496045 ... 0.7908971  0.78825855 0.7948549 ]\n",
      " [0.7889182  0.7889182  0.7843008  ... 0.7829815  0.7843008  0.7816623 ]]\n",
      "(31, 31) max =  1.0\n"
     ]
    }
   ],
   "source": [
    "print(X[0])\n",
    "idx2 = np.unravel_index(np.argmax(X[0]), X[0].shape)\n",
    "idx_content2 = X[0][idx2]\n",
    "print(idx2, 'max = ',idx_content2)"
   ]
  },
  {
   "cell_type": "code",
   "execution_count": 9,
   "metadata": {},
   "outputs": [],
   "source": [
    "# y(正解ラベル)をロード\n",
    "Y = []\n",
    "for i in gz_table[:1000]:\n",
    "    if i[13] == '1':\n",
    "        Y.append(0)\n",
    "    elif i[14] == '1':\n",
    "        Y.append(1)\n",
    "    elif i[15] == '1':\n",
    "        Y.append(2)"
   ]
  },
  {
   "cell_type": "code",
   "execution_count": 10,
   "metadata": {},
   "outputs": [],
   "source": [
    "# ワンホットエンコーディング\n",
    "Y = np_utils.to_categorical(Y,3)"
   ]
  },
  {
   "cell_type": "code",
   "execution_count": 11,
   "metadata": {},
   "outputs": [
    {
     "name": "stdout",
     "output_type": "stream",
     "text": [
      "800\n",
      "(60, 60, 1)\n",
      "<class 'numpy.ndarray'>\n"
     ]
    }
   ],
   "source": [
    "# 訓練データとテストデータを切り分ける\n",
    "X_train, X_test, Y_train, Y_test = X[:800], X[800:], Y[:800], Y[800:]\n",
    "Y_test_backup = Y_test\n",
    "\n",
    "X_train = X_train.reshape(800, 60, 60, 1)\n",
    "X_test  = X_test.reshape(200, 60, 60, 1)\n",
    "\n",
    "# 両方のサイズを確認\n",
    "print(len(X_train))\n",
    "print(X_train[0].shape)\n",
    "print(type(X_train))"
   ]
  },
  {
   "cell_type": "markdown",
   "metadata": {},
   "source": [
    "# モデル構築とトレーニング"
   ]
  },
  {
   "cell_type": "code",
   "execution_count": 13,
   "metadata": {
    "scrolled": true
   },
   "outputs": [
    {
     "name": "stdout",
     "output_type": "stream",
     "text": [
      "Model: \"sequential_2\"\n",
      "_________________________________________________________________\n",
      "Layer (type)                 Output Shape              Param #   \n",
      "=================================================================\n",
      "conv2d_5 (Conv2D)            (None, 56, 56, 32)        832       \n",
      "_________________________________________________________________\n",
      "conv2d_6 (Conv2D)            (None, 52, 52, 64)        51264     \n",
      "_________________________________________________________________\n",
      "max_pooling2d_3 (MaxPooling2 (None, 13, 13, 64)        0         \n",
      "_________________________________________________________________\n",
      "conv2d_7 (Conv2D)            (None, 11, 11, 128)       73856     \n",
      "_________________________________________________________________\n",
      "conv2d_8 (Conv2D)            (None, 9, 9, 128)         147584    \n",
      "_________________________________________________________________\n",
      "max_pooling2d_4 (MaxPooling2 (None, 4, 4, 128)         0         \n",
      "_________________________________________________________________\n",
      "dropout_4 (Dropout)          (None, 4, 4, 128)         0         \n",
      "_________________________________________________________________\n",
      "flatten_2 (Flatten)          (None, 2048)              0         \n",
      "_________________________________________________________________\n",
      "dense_4 (Dense)              (None, 64)                131136    \n",
      "_________________________________________________________________\n",
      "dropout_5 (Dropout)          (None, 64)                0         \n",
      "_________________________________________________________________\n",
      "dense_5 (Dense)              (None, 64)                4160      \n",
      "_________________________________________________________________\n",
      "dropout_6 (Dropout)          (None, 64)                0         \n",
      "_________________________________________________________________\n",
      "dense_6 (Dense)              (None, 3)                 195       \n",
      "=================================================================\n",
      "Total params: 409,027\n",
      "Trainable params: 409,027\n",
      "Non-trainable params: 0\n",
      "_________________________________________________________________\n",
      "Train on 800 samples, validate on 200 samples\n",
      "Epoch 1/300\n",
      "800/800 [==============================] - 7s 8ms/step - loss: 1.0777 - accuracy: 0.5300 - val_loss: 0.9069 - val_accuracy: 0.6200\n",
      "Epoch 2/300\n",
      "800/800 [==============================] - 8s 10ms/step - loss: 0.9473 - accuracy: 0.5612 - val_loss: 0.9176 - val_accuracy: 0.6200\n",
      "Epoch 3/300\n",
      "800/800 [==============================] - 7s 9ms/step - loss: 0.9471 - accuracy: 0.5600 - val_loss: 0.9019 - val_accuracy: 0.6200\n",
      "Epoch 4/300\n",
      "800/800 [==============================] - 7s 8ms/step - loss: 0.9325 - accuracy: 0.5813 - val_loss: 0.9325 - val_accuracy: 0.6200\n",
      "Epoch 5/300\n",
      "800/800 [==============================] - 6s 7ms/step - loss: 0.9495 - accuracy: 0.5800 - val_loss: 0.9469 - val_accuracy: 0.6200\n",
      "Epoch 6/300\n",
      "800/800 [==============================] - 6s 7ms/step - loss: 0.9375 - accuracy: 0.5838 - val_loss: 0.8792 - val_accuracy: 0.6200\n",
      "Epoch 7/300\n",
      "800/800 [==============================] - 6s 7ms/step - loss: 0.9346 - accuracy: 0.5838 - val_loss: 0.8904 - val_accuracy: 0.6200\n",
      "Epoch 8/300\n",
      "800/800 [==============================] - 6s 7ms/step - loss: 0.9157 - accuracy: 0.5875 - val_loss: 0.8792 - val_accuracy: 0.6200\n",
      "Epoch 9/300\n",
      "800/800 [==============================] - 6s 7ms/step - loss: 0.9351 - accuracy: 0.5875 - val_loss: 0.9225 - val_accuracy: 0.6200\n",
      "Epoch 10/300\n",
      "800/800 [==============================] - 6s 7ms/step - loss: 0.9256 - accuracy: 0.5863 - val_loss: 0.8967 - val_accuracy: 0.6200\n",
      "Epoch 11/300\n",
      "800/800 [==============================] - 6s 8ms/step - loss: 0.9164 - accuracy: 0.5875 - val_loss: 0.8902 - val_accuracy: 0.6200\n",
      "Epoch 12/300\n",
      "800/800 [==============================] - 6s 8ms/step - loss: 0.9231 - accuracy: 0.5863 - val_loss: 0.9013 - val_accuracy: 0.6200\n",
      "Epoch 13/300\n",
      "800/800 [==============================] - 6s 7ms/step - loss: 0.9253 - accuracy: 0.5863 - val_loss: 0.8876 - val_accuracy: 0.6200\n",
      "Epoch 14/300\n",
      "800/800 [==============================] - 6s 7ms/step - loss: 0.9679 - accuracy: 0.5863 - val_loss: 0.8850 - val_accuracy: 0.6200\n",
      "Epoch 15/300\n",
      "800/800 [==============================] - 6s 7ms/step - loss: 0.9192 - accuracy: 0.5938 - val_loss: 0.9083 - val_accuracy: 0.6200\n",
      "Epoch 16/300\n",
      "800/800 [==============================] - 6s 8ms/step - loss: 0.9377 - accuracy: 0.5913 - val_loss: 0.8950 - val_accuracy: 0.6200\n",
      "Epoch 17/300\n",
      "800/800 [==============================] - 6s 7ms/step - loss: 0.9051 - accuracy: 0.5875 - val_loss: 0.8852 - val_accuracy: 0.6200\n",
      "Epoch 18/300\n",
      "800/800 [==============================] - 5s 7ms/step - loss: 0.9457 - accuracy: 0.5875 - val_loss: 0.9307 - val_accuracy: 0.6200\n",
      "Epoch 19/300\n",
      "800/800 [==============================] - 6s 7ms/step - loss: 0.9182 - accuracy: 0.5863 - val_loss: 0.8782 - val_accuracy: 0.6200\n",
      "Epoch 20/300\n",
      "800/800 [==============================] - 5s 7ms/step - loss: 0.8866 - accuracy: 0.5838 - val_loss: 0.8700 - val_accuracy: 0.6200\n",
      "Epoch 21/300\n",
      "800/800 [==============================] - 5s 7ms/step - loss: 0.9072 - accuracy: 0.5875 - val_loss: 1.1287 - val_accuracy: 0.3400\n",
      "Epoch 22/300\n",
      "800/800 [==============================] - 5s 7ms/step - loss: 0.9093 - accuracy: 0.5750 - val_loss: 0.8509 - val_accuracy: 0.6200\n",
      "Epoch 23/300\n",
      "800/800 [==============================] - 5s 7ms/step - loss: 0.8759 - accuracy: 0.5913 - val_loss: 0.8468 - val_accuracy: 0.6200\n",
      "Epoch 24/300\n",
      "800/800 [==============================] - 5s 7ms/step - loss: 0.8877 - accuracy: 0.5612 - val_loss: 0.8883 - val_accuracy: 0.6100\n",
      "Epoch 25/300\n",
      "800/800 [==============================] - 5s 6ms/step - loss: 0.8656 - accuracy: 0.5738 - val_loss: 1.0013 - val_accuracy: 0.6200\n",
      "Epoch 26/300\n",
      "800/800 [==============================] - 5s 6ms/step - loss: 0.8849 - accuracy: 0.5725 - val_loss: 0.8975 - val_accuracy: 0.6200\n",
      "Epoch 27/300\n",
      "800/800 [==============================] - 5s 7ms/step - loss: 0.8901 - accuracy: 0.5875 - val_loss: 0.8790 - val_accuracy: 0.6150\n",
      "Epoch 28/300\n",
      "800/800 [==============================] - 5s 7ms/step - loss: 0.8954 - accuracy: 0.5800 - val_loss: 0.8907 - val_accuracy: 0.6250\n",
      "Epoch 29/300\n",
      "800/800 [==============================] - 5s 7ms/step - loss: 0.8682 - accuracy: 0.6037 - val_loss: 0.9057 - val_accuracy: 0.6200\n",
      "Epoch 30/300\n",
      "800/800 [==============================] - 5s 7ms/step - loss: 0.8922 - accuracy: 0.5775 - val_loss: 0.8655 - val_accuracy: 0.6200\n",
      "Epoch 31/300\n",
      "800/800 [==============================] - 6s 7ms/step - loss: 0.8797 - accuracy: 0.5775 - val_loss: 0.8825 - val_accuracy: 0.6200\n",
      "Epoch 32/300\n",
      "800/800 [==============================] - 5s 7ms/step - loss: 0.8819 - accuracy: 0.5800 - val_loss: 0.8869 - val_accuracy: 0.6200\n",
      "Epoch 33/300\n",
      "800/800 [==============================] - 5s 7ms/step - loss: 0.8667 - accuracy: 0.5888 - val_loss: 0.8923 - val_accuracy: 0.6200\n",
      "Epoch 34/300\n",
      "800/800 [==============================] - 5s 7ms/step - loss: 0.8649 - accuracy: 0.5950 - val_loss: 0.8584 - val_accuracy: 0.6200\n",
      "Epoch 35/300\n",
      "800/800 [==============================] - 5s 7ms/step - loss: 0.8681 - accuracy: 0.5888 - val_loss: 0.8632 - val_accuracy: 0.6150\n",
      "Epoch 36/300\n",
      "800/800 [==============================] - 5s 7ms/step - loss: 0.8709 - accuracy: 0.5750 - val_loss: 0.8808 - val_accuracy: 0.6200\n",
      "Epoch 37/300\n",
      "800/800 [==============================] - 5s 7ms/step - loss: 0.8409 - accuracy: 0.5925 - val_loss: 0.8802 - val_accuracy: 0.6200\n",
      "Epoch 38/300\n",
      "800/800 [==============================] - 5s 7ms/step - loss: 0.8920 - accuracy: 0.5750 - val_loss: 0.8902 - val_accuracy: 0.6100\n",
      "Epoch 39/300\n",
      "800/800 [==============================] - 5s 7ms/step - loss: 0.8539 - accuracy: 0.5975 - val_loss: 0.8771 - val_accuracy: 0.6150\n",
      "Epoch 40/300\n",
      "800/800 [==============================] - 5s 6ms/step - loss: 0.8445 - accuracy: 0.5975 - val_loss: 0.9030 - val_accuracy: 0.6150\n",
      "Epoch 41/300\n",
      "800/800 [==============================] - 5s 7ms/step - loss: 0.8518 - accuracy: 0.5962 - val_loss: 0.9454 - val_accuracy: 0.6250\n",
      "Epoch 42/300\n",
      "800/800 [==============================] - 5s 7ms/step - loss: 0.8537 - accuracy: 0.5838 - val_loss: 0.8946 - val_accuracy: 0.6150\n",
      "Epoch 43/300\n",
      "800/800 [==============================] - 5s 7ms/step - loss: 0.8355 - accuracy: 0.6012 - val_loss: 0.9930 - val_accuracy: 0.6250\n",
      "Epoch 44/300\n",
      "800/800 [==============================] - 5s 6ms/step - loss: 0.8634 - accuracy: 0.5713 - val_loss: 0.8914 - val_accuracy: 0.6150\n",
      "Epoch 45/300\n",
      "800/800 [==============================] - 5s 7ms/step - loss: 0.8375 - accuracy: 0.5913 - val_loss: 0.8965 - val_accuracy: 0.5850\n",
      "Epoch 46/300\n",
      "800/800 [==============================] - 5s 6ms/step - loss: 0.8486 - accuracy: 0.5800 - val_loss: 0.9373 - val_accuracy: 0.6100\n",
      "Epoch 47/300\n",
      "800/800 [==============================] - 5s 6ms/step - loss: 0.8543 - accuracy: 0.6025 - val_loss: 0.8829 - val_accuracy: 0.6150\n",
      "Epoch 48/300\n",
      "800/800 [==============================] - 5s 6ms/step - loss: 0.8591 - accuracy: 0.5962 - val_loss: 0.9154 - val_accuracy: 0.5850\n",
      "Epoch 49/300\n",
      "800/800 [==============================] - 5s 6ms/step - loss: 0.8324 - accuracy: 0.6137 - val_loss: 0.9389 - val_accuracy: 0.6100\n",
      "Epoch 50/300\n",
      "800/800 [==============================] - 5s 6ms/step - loss: 0.8457 - accuracy: 0.6000 - val_loss: 0.9226 - val_accuracy: 0.5600\n",
      "Epoch 51/300\n",
      "800/800 [==============================] - 5s 7ms/step - loss: 0.8407 - accuracy: 0.5975 - val_loss: 0.9179 - val_accuracy: 0.6150\n",
      "Epoch 52/300\n",
      "800/800 [==============================] - 5s 7ms/step - loss: 0.8346 - accuracy: 0.5950 - val_loss: 0.9192 - val_accuracy: 0.6100\n",
      "Epoch 53/300\n",
      "800/800 [==============================] - 5s 7ms/step - loss: 0.8407 - accuracy: 0.5925 - val_loss: 0.9061 - val_accuracy: 0.5800\n",
      "Epoch 54/300\n",
      "800/800 [==============================] - 5s 6ms/step - loss: 0.8302 - accuracy: 0.5875 - val_loss: 0.9405 - val_accuracy: 0.6150\n",
      "Epoch 55/300\n",
      "800/800 [==============================] - 5s 7ms/step - loss: 0.8234 - accuracy: 0.5875 - val_loss: 0.9021 - val_accuracy: 0.5900\n",
      "Epoch 56/300\n",
      "800/800 [==============================] - 5s 6ms/step - loss: 0.9018 - accuracy: 0.5913 - val_loss: 0.8859 - val_accuracy: 0.6050\n",
      "Epoch 57/300\n",
      "800/800 [==============================] - 5s 6ms/step - loss: 0.8195 - accuracy: 0.6025 - val_loss: 0.8934 - val_accuracy: 0.5800\n",
      "Epoch 58/300\n",
      "800/800 [==============================] - 5s 7ms/step - loss: 0.8334 - accuracy: 0.5888 - val_loss: 0.9071 - val_accuracy: 0.6100\n",
      "Epoch 59/300\n",
      "800/800 [==============================] - 5s 7ms/step - loss: 0.8188 - accuracy: 0.6012 - val_loss: 0.9174 - val_accuracy: 0.5950\n",
      "Epoch 60/300\n",
      "800/800 [==============================] - 5s 6ms/step - loss: 0.7993 - accuracy: 0.6175 - val_loss: 0.9569 - val_accuracy: 0.6050\n",
      "Epoch 61/300\n",
      "800/800 [==============================] - 6s 7ms/step - loss: 0.8308 - accuracy: 0.5863 - val_loss: 0.9448 - val_accuracy: 0.5700\n",
      "Epoch 62/300\n",
      "800/800 [==============================] - 5s 6ms/step - loss: 0.8109 - accuracy: 0.5987 - val_loss: 0.9089 - val_accuracy: 0.5800\n",
      "Epoch 63/300\n",
      "800/800 [==============================] - 5s 7ms/step - loss: 0.8163 - accuracy: 0.6087 - val_loss: 0.9580 - val_accuracy: 0.6150\n",
      "Epoch 64/300\n",
      "800/800 [==============================] - 5s 7ms/step - loss: 0.8347 - accuracy: 0.5913 - val_loss: 0.8923 - val_accuracy: 0.6100\n",
      "Epoch 65/300\n",
      "800/800 [==============================] - 5s 6ms/step - loss: 0.7955 - accuracy: 0.6112 - val_loss: 0.9098 - val_accuracy: 0.5850\n",
      "Epoch 66/300\n",
      "800/800 [==============================] - 6s 7ms/step - loss: 0.8199 - accuracy: 0.5950 - val_loss: 0.8940 - val_accuracy: 0.5850\n",
      "Epoch 67/300\n",
      "800/800 [==============================] - 5s 7ms/step - loss: 0.8359 - accuracy: 0.5925 - val_loss: 0.8903 - val_accuracy: 0.6200\n",
      "Epoch 68/300\n",
      "800/800 [==============================] - 5s 7ms/step - loss: 0.8095 - accuracy: 0.6100 - val_loss: 0.9199 - val_accuracy: 0.5900\n",
      "Epoch 69/300\n",
      "800/800 [==============================] - 5s 7ms/step - loss: 0.8091 - accuracy: 0.6237 - val_loss: 0.9055 - val_accuracy: 0.5900\n",
      "Epoch 70/300\n",
      "800/800 [==============================] - 5s 6ms/step - loss: 0.8135 - accuracy: 0.6300 - val_loss: 0.8941 - val_accuracy: 0.5900\n",
      "Epoch 71/300\n",
      "800/800 [==============================] - 5s 6ms/step - loss: 0.8090 - accuracy: 0.5950 - val_loss: 0.9392 - val_accuracy: 0.6200\n",
      "Epoch 72/300\n",
      "800/800 [==============================] - 6s 7ms/step - loss: 0.7980 - accuracy: 0.6100 - val_loss: 0.9300 - val_accuracy: 0.5750\n",
      "Epoch 73/300\n",
      "800/800 [==============================] - 5s 7ms/step - loss: 0.8035 - accuracy: 0.6100 - val_loss: 0.9054 - val_accuracy: 0.5800\n",
      "Epoch 74/300\n",
      "800/800 [==============================] - 5s 7ms/step - loss: 0.7922 - accuracy: 0.6325 - val_loss: 0.9248 - val_accuracy: 0.5900\n",
      "Epoch 75/300\n",
      "800/800 [==============================] - 5s 7ms/step - loss: 0.8003 - accuracy: 0.6250 - val_loss: 0.9207 - val_accuracy: 0.5950\n",
      "Epoch 76/300\n",
      "800/800 [==============================] - 5s 7ms/step - loss: 0.7953 - accuracy: 0.6187 - val_loss: 1.0023 - val_accuracy: 0.6100\n",
      "Epoch 77/300\n",
      "800/800 [==============================] - 5s 6ms/step - loss: 0.7791 - accuracy: 0.6375 - val_loss: 0.9543 - val_accuracy: 0.5900\n",
      "Epoch 78/300\n",
      "800/800 [==============================] - 5s 7ms/step - loss: 0.7967 - accuracy: 0.6112 - val_loss: 0.9499 - val_accuracy: 0.5800\n",
      "Epoch 79/300\n",
      "800/800 [==============================] - 5s 7ms/step - loss: 0.7855 - accuracy: 0.6162 - val_loss: 0.9598 - val_accuracy: 0.5950\n",
      "Epoch 80/300\n",
      "800/800 [==============================] - 5s 7ms/step - loss: 0.7835 - accuracy: 0.6125 - val_loss: 0.9317 - val_accuracy: 0.5750\n",
      "Epoch 81/300\n",
      "800/800 [==============================] - 5s 7ms/step - loss: 0.7663 - accuracy: 0.6500 - val_loss: 0.9436 - val_accuracy: 0.5800\n",
      "Epoch 82/300\n",
      "800/800 [==============================] - 5s 7ms/step - loss: 0.7772 - accuracy: 0.6463 - val_loss: 0.9724 - val_accuracy: 0.6150\n",
      "Epoch 83/300\n",
      "800/800 [==============================] - 5s 7ms/step - loss: 0.7707 - accuracy: 0.6325 - val_loss: 0.9508 - val_accuracy: 0.5900\n",
      "Epoch 84/300\n",
      "800/800 [==============================] - 5s 7ms/step - loss: 0.7631 - accuracy: 0.6338 - val_loss: 0.9336 - val_accuracy: 0.5900\n",
      "Epoch 85/300\n",
      "800/800 [==============================] - 6s 7ms/step - loss: 0.7536 - accuracy: 0.6438 - val_loss: 1.0482 - val_accuracy: 0.5650\n",
      "Epoch 86/300\n",
      "800/800 [==============================] - 5s 7ms/step - loss: 0.7882 - accuracy: 0.6363 - val_loss: 0.9593 - val_accuracy: 0.6000\n",
      "Epoch 87/300\n",
      "800/800 [==============================] - 6s 7ms/step - loss: 0.7567 - accuracy: 0.6475 - val_loss: 0.9563 - val_accuracy: 0.5950\n",
      "Epoch 88/300\n",
      "800/800 [==============================] - 5s 7ms/step - loss: 0.7929 - accuracy: 0.6363 - val_loss: 0.9067 - val_accuracy: 0.6050\n",
      "Epoch 89/300\n",
      "800/800 [==============================] - 5s 7ms/step - loss: 0.7540 - accuracy: 0.6475 - val_loss: 0.9209 - val_accuracy: 0.5750\n",
      "Epoch 90/300\n",
      "800/800 [==============================] - 5s 6ms/step - loss: 0.7622 - accuracy: 0.6275 - val_loss: 0.9752 - val_accuracy: 0.5950\n",
      "Epoch 91/300\n",
      "800/800 [==============================] - 5s 7ms/step - loss: 0.7695 - accuracy: 0.6500 - val_loss: 0.9398 - val_accuracy: 0.6100\n",
      "Epoch 92/300\n",
      "800/800 [==============================] - 5s 7ms/step - loss: 0.7576 - accuracy: 0.6425 - val_loss: 0.9821 - val_accuracy: 0.6000\n",
      "Epoch 93/300\n",
      "800/800 [==============================] - 5s 6ms/step - loss: 0.7450 - accuracy: 0.6500 - val_loss: 0.9534 - val_accuracy: 0.6200\n",
      "Epoch 94/300\n",
      "800/800 [==============================] - 5s 7ms/step - loss: 0.7532 - accuracy: 0.6413 - val_loss: 0.8963 - val_accuracy: 0.6200\n",
      "Epoch 95/300\n",
      "800/800 [==============================] - 5s 6ms/step - loss: 0.7118 - accuracy: 0.6687 - val_loss: 1.1079 - val_accuracy: 0.5450\n",
      "Epoch 96/300\n",
      "800/800 [==============================] - 5s 7ms/step - loss: 0.7396 - accuracy: 0.6750 - val_loss: 0.9984 - val_accuracy: 0.5950\n",
      "Epoch 97/300\n",
      "800/800 [==============================] - 5s 6ms/step - loss: 0.7449 - accuracy: 0.6488 - val_loss: 0.9283 - val_accuracy: 0.5950\n",
      "Epoch 98/300\n",
      "800/800 [==============================] - 5s 6ms/step - loss: 0.7501 - accuracy: 0.6675 - val_loss: 0.9350 - val_accuracy: 0.6550\n",
      "Epoch 99/300\n",
      "800/800 [==============================] - 5s 7ms/step - loss: 0.7305 - accuracy: 0.6575 - val_loss: 0.9732 - val_accuracy: 0.6000\n"
     ]
    },
    {
     "name": "stdout",
     "output_type": "stream",
     "text": [
      "Epoch 100/300\n",
      "800/800 [==============================] - 5s 6ms/step - loss: 0.7343 - accuracy: 0.6562 - val_loss: 1.0426 - val_accuracy: 0.6300\n",
      "Epoch 101/300\n",
      "800/800 [==============================] - 5s 7ms/step - loss: 0.7463 - accuracy: 0.6500 - val_loss: 0.9346 - val_accuracy: 0.6500\n",
      "Epoch 102/300\n",
      "800/800 [==============================] - 5s 7ms/step - loss: 0.7346 - accuracy: 0.6837 - val_loss: 0.9137 - val_accuracy: 0.6300\n",
      "Epoch 103/300\n",
      "800/800 [==============================] - 5s 7ms/step - loss: 0.7068 - accuracy: 0.6637 - val_loss: 0.9756 - val_accuracy: 0.6050\n",
      "Epoch 104/300\n",
      "800/800 [==============================] - 5s 6ms/step - loss: 0.7190 - accuracy: 0.6612 - val_loss: 0.9518 - val_accuracy: 0.6200\n",
      "Epoch 105/300\n",
      "800/800 [==============================] - 5s 6ms/step - loss: 0.7321 - accuracy: 0.6612 - val_loss: 0.9547 - val_accuracy: 0.6350\n",
      "Epoch 106/300\n",
      "800/800 [==============================] - 5s 7ms/step - loss: 0.6880 - accuracy: 0.6825 - val_loss: 1.0376 - val_accuracy: 0.5750\n",
      "Epoch 107/300\n",
      "800/800 [==============================] - 5s 7ms/step - loss: 0.7245 - accuracy: 0.6825 - val_loss: 1.0229 - val_accuracy: 0.6600\n",
      "Epoch 108/300\n",
      "800/800 [==============================] - 6s 7ms/step - loss: 0.6938 - accuracy: 0.6762 - val_loss: 0.9802 - val_accuracy: 0.6300\n",
      "Epoch 109/300\n",
      "800/800 [==============================] - 6s 7ms/step - loss: 0.7186 - accuracy: 0.6637 - val_loss: 0.9316 - val_accuracy: 0.6400\n",
      "Epoch 110/300\n",
      "800/800 [==============================] - 5s 6ms/step - loss: 0.7112 - accuracy: 0.6687 - val_loss: 1.0564 - val_accuracy: 0.6400\n",
      "Epoch 111/300\n",
      "800/800 [==============================] - 5s 6ms/step - loss: 0.7123 - accuracy: 0.6900 - val_loss: 1.0000 - val_accuracy: 0.6350\n",
      "Epoch 112/300\n",
      "800/800 [==============================] - 5s 6ms/step - loss: 0.6966 - accuracy: 0.6875 - val_loss: 0.9944 - val_accuracy: 0.6250\n",
      "Epoch 113/300\n",
      "800/800 [==============================] - 5s 6ms/step - loss: 0.7134 - accuracy: 0.6675 - val_loss: 0.9331 - val_accuracy: 0.6750\n",
      "Epoch 114/300\n",
      "800/800 [==============================] - 5s 6ms/step - loss: 0.7009 - accuracy: 0.6825 - val_loss: 0.9894 - val_accuracy: 0.6400\n",
      "Epoch 115/300\n",
      "800/800 [==============================] - 5s 6ms/step - loss: 0.7048 - accuracy: 0.6825 - val_loss: 0.9937 - val_accuracy: 0.6700\n",
      "Epoch 116/300\n",
      "800/800 [==============================] - 5s 7ms/step - loss: 0.7175 - accuracy: 0.6750 - val_loss: 0.9660 - val_accuracy: 0.6500\n",
      "Epoch 117/300\n",
      "800/800 [==============================] - 6s 7ms/step - loss: 0.7044 - accuracy: 0.6837 - val_loss: 1.0357 - val_accuracy: 0.6150\n",
      "Epoch 118/300\n",
      "800/800 [==============================] - 5s 7ms/step - loss: 0.6825 - accuracy: 0.6875 - val_loss: 1.0028 - val_accuracy: 0.6400\n",
      "Epoch 119/300\n",
      "800/800 [==============================] - 5s 7ms/step - loss: 0.6928 - accuracy: 0.6800 - val_loss: 0.9706 - val_accuracy: 0.6750\n",
      "Epoch 120/300\n",
      "800/800 [==============================] - 5s 7ms/step - loss: 0.6801 - accuracy: 0.6762 - val_loss: 1.0029 - val_accuracy: 0.6350\n",
      "Epoch 121/300\n",
      "800/800 [==============================] - 5s 6ms/step - loss: 0.6815 - accuracy: 0.7000 - val_loss: 1.0798 - val_accuracy: 0.6600\n",
      "Epoch 122/300\n",
      "800/800 [==============================] - 5s 6ms/step - loss: 0.6821 - accuracy: 0.7075 - val_loss: 1.0913 - val_accuracy: 0.6300\n",
      "Epoch 123/300\n",
      "800/800 [==============================] - 5s 7ms/step - loss: 0.6619 - accuracy: 0.6925 - val_loss: 1.0790 - val_accuracy: 0.6550\n",
      "Epoch 124/300\n",
      "800/800 [==============================] - 5s 6ms/step - loss: 0.6583 - accuracy: 0.7125 - val_loss: 1.0557 - val_accuracy: 0.6750\n",
      "Epoch 125/300\n",
      "800/800 [==============================] - 5s 6ms/step - loss: 0.6425 - accuracy: 0.7013 - val_loss: 1.0460 - val_accuracy: 0.6800\n",
      "Epoch 126/300\n",
      "800/800 [==============================] - 5s 7ms/step - loss: 0.6533 - accuracy: 0.7063 - val_loss: 1.1064 - val_accuracy: 0.6650\n",
      "Epoch 127/300\n",
      "800/800 [==============================] - 5s 7ms/step - loss: 0.6687 - accuracy: 0.7050 - val_loss: 0.9851 - val_accuracy: 0.6700\n",
      "Epoch 128/300\n",
      "800/800 [==============================] - 5s 7ms/step - loss: 0.6527 - accuracy: 0.6938 - val_loss: 1.0944 - val_accuracy: 0.5900\n",
      "Epoch 129/300\n",
      "800/800 [==============================] - 6s 7ms/step - loss: 0.6695 - accuracy: 0.6900 - val_loss: 1.1488 - val_accuracy: 0.6300\n",
      "Epoch 130/300\n",
      "800/800 [==============================] - 5s 6ms/step - loss: 0.6711 - accuracy: 0.6875 - val_loss: 1.0302 - val_accuracy: 0.6750\n",
      "Epoch 131/300\n",
      "800/800 [==============================] - 5s 7ms/step - loss: 0.6661 - accuracy: 0.7013 - val_loss: 1.2150 - val_accuracy: 0.6450\n",
      "Epoch 132/300\n",
      "800/800 [==============================] - 5s 7ms/step - loss: 0.6526 - accuracy: 0.7038 - val_loss: 1.2981 - val_accuracy: 0.6550\n",
      "Epoch 133/300\n",
      "800/800 [==============================] - 6s 7ms/step - loss: 0.6827 - accuracy: 0.6988 - val_loss: 1.1409 - val_accuracy: 0.6300\n",
      "Epoch 134/300\n",
      "800/800 [==============================] - 5s 7ms/step - loss: 0.6579 - accuracy: 0.7013 - val_loss: 1.0996 - val_accuracy: 0.6900\n",
      "Epoch 135/300\n",
      "800/800 [==============================] - 5s 7ms/step - loss: 0.6447 - accuracy: 0.7000 - val_loss: 1.0280 - val_accuracy: 0.6400\n",
      "Epoch 136/300\n",
      "800/800 [==============================] - 5s 7ms/step - loss: 0.6468 - accuracy: 0.7038 - val_loss: 1.1464 - val_accuracy: 0.6750\n",
      "Epoch 137/300\n",
      "800/800 [==============================] - 5s 6ms/step - loss: 0.6548 - accuracy: 0.7163 - val_loss: 1.0928 - val_accuracy: 0.6900\n",
      "Epoch 138/300\n",
      "800/800 [==============================] - 5s 6ms/step - loss: 0.6506 - accuracy: 0.7163 - val_loss: 1.0993 - val_accuracy: 0.6750\n",
      "Epoch 139/300\n",
      "800/800 [==============================] - 5s 6ms/step - loss: 0.6207 - accuracy: 0.7063 - val_loss: 1.1664 - val_accuracy: 0.6600\n",
      "Epoch 140/300\n",
      "800/800 [==============================] - 5s 7ms/step - loss: 0.6335 - accuracy: 0.7050 - val_loss: 1.1296 - val_accuracy: 0.6750\n",
      "Epoch 141/300\n",
      "800/800 [==============================] - 5s 7ms/step - loss: 0.7456 - accuracy: 0.6475 - val_loss: 1.1693 - val_accuracy: 0.6650\n",
      "Epoch 142/300\n",
      "800/800 [==============================] - 5s 6ms/step - loss: 0.6497 - accuracy: 0.6913 - val_loss: 1.1458 - val_accuracy: 0.6800\n",
      "Epoch 143/300\n",
      "800/800 [==============================] - 5s 7ms/step - loss: 0.6385 - accuracy: 0.7100 - val_loss: 1.1433 - val_accuracy: 0.6700\n",
      "Epoch 144/300\n",
      "800/800 [==============================] - 5s 7ms/step - loss: 0.6180 - accuracy: 0.7200 - val_loss: 1.0669 - val_accuracy: 0.7000\n",
      "Epoch 145/300\n",
      "800/800 [==============================] - 5s 6ms/step - loss: 0.6234 - accuracy: 0.7125 - val_loss: 1.1065 - val_accuracy: 0.6850\n",
      "Epoch 146/300\n",
      "800/800 [==============================] - 5s 7ms/step - loss: 0.6421 - accuracy: 0.7150 - val_loss: 1.0221 - val_accuracy: 0.6800\n",
      "Epoch 147/300\n",
      "800/800 [==============================] - 5s 6ms/step - loss: 0.6143 - accuracy: 0.7175 - val_loss: 1.0531 - val_accuracy: 0.6800\n",
      "Epoch 148/300\n",
      "800/800 [==============================] - 5s 6ms/step - loss: 0.6380 - accuracy: 0.7188 - val_loss: 1.0870 - val_accuracy: 0.6750\n",
      "Epoch 149/300\n",
      "800/800 [==============================] - 5s 7ms/step - loss: 0.5937 - accuracy: 0.7425 - val_loss: 1.2487 - val_accuracy: 0.6150\n",
      "Epoch 150/300\n",
      "800/800 [==============================] - 5s 6ms/step - loss: 0.6362 - accuracy: 0.7088 - val_loss: 1.1463 - val_accuracy: 0.6750\n",
      "Epoch 151/300\n",
      "800/800 [==============================] - 5s 7ms/step - loss: 0.6133 - accuracy: 0.7350 - val_loss: 1.0770 - val_accuracy: 0.6950\n",
      "Epoch 152/300\n",
      "800/800 [==============================] - 5s 6ms/step - loss: 0.5823 - accuracy: 0.7350 - val_loss: 1.1592 - val_accuracy: 0.6650\n",
      "Epoch 153/300\n",
      "800/800 [==============================] - 5s 6ms/step - loss: 0.6008 - accuracy: 0.7300 - val_loss: 1.1559 - val_accuracy: 0.6550\n",
      "Epoch 154/300\n",
      "800/800 [==============================] - 5s 7ms/step - loss: 0.6198 - accuracy: 0.7188 - val_loss: 1.1212 - val_accuracy: 0.6800\n",
      "Epoch 155/300\n",
      "800/800 [==============================] - 5s 7ms/step - loss: 0.5900 - accuracy: 0.7275 - val_loss: 1.2091 - val_accuracy: 0.6700\n",
      "Epoch 156/300\n",
      "800/800 [==============================] - 5s 7ms/step - loss: 0.5974 - accuracy: 0.7387 - val_loss: 1.1841 - val_accuracy: 0.6950\n",
      "Epoch 157/300\n",
      "800/800 [==============================] - 5s 7ms/step - loss: 0.6057 - accuracy: 0.7088 - val_loss: 1.1239 - val_accuracy: 0.7050\n",
      "Epoch 158/300\n",
      "800/800 [==============================] - 5s 7ms/step - loss: 0.5962 - accuracy: 0.7225 - val_loss: 1.2289 - val_accuracy: 0.6850\n",
      "Epoch 159/300\n",
      "800/800 [==============================] - 5s 7ms/step - loss: 0.6726 - accuracy: 0.6888 - val_loss: 1.2146 - val_accuracy: 0.7000\n",
      "Epoch 160/300\n",
      "800/800 [==============================] - 5s 7ms/step - loss: 0.5859 - accuracy: 0.7550 - val_loss: 1.3117 - val_accuracy: 0.6850\n",
      "Epoch 161/300\n",
      "800/800 [==============================] - 5s 6ms/step - loss: 0.5645 - accuracy: 0.7400 - val_loss: 1.2915 - val_accuracy: 0.6950\n",
      "Epoch 162/300\n",
      "800/800 [==============================] - 5s 7ms/step - loss: 0.5792 - accuracy: 0.7437 - val_loss: 1.3538 - val_accuracy: 0.6750\n",
      "Epoch 163/300\n",
      "800/800 [==============================] - 5s 6ms/step - loss: 0.6153 - accuracy: 0.7350 - val_loss: 1.2734 - val_accuracy: 0.6500\n",
      "Epoch 164/300\n",
      "800/800 [==============================] - 5s 6ms/step - loss: 0.5770 - accuracy: 0.7425 - val_loss: 1.2189 - val_accuracy: 0.6850\n",
      "Epoch 165/300\n",
      "800/800 [==============================] - 5s 7ms/step - loss: 0.5601 - accuracy: 0.7538 - val_loss: 1.2686 - val_accuracy: 0.7050\n",
      "Epoch 166/300\n",
      "800/800 [==============================] - 5s 6ms/step - loss: 0.5935 - accuracy: 0.7337 - val_loss: 1.2256 - val_accuracy: 0.6950\n",
      "Epoch 167/300\n",
      "800/800 [==============================] - 5s 7ms/step - loss: 0.5704 - accuracy: 0.7437 - val_loss: 1.2785 - val_accuracy: 0.7100\n",
      "Epoch 168/300\n",
      "800/800 [==============================] - 5s 7ms/step - loss: 0.5358 - accuracy: 0.7700 - val_loss: 1.3002 - val_accuracy: 0.6850\n",
      "Epoch 169/300\n",
      "800/800 [==============================] - 5s 7ms/step - loss: 0.5859 - accuracy: 0.7350 - val_loss: 1.2795 - val_accuracy: 0.6700\n",
      "Epoch 170/300\n",
      "800/800 [==============================] - 5s 6ms/step - loss: 0.5518 - accuracy: 0.7487 - val_loss: 1.5799 - val_accuracy: 0.5350\n",
      "Epoch 171/300\n",
      "800/800 [==============================] - 5s 7ms/step - loss: 0.5454 - accuracy: 0.7650 - val_loss: 1.3688 - val_accuracy: 0.7150\n",
      "Epoch 172/300\n",
      "800/800 [==============================] - 5s 7ms/step - loss: 0.5442 - accuracy: 0.7437 - val_loss: 1.2915 - val_accuracy: 0.6800\n",
      "Epoch 173/300\n",
      "800/800 [==============================] - 5s 7ms/step - loss: 0.5702 - accuracy: 0.7325 - val_loss: 1.3093 - val_accuracy: 0.6500\n",
      "Epoch 174/300\n",
      "800/800 [==============================] - 5s 7ms/step - loss: 0.5570 - accuracy: 0.7525 - val_loss: 1.3237 - val_accuracy: 0.7050\n",
      "Epoch 175/300\n",
      "800/800 [==============================] - 5s 6ms/step - loss: 0.5488 - accuracy: 0.7588 - val_loss: 1.6099 - val_accuracy: 0.6600\n",
      "Epoch 176/300\n",
      "800/800 [==============================] - 5s 7ms/step - loss: 0.6214 - accuracy: 0.7450 - val_loss: 1.3617 - val_accuracy: 0.6950\n",
      "Epoch 177/300\n",
      "800/800 [==============================] - 5s 6ms/step - loss: 0.5308 - accuracy: 0.7613 - val_loss: 1.3762 - val_accuracy: 0.6900\n",
      "Epoch 178/300\n",
      "800/800 [==============================] - 5s 7ms/step - loss: 0.5463 - accuracy: 0.7613 - val_loss: 1.6889 - val_accuracy: 0.5250\n",
      "Epoch 179/300\n",
      "800/800 [==============================] - 6s 7ms/step - loss: 0.6004 - accuracy: 0.7487 - val_loss: 1.2376 - val_accuracy: 0.6850\n",
      "Epoch 180/300\n",
      "800/800 [==============================] - 5s 7ms/step - loss: 0.5194 - accuracy: 0.7550 - val_loss: 1.3341 - val_accuracy: 0.6850\n",
      "Epoch 181/300\n",
      "800/800 [==============================] - 5s 7ms/step - loss: 0.5595 - accuracy: 0.7688 - val_loss: 1.1972 - val_accuracy: 0.6850\n",
      "Epoch 182/300\n",
      "800/800 [==============================] - 5s 7ms/step - loss: 0.5207 - accuracy: 0.7650 - val_loss: 1.2316 - val_accuracy: 0.6950\n",
      "Epoch 183/300\n",
      "800/800 [==============================] - 5s 6ms/step - loss: 0.5634 - accuracy: 0.7625 - val_loss: 1.2849 - val_accuracy: 0.6800\n",
      "Epoch 184/300\n",
      "800/800 [==============================] - 5s 7ms/step - loss: 0.5260 - accuracy: 0.7575 - val_loss: 1.3975 - val_accuracy: 0.6650\n",
      "Epoch 185/300\n",
      "800/800 [==============================] - 5s 7ms/step - loss: 0.5654 - accuracy: 0.7563 - val_loss: 1.3101 - val_accuracy: 0.6950\n",
      "Epoch 186/300\n",
      "800/800 [==============================] - 5s 7ms/step - loss: 0.5419 - accuracy: 0.7575 - val_loss: 1.4117 - val_accuracy: 0.6900\n",
      "Epoch 187/300\n",
      "800/800 [==============================] - 5s 7ms/step - loss: 0.5481 - accuracy: 0.7613 - val_loss: 1.4997 - val_accuracy: 0.7050\n",
      "Epoch 188/300\n",
      "800/800 [==============================] - 5s 7ms/step - loss: 0.5431 - accuracy: 0.7487 - val_loss: 1.5573 - val_accuracy: 0.6800\n",
      "Epoch 189/300\n",
      "800/800 [==============================] - 5s 7ms/step - loss: 0.5307 - accuracy: 0.7575 - val_loss: 1.3142 - val_accuracy: 0.6800\n",
      "Epoch 190/300\n",
      "800/800 [==============================] - 5s 7ms/step - loss: 0.5124 - accuracy: 0.7538 - val_loss: 1.4244 - val_accuracy: 0.7000\n",
      "Epoch 191/300\n",
      "800/800 [==============================] - 5s 6ms/step - loss: 0.6159 - accuracy: 0.7462 - val_loss: 1.4143 - val_accuracy: 0.6750\n",
      "Epoch 192/300\n",
      "800/800 [==============================] - 5s 7ms/step - loss: 0.5911 - accuracy: 0.7400 - val_loss: 1.3433 - val_accuracy: 0.6900\n",
      "Epoch 193/300\n",
      "800/800 [==============================] - 5s 7ms/step - loss: 0.5483 - accuracy: 0.7750 - val_loss: 1.6447 - val_accuracy: 0.6650\n",
      "Epoch 194/300\n",
      "800/800 [==============================] - 5s 6ms/step - loss: 0.4871 - accuracy: 0.7837 - val_loss: 1.4457 - val_accuracy: 0.6600\n",
      "Epoch 195/300\n",
      "800/800 [==============================] - 5s 7ms/step - loss: 0.5236 - accuracy: 0.7525 - val_loss: 1.4823 - val_accuracy: 0.6850\n",
      "Epoch 196/300\n",
      "800/800 [==============================] - 5s 6ms/step - loss: 0.4884 - accuracy: 0.7788 - val_loss: 1.5884 - val_accuracy: 0.6850\n",
      "Epoch 197/300\n",
      "800/800 [==============================] - 5s 7ms/step - loss: 0.5124 - accuracy: 0.7738 - val_loss: 1.5045 - val_accuracy: 0.7000\n",
      "Epoch 198/300\n",
      "800/800 [==============================] - 5s 6ms/step - loss: 0.5373 - accuracy: 0.7613 - val_loss: 1.5672 - val_accuracy: 0.6300\n",
      "Epoch 199/300\n",
      "800/800 [==============================] - 5s 7ms/step - loss: 0.4971 - accuracy: 0.7675 - val_loss: 1.5206 - val_accuracy: 0.6850\n",
      "Epoch 200/300\n",
      "800/800 [==============================] - 5s 7ms/step - loss: 0.5218 - accuracy: 0.7563 - val_loss: 1.5621 - val_accuracy: 0.6700\n",
      "Epoch 201/300\n",
      "800/800 [==============================] - 5s 7ms/step - loss: 0.4967 - accuracy: 0.7738 - val_loss: 1.5280 - val_accuracy: 0.7000\n",
      "Epoch 202/300\n",
      "800/800 [==============================] - 5s 7ms/step - loss: 0.4965 - accuracy: 0.7800 - val_loss: 1.5008 - val_accuracy: 0.6750\n",
      "Epoch 203/300\n",
      "800/800 [==============================] - 5s 7ms/step - loss: 0.4967 - accuracy: 0.7850 - val_loss: 1.5033 - val_accuracy: 0.7050\n",
      "Epoch 204/300\n",
      "800/800 [==============================] - 5s 6ms/step - loss: 0.5035 - accuracy: 0.7850 - val_loss: 1.5935 - val_accuracy: 0.6700\n",
      "Epoch 205/300\n",
      "800/800 [==============================] - 5s 7ms/step - loss: 0.5144 - accuracy: 0.7688 - val_loss: 1.5968 - val_accuracy: 0.7100\n",
      "Epoch 206/300\n",
      "800/800 [==============================] - 5s 7ms/step - loss: 0.4729 - accuracy: 0.7875 - val_loss: 1.5338 - val_accuracy: 0.6750\n",
      "Epoch 207/300\n",
      "800/800 [==============================] - 5s 7ms/step - loss: 0.4720 - accuracy: 0.8050 - val_loss: 1.4703 - val_accuracy: 0.6950\n",
      "Epoch 208/300\n",
      "800/800 [==============================] - 5s 7ms/step - loss: 0.5113 - accuracy: 0.7875 - val_loss: 1.6423 - val_accuracy: 0.6850\n",
      "Epoch 209/300\n",
      "800/800 [==============================] - 5s 7ms/step - loss: 0.4993 - accuracy: 0.7887 - val_loss: 1.4441 - val_accuracy: 0.6600\n",
      "Epoch 210/300\n",
      "800/800 [==============================] - 5s 7ms/step - loss: 0.4701 - accuracy: 0.7775 - val_loss: 1.9026 - val_accuracy: 0.5900\n",
      "Epoch 211/300\n",
      "800/800 [==============================] - 5s 7ms/step - loss: 0.5095 - accuracy: 0.7763 - val_loss: 1.5416 - val_accuracy: 0.6850\n",
      "Epoch 212/300\n"
     ]
    },
    {
     "name": "stdout",
     "output_type": "stream",
     "text": [
      "800/800 [==============================] - 5s 6ms/step - loss: 0.4551 - accuracy: 0.8037 - val_loss: 1.7622 - val_accuracy: 0.6700\n",
      "Epoch 213/300\n",
      "800/800 [==============================] - 5s 7ms/step - loss: 0.4702 - accuracy: 0.7862 - val_loss: 1.8814 - val_accuracy: 0.6650\n",
      "Epoch 214/300\n",
      "800/800 [==============================] - 5s 7ms/step - loss: 0.4952 - accuracy: 0.7950 - val_loss: 1.5743 - val_accuracy: 0.6750\n",
      "Epoch 215/300\n",
      "800/800 [==============================] - 5s 7ms/step - loss: 0.4816 - accuracy: 0.7887 - val_loss: 1.8517 - val_accuracy: 0.6450\n",
      "Epoch 216/300\n",
      "800/800 [==============================] - 5s 7ms/step - loss: 0.4762 - accuracy: 0.7887 - val_loss: 1.6223 - val_accuracy: 0.7100\n",
      "Epoch 217/300\n",
      "800/800 [==============================] - 6s 7ms/step - loss: 0.4878 - accuracy: 0.7875 - val_loss: 1.6373 - val_accuracy: 0.6550\n",
      "Epoch 218/300\n",
      "800/800 [==============================] - 6s 8ms/step - loss: 0.4466 - accuracy: 0.8037 - val_loss: 1.7645 - val_accuracy: 0.6550\n",
      "Epoch 219/300\n",
      "800/800 [==============================] - 5s 7ms/step - loss: 0.4740 - accuracy: 0.8087 - val_loss: 1.6142 - val_accuracy: 0.7150\n",
      "Epoch 220/300\n",
      "800/800 [==============================] - 5s 7ms/step - loss: 0.4526 - accuracy: 0.7925 - val_loss: 1.5855 - val_accuracy: 0.7000\n",
      "Epoch 221/300\n",
      "800/800 [==============================] - 5s 6ms/step - loss: 0.5158 - accuracy: 0.7850 - val_loss: 1.4392 - val_accuracy: 0.7100\n",
      "Epoch 222/300\n",
      "800/800 [==============================] - 6s 7ms/step - loss: 0.4487 - accuracy: 0.8125 - val_loss: 1.5487 - val_accuracy: 0.7000\n",
      "Epoch 223/300\n",
      "800/800 [==============================] - 5s 7ms/step - loss: 0.4732 - accuracy: 0.7900 - val_loss: 1.5859 - val_accuracy: 0.7050\n",
      "Epoch 224/300\n",
      "800/800 [==============================] - 5s 6ms/step - loss: 0.4328 - accuracy: 0.8050 - val_loss: 1.7417 - val_accuracy: 0.7050\n",
      "Epoch 225/300\n",
      "800/800 [==============================] - 5s 7ms/step - loss: 0.4597 - accuracy: 0.7912 - val_loss: 1.8253 - val_accuracy: 0.6400\n",
      "Epoch 226/300\n",
      "800/800 [==============================] - 5s 6ms/step - loss: 0.4549 - accuracy: 0.7937 - val_loss: 2.1771 - val_accuracy: 0.7000\n",
      "Epoch 227/300\n",
      "800/800 [==============================] - 5s 6ms/step - loss: 0.4760 - accuracy: 0.7937 - val_loss: 1.8323 - val_accuracy: 0.6750\n",
      "Epoch 228/300\n",
      "800/800 [==============================] - 5s 7ms/step - loss: 0.4524 - accuracy: 0.8012 - val_loss: 1.8519 - val_accuracy: 0.6800\n",
      "Epoch 229/300\n",
      "800/800 [==============================] - 5s 7ms/step - loss: 0.4570 - accuracy: 0.7912 - val_loss: 1.7111 - val_accuracy: 0.6950\n",
      "Epoch 230/300\n",
      "800/800 [==============================] - 5s 7ms/step - loss: 0.4590 - accuracy: 0.7937 - val_loss: 1.9139 - val_accuracy: 0.6750\n",
      "Epoch 231/300\n",
      "800/800 [==============================] - 5s 7ms/step - loss: 0.4397 - accuracy: 0.8138 - val_loss: 2.0021 - val_accuracy: 0.6650\n",
      "Epoch 232/300\n",
      "800/800 [==============================] - 5s 7ms/step - loss: 0.4346 - accuracy: 0.8062 - val_loss: 1.8343 - val_accuracy: 0.6450\n",
      "Epoch 233/300\n",
      "800/800 [==============================] - 5s 6ms/step - loss: 0.4727 - accuracy: 0.7875 - val_loss: 1.9903 - val_accuracy: 0.6600\n",
      "Epoch 234/300\n",
      "800/800 [==============================] - 5s 6ms/step - loss: 0.4575 - accuracy: 0.7925 - val_loss: 2.0319 - val_accuracy: 0.6100\n",
      "Epoch 235/300\n",
      "800/800 [==============================] - 5s 6ms/step - loss: 0.4392 - accuracy: 0.8100 - val_loss: 1.8921 - val_accuracy: 0.6900\n",
      "Epoch 236/300\n",
      "800/800 [==============================] - 5s 7ms/step - loss: 0.5361 - accuracy: 0.7750 - val_loss: 1.9508 - val_accuracy: 0.6850\n",
      "Epoch 237/300\n",
      "800/800 [==============================] - 5s 7ms/step - loss: 0.4486 - accuracy: 0.8050 - val_loss: 2.2598 - val_accuracy: 0.6950\n",
      "Epoch 238/300\n",
      "800/800 [==============================] - 5s 7ms/step - loss: 0.4123 - accuracy: 0.8263 - val_loss: 2.1402 - val_accuracy: 0.6800\n",
      "Epoch 239/300\n",
      "800/800 [==============================] - 5s 7ms/step - loss: 0.4350 - accuracy: 0.8087 - val_loss: 2.1431 - val_accuracy: 0.6950\n",
      "Epoch 240/300\n",
      "800/800 [==============================] - 5s 6ms/step - loss: 0.4409 - accuracy: 0.8062 - val_loss: 2.4834 - val_accuracy: 0.6750\n",
      "Epoch 241/300\n",
      "800/800 [==============================] - 5s 7ms/step - loss: 0.4619 - accuracy: 0.8050 - val_loss: 1.7571 - val_accuracy: 0.6900\n",
      "Epoch 242/300\n",
      "800/800 [==============================] - 5s 7ms/step - loss: 0.4077 - accuracy: 0.8125 - val_loss: 1.9376 - val_accuracy: 0.6700\n",
      "Epoch 243/300\n",
      "800/800 [==============================] - 5s 6ms/step - loss: 0.4404 - accuracy: 0.8075 - val_loss: 1.9110 - val_accuracy: 0.6850\n",
      "Epoch 244/300\n",
      "800/800 [==============================] - 6s 7ms/step - loss: 0.4099 - accuracy: 0.8300 - val_loss: 1.8183 - val_accuracy: 0.6900\n",
      "Epoch 245/300\n",
      "800/800 [==============================] - 5s 7ms/step - loss: 0.4038 - accuracy: 0.8275 - val_loss: 2.0236 - val_accuracy: 0.6550\n",
      "Epoch 246/300\n",
      "800/800 [==============================] - 5s 6ms/step - loss: 0.6287 - accuracy: 0.8087 - val_loss: 1.8290 - val_accuracy: 0.6700\n",
      "Epoch 247/300\n",
      "800/800 [==============================] - 5s 7ms/step - loss: 0.4010 - accuracy: 0.8225 - val_loss: 1.8393 - val_accuracy: 0.6500\n",
      "Epoch 248/300\n",
      "800/800 [==============================] - 5s 6ms/step - loss: 0.4399 - accuracy: 0.8175 - val_loss: 1.8388 - val_accuracy: 0.6750\n",
      "Epoch 249/300\n",
      "800/800 [==============================] - 5s 7ms/step - loss: 0.3830 - accuracy: 0.8438 - val_loss: 2.0812 - val_accuracy: 0.6650\n",
      "Epoch 250/300\n",
      "800/800 [==============================] - 5s 7ms/step - loss: 0.4132 - accuracy: 0.8100 - val_loss: 1.8257 - val_accuracy: 0.6700\n",
      "Epoch 251/300\n",
      "800/800 [==============================] - 5s 7ms/step - loss: 0.4219 - accuracy: 0.8112 - val_loss: 2.0129 - val_accuracy: 0.6800\n",
      "Epoch 252/300\n",
      "800/800 [==============================] - 5s 7ms/step - loss: 0.3976 - accuracy: 0.8250 - val_loss: 1.8664 - val_accuracy: 0.6800\n",
      "Epoch 253/300\n",
      "800/800 [==============================] - 5s 6ms/step - loss: 0.3864 - accuracy: 0.8400 - val_loss: 2.0760 - val_accuracy: 0.6750\n",
      "Epoch 254/300\n",
      "800/800 [==============================] - 5s 7ms/step - loss: 0.5772 - accuracy: 0.7825 - val_loss: 1.9130 - val_accuracy: 0.7100\n",
      "Epoch 255/300\n",
      "800/800 [==============================] - 5s 7ms/step - loss: 0.3704 - accuracy: 0.8425 - val_loss: 2.0523 - val_accuracy: 0.6700\n",
      "Epoch 256/300\n",
      "800/800 [==============================] - 5s 7ms/step - loss: 0.4803 - accuracy: 0.8062 - val_loss: 1.9474 - val_accuracy: 0.6750\n",
      "Epoch 257/300\n",
      "800/800 [==============================] - 5s 6ms/step - loss: 0.3789 - accuracy: 0.8350 - val_loss: 2.0038 - val_accuracy: 0.6800\n",
      "Epoch 258/300\n",
      "800/800 [==============================] - 5s 6ms/step - loss: 0.3874 - accuracy: 0.8350 - val_loss: 1.7778 - val_accuracy: 0.6950\n",
      "Epoch 259/300\n",
      "800/800 [==============================] - 5s 7ms/step - loss: 0.4601 - accuracy: 0.8225 - val_loss: 2.4013 - val_accuracy: 0.5650\n",
      "Epoch 260/300\n",
      "800/800 [==============================] - 5s 7ms/step - loss: 0.5091 - accuracy: 0.8300 - val_loss: 2.0965 - val_accuracy: 0.6900\n",
      "Epoch 261/300\n",
      "800/800 [==============================] - 5s 6ms/step - loss: 0.3750 - accuracy: 0.8275 - val_loss: 2.0608 - val_accuracy: 0.6700\n",
      "Epoch 262/300\n",
      "800/800 [==============================] - 5s 7ms/step - loss: 0.3724 - accuracy: 0.8413 - val_loss: 2.0418 - val_accuracy: 0.6700\n",
      "Epoch 263/300\n",
      "800/800 [==============================] - 5s 6ms/step - loss: 0.3981 - accuracy: 0.8213 - val_loss: 2.0609 - val_accuracy: 0.6350\n",
      "Epoch 264/300\n",
      "800/800 [==============================] - 5s 7ms/step - loss: 0.4033 - accuracy: 0.8238 - val_loss: 2.0126 - val_accuracy: 0.6550\n",
      "Epoch 265/300\n",
      "800/800 [==============================] - 5s 7ms/step - loss: 0.3712 - accuracy: 0.8413 - val_loss: 1.9548 - val_accuracy: 0.6550\n",
      "Epoch 266/300\n",
      "800/800 [==============================] - 5s 7ms/step - loss: 0.4040 - accuracy: 0.8300 - val_loss: 2.1141 - val_accuracy: 0.6750\n",
      "Epoch 267/300\n",
      "800/800 [==============================] - 5s 7ms/step - loss: 0.3724 - accuracy: 0.8300 - val_loss: 2.1387 - val_accuracy: 0.6700\n",
      "Epoch 268/300\n",
      "800/800 [==============================] - 5s 7ms/step - loss: 0.3721 - accuracy: 0.8413 - val_loss: 2.1846 - val_accuracy: 0.6800\n",
      "Epoch 269/300\n",
      "800/800 [==============================] - 5s 7ms/step - loss: 0.4347 - accuracy: 0.8062 - val_loss: 1.9417 - val_accuracy: 0.6850\n",
      "Epoch 270/300\n",
      "800/800 [==============================] - 5s 7ms/step - loss: 0.3713 - accuracy: 0.8238 - val_loss: 2.1852 - val_accuracy: 0.6750\n",
      "Epoch 271/300\n",
      "800/800 [==============================] - 5s 7ms/step - loss: 0.4021 - accuracy: 0.8275 - val_loss: 1.8020 - val_accuracy: 0.6600\n",
      "Epoch 272/300\n",
      "800/800 [==============================] - 5s 7ms/step - loss: 0.4048 - accuracy: 0.8313 - val_loss: 2.0734 - val_accuracy: 0.6700\n",
      "Epoch 273/300\n",
      "800/800 [==============================] - 6s 7ms/step - loss: 0.3713 - accuracy: 0.8363 - val_loss: 2.1181 - val_accuracy: 0.6150\n",
      "Epoch 274/300\n",
      "800/800 [==============================] - 5s 6ms/step - loss: 0.3547 - accuracy: 0.8537 - val_loss: 2.0262 - val_accuracy: 0.6800\n",
      "Epoch 275/300\n",
      "800/800 [==============================] - 5s 7ms/step - loss: 0.3311 - accuracy: 0.8625 - val_loss: 2.3564 - val_accuracy: 0.6650\n",
      "Epoch 276/300\n",
      "800/800 [==============================] - 5s 7ms/step - loss: 0.3886 - accuracy: 0.8313 - val_loss: 2.0708 - val_accuracy: 0.6900\n",
      "Epoch 277/300\n",
      "800/800 [==============================] - 5s 7ms/step - loss: 0.3707 - accuracy: 0.8450 - val_loss: 2.3461 - val_accuracy: 0.6550\n",
      "Epoch 278/300\n",
      "800/800 [==============================] - 5s 7ms/step - loss: 0.3630 - accuracy: 0.8388 - val_loss: 2.4775 - val_accuracy: 0.6500\n",
      "Epoch 279/300\n",
      "800/800 [==============================] - 5s 7ms/step - loss: 0.3365 - accuracy: 0.8525 - val_loss: 2.2787 - val_accuracy: 0.7000\n",
      "Epoch 280/300\n",
      "800/800 [==============================] - 5s 7ms/step - loss: 0.3664 - accuracy: 0.8363 - val_loss: 2.1947 - val_accuracy: 0.6800\n",
      "Epoch 281/300\n",
      "800/800 [==============================] - 5s 7ms/step - loss: 0.4033 - accuracy: 0.8350 - val_loss: 2.2860 - val_accuracy: 0.6950\n",
      "Epoch 282/300\n",
      "800/800 [==============================] - 5s 7ms/step - loss: 0.3442 - accuracy: 0.8525 - val_loss: 2.3338 - val_accuracy: 0.6650\n",
      "Epoch 283/300\n",
      "800/800 [==============================] - 5s 7ms/step - loss: 0.4351 - accuracy: 0.8687 - val_loss: 2.2678 - val_accuracy: 0.6750\n",
      "Epoch 284/300\n",
      "800/800 [==============================] - 5s 6ms/step - loss: 0.3734 - accuracy: 0.8350 - val_loss: 2.4268 - val_accuracy: 0.6850\n",
      "Epoch 285/300\n",
      "800/800 [==============================] - 5s 7ms/step - loss: 0.3599 - accuracy: 0.8425 - val_loss: 2.1191 - val_accuracy: 0.6800\n",
      "Epoch 286/300\n",
      "800/800 [==============================] - 5s 7ms/step - loss: 0.3408 - accuracy: 0.8413 - val_loss: 1.9060 - val_accuracy: 0.7000\n",
      "Epoch 287/300\n",
      "800/800 [==============================] - 5s 7ms/step - loss: 0.3124 - accuracy: 0.8575 - val_loss: 2.2501 - val_accuracy: 0.6600\n",
      "Epoch 288/300\n",
      "800/800 [==============================] - 5s 7ms/step - loss: 0.3861 - accuracy: 0.8225 - val_loss: 2.5616 - val_accuracy: 0.6350\n",
      "Epoch 289/300\n",
      "800/800 [==============================] - 5s 7ms/step - loss: 0.3343 - accuracy: 0.8500 - val_loss: 2.6054 - val_accuracy: 0.6650\n",
      "Epoch 290/300\n",
      "800/800 [==============================] - 5s 7ms/step - loss: 0.3477 - accuracy: 0.8525 - val_loss: 2.1341 - val_accuracy: 0.6800\n",
      "Epoch 291/300\n",
      "800/800 [==============================] - 5s 7ms/step - loss: 0.3724 - accuracy: 0.8550 - val_loss: 2.2870 - val_accuracy: 0.6600\n",
      "Epoch 292/300\n",
      "800/800 [==============================] - 5s 7ms/step - loss: 0.3741 - accuracy: 0.8637 - val_loss: 2.5410 - val_accuracy: 0.5650\n",
      "Epoch 293/300\n",
      "800/800 [==============================] - 5s 7ms/step - loss: 0.3418 - accuracy: 0.8587 - val_loss: 2.2599 - val_accuracy: 0.6600\n",
      "Epoch 294/300\n",
      "800/800 [==============================] - 5s 7ms/step - loss: 0.3106 - accuracy: 0.8675 - val_loss: 2.7534 - val_accuracy: 0.6600\n",
      "Epoch 295/300\n",
      "800/800 [==============================] - 5s 7ms/step - loss: 0.3936 - accuracy: 0.8512 - val_loss: 2.7266 - val_accuracy: 0.6650\n",
      "Epoch 296/300\n",
      "800/800 [==============================] - 5s 7ms/step - loss: 0.3759 - accuracy: 0.8537 - val_loss: 2.3780 - val_accuracy: 0.6650\n",
      "Epoch 297/300\n",
      "800/800 [==============================] - 5s 7ms/step - loss: 0.2974 - accuracy: 0.8712 - val_loss: 2.4302 - val_accuracy: 0.6550\n",
      "Epoch 298/300\n",
      "800/800 [==============================] - 5s 7ms/step - loss: 0.3195 - accuracy: 0.8675 - val_loss: 2.5717 - val_accuracy: 0.5750\n",
      "Epoch 299/300\n",
      "800/800 [==============================] - 5s 6ms/step - loss: 0.3157 - accuracy: 0.8587 - val_loss: 2.5123 - val_accuracy: 0.6750\n",
      "Epoch 300/300\n",
      "800/800 [==============================] - 5s 7ms/step - loss: 0.3081 - accuracy: 0.8712 - val_loss: 2.6057 - val_accuracy: 0.6300\n",
      "Test loss: 2.6056908655166624\n",
      "Test accuracy: 0.6299999952316284\n"
     ]
    }
   ],
   "source": [
    "# Parameter\n",
    "batch_size = 64\n",
    "epochs = 300\n",
    "\n",
    "# Model Construction                                                                                \n",
    "model = Sequential()\n",
    "model.add(Conv2D(32, kernel_size=(5, 5), activation='relu', input_shape=(60, 60, 1)))\n",
    "model.add(Conv2D(64, kernel_size=(5,5), activation='relu'))\n",
    "model.add(MaxPooling2D(pool_size=(4,4)))\n",
    "model.add(Conv2D(128, kernel_size=(3,3), activation='relu'))\n",
    "model.add(Conv2D(128, kernel_size=(3,3), activation='relu'))\n",
    "model.add(MaxPooling2D(pool_size=(2,2)))\n",
    "model.add(Dropout(0.25))\n",
    "model.add(Flatten())\n",
    "model.add(Dense(64, activation='relu'))\n",
    "model.add(Dropout(0.25))\n",
    "model.add(Dense(64, activation='relu'))\n",
    "model.add(Dropout(0.25))\n",
    "model.add(Dense(3, activation='softmax'))\n",
    "\n",
    "model.summary()\n",
    "\n",
    "model.compile(loss='categorical_crossentropy',\n",
    "              optimizer=RMSprop(),\n",
    "              metrics=['accuracy'])\n",
    "\n",
    "\n",
    "\n",
    "# Learning and Score                                                                                \n",
    "history = model.fit(X_train, Y_train,\n",
    "                    batch_size=batch_size,\n",
    "                    epochs=epochs,\n",
    "                    verbose=1,\n",
    "                    validation_data=(X_test, Y_test))\n",
    "score = model.evaluate(X_test, Y_test, verbose=0)\n",
    "print('Test loss:', score[0])\n",
    "print('Test accuracy:', score[1])"
   ]
  },
  {
   "cell_type": "code",
   "execution_count": 16,
   "metadata": {},
   "outputs": [
    {
     "data": {
      "image/png": "[encoded data removed]",
      "text/plain": [
       "<Figure size 432x288 with 1 Axes>"
      ]
     },
     "metadata": {
      "needs_background": "light"
     },
     "output_type": "display_data"
    }
   ],
   "source": [
    "# 可視化、およびhistory避難\n",
    "plt.plot(range(1,epochs+1), history.history['accuracy'], label=\"training\")\n",
    "plt.plot(range(1,epochs+1), history.history['val_accuracy'], label=\"validation\")\n",
    "plt.xlabel('Epochs')\n",
    "plt.ylabel('Accuracy')\n",
    "plt.legend()\n",
    "plt.show()"
   ]
  },
  {
   "cell_type": "code",
   "execution_count": 16,
   "metadata": {
    "scrolled": true
   },
   "outputs": [
    {
     "data": {
      "text/html": [
       "\n",
       "      <iframe id=\"tensorboard-frame-646657a8fccda602\" width=\"100%\" height=\"800\" frameborder=\"0\">\n",
       "      </iframe>\n",
       "      <script>\n",
       "        (function() {\n",
       "          const frame = document.getElementById(\"tensorboard-frame-646657a8fccda602\");\n",
       "          const url = new URL(\"/\", window.location);\n",
       "          url.port = 6006;\n",
       "          frame.src = url;\n",
       "        })();\n",
       "      </script>\n",
       "  "
      ],
      "text/plain": [
       "<IPython.core.display.HTML object>"
      ]
     },
     "metadata": {},
     "output_type": "display_data"
    }
   ],
   "source": [
    "# tensorboard　(準備中) \n",
    "%tensorboard --logdir logs/fit"
   ]
  },
  {
   "cell_type": "code",
   "execution_count": 18,
   "metadata": {},
   "outputs": [
    {
     "data": {
      "text/html": [
       "<div>\n",
       "<style scoped>\n",
       "    .dataframe tbody tr th:only-of-type {\n",
       "        vertical-align: middle;\n",
       "    }\n",
       "\n",
       "    .dataframe tbody tr th {\n",
       "        vertical-align: top;\n",
       "    }\n",
       "\n",
       "    .dataframe thead th {\n",
       "        text-align: right;\n",
       "    }\n",
       "</style>\n",
       "<table border=\"1\" class=\"dataframe\">\n",
       "  <thead>\n",
       "    <tr style=\"text-align: right;\">\n",
       "      <th></th>\n",
       "      <th>Actual</th>\n",
       "      <th>Predictions</th>\n",
       "    </tr>\n",
       "  </thead>\n",
       "  <tbody>\n",
       "    <tr>\n",
       "      <th>1</th>\n",
       "      <td>[1.0, 0.0, 0.0]</td>\n",
       "      <td>2</td>\n",
       "    </tr>\n",
       "    <tr>\n",
       "      <th>2</th>\n",
       "      <td>[0.0, 0.0, 1.0]</td>\n",
       "      <td>2</td>\n",
       "    </tr>\n",
       "  </tbody>\n",
       "</table>\n",
       "</div>"
      ],
      "text/plain": [
       "            Actual  Predictions\n",
       "1  [1.0, 0.0, 0.0]            2\n",
       "2  [0.0, 0.0, 1.0]            2"
      ]
     },
     "execution_count": 18,
     "metadata": {},
     "output_type": "execute_result"
    }
   ],
   "source": [
    "# X_testを使って予測を行う\n",
    "predictions = model.predict_classes(X_test)\n",
    "xa = list(predictions)\n",
    "ya = list(Y_test_backup)\n",
    "results = pd.DataFrame({'Actual': ya, 'Predictions': xa})\n",
    "results[1:3]\n"
   ]
  }
 ],
 "metadata": {
  "kernelspec": {
   "display_name": "Python 3",
   "language": "python",
   "name": "python3"
  },
  "language_info": {
   "codemirror_mode": {
    "name": "ipython",
    "version": 3
   },
   "file_extension": ".py",
   "mimetype": "text/x-python",
   "name": "python",
   "nbconvert_exporter": "python",
   "pygments_lexer": "ipython3",
   "version": "3.6.12"
  }
 },
 "nbformat": 4,
 "nbformat_minor": 4
}
