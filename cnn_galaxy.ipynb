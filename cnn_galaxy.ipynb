{
 "cells": [
  {
   "cell_type": "code",
   "execution_count": 1,
   "metadata": {
    "scrolled": true
   },
   "outputs": [
    {
     "name": "stderr",
     "output_type": "stream",
     "text": [
      "Using TensorFlow backend.\n"
     ]
    }
   ],
   "source": [
    "import os\n",
    "import tensorflow as tf\n",
    "import keras"
   ]
  },
  {
   "cell_type": "code",
   "execution_count": 2,
   "metadata": {},
   "outputs": [],
   "source": [
    "# Kerasの必要なコンポーネントをインポート\n",
    "from keras.models import Sequential, model_from_json\n",
    "from keras.layers import Dense, Dropout, Flatten, Conv2D, MaxPooling2D, Activation\n",
    "from keras.optimizers import RMSprop\n",
    "from keras.utils import np_utils, plot_model\n",
    "\n",
    "# Scikit-learn(Sklearn)のインポート\n",
    "#  from sklearn.datasets import fetch_openml\n",
    "\n",
    "# データを高速かつ効率的に使えるPandasをインポート\n",
    "import pandas as pd\n",
    "# 数値計算を効率的に行うNumpyをインポート\n",
    "import numpy as np\n",
    "#グラフが簡単に描写できるMatplotlibをインポート\n",
    "import matplotlib\n",
    "import matplotlib.pyplot as plt\n",
    "\n",
    "#astropy関連のインポート\n",
    "from astropy.table import Table\n",
    "\n",
    "#csv\n",
    "import csv"
   ]
  },
  {
   "cell_type": "code",
   "execution_count": 3,
   "metadata": {},
   "outputs": [],
   "source": [
    "# Load the TensorBoard notebook extension\n",
    "%load_ext tensorboard"
   ]
  },
  {
   "cell_type": "code",
   "execution_count": 4,
   "metadata": {},
   "outputs": [],
   "source": [
    "import datetime\n",
    "import pydot"
   ]
  },
  {
   "cell_type": "code",
   "execution_count": 5,
   "metadata": {},
   "outputs": [
    {
     "name": "stderr",
     "output_type": "stream",
     "text": [
      "'rm' は、内部コマンドまたは外部コマンド、\n",
      "操作可能なプログラムまたはバッチ ファイルとして認識されていません。\n"
     ]
    }
   ],
   "source": [
    " # Clear any logs from previous runs\n",
    "!rm -rf ./logs/ "
   ]
  },
  {
   "cell_type": "markdown",
   "metadata": {},
   "source": [
    "# テスト - 一旦画像表示させてみる"
   ]
  },
  {
   "cell_type": "code",
   "execution_count": 5,
   "metadata": {
    "scrolled": false
   },
   "outputs": [],
   "source": [
    "galaxy_arr = np.load(\"data/npz/587727178986356823.npy\")"
   ]
  },
  {
   "cell_type": "code",
   "execution_count": 19,
   "metadata": {},
   "outputs": [
    {
     "name": "stdout",
     "output_type": "stream",
     "text": [
      "[[1196 1188 1197 ... 1191 1191 1187]\n",
      " [1179 1185 1179 ... 1196 1189 1191]\n",
      " [1194 1189 1197 ... 1194 1199 1196]\n",
      " ...\n",
      " [1188 1189 1194 ... 1187 1202 1186]\n",
      " [1179 1189 1190 ... 1199 1195 1205]\n",
      " [1196 1196 1189 ... 1187 1189 1185]]\n",
      "(60, 60)\n"
     ]
    }
   ],
   "source": [
    "# 画像\n",
    "print(galaxy_arr)\n",
    "print(galaxy_arr.shape)"
   ]
  },
  {
   "cell_type": "code",
   "execution_count": 7,
   "metadata": {},
   "outputs": [
    {
     "data": {
      "text/plain": [
       "<matplotlib.image.AxesImage at 0x29a04a2c198>"
      ]
     },
     "execution_count": 7,
     "metadata": {},
     "output_type": "execute_result"
    },
    {
     "data": {
      "image/png": "[encoded data removed]",
      "text/plain": [
       "<Figure size 432x288 with 1 Axes>"
      ]
     },
     "metadata": {
      "needs_background": "light"
     },
     "output_type": "display_data"
    }
   ],
   "source": [
    "# 画像表示\n",
    "plt.imshow(np.log10(galaxy_arr.T[::-1, ::-1]), cmap='gray', vmin=3.05, vmax=3.09)"
   ]
  },
  {
   "cell_type": "code",
   "execution_count": 17,
   "metadata": {},
   "outputs": [
    {
     "name": "stdout",
     "output_type": "stream",
     "text": [
      "1891\n",
      "(31, 31)\n",
      "1516\n"
     ]
    }
   ],
   "source": [
    "#最大値参照\n",
    "print(np.argmax(galaxy_arr)) #これは平坦化した際のインデックス\n",
    "print(np.unravel_index(np.argmax(galaxy_arr),galaxy_arr.shape))\n",
    "print(galaxy_arr[31,31])"
   ]
  },
  {
   "cell_type": "markdown",
   "metadata": {},
   "source": [
    "# テスト - Table比較"
   ]
  },
  {
   "cell_type": "code",
   "execution_count": 19,
   "metadata": {},
   "outputs": [
    {
     "name": "stdout",
     "output_type": "stream",
     "text": [
      "(587727178986356823, b'00:00:00.41', b'-10:22:25.7', 59, 0.61, 0.034, 0., 0.153, 0.153, 0.051, 0.186, 0.61, 0.186, 0, 0, 1)\n"
     ]
    }
   ],
   "source": [
    "# ラベル\n",
    "print(galaxy_arr['arr_1'])"
   ]
  },
  {
   "cell_type": "markdown",
   "metadata": {},
   "source": [
    "ここでTableと比較してみる"
   ]
  },
  {
   "cell_type": "code",
   "execution_count": 26,
   "metadata": {},
   "outputs": [
    {
     "data": {
      "text/html": [
       "<i>Row index=0</i>\n",
       "<table id=\"table2860523497680\">\n",
       "<thead><tr><th>OBJID</th><th>RA</th><th>DEC</th><th>NVOTE</th><th>P_EL</th><th>P_CW</th><th>P_ACW</th><th>P_EDGE</th><th>P_DK</th><th>P_MG</th><th>P_CS</th><th>P_EL_DEBIASED</th><th>P_CS_DEBIASED</th><th>SPIRAL</th><th>ELLIPTICAL</th><th>UNCERTAIN</th></tr></thead>\n",
       "<thead><tr><th></th><th>hms</th><th>dms</th><th></th><th></th><th></th><th></th><th></th><th></th><th></th><th></th><th></th><th></th><th></th><th></th><th></th></tr></thead>\n",
       "<thead><tr><th>int64</th><th>bytes11</th><th>bytes11</th><th>int16</th><th>float32</th><th>float32</th><th>float32</th><th>float32</th><th>float32</th><th>float32</th><th>float32</th><th>float32</th><th>float32</th><th>int16</th><th>int16</th><th>int16</th></tr></thead>\n",
       "<tr><td>587727178986356823</td><td>00:00:00.41</td><td>-10:22:25.7</td><td>59</td><td>0.61</td><td>0.034</td><td>0.0</td><td>0.153</td><td>0.153</td><td>0.051</td><td>0.186</td><td>0.61</td><td>0.186</td><td>0</td><td>0</td><td>1</td></tr>\n",
       "</table>"
      ],
      "text/plain": [
       "<Row index=0>\n",
       "      OBJID             RA         DEC     NVOTE   P_EL    P_CW   P_ACW   P_EDGE   P_DK    P_MG    P_CS  P_EL_DEBIASED P_CS_DEBIASED SPIRAL ELLIPTICAL UNCERTAIN\n",
       "                       hms         dms                                                                                                                          \n",
       "      int64          bytes11     bytes11   int16 float32 float32 float32 float32 float32 float32 float32    float32       float32    int16    int16      int16  \n",
       "------------------ ----------- ----------- ----- ------- ------- ------- ------- ------- ------- ------- ------------- ------------- ------ ---------- ---------\n",
       "587727178986356823 00:00:00.41 -10:22:25.7    59    0.61   0.034     0.0   0.153   0.153   0.051   0.186          0.61         0.186      0          0         1"
      ]
     },
     "execution_count": 26,
     "metadata": {},
     "output_type": "execute_result"
    }
   ],
   "source": [
    "table_hontai = Table.read('GalaxyZoo1_DR_table2.fits')\n",
    "table_hontai[0]"
   ]
  },
  {
   "cell_type": "markdown",
   "metadata": {},
   "source": [
    "# データセット生成"
   ]
  },
  {
   "cell_type": "code",
   "execution_count": 67,
   "metadata": {
    "scrolled": true
   },
   "outputs": [
    {
     "name": "stdout",
     "output_type": "stream",
     "text": [
      "(588015509806252189, b'00:00:26.31', b'+00:35:50.8', 26, 0.654, 0., 0., 0.231, 0.115, 0., 0.231, 0.394, 0.447, 0, 0, 1)\n"
     ]
    }
   ],
   "source": [
    "# npzディレクトリのファイル名取得\n",
    "#path = \"data/npz\"\n",
    "#files = os.listdir(path)\n",
    "#files_file = [f for f in files if os.path.isfile(os.path.join(path, f))]\n",
    "\n",
    "#dataset_gal = []\n",
    "#for npzname in files_file[:1]:\n",
    "#    galaxy_arr = np.load('data/npz/' + npzname)\n",
    "#    header = galaxy_arr['arr_1']\n",
    "#    print(header)\n",
    "    "
   ]
  },
  {
   "cell_type": "code",
   "execution_count": 104,
   "metadata": {},
   "outputs": [],
   "source": [
    "# まず、作成したcsvをロード\n",
    "csv_obj = open('data/csv/galaxy_csv.csv')\n",
    "csv_reader = csv.reader(csv_obj)\n",
    "gz_table = [row for row in csv_reader]"
   ]
  },
  {
   "cell_type": "code",
   "execution_count": 105,
   "metadata": {
    "scrolled": true
   },
   "outputs": [],
   "source": [
    "# x(画像データ)のロード\n",
    "x = [np.load('data/npz/' + i[0] + '.npy') for i in gz_table[:1000]]"
   ]
  },
  {
   "cell_type": "code",
   "execution_count": 106,
   "metadata": {},
   "outputs": [
    {
     "name": "stdout",
     "output_type": "stream",
     "text": [
      "[[1196 1188 1197 ... 1191 1191 1187]\n",
      " [1179 1185 1179 ... 1196 1189 1191]\n",
      " [1194 1189 1197 ... 1194 1199 1196]\n",
      " ...\n",
      " [1188 1189 1194 ... 1187 1202 1186]\n",
      " [1179 1189 1190 ... 1199 1195 1205]\n",
      " [1196 1196 1189 ... 1187 1189 1185]]\n",
      "uint16\n"
     ]
    }
   ],
   "source": [
    "print(x[0])\n",
    "print(x[0].dtype)"
   ]
  },
  {
   "cell_type": "code",
   "execution_count": 107,
   "metadata": {},
   "outputs": [],
   "source": [
    "# list → nparray、およびint → float\n",
    "X = np.array(x)\n",
    "X = X.astype('float32')"
   ]
  },
  {
   "cell_type": "code",
   "execution_count": 108,
   "metadata": {},
   "outputs": [
    {
     "name": "stdout",
     "output_type": "stream",
     "text": [
      "[[1196. 1188. 1197. ... 1191. 1191. 1187.]\n",
      " [1179. 1185. 1179. ... 1196. 1189. 1191.]\n",
      " [1194. 1189. 1197. ... 1194. 1199. 1196.]\n",
      " ...\n",
      " [1188. 1189. 1194. ... 1187. 1202. 1186.]\n",
      " [1179. 1189. 1190. ... 1199. 1195. 1205.]\n",
      " [1196. 1196. 1189. ... 1187. 1189. 1185.]]\n",
      "float32\n"
     ]
    }
   ],
   "source": [
    "print(X[0])\n",
    "print(X[0].dtype)"
   ]
  },
  {
   "cell_type": "code",
   "execution_count": 109,
   "metadata": {
    "scrolled": true
   },
   "outputs": [],
   "source": [
    "# 正規化\n",
    "for i in range(len(gz_table)):\n",
    "    idx = np.unravel_index(np.argmax(X[i]), X[i].shape)\n",
    "    idx_content = X[i][idx]\n",
    "    X[i] = X[i]/idx_content"
   ]
  },
  {
   "cell_type": "code",
   "execution_count": 110,
   "metadata": {},
   "outputs": [],
   "source": [
    "# y(正解ラベル)をロード\n",
    "Y = []\n",
    "for i in gz_table[:1000]:\n",
    "    if i[13] == '1':\n",
    "        Y.append(0)\n",
    "    elif i[14] == '1':\n",
    "        Y.append(1)\n",
    "    elif i[15] == '1':\n",
    "        Y.append(2)"
   ]
  },
  {
   "cell_type": "code",
   "execution_count": 111,
   "metadata": {},
   "outputs": [],
   "source": [
    "# ワンホットエンコーディング\n",
    "Y = np_utils.to_categorical(Y,3)"
   ]
  },
  {
   "cell_type": "code",
   "execution_count": 112,
   "metadata": {},
   "outputs": [
    {
     "name": "stdout",
     "output_type": "stream",
     "text": [
      "800\n",
      "(60, 60, 1)\n",
      "<class 'numpy.ndarray'>\n"
     ]
    }
   ],
   "source": [
    "# 訓練データとテストデータを切り分ける\n",
    "X_train, X_test, Y_train, Y_test = X[:800], X[800:], Y[:800], Y[800:]\n",
    "Y_test_backup = Y_test\n",
    "\n",
    "X_train = X_train.reshape(800, 60, 60, 1)\n",
    "X_test  = X_test.reshape(200, 60, 60, 1)\n",
    "\n",
    "# 両方のサイズを確認\n",
    "print(len(X_train))\n",
    "print(X_train[0].shape)\n",
    "print(type(X_train))"
   ]
  },
  {
   "cell_type": "markdown",
   "metadata": {},
   "source": [
    "# モデル構築とトレーニング"
   ]
  },
  {
   "cell_type": "code",
   "execution_count": 113,
   "metadata": {
    "scrolled": true
   },
   "outputs": [
    {
     "name": "stdout",
     "output_type": "stream",
     "text": [
      "Model: \"sequential_1\"\n",
      "_________________________________________________________________\n",
      "Layer (type)                 Output Shape              Param #   \n",
      "=================================================================\n",
      "conv2d_1 (Conv2D)            (None, 56, 56, 32)        832       \n",
      "_________________________________________________________________\n",
      "conv2d_2 (Conv2D)            (None, 52, 52, 64)        51264     \n",
      "_________________________________________________________________\n",
      "max_pooling2d_1 (MaxPooling2 (None, 13, 13, 64)        0         \n",
      "_________________________________________________________________\n",
      "conv2d_3 (Conv2D)            (None, 11, 11, 128)       73856     \n",
      "_________________________________________________________________\n",
      "conv2d_4 (Conv2D)            (None, 9, 9, 128)         147584    \n",
      "_________________________________________________________________\n",
      "max_pooling2d_2 (MaxPooling2 (None, 4, 4, 128)         0         \n",
      "_________________________________________________________________\n",
      "dropout_1 (Dropout)          (None, 4, 4, 128)         0         \n",
      "_________________________________________________________________\n",
      "flatten_1 (Flatten)          (None, 2048)              0         \n",
      "_________________________________________________________________\n",
      "dense_1 (Dense)              (None, 64)                131136    \n",
      "_________________________________________________________________\n",
      "dropout_2 (Dropout)          (None, 64)                0         \n",
      "_________________________________________________________________\n",
      "dense_2 (Dense)              (None, 64)                4160      \n",
      "_________________________________________________________________\n",
      "dropout_3 (Dropout)          (None, 64)                0         \n",
      "_________________________________________________________________\n",
      "dense_3 (Dense)              (None, 3)                 195       \n",
      "=================================================================\n",
      "Total params: 409,027\n",
      "Trainable params: 409,027\n",
      "Non-trainable params: 0\n",
      "_________________________________________________________________\n",
      "Train on 800 samples, validate on 200 samples\n",
      "Epoch 1/100\n",
      "800/800 [==============================] - 6s 8ms/step - loss: 1.0176 - accuracy: 0.5575 - val_loss: 1.0239 - val_accuracy: 0.6200\n",
      "Epoch 2/100\n",
      "800/800 [==============================] - 5s 7ms/step - loss: 0.9755 - accuracy: 0.5562 - val_loss: 0.8876 - val_accuracy: 0.6200\n",
      "Epoch 3/100\n",
      "800/800 [==============================] - 5s 7ms/step - loss: 0.9601 - accuracy: 0.5763 - val_loss: 0.9397 - val_accuracy: 0.6200\n",
      "Epoch 4/100\n",
      "800/800 [==============================] - 5s 7ms/step - loss: 0.9350 - accuracy: 0.5788 - val_loss: 0.8844 - val_accuracy: 0.6200\n",
      "Epoch 5/100\n",
      "800/800 [==============================] - 5s 7ms/step - loss: 0.9510 - accuracy: 0.5875 - val_loss: 0.8960 - val_accuracy: 0.6200\n",
      "Epoch 6/100\n",
      "800/800 [==============================] - 6s 7ms/step - loss: 0.9284 - accuracy: 0.5825 - val_loss: 0.9011 - val_accuracy: 0.6200\n",
      "Epoch 7/100\n",
      "800/800 [==============================] - 6s 7ms/step - loss: 0.9365 - accuracy: 0.5813 - val_loss: 0.8955 - val_accuracy: 0.6200\n",
      "Epoch 8/100\n",
      "800/800 [==============================] - 5s 7ms/step - loss: 0.9215 - accuracy: 0.5888 - val_loss: 0.9183 - val_accuracy: 0.6200\n",
      "Epoch 9/100\n",
      "800/800 [==============================] - 6s 7ms/step - loss: 0.9556 - accuracy: 0.5838 - val_loss: 0.9140 - val_accuracy: 0.6200\n",
      "Epoch 10/100\n",
      "800/800 [==============================] - 5s 7ms/step - loss: 0.9160 - accuracy: 0.5913 - val_loss: 0.9033 - val_accuracy: 0.6200\n",
      "Epoch 11/100\n",
      "800/800 [==============================] - 5s 7ms/step - loss: 0.9206 - accuracy: 0.5863 - val_loss: 0.8856 - val_accuracy: 0.6200\n",
      "Epoch 12/100\n",
      "800/800 [==============================] - 5s 7ms/step - loss: 0.9315 - accuracy: 0.5863 - val_loss: 0.8881 - val_accuracy: 0.6200\n",
      "Epoch 13/100\n",
      "800/800 [==============================] - 5s 7ms/step - loss: 0.9214 - accuracy: 0.5888 - val_loss: 0.8801 - val_accuracy: 0.6200\n",
      "Epoch 14/100\n",
      "800/800 [==============================] - 5s 7ms/step - loss: 0.9311 - accuracy: 0.5900 - val_loss: 0.9039 - val_accuracy: 0.6200\n",
      "Epoch 15/100\n",
      "800/800 [==============================] - 5s 6ms/step - loss: 0.9313 - accuracy: 0.5850 - val_loss: 0.8904 - val_accuracy: 0.6200\n",
      "Epoch 16/100\n",
      "800/800 [==============================] - 5s 6ms/step - loss: 0.9036 - accuracy: 0.5875 - val_loss: 0.8815 - val_accuracy: 0.6200\n",
      "Epoch 17/100\n",
      "800/800 [==============================] - 5s 6ms/step - loss: 0.8984 - accuracy: 0.5850 - val_loss: 0.8761 - val_accuracy: 0.6150\n",
      "Epoch 18/100\n",
      "800/800 [==============================] - 5s 6ms/step - loss: 0.9199 - accuracy: 0.5788 - val_loss: 0.9625 - val_accuracy: 0.6200\n",
      "Epoch 19/100\n",
      "800/800 [==============================] - 5s 6ms/step - loss: 0.9066 - accuracy: 0.5875 - val_loss: 0.9076 - val_accuracy: 0.6200\n",
      "Epoch 20/100\n",
      "800/800 [==============================] - 5s 6ms/step - loss: 0.8943 - accuracy: 0.5825 - val_loss: 0.8901 - val_accuracy: 0.6200\n",
      "Epoch 21/100\n",
      "800/800 [==============================] - 5s 6ms/step - loss: 0.8863 - accuracy: 0.5813 - val_loss: 0.8965 - val_accuracy: 0.6200\n",
      "Epoch 22/100\n",
      "800/800 [==============================] - 5s 6ms/step - loss: 0.8974 - accuracy: 0.5925 - val_loss: 0.8567 - val_accuracy: 0.6200\n",
      "Epoch 23/100\n",
      "800/800 [==============================] - 5s 6ms/step - loss: 0.8829 - accuracy: 0.6012 - val_loss: 0.8970 - val_accuracy: 0.6200\n",
      "Epoch 24/100\n",
      "800/800 [==============================] - 5s 6ms/step - loss: 0.8885 - accuracy: 0.5863 - val_loss: 0.9025 - val_accuracy: 0.6150\n",
      "Epoch 25/100\n",
      "800/800 [==============================] - 5s 6ms/step - loss: 0.8885 - accuracy: 0.5750 - val_loss: 0.8944 - val_accuracy: 0.6200\n",
      "Epoch 26/100\n",
      "800/800 [==============================] - 6s 7ms/step - loss: 0.8788 - accuracy: 0.5900 - val_loss: 0.9032 - val_accuracy: 0.6200\n",
      "Epoch 27/100\n",
      "800/800 [==============================] - 6s 7ms/step - loss: 0.9114 - accuracy: 0.5863 - val_loss: 0.8783 - val_accuracy: 0.6200\n",
      "Epoch 28/100\n",
      "800/800 [==============================] - 6s 7ms/step - loss: 0.8774 - accuracy: 0.5788 - val_loss: 0.9590 - val_accuracy: 0.6200\n",
      "Epoch 29/100\n",
      "800/800 [==============================] - 5s 6ms/step - loss: 0.8808 - accuracy: 0.5875 - val_loss: 0.8795 - val_accuracy: 0.6200\n",
      "Epoch 30/100\n",
      "800/800 [==============================] - 5s 7ms/step - loss: 0.8768 - accuracy: 0.5788 - val_loss: 0.8587 - val_accuracy: 0.6200\n",
      "Epoch 31/100\n",
      "800/800 [==============================] - 5s 6ms/step - loss: 0.8523 - accuracy: 0.5987 - val_loss: 0.8933 - val_accuracy: 0.6100\n",
      "Epoch 32/100\n",
      "800/800 [==============================] - 5s 6ms/step - loss: 0.9200 - accuracy: 0.5788 - val_loss: 0.9139 - val_accuracy: 0.5900\n",
      "Epoch 33/100\n",
      "800/800 [==============================] - 6s 7ms/step - loss: 0.8602 - accuracy: 0.5587 - val_loss: 0.8617 - val_accuracy: 0.6200\n",
      "Epoch 34/100\n",
      "800/800 [==============================] - 5s 6ms/step - loss: 0.8578 - accuracy: 0.5925 - val_loss: 0.8774 - val_accuracy: 0.6200\n",
      "Epoch 35/100\n",
      "800/800 [==============================] - 5s 7ms/step - loss: 0.8615 - accuracy: 0.5825 - val_loss: 0.8636 - val_accuracy: 0.6100\n",
      "Epoch 36/100\n",
      "800/800 [==============================] - 6s 7ms/step - loss: 0.8563 - accuracy: 0.5888 - val_loss: 0.8840 - val_accuracy: 0.6150\n",
      "Epoch 37/100\n",
      "800/800 [==============================] - 5s 7ms/step - loss: 0.8552 - accuracy: 0.5813 - val_loss: 0.9671 - val_accuracy: 0.6150\n",
      "Epoch 38/100\n",
      "800/800 [==============================] - 5s 6ms/step - loss: 0.8572 - accuracy: 0.5938 - val_loss: 0.9152 - val_accuracy: 0.6100\n",
      "Epoch 39/100\n",
      "800/800 [==============================] - 5s 7ms/step - loss: 0.8594 - accuracy: 0.5838 - val_loss: 0.8932 - val_accuracy: 0.6150\n",
      "Epoch 40/100\n",
      "800/800 [==============================] - 6s 8ms/step - loss: 0.8453 - accuracy: 0.5975 - val_loss: 0.8959 - val_accuracy: 0.6150\n",
      "Epoch 41/100\n",
      "800/800 [==============================] - 6s 7ms/step - loss: 0.8633 - accuracy: 0.5863 - val_loss: 0.8846 - val_accuracy: 0.6150\n",
      "Epoch 42/100\n",
      "800/800 [==============================] - 5s 6ms/step - loss: 0.8594 - accuracy: 0.5888 - val_loss: 0.8905 - val_accuracy: 0.6100\n",
      "Epoch 43/100\n"
     ]
    },
    {
     "name": "stdout",
     "output_type": "stream",
     "text": [
      "800/800 [==============================] - 6s 7ms/step - loss: 0.8595 - accuracy: 0.5850 - val_loss: 0.8761 - val_accuracy: 0.6050\n",
      "Epoch 44/100\n",
      "800/800 [==============================] - 5s 6ms/step - loss: 0.8436 - accuracy: 0.6062 - val_loss: 0.9107 - val_accuracy: 0.5850\n",
      "Epoch 45/100\n",
      "800/800 [==============================] - 5s 6ms/step - loss: 0.8364 - accuracy: 0.5825 - val_loss: 0.9230 - val_accuracy: 0.6100\n",
      "Epoch 46/100\n",
      "800/800 [==============================] - 6s 7ms/step - loss: 0.8339 - accuracy: 0.5987 - val_loss: 0.8994 - val_accuracy: 0.6100\n",
      "Epoch 47/100\n",
      "800/800 [==============================] - 6s 7ms/step - loss: 0.8251 - accuracy: 0.6062 - val_loss: 0.9406 - val_accuracy: 0.5650\n",
      "Epoch 48/100\n",
      "800/800 [==============================] - 6s 7ms/step - loss: 0.8441 - accuracy: 0.5925 - val_loss: 0.8902 - val_accuracy: 0.5850\n",
      "Epoch 49/100\n",
      "800/800 [==============================] - 5s 6ms/step - loss: 0.8324 - accuracy: 0.5962 - val_loss: 0.9567 - val_accuracy: 0.6100\n",
      "Epoch 50/100\n",
      "800/800 [==============================] - 5s 6ms/step - loss: 0.8391 - accuracy: 0.6087 - val_loss: 0.9851 - val_accuracy: 0.4350\n",
      "Epoch 51/100\n",
      "800/800 [==============================] - 5s 7ms/step - loss: 0.8194 - accuracy: 0.6000 - val_loss: 0.8987 - val_accuracy: 0.5800\n",
      "Epoch 52/100\n",
      "800/800 [==============================] - 5s 7ms/step - loss: 0.8271 - accuracy: 0.6112 - val_loss: 0.9114 - val_accuracy: 0.5700\n",
      "Epoch 53/100\n",
      "800/800 [==============================] - 5s 7ms/step - loss: 0.8154 - accuracy: 0.6025 - val_loss: 0.9531 - val_accuracy: 0.5950\n",
      "Epoch 54/100\n",
      "800/800 [==============================] - 5s 6ms/step - loss: 0.8317 - accuracy: 0.5950 - val_loss: 0.9153 - val_accuracy: 0.5850\n",
      "Epoch 55/100\n",
      "800/800 [==============================] - 5s 6ms/step - loss: 0.8317 - accuracy: 0.6125 - val_loss: 0.9721 - val_accuracy: 0.5900\n",
      "Epoch 56/100\n",
      "800/800 [==============================] - 5s 6ms/step - loss: 0.8284 - accuracy: 0.5838 - val_loss: 0.9588 - val_accuracy: 0.5900\n",
      "Epoch 57/100\n",
      "800/800 [==============================] - 6s 7ms/step - loss: 0.8055 - accuracy: 0.6037 - val_loss: 0.9419 - val_accuracy: 0.5850\n",
      "Epoch 58/100\n",
      "800/800 [==============================] - 6s 7ms/step - loss: 0.8131 - accuracy: 0.6000 - val_loss: 1.0174 - val_accuracy: 0.5850\n",
      "Epoch 59/100\n",
      "800/800 [==============================] - 6s 7ms/step - loss: 0.8377 - accuracy: 0.5950 - val_loss: 0.9677 - val_accuracy: 0.5650\n",
      "Epoch 60/100\n",
      "800/800 [==============================] - 5s 6ms/step - loss: 0.8094 - accuracy: 0.5962 - val_loss: 0.9600 - val_accuracy: 0.5750\n",
      "Epoch 61/100\n",
      "800/800 [==============================] - 5s 6ms/step - loss: 0.8205 - accuracy: 0.5975 - val_loss: 0.9773 - val_accuracy: 0.5800\n",
      "Epoch 62/100\n",
      "800/800 [==============================] - 5s 6ms/step - loss: 0.8176 - accuracy: 0.5838 - val_loss: 0.9567 - val_accuracy: 0.6100\n",
      "Epoch 63/100\n",
      "800/800 [==============================] - 5s 6ms/step - loss: 0.8154 - accuracy: 0.5987 - val_loss: 0.9355 - val_accuracy: 0.5850\n",
      "Epoch 64/100\n",
      "800/800 [==============================] - 5s 6ms/step - loss: 0.8111 - accuracy: 0.5925 - val_loss: 0.9895 - val_accuracy: 0.5650\n",
      "Epoch 65/100\n",
      "800/800 [==============================] - 5s 6ms/step - loss: 0.8068 - accuracy: 0.6212 - val_loss: 0.9327 - val_accuracy: 0.5700\n",
      "Epoch 66/100\n",
      "800/800 [==============================] - 5s 6ms/step - loss: 0.8010 - accuracy: 0.5987 - val_loss: 1.0244 - val_accuracy: 0.6100\n",
      "Epoch 67/100\n",
      "800/800 [==============================] - 5s 6ms/step - loss: 0.8327 - accuracy: 0.6037 - val_loss: 1.0341 - val_accuracy: 0.5650\n",
      "Epoch 68/100\n",
      "800/800 [==============================] - 5s 6ms/step - loss: 0.7997 - accuracy: 0.6137 - val_loss: 0.9895 - val_accuracy: 0.5850\n",
      "Epoch 69/100\n",
      "800/800 [==============================] - 5s 6ms/step - loss: 0.8092 - accuracy: 0.6050 - val_loss: 1.0084 - val_accuracy: 0.5450\n",
      "Epoch 70/100\n",
      "800/800 [==============================] - 5s 6ms/step - loss: 0.7856 - accuracy: 0.6237 - val_loss: 0.9617 - val_accuracy: 0.6050\n",
      "Epoch 71/100\n",
      "800/800 [==============================] - 5s 6ms/step - loss: 0.8026 - accuracy: 0.6225 - val_loss: 0.9911 - val_accuracy: 0.5750\n",
      "Epoch 72/100\n",
      "800/800 [==============================] - 5s 6ms/step - loss: 0.8031 - accuracy: 0.6062 - val_loss: 1.0976 - val_accuracy: 0.5750\n",
      "Epoch 73/100\n",
      "800/800 [==============================] - 6s 7ms/step - loss: 0.7937 - accuracy: 0.6000 - val_loss: 1.0963 - val_accuracy: 0.5750\n",
      "Epoch 74/100\n",
      "800/800 [==============================] - 6s 7ms/step - loss: 0.7871 - accuracy: 0.6275 - val_loss: 1.1404 - val_accuracy: 0.5850\n",
      "Epoch 75/100\n",
      "800/800 [==============================] - 6s 7ms/step - loss: 0.7973 - accuracy: 0.6100 - val_loss: 1.0798 - val_accuracy: 0.5800\n",
      "Epoch 76/100\n",
      "800/800 [==============================] - 6s 7ms/step - loss: 0.7899 - accuracy: 0.6000 - val_loss: 1.1351 - val_accuracy: 0.5750\n",
      "Epoch 77/100\n",
      "800/800 [==============================] - 6s 7ms/step - loss: 0.7855 - accuracy: 0.6125 - val_loss: 1.0039 - val_accuracy: 0.5650\n",
      "Epoch 78/100\n",
      "800/800 [==============================] - 5s 6ms/step - loss: 0.7853 - accuracy: 0.6250 - val_loss: 1.0933 - val_accuracy: 0.5650\n",
      "Epoch 79/100\n",
      "800/800 [==============================] - 5s 6ms/step - loss: 0.7747 - accuracy: 0.6187 - val_loss: 1.1610 - val_accuracy: 0.5750\n",
      "Epoch 80/100\n",
      "800/800 [==============================] - 6s 7ms/step - loss: 0.7632 - accuracy: 0.6288 - val_loss: 1.0271 - val_accuracy: 0.5700\n",
      "Epoch 81/100\n",
      "800/800 [==============================] - 5s 6ms/step - loss: 0.7634 - accuracy: 0.6375 - val_loss: 1.2265 - val_accuracy: 0.5650\n",
      "Epoch 82/100\n",
      "800/800 [==============================] - 5s 6ms/step - loss: 0.8374 - accuracy: 0.6225 - val_loss: 1.0556 - val_accuracy: 0.5800\n",
      "Epoch 83/100\n",
      "800/800 [==============================] - 5s 6ms/step - loss: 0.7782 - accuracy: 0.6087 - val_loss: 1.0602 - val_accuracy: 0.5700\n",
      "Epoch 84/100\n",
      "800/800 [==============================] - 5s 6ms/step - loss: 0.7778 - accuracy: 0.6125 - val_loss: 1.0959 - val_accuracy: 0.5700\n",
      "Epoch 85/100\n",
      "800/800 [==============================] - 6s 7ms/step - loss: 0.7618 - accuracy: 0.6300 - val_loss: 1.1202 - val_accuracy: 0.5850\n",
      "Epoch 86/100\n",
      "800/800 [==============================] - 5s 7ms/step - loss: 0.7575 - accuracy: 0.6363 - val_loss: 1.2400 - val_accuracy: 0.5250\n",
      "Epoch 87/100\n",
      "800/800 [==============================] - 5s 7ms/step - loss: 0.7835 - accuracy: 0.6313 - val_loss: 1.1412 - val_accuracy: 0.5650\n",
      "Epoch 88/100\n",
      "800/800 [==============================] - 6s 7ms/step - loss: 0.7663 - accuracy: 0.6450 - val_loss: 1.0876 - val_accuracy: 0.5950\n",
      "Epoch 89/100\n",
      "800/800 [==============================] - 5s 7ms/step - loss: 0.7600 - accuracy: 0.6413 - val_loss: 1.0391 - val_accuracy: 0.5900\n",
      "Epoch 90/100\n",
      "800/800 [==============================] - 6s 7ms/step - loss: 0.7557 - accuracy: 0.6413 - val_loss: 1.1434 - val_accuracy: 0.6100\n",
      "Epoch 91/100\n",
      "800/800 [==============================] - 5s 7ms/step - loss: 0.7651 - accuracy: 0.6425 - val_loss: 1.0592 - val_accuracy: 0.5950\n",
      "Epoch 92/100\n",
      "800/800 [==============================] - 6s 8ms/step - loss: 0.7646 - accuracy: 0.6300 - val_loss: 1.0498 - val_accuracy: 0.6050\n",
      "Epoch 93/100\n",
      "800/800 [==============================] - 6s 8ms/step - loss: 0.7532 - accuracy: 0.6463 - val_loss: 1.0796 - val_accuracy: 0.5950\n",
      "Epoch 94/100\n",
      "800/800 [==============================] - 6s 7ms/step - loss: 0.8215 - accuracy: 0.6575 - val_loss: 1.0039 - val_accuracy: 0.6250\n",
      "Epoch 95/100\n",
      "800/800 [==============================] - 6s 7ms/step - loss: 0.7551 - accuracy: 0.6488 - val_loss: 0.9464 - val_accuracy: 0.6250\n",
      "Epoch 96/100\n",
      "800/800 [==============================] - 6s 8ms/step - loss: 0.7452 - accuracy: 0.6463 - val_loss: 1.0414 - val_accuracy: 0.5950\n",
      "Epoch 97/100\n",
      "800/800 [==============================] - 6s 7ms/step - loss: 0.7314 - accuracy: 0.6525 - val_loss: 1.0303 - val_accuracy: 0.5950\n",
      "Epoch 98/100\n",
      "800/800 [==============================] - 5s 6ms/step - loss: 0.7417 - accuracy: 0.6538 - val_loss: 1.0434 - val_accuracy: 0.6250\n",
      "Epoch 99/100\n",
      "800/800 [==============================] - 5s 7ms/step - loss: 0.7202 - accuracy: 0.6525 - val_loss: 1.0692 - val_accuracy: 0.5950\n"
     ]
    },
    {
     "name": "stdout",
     "output_type": "stream",
     "text": [
      "Epoch 100/100\n",
      "800/800 [==============================] - 5s 6ms/step - loss: 0.7407 - accuracy: 0.6363 - val_loss: 1.0291 - val_accuracy: 0.6150\n",
      "Test loss: 1.0290629386901855\n",
      "Test accuracy: 0.6150000095367432\n"
     ]
    }
   ],
   "source": [
    "# Parameter\n",
    "batch_size = 64\n",
    "epochs = 500\n",
    "\n",
    "# Model Construction                                                                                \n",
    "model = Sequential()\n",
    "model.add(Conv2D(32, kernel_size=(5, 5), activation='relu', input_shape=(60, 60, 1)))\n",
    "model.add(Conv2D(64, kernel_size=(5,5), activation='relu'))\n",
    "model.add(MaxPooling2D(pool_size=(4,4)))\n",
    "model.add(Conv2D(128, kernel_size=(3,3), activation='relu'))\n",
    "model.add(Conv2D(128, kernel_size=(3,3), activation='relu'))\n",
    "model.add(MaxPooling2D(pool_size=(2,2)))\n",
    "model.add(Dropout(0.25))\n",
    "model.add(Flatten())\n",
    "model.add(Dense(64, activation='relu'))\n",
    "model.add(Dropout(0.25))\n",
    "model.add(Dense(64, activation='relu'))\n",
    "model.add(Dropout(0.25))\n",
    "model.add(Dense(3, activation='softmax'))\n",
    "\n",
    "model.summary()\n",
    "\n",
    "model.compile(loss='categorical_crossentropy',\n",
    "              optimizer=RMSprop(),\n",
    "              metrics=['accuracy'])\n",
    "\n",
    "\n",
    "\n",
    "# Learning and Score                                                                                \n",
    "history = model.fit(X_train, Y_train,\n",
    "                    batch_size=batch_size,\n",
    "                    epochs=epochs,\n",
    "                    verbose=1,\n",
    "                    validation_data=(X_test, Y_test))\n",
    "score = model.evaluate(X_test, Y_test, verbose=0)\n",
    "print('Test loss:', score[0])\n",
    "print('Test accuracy:', score[1])"
   ]
  },
  {
   "cell_type": "code",
   "execution_count": 119,
   "metadata": {},
   "outputs": [
    {
     "data": {
      "image/png": "[encoded data removed]",
      "text/plain": [
       "<Figure size 432x288 with 1 Axes>"
      ]
     },
     "metadata": {
      "needs_background": "light"
     },
     "output_type": "display_data"
    }
   ],
   "source": [
    "# 可視化、およびhistory避難\n",
    "plt.plot(range(1,epochs+1), history.history['accuracy'], label=\"training\")\n",
    "plt.plot(range(1,epochs+1), history.history['val_accuracy'], label=\"validation\")\n",
    "plt.xlabel('Epochs')\n",
    "plt.ylabel('Accuracy')\n",
    "plt.legend()\n",
    "plt.show()\n",
    "\n",
    "history_201010 = history"
   ]
  },
  {
   "cell_type": "code",
   "execution_count": 16,
   "metadata": {
    "scrolled": true
   },
   "outputs": [
    {
     "data": {
      "text/html": [
       "\n",
       "      <iframe id=\"tensorboard-frame-646657a8fccda602\" width=\"100%\" height=\"800\" frameborder=\"0\">\n",
       "      </iframe>\n",
       "      <script>\n",
       "        (function() {\n",
       "          const frame = document.getElementById(\"tensorboard-frame-646657a8fccda602\");\n",
       "          const url = new URL(\"/\", window.location);\n",
       "          url.port = 6006;\n",
       "          frame.src = url;\n",
       "        })();\n",
       "      </script>\n",
       "  "
      ],
      "text/plain": [
       "<IPython.core.display.HTML object>"
      ]
     },
     "metadata": {},
     "output_type": "display_data"
    }
   ],
   "source": [
    "# tensorboard　(準備中) \n",
    "%tensorboard --logdir logs/fit"
   ]
  },
  {
   "cell_type": "code",
   "execution_count": 18,
   "metadata": {},
   "outputs": [
    {
     "data": {
      "text/html": [
       "<div>\n",
       "<style scoped>\n",
       "    .dataframe tbody tr th:only-of-type {\n",
       "        vertical-align: middle;\n",
       "    }\n",
       "\n",
       "    .dataframe tbody tr th {\n",
       "        vertical-align: top;\n",
       "    }\n",
       "\n",
       "    .dataframe thead th {\n",
       "        text-align: right;\n",
       "    }\n",
       "</style>\n",
       "<table border=\"1\" class=\"dataframe\">\n",
       "  <thead>\n",
       "    <tr style=\"text-align: right;\">\n",
       "      <th></th>\n",
       "      <th>Actual</th>\n",
       "      <th>Predictions</th>\n",
       "    </tr>\n",
       "  </thead>\n",
       "  <tbody>\n",
       "    <tr>\n",
       "      <th>1</th>\n",
       "      <td>[1.0, 0.0, 0.0]</td>\n",
       "      <td>2</td>\n",
       "    </tr>\n",
       "    <tr>\n",
       "      <th>2</th>\n",
       "      <td>[0.0, 0.0, 1.0]</td>\n",
       "      <td>2</td>\n",
       "    </tr>\n",
       "  </tbody>\n",
       "</table>\n",
       "</div>"
      ],
      "text/plain": [
       "            Actual  Predictions\n",
       "1  [1.0, 0.0, 0.0]            2\n",
       "2  [0.0, 0.0, 1.0]            2"
      ]
     },
     "execution_count": 18,
     "metadata": {},
     "output_type": "execute_result"
    }
   ],
   "source": [
    "# X_testを使って予測を行う\n",
    "predictions = model.predict_classes(X_test)\n",
    "xa = list(predictions)\n",
    "ya = list(Y_test_backup)\n",
    "results = pd.DataFrame({'Actual': ya, 'Predictions': xa})\n",
    "results[1:3]\n"
   ]
  }
 ],
 "metadata": {
  "kernelspec": {
   "display_name": "Python 3",
   "language": "python",
   "name": "python3"
  },
  "language_info": {
   "codemirror_mode": {
    "name": "ipython",
    "version": 3
   },
   "file_extension": ".py",
   "mimetype": "text/x-python",
   "name": "python",
   "nbconvert_exporter": "python",
   "pygments_lexer": "ipython3",
   "version": "3.6.12"
  }
 },
 "nbformat": 4,
 "nbformat_minor": 4
}
