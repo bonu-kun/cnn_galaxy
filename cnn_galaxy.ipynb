{
 "cells": [
  {
   "cell_type": "code",
   "execution_count": null,
   "metadata": {},
   "outputs": [],
   "source": [
    "# GPU計算必要なときだけロードする\n",
    "gpu_id = 0\n",
    "print(tf.__version__)\n",
    "if tf.__version__ >= \"2.1.0\":\n",
    "    physical_devices = tf.config.list_physical_devices('GPU')\n",
    "    tf.config.list_physical_devices('GPU')\n",
    "    tf.config.set_visible_devices(physical_devices[gpu_id], 'GPU')\n",
    "    tf.config.experimental.set_memory_growth(physical_devices[gpu_id], True)\n",
    "elif tf.__version__ >= \"2.0.0\":\n",
    "    #TF2.0\n",
    "    physical_devices = tf.config.experimental.list_physical_devices('GPU')\n",
    "    tf.config.experimental.set_visible_devices(physical_devices[gpu_id], 'GPU')\n",
    "    tf.config.experimental.set_memory_growth(physical_devices[gpu_id], True)\n",
    "else:\n",
    "    from keras.backend.tensorflow_backend import set_session\n",
    "    config = tf.ConfigProto(\n",
    "        gpu_options=tf.GPUOptions(\n",
    "            visible_device_list=str(gpu_id), # specify GPU number\n",
    "            allow_growth=True\n",
    "        )\n",
    "    )\n",
    "    set_session(tf.Session(config=config))"
   ]
  },
  {
   "cell_type": "code",
   "execution_count": 15,
   "metadata": {},
   "outputs": [
    {
     "data": {
      "text/plain": [
       "'/home/homma/iida/research/cnn_galaxy'"
      ]
     },
     "execution_count": 15,
     "metadata": {},
     "output_type": "execute_result"
    }
   ],
   "source": [
    "pwd"
   ]
  },
  {
   "source": [
    "## モジュールインポート"
   ],
   "cell_type": "markdown",
   "metadata": {}
  },
  {
   "cell_type": "code",
   "execution_count": 1,
   "metadata": {
    "scrolled": true
   },
   "outputs": [
    {
     "output_type": "stream",
     "name": "stderr",
     "text": [
      "Using TensorFlow backend.\n"
     ]
    }
   ],
   "source": [
    "import os\n",
    "import tensorflow as tf\n",
    "import keras"
   ]
  },
  {
   "cell_type": "code",
   "execution_count": 2,
   "metadata": {},
   "outputs": [],
   "source": [
    "# Kerasの必要なコンポーネントをインポート\n",
    "from keras.models import Sequential, model_from_json\n",
    "from keras.layers import Dense, Dropout, Flatten, Conv2D, MaxPooling2D, Activation\n",
    "from keras.optimizers import RMSprop\n",
    "from keras.utils import np_utils, plot_model\n",
    "\n",
    "# Scikit-learn(Sklearn)のインポート\n",
    "#  from sklearn.datasets import fetch_openml\n",
    "\n",
    "# データを高速かつ効率的に使えるPandasをインポート\n",
    "import pandas as pd\n",
    "# 数値計算を効率的に行うNumpyをインポート\n",
    "import numpy as np\n",
    "#グラフが簡単に描写できるMatplotlibをインポート\n",
    "import matplotlib\n",
    "import matplotlib.pyplot as plt\n",
    "\n",
    "#astropy関連のインポート\n",
    "from astropy.table import Table\n",
    "\n",
    "#csv\n",
    "import csv"
   ]
  },
  {
   "cell_type": "code",
   "execution_count": 3,
   "metadata": {},
   "outputs": [],
   "source": [
    "# Load the TensorBoard notebook extension\n",
    "%load_ext tensorboard"
   ]
  },
  {
   "cell_type": "code",
   "execution_count": 4,
   "metadata": {},
   "outputs": [],
   "source": [
    "import datetime\n",
    "import pydot"
   ]
  },
  {
   "cell_type": "code",
   "execution_count": 5,
   "metadata": {},
   "outputs": [
    {
     "name": "stderr",
     "output_type": "stream",
     "text": [
      "'rm' は、内部コマンドまたは外部コマンド、\n",
      "操作可能なプログラムまたはバッチ ファイルとして認識されていません。\n"
     ]
    }
   ],
   "source": [
    " # Clear any logs from previous runs\n",
    "!rm -rf ./logs/ "
   ]
  },
  {
   "source": [
    "# テスト - 一旦画像表示させてみる"
   ],
   "cell_type": "markdown",
   "metadata": {}
  },
  {
   "cell_type": "code",
   "execution_count": 5,
   "metadata": {
    "scrolled": false
   },
   "outputs": [],
   "source": [
    "galaxy_arr = np.load(\"data/npz/587727178986356823.npy\")"
   ]
  },
  {
   "cell_type": "code",
   "execution_count": 19,
   "metadata": {},
   "outputs": [
    {
     "name": "stdout",
     "output_type": "stream",
     "text": [
      "[[1196 1188 1197 ... 1191 1191 1187]\n",
      " [1179 1185 1179 ... 1196 1189 1191]\n",
      " [1194 1189 1197 ... 1194 1199 1196]\n",
      " ...\n",
      " [1188 1189 1194 ... 1187 1202 1186]\n",
      " [1179 1189 1190 ... 1199 1195 1205]\n",
      " [1196 1196 1189 ... 1187 1189 1185]]\n",
      "(60, 60)\n"
     ]
    }
   ],
   "source": [
    "# 画像\n",
    "print(galaxy_arr)\n",
    "print(galaxy_arr.shape)"
   ]
  },
  {
   "cell_type": "code",
   "execution_count": 7,
   "metadata": {},
   "outputs": [
    {
     "data": {
      "text/plain": [
       "<matplotlib.image.AxesImage at 0x29a04a2c198>"
      ]
     },
     "execution_count": 7,
     "metadata": {},
     "output_type": "execute_result"
    },
    {
     "data": {
      "image/png": "[encoded data removed]",
      "text/plain": [
       "<Figure size 432x288 with 1 Axes>"
      ]
     },
     "metadata": {
      "needs_background": "light"
     },
     "output_type": "display_data"
    }
   ],
   "source": [
    "# 画像表示\n",
    "plt.imshow(np.log10(galaxy_arr.T[::-1, ::-1]), cmap='gray', vmin=3.05, vmax=3.09)"
   ]
  },
  {
   "cell_type": "code",
   "execution_count": 17,
   "metadata": {},
   "outputs": [
    {
     "name": "stdout",
     "output_type": "stream",
     "text": [
      "1891\n",
      "(31, 31)\n",
      "1516\n"
     ]
    }
   ],
   "source": [
    "#最大値参照\n",
    "print(np.argmax(galaxy_arr)) #これは平坦化した際のインデックス\n",
    "print(np.unravel_index(np.argmax(galaxy_arr),galaxy_arr.shape))\n",
    "print(galaxy_arr[31,31])"
   ]
  },
  {
   "cell_type": "markdown",
   "metadata": {},
   "source": [
    "# テスト - Table比較"
   ]
  },
  {
   "cell_type": "code",
   "execution_count": 19,
   "metadata": {},
   "outputs": [
    {
     "name": "stdout",
     "output_type": "stream",
     "text": [
      "(587727178986356823, b'00:00:00.41', b'-10:22:25.7', 59, 0.61, 0.034, 0., 0.153, 0.153, 0.051, 0.186, 0.61, 0.186, 0, 0, 1)\n"
     ]
    }
   ],
   "source": [
    "# ラベル\n",
    "print(galaxy_arr['arr_1'])"
   ]
  },
  {
   "cell_type": "markdown",
   "metadata": {},
   "source": [
    "ここでTableと比較してみる"
   ]
  },
  {
   "cell_type": "code",
   "execution_count": 26,
   "metadata": {},
   "outputs": [
    {
     "data": {
      "text/html": [
       "<i>Row index=0</i>\n",
       "<table id=\"table2860523497680\">\n",
       "<thead><tr><th>OBJID</th><th>RA</th><th>DEC</th><th>NVOTE</th><th>P_EL</th><th>P_CW</th><th>P_ACW</th><th>P_EDGE</th><th>P_DK</th><th>P_MG</th><th>P_CS</th><th>P_EL_DEBIASED</th><th>P_CS_DEBIASED</th><th>SPIRAL</th><th>ELLIPTICAL</th><th>UNCERTAIN</th></tr></thead>\n",
       "<thead><tr><th></th><th>hms</th><th>dms</th><th></th><th></th><th></th><th></th><th></th><th></th><th></th><th></th><th></th><th></th><th></th><th></th><th></th></tr></thead>\n",
       "<thead><tr><th>int64</th><th>bytes11</th><th>bytes11</th><th>int16</th><th>float32</th><th>float32</th><th>float32</th><th>float32</th><th>float32</th><th>float32</th><th>float32</th><th>float32</th><th>float32</th><th>int16</th><th>int16</th><th>int16</th></tr></thead>\n",
       "<tr><td>587727178986356823</td><td>00:00:00.41</td><td>-10:22:25.7</td><td>59</td><td>0.61</td><td>0.034</td><td>0.0</td><td>0.153</td><td>0.153</td><td>0.051</td><td>0.186</td><td>0.61</td><td>0.186</td><td>0</td><td>0</td><td>1</td></tr>\n",
       "</table>"
      ],
      "text/plain": [
       "<Row index=0>\n",
       "      OBJID             RA         DEC     NVOTE   P_EL    P_CW   P_ACW   P_EDGE   P_DK    P_MG    P_CS  P_EL_DEBIASED P_CS_DEBIASED SPIRAL ELLIPTICAL UNCERTAIN\n",
       "                       hms         dms                                                                                                                          \n",
       "      int64          bytes11     bytes11   int16 float32 float32 float32 float32 float32 float32 float32    float32       float32    int16    int16      int16  \n",
       "------------------ ----------- ----------- ----- ------- ------- ------- ------- ------- ------- ------- ------------- ------------- ------ ---------- ---------\n",
       "587727178986356823 00:00:00.41 -10:22:25.7    59    0.61   0.034     0.0   0.153   0.153   0.051   0.186          0.61         0.186      0          0         1"
      ]
     },
     "execution_count": 26,
     "metadata": {},
     "output_type": "execute_result"
    }
   ],
   "source": [
    "table_hontai = Table.read('GalaxyZoo1_DR_table2.fits')\n",
    "table_hontai[0]"
   ]
  },
  {
   "cell_type": "markdown",
   "metadata": {},
   "source": [
    "# データセット生成"
   ]
  },
  {
   "source": [
    "## 準備"
   ],
   "cell_type": "markdown",
   "metadata": {}
  },
  {
   "cell_type": "code",
   "execution_count": 10,
   "metadata": {},
   "outputs": [],
   "source": [
    "# 使うデータの数を決定\n",
    "num_of_data = 3"
   ]
  },
  {
   "cell_type": "code",
   "execution_count": 11,
   "metadata": {},
   "outputs": [],
   "source": [
    "# まず、作成したcsvをロード\n",
    "csv_obj = open('data/csv/galaxy_csv.csv')\n",
    "csv_reader = csv.reader(csv_obj)\n",
    "gz_table = [row for c,row in enumerate(csv_reader) if c < num_of_data]"
   ]
  },
  {
   "cell_type": "code",
   "execution_count": 15,
   "metadata": {},
   "outputs": [
    {
     "output_type": "stream",
     "name": "stdout",
     "text": [
      "[[1196 1188 1197 ... 1191 1191 1187]\n [1179 1185 1179 ... 1196 1189 1191]\n [1194 1189 1197 ... 1194 1199 1196]\n ...\n [1188 1189 1194 ... 1187 1202 1186]\n [1179 1189 1190 ... 1199 1195 1205]\n [1196 1196 1189 ... 1187 1189 1185]]\nuint16\n"
     ]
    }
   ],
   "source": [
    "print(x[0])\n",
    "print(x[0].dtype)"
   ]
  },
  {
   "cell_type": "code",
   "execution_count": 16,
   "metadata": {},
   "outputs": [],
   "source": [
    "# list → nparray、およびint → float\n",
    "X = np.array(x)\n",
    "X = X.astype('float32')"
   ]
  },
  {
   "cell_type": "code",
   "execution_count": 17,
   "metadata": {},
   "outputs": [
    {
     "output_type": "stream",
     "name": "stdout",
     "text": [
      "[[1196. 1188. 1197. ... 1191. 1191. 1187.]\n [1179. 1185. 1179. ... 1196. 1189. 1191.]\n [1194. 1189. 1197. ... 1194. 1199. 1196.]\n ...\n [1188. 1189. 1194. ... 1187. 1202. 1186.]\n [1179. 1189. 1190. ... 1199. 1195. 1205.]\n [1196. 1196. 1189. ... 1187. 1189. 1185.]]\nfloat32\n"
     ]
    }
   ],
   "source": [
    "print(X[0])\n",
    "print(X[0].dtype)"
   ]
  },
  {
   "cell_type": "code",
   "execution_count": 20,
   "metadata": {},
   "outputs": [
    {
     "output_type": "display_data",
     "data": {
      "text/plain": "<Figure size 432x288 with 1 Axes>",
      "image/svg+xml": "<?xml version=\"1.0\" encoding=\"utf-8\" standalone=\"no\"?>\n<!DOCTYPE svg PUBLIC \"-//W3C//DTD SVG 1.1//EN\"\n  \"http://www.w3.org/Graphics/SVG/1.1/DTD/svg11.dtd\">\n<!-- Created with matplotlib (https://matplotlib.org/) -->\n<svg height=\"248.518125pt\" version=\"1.1\" viewBox=\"0 0 368.925 248.518125\" width=\"368.925pt\" xmlns=\"http://www.w3.org/2000/svg\" xmlns:xlink=\"http://www.w3.org/1999/xlink\">\n <metadata>\n  <rdf:RDF xmlns:cc=\"http://creativecommons.org/ns#\" xmlns:dc=\"http://purl.org/dc/elements/1.1/\" xmlns:rdf=\"http://www.w3.org/1999/02/22-rdf-syntax-ns#\">\n   <cc:Work>\n    <dc:type rdf:resource=\"http://purl.org/dc/dcmitype/StillImage\"/>\n    <dc:date>2020-10-14T15:41:15.138765</dc:date>\n    <dc:format>image/svg+xml</dc:format>\n    <dc:creator>\n     <cc:Agent>\n      <dc:title>Matplotlib v3.3.1, https://matplotlib.org/</dc:title>\n     </cc:Agent>\n    </dc:creator>\n   </cc:Work>\n  </rdf:RDF>\n </metadata>\n <defs>\n  <style type=\"text/css\">*{stroke-linecap:butt;stroke-linejoin:round;}</style>\n </defs>\n <g id=\"figure_1\">\n  <g id=\"patch_1\">\n   <path d=\"M -0 248.518125 \nL 368.925 248.518125 \nL 368.925 0 \nL -0 0 \nz\n\" style=\"fill:none;\"/>\n  </g>\n  <g id=\"axes_1\">\n   <g id=\"patch_2\">\n    <path d=\"M 26.925 224.64 \nL 361.725 224.64 \nL 361.725 7.2 \nL 26.925 7.2 \nz\n\" style=\"fill:#ffffff;\"/>\n   </g>\n   <g id=\"patch_3\">\n    <path clip-path=\"url(#pf478af78c5)\" d=\"M 42.143182 224.64 \nL 42.557303 224.64 \nL 42.557303 27.908571 \nL 42.143182 27.908571 \nz\n\" style=\"fill:#1f77b4;\"/>\n   </g>\n   <g id=\"patch_4\">\n    <path clip-path=\"url(#pf478af78c5)\" d=\"M 73.200688 224.64 \nL 73.614809 224.64 \nL 73.614809 214.285714 \nL 73.200688 214.285714 \nz\n\" style=\"fill:#1f77b4;\"/>\n   </g>\n   <g id=\"patch_5\">\n    <path clip-path=\"url(#pf478af78c5)\" d=\"M 104.258193 224.64 \nL 104.672315 224.64 \nL 104.672315 224.64 \nL 104.258193 224.64 \nz\n\" style=\"fill:#1f77b4;\"/>\n   </g>\n   <g id=\"patch_6\">\n    <path clip-path=\"url(#pf478af78c5)\" d=\"M 135.315699 224.64 \nL 135.72982 224.64 \nL 135.72982 224.64 \nL 135.315699 224.64 \nz\n\" style=\"fill:#1f77b4;\"/>\n   </g>\n   <g id=\"patch_7\">\n    <path clip-path=\"url(#pf478af78c5)\" d=\"M 166.373205 224.64 \nL 166.787326 224.64 \nL 166.787326 224.64 \nL 166.373205 224.64 \nz\n\" style=\"fill:#1f77b4;\"/>\n   </g>\n   <g id=\"patch_8\">\n    <path clip-path=\"url(#pf478af78c5)\" d=\"M 197.430791 224.64 \nL 197.844912 224.64 \nL 197.844912 224.64 \nL 197.430791 224.64 \nz\n\" style=\"fill:#1f77b4;\"/>\n   </g>\n   <g id=\"patch_9\">\n    <path clip-path=\"url(#pf478af78c5)\" d=\"M 228.488296 224.64 \nL 228.902418 224.64 \nL 228.902418 224.64 \nL 228.488296 224.64 \nz\n\" style=\"fill:#1f77b4;\"/>\n   </g>\n   <g id=\"patch_10\">\n    <path clip-path=\"url(#pf478af78c5)\" d=\"M 259.545802 224.64 \nL 259.959924 224.64 \nL 259.959924 224.64 \nL 259.545802 224.64 \nz\n\" style=\"fill:#1f77b4;\"/>\n   </g>\n   <g id=\"patch_11\">\n    <path clip-path=\"url(#pf478af78c5)\" d=\"M 290.603308 224.64 \nL 291.017429 224.64 \nL 291.017429 224.64 \nL 290.603308 224.64 \nz\n\" style=\"fill:#1f77b4;\"/>\n   </g>\n   <g id=\"patch_12\">\n    <path clip-path=\"url(#pf478af78c5)\" d=\"M 321.660814 224.64 \nL 322.074935 224.64 \nL 322.074935 224.64 \nL 321.660814 224.64 \nz\n\" style=\"fill:#1f77b4;\"/>\n   </g>\n   <g id=\"patch_13\">\n    <path clip-path=\"url(#pf478af78c5)\" d=\"M 42.557303 224.64 \nL 42.971425 224.64 \nL 42.971425 21.005714 \nL 42.557303 21.005714 \nz\n\" style=\"fill:#ff7f0e;\"/>\n   </g>\n   <g id=\"patch_14\">\n    <path clip-path=\"url(#pf478af78c5)\" d=\"M 73.614809 224.64 \nL 74.028931 224.64 \nL 74.028931 221.188571 \nL 73.614809 221.188571 \nz\n\" style=\"fill:#ff7f0e;\"/>\n   </g>\n   <g id=\"patch_15\">\n    <path clip-path=\"url(#pf478af78c5)\" d=\"M 104.672315 224.64 \nL 105.086436 224.64 \nL 105.086436 224.64 \nL 104.672315 224.64 \nz\n\" style=\"fill:#ff7f0e;\"/>\n   </g>\n   <g id=\"patch_16\">\n    <path clip-path=\"url(#pf478af78c5)\" d=\"M 135.72982 224.64 \nL 136.143942 224.64 \nL 136.143942 224.64 \nL 135.72982 224.64 \nz\n\" style=\"fill:#ff7f0e;\"/>\n   </g>\n   <g id=\"patch_17\">\n    <path clip-path=\"url(#pf478af78c5)\" d=\"M 166.787326 224.64 \nL 167.201448 224.64 \nL 167.201448 224.64 \nL 166.787326 224.64 \nz\n\" style=\"fill:#ff7f0e;\"/>\n   </g>\n   <g id=\"patch_18\">\n    <path clip-path=\"url(#pf478af78c5)\" d=\"M 197.844912 224.64 \nL 198.259034 224.64 \nL 198.259034 224.64 \nL 197.844912 224.64 \nz\n\" style=\"fill:#ff7f0e;\"/>\n   </g>\n   <g id=\"patch_19\">\n    <path clip-path=\"url(#pf478af78c5)\" d=\"M 228.902418 224.64 \nL 229.31654 224.64 \nL 229.31654 224.64 \nL 228.902418 224.64 \nz\n\" style=\"fill:#ff7f0e;\"/>\n   </g>\n   <g id=\"patch_20\">\n    <path clip-path=\"url(#pf478af78c5)\" d=\"M 259.959924 224.64 \nL 260.374045 224.64 \nL 260.374045 224.64 \nL 259.959924 224.64 \nz\n\" style=\"fill:#ff7f0e;\"/>\n   </g>\n   <g id=\"patch_21\">\n    <path clip-path=\"url(#pf478af78c5)\" d=\"M 291.017429 224.64 \nL 291.431551 224.64 \nL 291.431551 224.64 \nL 291.017429 224.64 \nz\n\" style=\"fill:#ff7f0e;\"/>\n   </g>\n   <g id=\"patch_22\">\n    <path clip-path=\"url(#pf478af78c5)\" d=\"M 322.074935 224.64 \nL 322.489057 224.64 \nL 322.489057 224.64 \nL 322.074935 224.64 \nz\n\" style=\"fill:#ff7f0e;\"/>\n   </g>\n   <g id=\"patch_23\">\n    <path clip-path=\"url(#pf478af78c5)\" d=\"M 42.971344 224.64 \nL 43.385466 224.64 \nL 43.385466 17.554286 \nL 42.971344 17.554286 \nz\n\" style=\"fill:#2ca02c;\"/>\n   </g>\n   <g id=\"patch_24\">\n    <path clip-path=\"url(#pf478af78c5)\" d=\"M 74.02885 224.64 \nL 74.442972 224.64 \nL 74.442972 224.64 \nL 74.02885 224.64 \nz\n\" style=\"fill:#2ca02c;\"/>\n   </g>\n   <g id=\"patch_25\">\n    <path clip-path=\"url(#pf478af78c5)\" d=\"M 105.086356 224.64 \nL 105.500477 224.64 \nL 105.500477 224.64 \nL 105.086356 224.64 \nz\n\" style=\"fill:#2ca02c;\"/>\n   </g>\n   <g id=\"patch_26\">\n    <path clip-path=\"url(#pf478af78c5)\" d=\"M 136.143862 224.64 \nL 136.557983 224.64 \nL 136.557983 224.64 \nL 136.143862 224.64 \nz\n\" style=\"fill:#2ca02c;\"/>\n   </g>\n   <g id=\"patch_27\">\n    <path clip-path=\"url(#pf478af78c5)\" d=\"M 167.201367 224.64 \nL 167.615489 224.64 \nL 167.615489 224.64 \nL 167.201367 224.64 \nz\n\" style=\"fill:#2ca02c;\"/>\n   </g>\n   <g id=\"patch_28\">\n    <path clip-path=\"url(#pf478af78c5)\" d=\"M 198.258953 224.64 \nL 198.673075 224.64 \nL 198.673075 224.64 \nL 198.258953 224.64 \nz\n\" style=\"fill:#2ca02c;\"/>\n   </g>\n   <g id=\"patch_29\">\n    <path clip-path=\"url(#pf478af78c5)\" d=\"M 229.316459 224.64 \nL 229.730581 224.64 \nL 229.730581 224.64 \nL 229.316459 224.64 \nz\n\" style=\"fill:#2ca02c;\"/>\n   </g>\n   <g id=\"patch_30\">\n    <path clip-path=\"url(#pf478af78c5)\" d=\"M 260.373965 224.64 \nL 260.788086 224.64 \nL 260.788086 224.64 \nL 260.373965 224.64 \nz\n\" style=\"fill:#2ca02c;\"/>\n   </g>\n   <g id=\"patch_31\">\n    <path clip-path=\"url(#pf478af78c5)\" d=\"M 291.431471 224.64 \nL 291.845592 224.64 \nL 291.845592 224.64 \nL 291.431471 224.64 \nz\n\" style=\"fill:#2ca02c;\"/>\n   </g>\n   <g id=\"patch_32\">\n    <path clip-path=\"url(#pf478af78c5)\" d=\"M 322.488976 224.64 \nL 322.903098 224.64 \nL 322.903098 224.64 \nL 322.488976 224.64 \nz\n\" style=\"fill:#2ca02c;\"/>\n   </g>\n   <g id=\"patch_33\">\n    <path clip-path=\"url(#pf478af78c5)\" d=\"M 43.385466 224.64 \nL 43.799587 224.64 \nL 43.799587 34.811429 \nL 43.385466 34.811429 \nz\n\" style=\"fill:#d62728;\"/>\n   </g>\n   <g id=\"patch_34\">\n    <path clip-path=\"url(#pf478af78c5)\" d=\"M 74.442972 224.64 \nL 74.857093 224.64 \nL 74.857093 207.382857 \nL 74.442972 207.382857 \nz\n\" style=\"fill:#d62728;\"/>\n   </g>\n   <g id=\"patch_35\">\n    <path clip-path=\"url(#pf478af78c5)\" d=\"M 105.500477 224.64 \nL 105.914599 224.64 \nL 105.914599 224.64 \nL 105.500477 224.64 \nz\n\" style=\"fill:#d62728;\"/>\n   </g>\n   <g id=\"patch_36\">\n    <path clip-path=\"url(#pf478af78c5)\" d=\"M 136.557983 224.64 \nL 136.972105 224.64 \nL 136.972105 224.64 \nL 136.557983 224.64 \nz\n\" style=\"fill:#d62728;\"/>\n   </g>\n   <g id=\"patch_37\">\n    <path clip-path=\"url(#pf478af78c5)\" d=\"M 167.615489 224.64 \nL 168.02961 224.64 \nL 168.02961 224.64 \nL 167.615489 224.64 \nz\n\" style=\"fill:#d62728;\"/>\n   </g>\n   <g id=\"patch_38\">\n    <path clip-path=\"url(#pf478af78c5)\" d=\"M 198.673075 224.64 \nL 199.087196 224.64 \nL 199.087196 224.64 \nL 198.673075 224.64 \nz\n\" style=\"fill:#d62728;\"/>\n   </g>\n   <g id=\"patch_39\">\n    <path clip-path=\"url(#pf478af78c5)\" d=\"M 229.730581 224.64 \nL 230.144702 224.64 \nL 230.144702 224.64 \nL 229.730581 224.64 \nz\n\" style=\"fill:#d62728;\"/>\n   </g>\n   <g id=\"patch_40\">\n    <path clip-path=\"url(#pf478af78c5)\" d=\"M 260.788086 224.64 \nL 261.202208 224.64 \nL 261.202208 224.64 \nL 260.788086 224.64 \nz\n\" style=\"fill:#d62728;\"/>\n   </g>\n   <g id=\"patch_41\">\n    <path clip-path=\"url(#pf478af78c5)\" d=\"M 291.845592 224.64 \nL 292.259714 224.64 \nL 292.259714 224.64 \nL 291.845592 224.64 \nz\n\" style=\"fill:#d62728;\"/>\n   </g>\n   <g id=\"patch_42\">\n    <path clip-path=\"url(#pf478af78c5)\" d=\"M 322.903098 224.64 \nL 323.317219 224.64 \nL 323.317219 224.64 \nL 322.903098 224.64 \nz\n\" style=\"fill:#d62728;\"/>\n   </g>\n   <g id=\"patch_43\">\n    <path clip-path=\"url(#pf478af78c5)\" d=\"M 43.799587 224.64 \nL 44.213709 224.64 \nL 44.213709 31.36 \nL 43.799587 31.36 \nz\n\" style=\"fill:#9467bd;\"/>\n   </g>\n   <g id=\"patch_44\">\n    <path clip-path=\"url(#pf478af78c5)\" d=\"M 74.857093 224.64 \nL 75.271215 224.64 \nL 75.271215 210.834286 \nL 74.857093 210.834286 \nz\n\" style=\"fill:#9467bd;\"/>\n   </g>\n   <g id=\"patch_45\">\n    <path clip-path=\"url(#pf478af78c5)\" d=\"M 105.914599 224.64 \nL 106.32872 224.64 \nL 106.32872 224.64 \nL 105.914599 224.64 \nz\n\" style=\"fill:#9467bd;\"/>\n   </g>\n   <g id=\"patch_46\">\n    <path clip-path=\"url(#pf478af78c5)\" d=\"M 136.972105 224.64 \nL 137.386226 224.64 \nL 137.386226 224.64 \nL 136.972105 224.64 \nz\n\" style=\"fill:#9467bd;\"/>\n   </g>\n   <g id=\"patch_47\">\n    <path clip-path=\"url(#pf478af78c5)\" d=\"M 168.02961 224.64 \nL 168.443732 224.64 \nL 168.443732 224.64 \nL 168.02961 224.64 \nz\n\" style=\"fill:#9467bd;\"/>\n   </g>\n   <g id=\"patch_48\">\n    <path clip-path=\"url(#pf478af78c5)\" d=\"M 199.087196 224.64 \nL 199.501318 224.64 \nL 199.501318 224.64 \nL 199.087196 224.64 \nz\n\" style=\"fill:#9467bd;\"/>\n   </g>\n   <g id=\"patch_49\">\n    <path clip-path=\"url(#pf478af78c5)\" d=\"M 230.144702 224.64 \nL 230.558824 224.64 \nL 230.558824 224.64 \nL 230.144702 224.64 \nz\n\" style=\"fill:#9467bd;\"/>\n   </g>\n   <g id=\"patch_50\">\n    <path clip-path=\"url(#pf478af78c5)\" d=\"M 261.202208 224.64 \nL 261.616329 224.64 \nL 261.616329 224.64 \nL 261.202208 224.64 \nz\n\" style=\"fill:#9467bd;\"/>\n   </g>\n   <g id=\"patch_51\">\n    <path clip-path=\"url(#pf478af78c5)\" d=\"M 292.259714 224.64 \nL 292.673835 224.64 \nL 292.673835 224.64 \nL 292.259714 224.64 \nz\n\" style=\"fill:#9467bd;\"/>\n   </g>\n   <g id=\"patch_52\">\n    <path clip-path=\"url(#pf478af78c5)\" d=\"M 323.317219 224.64 \nL 323.731341 224.64 \nL 323.731341 224.64 \nL 323.317219 224.64 \nz\n\" style=\"fill:#9467bd;\"/>\n   </g>\n   <g id=\"patch_53\">\n    <path clip-path=\"url(#pf478af78c5)\" d=\"M 44.213709 224.64 \nL 44.627831 224.64 \nL 44.627831 34.811429 \nL 44.213709 34.811429 \nz\n\" style=\"fill:#8c564b;\"/>\n   </g>\n   <g id=\"patch_54\">\n    <path clip-path=\"url(#pf478af78c5)\" d=\"M 75.271215 224.64 \nL 75.685336 224.64 \nL 75.685336 207.382857 \nL 75.271215 207.382857 \nz\n\" style=\"fill:#8c564b;\"/>\n   </g>\n   <g id=\"patch_55\">\n    <path clip-path=\"url(#pf478af78c5)\" d=\"M 106.32872 224.64 \nL 106.742842 224.64 \nL 106.742842 224.64 \nL 106.32872 224.64 \nz\n\" style=\"fill:#8c564b;\"/>\n   </g>\n   <g id=\"patch_56\">\n    <path clip-path=\"url(#pf478af78c5)\" d=\"M 137.386226 224.64 \nL 137.800348 224.64 \nL 137.800348 224.64 \nL 137.386226 224.64 \nz\n\" style=\"fill:#8c564b;\"/>\n   </g>\n   <g id=\"patch_57\">\n    <path clip-path=\"url(#pf478af78c5)\" d=\"M 168.443732 224.64 \nL 168.857853 224.64 \nL 168.857853 224.64 \nL 168.443732 224.64 \nz\n\" style=\"fill:#8c564b;\"/>\n   </g>\n   <g id=\"patch_58\">\n    <path clip-path=\"url(#pf478af78c5)\" d=\"M 199.501318 224.64 \nL 199.915439 224.64 \nL 199.915439 224.64 \nL 199.501318 224.64 \nz\n\" style=\"fill:#8c564b;\"/>\n   </g>\n   <g id=\"patch_59\">\n    <path clip-path=\"url(#pf478af78c5)\" d=\"M 230.558824 224.64 \nL 230.972945 224.64 \nL 230.972945 224.64 \nL 230.558824 224.64 \nz\n\" style=\"fill:#8c564b;\"/>\n   </g>\n   <g id=\"patch_60\">\n    <path clip-path=\"url(#pf478af78c5)\" d=\"M 261.616329 224.64 \nL 262.030451 224.64 \nL 262.030451 224.64 \nL 261.616329 224.64 \nz\n\" style=\"fill:#8c564b;\"/>\n   </g>\n   <g id=\"patch_61\">\n    <path clip-path=\"url(#pf478af78c5)\" d=\"M 292.673835 224.64 \nL 293.087957 224.64 \nL 293.087957 224.64 \nL 292.673835 224.64 \nz\n\" style=\"fill:#8c564b;\"/>\n   </g>\n   <g id=\"patch_62\">\n    <path clip-path=\"url(#pf478af78c5)\" d=\"M 323.731341 224.64 \nL 324.145462 224.64 \nL 324.145462 224.64 \nL 323.731341 224.64 \nz\n\" style=\"fill:#8c564b;\"/>\n   </g>\n   <g id=\"patch_63\">\n    <path clip-path=\"url(#pf478af78c5)\" d=\"M 44.62775 224.64 \nL 45.041872 224.64 \nL 45.041872 34.811429 \nL 44.62775 34.811429 \nz\n\" style=\"fill:#e377c2;\"/>\n   </g>\n   <g id=\"patch_64\">\n    <path clip-path=\"url(#pf478af78c5)\" d=\"M 75.685256 224.64 \nL 76.099377 224.64 \nL 76.099377 207.382857 \nL 75.685256 207.382857 \nz\n\" style=\"fill:#e377c2;\"/>\n   </g>\n   <g id=\"patch_65\">\n    <path clip-path=\"url(#pf478af78c5)\" d=\"M 106.742762 224.64 \nL 107.156883 224.64 \nL 107.156883 224.64 \nL 106.742762 224.64 \nz\n\" style=\"fill:#e377c2;\"/>\n   </g>\n   <g id=\"patch_66\">\n    <path clip-path=\"url(#pf478af78c5)\" d=\"M 137.800267 224.64 \nL 138.214389 224.64 \nL 138.214389 224.64 \nL 137.800267 224.64 \nz\n\" style=\"fill:#e377c2;\"/>\n   </g>\n   <g id=\"patch_67\">\n    <path clip-path=\"url(#pf478af78c5)\" d=\"M 168.857773 224.64 \nL 169.271894 224.64 \nL 169.271894 224.64 \nL 168.857773 224.64 \nz\n\" style=\"fill:#e377c2;\"/>\n   </g>\n   <g id=\"patch_68\">\n    <path clip-path=\"url(#pf478af78c5)\" d=\"M 199.915359 224.64 \nL 200.329481 224.64 \nL 200.329481 224.64 \nL 199.915359 224.64 \nz\n\" style=\"fill:#e377c2;\"/>\n   </g>\n   <g id=\"patch_69\">\n    <path clip-path=\"url(#pf478af78c5)\" d=\"M 230.972865 224.64 \nL 231.386986 224.64 \nL 231.386986 224.64 \nL 230.972865 224.64 \nz\n\" style=\"fill:#e377c2;\"/>\n   </g>\n   <g id=\"patch_70\">\n    <path clip-path=\"url(#pf478af78c5)\" d=\"M 262.03037 224.64 \nL 262.444492 224.64 \nL 262.444492 224.64 \nL 262.03037 224.64 \nz\n\" style=\"fill:#e377c2;\"/>\n   </g>\n   <g id=\"patch_71\">\n    <path clip-path=\"url(#pf478af78c5)\" d=\"M 293.087876 224.64 \nL 293.501998 224.64 \nL 293.501998 224.64 \nL 293.087876 224.64 \nz\n\" style=\"fill:#e377c2;\"/>\n   </g>\n   <g id=\"patch_72\">\n    <path clip-path=\"url(#pf478af78c5)\" d=\"M 324.145382 224.64 \nL 324.559503 224.64 \nL 324.559503 224.64 \nL 324.145382 224.64 \nz\n\" style=\"fill:#e377c2;\"/>\n   </g>\n   <g id=\"patch_73\">\n    <path clip-path=\"url(#pf478af78c5)\" d=\"M 45.041872 224.64 \nL 45.455993 224.64 \nL 45.455993 24.457143 \nL 45.041872 24.457143 \nz\n\" style=\"fill:#7f7f7f;\"/>\n   </g>\n   <g id=\"patch_74\">\n    <path clip-path=\"url(#pf478af78c5)\" d=\"M 76.099377 224.64 \nL 76.513499 224.64 \nL 76.513499 217.737143 \nL 76.099377 217.737143 \nz\n\" style=\"fill:#7f7f7f;\"/>\n   </g>\n   <g id=\"patch_75\">\n    <path clip-path=\"url(#pf478af78c5)\" d=\"M 107.156883 224.64 \nL 107.571005 224.64 \nL 107.571005 224.64 \nL 107.156883 224.64 \nz\n\" style=\"fill:#7f7f7f;\"/>\n   </g>\n   <g id=\"patch_76\">\n    <path clip-path=\"url(#pf478af78c5)\" d=\"M 138.214389 224.64 \nL 138.62851 224.64 \nL 138.62851 224.64 \nL 138.214389 224.64 \nz\n\" style=\"fill:#7f7f7f;\"/>\n   </g>\n   <g id=\"patch_77\">\n    <path clip-path=\"url(#pf478af78c5)\" d=\"M 169.271894 224.64 \nL 169.686016 224.64 \nL 169.686016 224.64 \nL 169.271894 224.64 \nz\n\" style=\"fill:#7f7f7f;\"/>\n   </g>\n   <g id=\"patch_78\">\n    <path clip-path=\"url(#pf478af78c5)\" d=\"M 200.329481 224.64 \nL 200.743602 224.64 \nL 200.743602 224.64 \nL 200.329481 224.64 \nz\n\" style=\"fill:#7f7f7f;\"/>\n   </g>\n   <g id=\"patch_79\">\n    <path clip-path=\"url(#pf478af78c5)\" d=\"M 231.386986 224.64 \nL 231.801108 224.64 \nL 231.801108 224.64 \nL 231.386986 224.64 \nz\n\" style=\"fill:#7f7f7f;\"/>\n   </g>\n   <g id=\"patch_80\">\n    <path clip-path=\"url(#pf478af78c5)\" d=\"M 262.444492 224.64 \nL 262.858614 224.64 \nL 262.858614 224.64 \nL 262.444492 224.64 \nz\n\" style=\"fill:#7f7f7f;\"/>\n   </g>\n   <g id=\"patch_81\">\n    <path clip-path=\"url(#pf478af78c5)\" d=\"M 293.501998 224.64 \nL 293.916119 224.64 \nL 293.916119 224.64 \nL 293.501998 224.64 \nz\n\" style=\"fill:#7f7f7f;\"/>\n   </g>\n   <g id=\"patch_82\">\n    <path clip-path=\"url(#pf478af78c5)\" d=\"M 324.559503 224.64 \nL 324.973625 224.64 \nL 324.973625 224.64 \nL 324.559503 224.64 \nz\n\" style=\"fill:#7f7f7f;\"/>\n   </g>\n   <g id=\"patch_83\">\n    <path clip-path=\"url(#pf478af78c5)\" d=\"M 45.455993 224.64 \nL 45.870115 224.64 \nL 45.870115 34.811429 \nL 45.455993 34.811429 \nz\n\" style=\"fill:#bcbd22;\"/>\n   </g>\n   <g id=\"patch_84\">\n    <path clip-path=\"url(#pf478af78c5)\" d=\"M 76.513499 224.64 \nL 76.92762 224.64 \nL 76.92762 207.382857 \nL 76.513499 207.382857 \nz\n\" style=\"fill:#bcbd22;\"/>\n   </g>\n   <g id=\"patch_85\">\n    <path clip-path=\"url(#pf478af78c5)\" d=\"M 107.571005 224.64 \nL 107.985126 224.64 \nL 107.985126 224.64 \nL 107.571005 224.64 \nz\n\" style=\"fill:#bcbd22;\"/>\n   </g>\n   <g id=\"patch_86\">\n    <path clip-path=\"url(#pf478af78c5)\" d=\"M 138.62851 224.64 \nL 139.042632 224.64 \nL 139.042632 224.64 \nL 138.62851 224.64 \nz\n\" style=\"fill:#bcbd22;\"/>\n   </g>\n   <g id=\"patch_87\">\n    <path clip-path=\"url(#pf478af78c5)\" d=\"M 169.686016 224.64 \nL 170.100138 224.64 \nL 170.100138 224.64 \nL 169.686016 224.64 \nz\n\" style=\"fill:#bcbd22;\"/>\n   </g>\n   <g id=\"patch_88\">\n    <path clip-path=\"url(#pf478af78c5)\" d=\"M 200.743602 224.64 \nL 201.157724 224.64 \nL 201.157724 224.64 \nL 200.743602 224.64 \nz\n\" style=\"fill:#bcbd22;\"/>\n   </g>\n   <g id=\"patch_89\">\n    <path clip-path=\"url(#pf478af78c5)\" d=\"M 231.801108 224.64 \nL 232.215229 224.64 \nL 232.215229 224.64 \nL 231.801108 224.64 \nz\n\" style=\"fill:#bcbd22;\"/>\n   </g>\n   <g id=\"patch_90\">\n    <path clip-path=\"url(#pf478af78c5)\" d=\"M 262.858614 224.64 \nL 263.272735 224.64 \nL 263.272735 224.64 \nL 262.858614 224.64 \nz\n\" style=\"fill:#bcbd22;\"/>\n   </g>\n   <g id=\"patch_91\">\n    <path clip-path=\"url(#pf478af78c5)\" d=\"M 293.916119 224.64 \nL 294.330241 224.64 \nL 294.330241 224.64 \nL 293.916119 224.64 \nz\n\" style=\"fill:#bcbd22;\"/>\n   </g>\n   <g id=\"patch_92\">\n    <path clip-path=\"url(#pf478af78c5)\" d=\"M 324.973625 224.64 \nL 325.387746 224.64 \nL 325.387746 224.64 \nL 324.973625 224.64 \nz\n\" style=\"fill:#bcbd22;\"/>\n   </g>\n   <g id=\"patch_93\">\n    <path clip-path=\"url(#pf478af78c5)\" d=\"M 45.870034 224.64 \nL 46.284156 224.64 \nL 46.284156 27.908571 \nL 45.870034 27.908571 \nz\n\" style=\"fill:#17becf;\"/>\n   </g>\n   <g id=\"patch_94\">\n    <path clip-path=\"url(#pf478af78c5)\" d=\"M 76.92754 224.64 \nL 77.341661 224.64 \nL 77.341661 214.285714 \nL 76.92754 214.285714 \nz\n\" style=\"fill:#17becf;\"/>\n   </g>\n   <g id=\"patch_95\">\n    <path clip-path=\"url(#pf478af78c5)\" d=\"M 107.985046 224.64 \nL 108.399167 224.64 \nL 108.399167 224.64 \nL 107.985046 224.64 \nz\n\" style=\"fill:#17becf;\"/>\n   </g>\n   <g id=\"patch_96\">\n    <path clip-path=\"url(#pf478af78c5)\" d=\"M 139.042551 224.64 \nL 139.456673 224.64 \nL 139.456673 224.64 \nL 139.042551 224.64 \nz\n\" style=\"fill:#17becf;\"/>\n   </g>\n   <g id=\"patch_97\">\n    <path clip-path=\"url(#pf478af78c5)\" d=\"M 170.100138 224.64 \nL 170.514259 224.64 \nL 170.514259 224.64 \nL 170.100138 224.64 \nz\n\" style=\"fill:#17becf;\"/>\n   </g>\n   <g id=\"patch_98\">\n    <path clip-path=\"url(#pf478af78c5)\" d=\"M 201.157643 224.64 \nL 201.571765 224.64 \nL 201.571765 224.64 \nL 201.157643 224.64 \nz\n\" style=\"fill:#17becf;\"/>\n   </g>\n   <g id=\"patch_99\">\n    <path clip-path=\"url(#pf478af78c5)\" d=\"M 232.215149 224.64 \nL 232.62927 224.64 \nL 232.62927 224.64 \nL 232.215149 224.64 \nz\n\" style=\"fill:#17becf;\"/>\n   </g>\n   <g id=\"patch_100\">\n    <path clip-path=\"url(#pf478af78c5)\" d=\"M 263.272655 224.64 \nL 263.686776 224.64 \nL 263.686776 224.64 \nL 263.272655 224.64 \nz\n\" style=\"fill:#17becf;\"/>\n   </g>\n   <g id=\"patch_101\">\n    <path clip-path=\"url(#pf478af78c5)\" d=\"M 294.33016 224.64 \nL 294.744282 224.64 \nL 294.744282 224.64 \nL 294.33016 224.64 \nz\n\" style=\"fill:#17becf;\"/>\n   </g>\n   <g id=\"patch_102\">\n    <path clip-path=\"url(#pf478af78c5)\" d=\"M 325.387666 224.64 \nL 325.801788 224.64 \nL 325.801788 224.64 \nL 325.387666 224.64 \nz\n\" style=\"fill:#17becf;\"/>\n   </g>\n   <g id=\"patch_103\">\n    <path clip-path=\"url(#pf478af78c5)\" d=\"M 46.284156 224.64 \nL 46.698277 224.64 \nL 46.698277 31.36 \nL 46.284156 31.36 \nz\n\" style=\"fill:#1f77b4;\"/>\n   </g>\n   <g id=\"patch_104\">\n    <path clip-path=\"url(#pf478af78c5)\" d=\"M 77.341661 224.64 \nL 77.755783 224.64 \nL 77.755783 210.834286 \nL 77.341661 210.834286 \nz\n\" style=\"fill:#1f77b4;\"/>\n   </g>\n   <g id=\"patch_105\">\n    <path clip-path=\"url(#pf478af78c5)\" d=\"M 108.399167 224.64 \nL 108.813289 224.64 \nL 108.813289 224.64 \nL 108.399167 224.64 \nz\n\" style=\"fill:#1f77b4;\"/>\n   </g>\n   <g id=\"patch_106\">\n    <path clip-path=\"url(#pf478af78c5)\" d=\"M 139.456673 224.64 \nL 139.870794 224.64 \nL 139.870794 224.64 \nL 139.456673 224.64 \nz\n\" style=\"fill:#1f77b4;\"/>\n   </g>\n   <g id=\"patch_107\">\n    <path clip-path=\"url(#pf478af78c5)\" d=\"M 170.514179 224.64 \nL 170.9283 224.64 \nL 170.9283 224.64 \nL 170.514179 224.64 \nz\n\" style=\"fill:#1f77b4;\"/>\n   </g>\n   <g id=\"patch_108\">\n    <path clip-path=\"url(#pf478af78c5)\" d=\"M 201.571765 224.64 \nL 201.985886 224.64 \nL 201.985886 224.64 \nL 201.571765 224.64 \nz\n\" style=\"fill:#1f77b4;\"/>\n   </g>\n   <g id=\"patch_109\">\n    <path clip-path=\"url(#pf478af78c5)\" d=\"M 232.62927 224.64 \nL 233.043392 224.64 \nL 233.043392 224.64 \nL 232.62927 224.64 \nz\n\" style=\"fill:#1f77b4;\"/>\n   </g>\n   <g id=\"patch_110\">\n    <path clip-path=\"url(#pf478af78c5)\" d=\"M 263.686776 224.64 \nL 264.100898 224.64 \nL 264.100898 224.64 \nL 263.686776 224.64 \nz\n\" style=\"fill:#1f77b4;\"/>\n   </g>\n   <g id=\"patch_111\">\n    <path clip-path=\"url(#pf478af78c5)\" d=\"M 294.744282 224.64 \nL 295.158403 224.64 \nL 295.158403 224.64 \nL 294.744282 224.64 \nz\n\" style=\"fill:#1f77b4;\"/>\n   </g>\n   <g id=\"patch_112\">\n    <path clip-path=\"url(#pf478af78c5)\" d=\"M 325.801788 224.64 \nL 326.215909 224.64 \nL 326.215909 224.64 \nL 325.801788 224.64 \nz\n\" style=\"fill:#1f77b4;\"/>\n   </g>\n   <g id=\"patch_113\">\n    <path clip-path=\"url(#pf478af78c5)\" d=\"M 46.698277 224.64 \nL 47.112399 224.64 \nL 47.112399 41.714286 \nL 46.698277 41.714286 \nz\n\" style=\"fill:#ff7f0e;\"/>\n   </g>\n   <g id=\"patch_114\">\n    <path clip-path=\"url(#pf478af78c5)\" d=\"M 77.755783 224.64 \nL 78.169905 224.64 \nL 78.169905 200.48 \nL 77.755783 200.48 \nz\n\" style=\"fill:#ff7f0e;\"/>\n   </g>\n   <g id=\"patch_115\">\n    <path clip-path=\"url(#pf478af78c5)\" d=\"M 108.813289 224.64 \nL 109.22741 224.64 \nL 109.22741 224.64 \nL 108.813289 224.64 \nz\n\" style=\"fill:#ff7f0e;\"/>\n   </g>\n   <g id=\"patch_116\">\n    <path clip-path=\"url(#pf478af78c5)\" d=\"M 139.870794 224.64 \nL 140.284916 224.64 \nL 140.284916 224.64 \nL 139.870794 224.64 \nz\n\" style=\"fill:#ff7f0e;\"/>\n   </g>\n   <g id=\"patch_117\">\n    <path clip-path=\"url(#pf478af78c5)\" d=\"M 170.9283 224.64 \nL 171.342422 224.64 \nL 171.342422 224.64 \nL 170.9283 224.64 \nz\n\" style=\"fill:#ff7f0e;\"/>\n   </g>\n   <g id=\"patch_118\">\n    <path clip-path=\"url(#pf478af78c5)\" d=\"M 201.985886 224.64 \nL 202.400008 224.64 \nL 202.400008 224.64 \nL 201.985886 224.64 \nz\n\" style=\"fill:#ff7f0e;\"/>\n   </g>\n   <g id=\"patch_119\">\n    <path clip-path=\"url(#pf478af78c5)\" d=\"M 233.043392 224.64 \nL 233.457513 224.64 \nL 233.457513 224.64 \nL 233.043392 224.64 \nz\n\" style=\"fill:#ff7f0e;\"/>\n   </g>\n   <g id=\"patch_120\">\n    <path clip-path=\"url(#pf478af78c5)\" d=\"M 264.100898 224.64 \nL 264.515019 224.64 \nL 264.515019 224.64 \nL 264.100898 224.64 \nz\n\" style=\"fill:#ff7f0e;\"/>\n   </g>\n   <g id=\"patch_121\">\n    <path clip-path=\"url(#pf478af78c5)\" d=\"M 295.158403 224.64 \nL 295.572525 224.64 \nL 295.572525 224.64 \nL 295.158403 224.64 \nz\n\" style=\"fill:#ff7f0e;\"/>\n   </g>\n   <g id=\"patch_122\">\n    <path clip-path=\"url(#pf478af78c5)\" d=\"M 326.215909 224.64 \nL 326.630031 224.64 \nL 326.630031 224.64 \nL 326.215909 224.64 \nz\n\" style=\"fill:#ff7f0e;\"/>\n   </g>\n   <g id=\"patch_123\">\n    <path clip-path=\"url(#pf478af78c5)\" d=\"M 47.112399 224.64 \nL 47.52652 224.64 \nL 47.52652 41.714286 \nL 47.112399 41.714286 \nz\n\" style=\"fill:#2ca02c;\"/>\n   </g>\n   <g id=\"patch_124\">\n    <path clip-path=\"url(#pf478af78c5)\" d=\"M 78.169905 224.64 \nL 78.584026 224.64 \nL 78.584026 200.48 \nL 78.169905 200.48 \nz\n\" style=\"fill:#2ca02c;\"/>\n   </g>\n   <g id=\"patch_125\">\n    <path clip-path=\"url(#pf478af78c5)\" d=\"M 109.22741 224.64 \nL 109.641532 224.64 \nL 109.641532 224.64 \nL 109.22741 224.64 \nz\n\" style=\"fill:#2ca02c;\"/>\n   </g>\n   <g id=\"patch_126\">\n    <path clip-path=\"url(#pf478af78c5)\" d=\"M 140.284916 224.64 \nL 140.699037 224.64 \nL 140.699037 224.64 \nL 140.284916 224.64 \nz\n\" style=\"fill:#2ca02c;\"/>\n   </g>\n   <g id=\"patch_127\">\n    <path clip-path=\"url(#pf478af78c5)\" d=\"M 171.342422 224.64 \nL 171.756543 224.64 \nL 171.756543 224.64 \nL 171.342422 224.64 \nz\n\" style=\"fill:#2ca02c;\"/>\n   </g>\n   <g id=\"patch_128\">\n    <path clip-path=\"url(#pf478af78c5)\" d=\"M 202.400008 224.64 \nL 202.814129 224.64 \nL 202.814129 224.64 \nL 202.400008 224.64 \nz\n\" style=\"fill:#2ca02c;\"/>\n   </g>\n   <g id=\"patch_129\">\n    <path clip-path=\"url(#pf478af78c5)\" d=\"M 233.457513 224.64 \nL 233.871635 224.64 \nL 233.871635 224.64 \nL 233.457513 224.64 \nz\n\" style=\"fill:#2ca02c;\"/>\n   </g>\n   <g id=\"patch_130\">\n    <path clip-path=\"url(#pf478af78c5)\" d=\"M 264.515019 224.64 \nL 264.929141 224.64 \nL 264.929141 224.64 \nL 264.515019 224.64 \nz\n\" style=\"fill:#2ca02c;\"/>\n   </g>\n   <g id=\"patch_131\">\n    <path clip-path=\"url(#pf478af78c5)\" d=\"M 295.572525 224.64 \nL 295.986646 224.64 \nL 295.986646 224.64 \nL 295.572525 224.64 \nz\n\" style=\"fill:#2ca02c;\"/>\n   </g>\n   <g id=\"patch_132\">\n    <path clip-path=\"url(#pf478af78c5)\" d=\"M 326.630031 224.64 \nL 327.044152 224.64 \nL 327.044152 224.64 \nL 326.630031 224.64 \nz\n\" style=\"fill:#2ca02c;\"/>\n   </g>\n   <g id=\"patch_133\">\n    <path clip-path=\"url(#pf478af78c5)\" d=\"M 47.52644 224.64 \nL 47.940561 224.64 \nL 47.940561 45.165714 \nL 47.52644 45.165714 \nz\n\" style=\"fill:#d62728;\"/>\n   </g>\n   <g id=\"patch_134\">\n    <path clip-path=\"url(#pf478af78c5)\" d=\"M 78.583946 224.64 \nL 78.998067 224.64 \nL 78.998067 197.028571 \nL 78.583946 197.028571 \nz\n\" style=\"fill:#d62728;\"/>\n   </g>\n   <g id=\"patch_135\">\n    <path clip-path=\"url(#pf478af78c5)\" d=\"M 109.641451 224.64 \nL 110.055573 224.64 \nL 110.055573 224.64 \nL 109.641451 224.64 \nz\n\" style=\"fill:#d62728;\"/>\n   </g>\n   <g id=\"patch_136\">\n    <path clip-path=\"url(#pf478af78c5)\" d=\"M 140.698957 224.64 \nL 141.113079 224.64 \nL 141.113079 224.64 \nL 140.698957 224.64 \nz\n\" style=\"fill:#d62728;\"/>\n   </g>\n   <g id=\"patch_137\">\n    <path clip-path=\"url(#pf478af78c5)\" d=\"M 171.756543 224.64 \nL 172.170665 224.64 \nL 172.170665 224.64 \nL 171.756543 224.64 \nz\n\" style=\"fill:#d62728;\"/>\n   </g>\n   <g id=\"patch_138\">\n    <path clip-path=\"url(#pf478af78c5)\" d=\"M 202.814049 224.64 \nL 203.22817 224.64 \nL 203.22817 224.64 \nL 202.814049 224.64 \nz\n\" style=\"fill:#d62728;\"/>\n   </g>\n   <g id=\"patch_139\">\n    <path clip-path=\"url(#pf478af78c5)\" d=\"M 233.871555 224.64 \nL 234.285676 224.64 \nL 234.285676 224.64 \nL 233.871555 224.64 \nz\n\" style=\"fill:#d62728;\"/>\n   </g>\n   <g id=\"patch_140\">\n    <path clip-path=\"url(#pf478af78c5)\" d=\"M 264.92906 224.64 \nL 265.343182 224.64 \nL 265.343182 224.64 \nL 264.92906 224.64 \nz\n\" style=\"fill:#d62728;\"/>\n   </g>\n   <g id=\"patch_141\">\n    <path clip-path=\"url(#pf478af78c5)\" d=\"M 295.986566 224.64 \nL 296.400688 224.64 \nL 296.400688 224.64 \nL 295.986566 224.64 \nz\n\" style=\"fill:#d62728;\"/>\n   </g>\n   <g id=\"patch_142\">\n    <path clip-path=\"url(#pf478af78c5)\" d=\"M 327.044072 224.64 \nL 327.458193 224.64 \nL 327.458193 224.64 \nL 327.044072 224.64 \nz\n\" style=\"fill:#d62728;\"/>\n   </g>\n   <g id=\"patch_143\">\n    <path clip-path=\"url(#pf478af78c5)\" d=\"M 47.940561 224.64 \nL 48.354683 224.64 \nL 48.354683 34.811429 \nL 47.940561 34.811429 \nz\n\" style=\"fill:#9467bd;\"/>\n   </g>\n   <g id=\"patch_144\">\n    <path clip-path=\"url(#pf478af78c5)\" d=\"M 78.998067 224.64 \nL 79.412189 224.64 \nL 79.412189 207.382857 \nL 78.998067 207.382857 \nz\n\" style=\"fill:#9467bd;\"/>\n   </g>\n   <g id=\"patch_145\">\n    <path clip-path=\"url(#pf478af78c5)\" d=\"M 110.055573 224.64 \nL 110.469694 224.64 \nL 110.469694 224.64 \nL 110.055573 224.64 \nz\n\" style=\"fill:#9467bd;\"/>\n   </g>\n   <g id=\"patch_146\">\n    <path clip-path=\"url(#pf478af78c5)\" d=\"M 141.113079 224.64 \nL 141.5272 224.64 \nL 141.5272 224.64 \nL 141.113079 224.64 \nz\n\" style=\"fill:#9467bd;\"/>\n   </g>\n   <g id=\"patch_147\">\n    <path clip-path=\"url(#pf478af78c5)\" d=\"M 172.170584 224.64 \nL 172.584706 224.64 \nL 172.584706 224.64 \nL 172.170584 224.64 \nz\n\" style=\"fill:#9467bd;\"/>\n   </g>\n   <g id=\"patch_148\">\n    <path clip-path=\"url(#pf478af78c5)\" d=\"M 203.22817 224.64 \nL 203.642292 224.64 \nL 203.642292 224.64 \nL 203.22817 224.64 \nz\n\" style=\"fill:#9467bd;\"/>\n   </g>\n   <g id=\"patch_149\">\n    <path clip-path=\"url(#pf478af78c5)\" d=\"M 234.285676 224.64 \nL 234.699798 224.64 \nL 234.699798 224.64 \nL 234.285676 224.64 \nz\n\" style=\"fill:#9467bd;\"/>\n   </g>\n   <g id=\"patch_150\">\n    <path clip-path=\"url(#pf478af78c5)\" d=\"M 265.343182 224.64 \nL 265.757303 224.64 \nL 265.757303 224.64 \nL 265.343182 224.64 \nz\n\" style=\"fill:#9467bd;\"/>\n   </g>\n   <g id=\"patch_151\">\n    <path clip-path=\"url(#pf478af78c5)\" d=\"M 296.400688 224.64 \nL 296.814809 224.64 \nL 296.814809 224.64 \nL 296.400688 224.64 \nz\n\" style=\"fill:#9467bd;\"/>\n   </g>\n   <g id=\"patch_152\">\n    <path clip-path=\"url(#pf478af78c5)\" d=\"M 327.458193 224.64 \nL 327.872315 224.64 \nL 327.872315 224.64 \nL 327.458193 224.64 \nz\n\" style=\"fill:#9467bd;\"/>\n   </g>\n   <g id=\"patch_153\">\n    <path clip-path=\"url(#pf478af78c5)\" d=\"M 48.354683 224.64 \nL 48.768804 224.64 \nL 48.768804 27.908571 \nL 48.354683 27.908571 \nz\n\" style=\"fill:#8c564b;\"/>\n   </g>\n   <g id=\"patch_154\">\n    <path clip-path=\"url(#pf478af78c5)\" d=\"M 79.412189 224.64 \nL 79.82631 224.64 \nL 79.82631 214.285714 \nL 79.412189 214.285714 \nz\n\" style=\"fill:#8c564b;\"/>\n   </g>\n   <g id=\"patch_155\">\n    <path clip-path=\"url(#pf478af78c5)\" d=\"M 110.469694 224.64 \nL 110.883816 224.64 \nL 110.883816 224.64 \nL 110.469694 224.64 \nz\n\" style=\"fill:#8c564b;\"/>\n   </g>\n   <g id=\"patch_156\">\n    <path clip-path=\"url(#pf478af78c5)\" d=\"M 141.5272 224.64 \nL 141.941322 224.64 \nL 141.941322 224.64 \nL 141.5272 224.64 \nz\n\" style=\"fill:#8c564b;\"/>\n   </g>\n   <g id=\"patch_157\">\n    <path clip-path=\"url(#pf478af78c5)\" d=\"M 172.584706 224.64 \nL 172.998827 224.64 \nL 172.998827 224.64 \nL 172.584706 224.64 \nz\n\" style=\"fill:#8c564b;\"/>\n   </g>\n   <g id=\"patch_158\">\n    <path clip-path=\"url(#pf478af78c5)\" d=\"M 203.642292 224.64 \nL 204.056413 224.64 \nL 204.056413 224.64 \nL 203.642292 224.64 \nz\n\" style=\"fill:#8c564b;\"/>\n   </g>\n   <g id=\"patch_159\">\n    <path clip-path=\"url(#pf478af78c5)\" d=\"M 234.699798 224.64 \nL 235.113919 224.64 \nL 235.113919 224.64 \nL 234.699798 224.64 \nz\n\" style=\"fill:#8c564b;\"/>\n   </g>\n   <g id=\"patch_160\">\n    <path clip-path=\"url(#pf478af78c5)\" d=\"M 265.757303 224.64 \nL 266.171425 224.64 \nL 266.171425 224.64 \nL 265.757303 224.64 \nz\n\" style=\"fill:#8c564b;\"/>\n   </g>\n   <g id=\"patch_161\">\n    <path clip-path=\"url(#pf478af78c5)\" d=\"M 296.814809 224.64 \nL 297.228931 224.64 \nL 297.228931 224.64 \nL 296.814809 224.64 \nz\n\" style=\"fill:#8c564b;\"/>\n   </g>\n   <g id=\"patch_162\">\n    <path clip-path=\"url(#pf478af78c5)\" d=\"M 327.872315 224.64 \nL 328.286436 224.64 \nL 328.286436 224.64 \nL 327.872315 224.64 \nz\n\" style=\"fill:#8c564b;\"/>\n   </g>\n   <g id=\"patch_163\">\n    <path clip-path=\"url(#pf478af78c5)\" d=\"M 48.768804 224.64 \nL 49.182926 224.64 \nL 49.182926 34.811429 \nL 48.768804 34.811429 \nz\n\" style=\"fill:#e377c2;\"/>\n   </g>\n   <g id=\"patch_164\">\n    <path clip-path=\"url(#pf478af78c5)\" d=\"M 79.82631 224.64 \nL 80.240432 224.64 \nL 80.240432 207.382857 \nL 79.82631 207.382857 \nz\n\" style=\"fill:#e377c2;\"/>\n   </g>\n   <g id=\"patch_165\">\n    <path clip-path=\"url(#pf478af78c5)\" d=\"M 110.883816 224.64 \nL 111.297937 224.64 \nL 111.297937 224.64 \nL 110.883816 224.64 \nz\n\" style=\"fill:#e377c2;\"/>\n   </g>\n   <g id=\"patch_166\">\n    <path clip-path=\"url(#pf478af78c5)\" d=\"M 141.941322 224.64 \nL 142.355443 224.64 \nL 142.355443 224.64 \nL 141.941322 224.64 \nz\n\" style=\"fill:#e377c2;\"/>\n   </g>\n   <g id=\"patch_167\">\n    <path clip-path=\"url(#pf478af78c5)\" d=\"M 172.998827 224.64 \nL 173.412949 224.64 \nL 173.412949 224.64 \nL 172.998827 224.64 \nz\n\" style=\"fill:#e377c2;\"/>\n   </g>\n   <g id=\"patch_168\">\n    <path clip-path=\"url(#pf478af78c5)\" d=\"M 204.056413 224.64 \nL 204.470535 224.64 \nL 204.470535 224.64 \nL 204.056413 224.64 \nz\n\" style=\"fill:#e377c2;\"/>\n   </g>\n   <g id=\"patch_169\">\n    <path clip-path=\"url(#pf478af78c5)\" d=\"M 235.113919 224.64 \nL 235.528041 224.64 \nL 235.528041 224.64 \nL 235.113919 224.64 \nz\n\" style=\"fill:#e377c2;\"/>\n   </g>\n   <g id=\"patch_170\">\n    <path clip-path=\"url(#pf478af78c5)\" d=\"M 266.171425 224.64 \nL 266.585546 224.64 \nL 266.585546 224.64 \nL 266.171425 224.64 \nz\n\" style=\"fill:#e377c2;\"/>\n   </g>\n   <g id=\"patch_171\">\n    <path clip-path=\"url(#pf478af78c5)\" d=\"M 297.228931 224.64 \nL 297.643052 224.64 \nL 297.643052 224.64 \nL 297.228931 224.64 \nz\n\" style=\"fill:#e377c2;\"/>\n   </g>\n   <g id=\"patch_172\">\n    <path clip-path=\"url(#pf478af78c5)\" d=\"M 328.286436 224.64 \nL 328.700558 224.64 \nL 328.700558 224.64 \nL 328.286436 224.64 \nz\n\" style=\"fill:#e377c2;\"/>\n   </g>\n   <g id=\"patch_173\">\n    <path clip-path=\"url(#pf478af78c5)\" d=\"M 49.182846 224.64 \nL 49.596967 224.64 \nL 49.596967 48.617143 \nL 49.182846 48.617143 \nz\n\" style=\"fill:#7f7f7f;\"/>\n   </g>\n   <g id=\"patch_174\">\n    <path clip-path=\"url(#pf478af78c5)\" d=\"M 80.240351 224.64 \nL 80.654473 224.64 \nL 80.654473 193.577143 \nL 80.240351 193.577143 \nz\n\" style=\"fill:#7f7f7f;\"/>\n   </g>\n   <g id=\"patch_175\">\n    <path clip-path=\"url(#pf478af78c5)\" d=\"M 111.297857 224.64 \nL 111.711979 224.64 \nL 111.711979 224.64 \nL 111.297857 224.64 \nz\n\" style=\"fill:#7f7f7f;\"/>\n   </g>\n   <g id=\"patch_176\">\n    <path clip-path=\"url(#pf478af78c5)\" d=\"M 142.355363 224.64 \nL 142.769484 224.64 \nL 142.769484 224.64 \nL 142.355363 224.64 \nz\n\" style=\"fill:#7f7f7f;\"/>\n   </g>\n   <g id=\"patch_177\">\n    <path clip-path=\"url(#pf478af78c5)\" d=\"M 173.412949 224.64 \nL 173.82707 224.64 \nL 173.82707 224.64 \nL 173.412949 224.64 \nz\n\" style=\"fill:#7f7f7f;\"/>\n   </g>\n   <g id=\"patch_178\">\n    <path clip-path=\"url(#pf478af78c5)\" d=\"M 204.470455 224.64 \nL 204.884576 224.64 \nL 204.884576 224.64 \nL 204.470455 224.64 \nz\n\" style=\"fill:#7f7f7f;\"/>\n   </g>\n   <g id=\"patch_179\">\n    <path clip-path=\"url(#pf478af78c5)\" d=\"M 235.52796 224.64 \nL 235.942082 224.64 \nL 235.942082 224.64 \nL 235.52796 224.64 \nz\n\" style=\"fill:#7f7f7f;\"/>\n   </g>\n   <g id=\"patch_180\">\n    <path clip-path=\"url(#pf478af78c5)\" d=\"M 266.585466 224.64 \nL 266.999587 224.64 \nL 266.999587 224.64 \nL 266.585466 224.64 \nz\n\" style=\"fill:#7f7f7f;\"/>\n   </g>\n   <g id=\"patch_181\">\n    <path clip-path=\"url(#pf478af78c5)\" d=\"M 297.642972 224.64 \nL 298.057093 224.64 \nL 298.057093 224.64 \nL 297.642972 224.64 \nz\n\" style=\"fill:#7f7f7f;\"/>\n   </g>\n   <g id=\"patch_182\">\n    <path clip-path=\"url(#pf478af78c5)\" d=\"M 328.700477 224.64 \nL 329.114599 224.64 \nL 329.114599 224.64 \nL 328.700477 224.64 \nz\n\" style=\"fill:#7f7f7f;\"/>\n   </g>\n   <g id=\"patch_183\">\n    <path clip-path=\"url(#pf478af78c5)\" d=\"M 49.596967 224.64 \nL 50.011089 224.64 \nL 50.011089 65.874286 \nL 49.596967 65.874286 \nz\n\" style=\"fill:#bcbd22;\"/>\n   </g>\n   <g id=\"patch_184\">\n    <path clip-path=\"url(#pf478af78c5)\" d=\"M 80.654473 224.64 \nL 81.068594 224.64 \nL 81.068594 176.32 \nL 80.654473 176.32 \nz\n\" style=\"fill:#bcbd22;\"/>\n   </g>\n   <g id=\"patch_185\">\n    <path clip-path=\"url(#pf478af78c5)\" d=\"M 111.711979 224.64 \nL 112.1261 224.64 \nL 112.1261 224.64 \nL 111.711979 224.64 \nz\n\" style=\"fill:#bcbd22;\"/>\n   </g>\n   <g id=\"patch_186\">\n    <path clip-path=\"url(#pf478af78c5)\" d=\"M 142.769484 224.64 \nL 143.183606 224.64 \nL 143.183606 224.64 \nL 142.769484 224.64 \nz\n\" style=\"fill:#bcbd22;\"/>\n   </g>\n   <g id=\"patch_187\">\n    <path clip-path=\"url(#pf478af78c5)\" d=\"M 173.82699 224.64 \nL 174.241111 224.64 \nL 174.241111 224.64 \nL 173.82699 224.64 \nz\n\" style=\"fill:#bcbd22;\"/>\n   </g>\n   <g id=\"patch_188\">\n    <path clip-path=\"url(#pf478af78c5)\" d=\"M 204.884576 224.64 \nL 205.298698 224.64 \nL 205.298698 224.64 \nL 204.884576 224.64 \nz\n\" style=\"fill:#bcbd22;\"/>\n   </g>\n   <g id=\"patch_189\">\n    <path clip-path=\"url(#pf478af78c5)\" d=\"M 235.942082 224.64 \nL 236.356203 224.64 \nL 236.356203 224.64 \nL 235.942082 224.64 \nz\n\" style=\"fill:#bcbd22;\"/>\n   </g>\n   <g id=\"patch_190\">\n    <path clip-path=\"url(#pf478af78c5)\" d=\"M 266.999587 224.64 \nL 267.413709 224.64 \nL 267.413709 224.64 \nL 266.999587 224.64 \nz\n\" style=\"fill:#bcbd22;\"/>\n   </g>\n   <g id=\"patch_191\">\n    <path clip-path=\"url(#pf478af78c5)\" d=\"M 298.057093 224.64 \nL 298.471215 224.64 \nL 298.471215 224.64 \nL 298.057093 224.64 \nz\n\" style=\"fill:#bcbd22;\"/>\n   </g>\n   <g id=\"patch_192\">\n    <path clip-path=\"url(#pf478af78c5)\" d=\"M 329.114599 224.64 \nL 329.52872 224.64 \nL 329.52872 224.64 \nL 329.114599 224.64 \nz\n\" style=\"fill:#bcbd22;\"/>\n   </g>\n   <g id=\"patch_193\">\n    <path clip-path=\"url(#pf478af78c5)\" d=\"M 50.011089 224.64 \nL 50.42521 224.64 \nL 50.42521 55.52 \nL 50.011089 55.52 \nz\n\" style=\"fill:#17becf;\"/>\n   </g>\n   <g id=\"patch_194\">\n    <path clip-path=\"url(#pf478af78c5)\" d=\"M 81.068594 224.64 \nL 81.482716 224.64 \nL 81.482716 186.674286 \nL 81.068594 186.674286 \nz\n\" style=\"fill:#17becf;\"/>\n   </g>\n   <g id=\"patch_195\">\n    <path clip-path=\"url(#pf478af78c5)\" d=\"M 112.1261 224.64 \nL 112.540222 224.64 \nL 112.540222 224.64 \nL 112.1261 224.64 \nz\n\" style=\"fill:#17becf;\"/>\n   </g>\n   <g id=\"patch_196\">\n    <path clip-path=\"url(#pf478af78c5)\" d=\"M 143.183606 224.64 \nL 143.597727 224.64 \nL 143.597727 224.64 \nL 143.183606 224.64 \nz\n\" style=\"fill:#17becf;\"/>\n   </g>\n   <g id=\"patch_197\">\n    <path clip-path=\"url(#pf478af78c5)\" d=\"M 174.241111 224.64 \nL 174.655233 224.64 \nL 174.655233 224.64 \nL 174.241111 224.64 \nz\n\" style=\"fill:#17becf;\"/>\n   </g>\n   <g id=\"patch_198\">\n    <path clip-path=\"url(#pf478af78c5)\" d=\"M 205.298698 224.64 \nL 205.712819 224.64 \nL 205.712819 224.64 \nL 205.298698 224.64 \nz\n\" style=\"fill:#17becf;\"/>\n   </g>\n   <g id=\"patch_199\">\n    <path clip-path=\"url(#pf478af78c5)\" d=\"M 236.356203 224.64 \nL 236.770325 224.64 \nL 236.770325 224.64 \nL 236.356203 224.64 \nz\n\" style=\"fill:#17becf;\"/>\n   </g>\n   <g id=\"patch_200\">\n    <path clip-path=\"url(#pf478af78c5)\" d=\"M 267.413709 224.64 \nL 267.827831 224.64 \nL 267.827831 224.64 \nL 267.413709 224.64 \nz\n\" style=\"fill:#17becf;\"/>\n   </g>\n   <g id=\"patch_201\">\n    <path clip-path=\"url(#pf478af78c5)\" d=\"M 298.471215 224.64 \nL 298.885336 224.64 \nL 298.885336 224.64 \nL 298.471215 224.64 \nz\n\" style=\"fill:#17becf;\"/>\n   </g>\n   <g id=\"patch_202\">\n    <path clip-path=\"url(#pf478af78c5)\" d=\"M 329.52872 224.64 \nL 329.942842 224.64 \nL 329.942842 224.64 \nL 329.52872 224.64 \nz\n\" style=\"fill:#17becf;\"/>\n   </g>\n   <g id=\"patch_203\">\n    <path clip-path=\"url(#pf478af78c5)\" d=\"M 50.42521 224.64 \nL 50.839332 224.64 \nL 50.839332 69.325714 \nL 50.42521 69.325714 \nz\n\" style=\"fill:#1f77b4;\"/>\n   </g>\n   <g id=\"patch_204\">\n    <path clip-path=\"url(#pf478af78c5)\" d=\"M 81.482716 224.64 \nL 81.896837 224.64 \nL 81.896837 172.868571 \nL 81.482716 172.868571 \nz\n\" style=\"fill:#1f77b4;\"/>\n   </g>\n   <g id=\"patch_205\">\n    <path clip-path=\"url(#pf478af78c5)\" d=\"M 112.540222 224.64 \nL 112.954343 224.64 \nL 112.954343 224.64 \nL 112.540222 224.64 \nz\n\" style=\"fill:#1f77b4;\"/>\n   </g>\n   <g id=\"patch_206\">\n    <path clip-path=\"url(#pf478af78c5)\" d=\"M 143.597727 224.64 \nL 144.011849 224.64 \nL 144.011849 224.64 \nL 143.597727 224.64 \nz\n\" style=\"fill:#1f77b4;\"/>\n   </g>\n   <g id=\"patch_207\">\n    <path clip-path=\"url(#pf478af78c5)\" d=\"M 174.655233 224.64 \nL 175.069355 224.64 \nL 175.069355 224.64 \nL 174.655233 224.64 \nz\n\" style=\"fill:#1f77b4;\"/>\n   </g>\n   <g id=\"patch_208\">\n    <path clip-path=\"url(#pf478af78c5)\" d=\"M 205.712819 224.64 \nL 206.126941 224.64 \nL 206.126941 224.64 \nL 205.712819 224.64 \nz\n\" style=\"fill:#1f77b4;\"/>\n   </g>\n   <g id=\"patch_209\">\n    <path clip-path=\"url(#pf478af78c5)\" d=\"M 236.770325 224.64 \nL 237.184446 224.64 \nL 237.184446 224.64 \nL 236.770325 224.64 \nz\n\" style=\"fill:#1f77b4;\"/>\n   </g>\n   <g id=\"patch_210\">\n    <path clip-path=\"url(#pf478af78c5)\" d=\"M 267.827831 224.64 \nL 268.241952 224.64 \nL 268.241952 224.64 \nL 267.827831 224.64 \nz\n\" style=\"fill:#1f77b4;\"/>\n   </g>\n   <g id=\"patch_211\">\n    <path clip-path=\"url(#pf478af78c5)\" d=\"M 298.885336 224.64 \nL 299.299458 224.64 \nL 299.299458 224.64 \nL 298.885336 224.64 \nz\n\" style=\"fill:#1f77b4;\"/>\n   </g>\n   <g id=\"patch_212\">\n    <path clip-path=\"url(#pf478af78c5)\" d=\"M 329.942842 224.64 \nL 330.356963 224.64 \nL 330.356963 224.64 \nL 329.942842 224.64 \nz\n\" style=\"fill:#1f77b4;\"/>\n   </g>\n   <g id=\"patch_213\">\n    <path clip-path=\"url(#pf478af78c5)\" d=\"M 50.839251 224.64 \nL 51.253373 224.64 \nL 51.253373 72.777143 \nL 50.839251 72.777143 \nz\n\" style=\"fill:#ff7f0e;\"/>\n   </g>\n   <g id=\"patch_214\">\n    <path clip-path=\"url(#pf478af78c5)\" d=\"M 81.896757 224.64 \nL 82.310878 224.64 \nL 82.310878 169.417143 \nL 81.896757 169.417143 \nz\n\" style=\"fill:#ff7f0e;\"/>\n   </g>\n   <g id=\"patch_215\">\n    <path clip-path=\"url(#pf478af78c5)\" d=\"M 112.954263 224.64 \nL 113.368384 224.64 \nL 113.368384 224.64 \nL 112.954263 224.64 \nz\n\" style=\"fill:#ff7f0e;\"/>\n   </g>\n   <g id=\"patch_216\">\n    <path clip-path=\"url(#pf478af78c5)\" d=\"M 144.011768 224.64 \nL 144.42589 224.64 \nL 144.42589 224.64 \nL 144.011768 224.64 \nz\n\" style=\"fill:#ff7f0e;\"/>\n   </g>\n   <g id=\"patch_217\">\n    <path clip-path=\"url(#pf478af78c5)\" d=\"M 175.069355 224.64 \nL 175.483476 224.64 \nL 175.483476 224.64 \nL 175.069355 224.64 \nz\n\" style=\"fill:#ff7f0e;\"/>\n   </g>\n   <g id=\"patch_218\">\n    <path clip-path=\"url(#pf478af78c5)\" d=\"M 206.12686 224.64 \nL 206.540982 224.64 \nL 206.540982 224.64 \nL 206.12686 224.64 \nz\n\" style=\"fill:#ff7f0e;\"/>\n   </g>\n   <g id=\"patch_219\">\n    <path clip-path=\"url(#pf478af78c5)\" d=\"M 237.184366 224.64 \nL 237.598487 224.64 \nL 237.598487 224.64 \nL 237.184366 224.64 \nz\n\" style=\"fill:#ff7f0e;\"/>\n   </g>\n   <g id=\"patch_220\">\n    <path clip-path=\"url(#pf478af78c5)\" d=\"M 268.241872 224.64 \nL 268.655993 224.64 \nL 268.655993 224.64 \nL 268.241872 224.64 \nz\n\" style=\"fill:#ff7f0e;\"/>\n   </g>\n   <g id=\"patch_221\">\n    <path clip-path=\"url(#pf478af78c5)\" d=\"M 299.299377 224.64 \nL 299.713499 224.64 \nL 299.713499 224.64 \nL 299.299377 224.64 \nz\n\" style=\"fill:#ff7f0e;\"/>\n   </g>\n   <g id=\"patch_222\">\n    <path clip-path=\"url(#pf478af78c5)\" d=\"M 330.356883 224.64 \nL 330.771005 224.64 \nL 330.771005 224.64 \nL 330.356883 224.64 \nz\n\" style=\"fill:#ff7f0e;\"/>\n   </g>\n   <g id=\"patch_223\">\n    <path clip-path=\"url(#pf478af78c5)\" d=\"M 51.253373 224.64 \nL 51.667494 224.64 \nL 51.667494 90.034286 \nL 51.253373 90.034286 \nz\n\" style=\"fill:#2ca02c;\"/>\n   </g>\n   <g id=\"patch_224\">\n    <path clip-path=\"url(#pf478af78c5)\" d=\"M 82.310878 224.64 \nL 82.725 224.64 \nL 82.725 152.16 \nL 82.310878 152.16 \nz\n\" style=\"fill:#2ca02c;\"/>\n   </g>\n   <g id=\"patch_225\">\n    <path clip-path=\"url(#pf478af78c5)\" d=\"M 113.368384 224.64 \nL 113.782506 224.64 \nL 113.782506 224.64 \nL 113.368384 224.64 \nz\n\" style=\"fill:#2ca02c;\"/>\n   </g>\n   <g id=\"patch_226\">\n    <path clip-path=\"url(#pf478af78c5)\" d=\"M 144.42589 224.64 \nL 144.840011 224.64 \nL 144.840011 224.64 \nL 144.42589 224.64 \nz\n\" style=\"fill:#2ca02c;\"/>\n   </g>\n   <g id=\"patch_227\">\n    <path clip-path=\"url(#pf478af78c5)\" d=\"M 175.483396 224.64 \nL 175.897517 224.64 \nL 175.897517 224.64 \nL 175.483396 224.64 \nz\n\" style=\"fill:#2ca02c;\"/>\n   </g>\n   <g id=\"patch_228\">\n    <path clip-path=\"url(#pf478af78c5)\" d=\"M 206.540982 224.64 \nL 206.955103 224.64 \nL 206.955103 224.64 \nL 206.540982 224.64 \nz\n\" style=\"fill:#2ca02c;\"/>\n   </g>\n   <g id=\"patch_229\">\n    <path clip-path=\"url(#pf478af78c5)\" d=\"M 237.598487 224.64 \nL 238.012609 224.64 \nL 238.012609 224.64 \nL 237.598487 224.64 \nz\n\" style=\"fill:#2ca02c;\"/>\n   </g>\n   <g id=\"patch_230\">\n    <path clip-path=\"url(#pf478af78c5)\" d=\"M 268.655993 224.64 \nL 269.070115 224.64 \nL 269.070115 224.64 \nL 268.655993 224.64 \nz\n\" style=\"fill:#2ca02c;\"/>\n   </g>\n   <g id=\"patch_231\">\n    <path clip-path=\"url(#pf478af78c5)\" d=\"M 299.713499 224.64 \nL 300.12762 224.64 \nL 300.12762 224.64 \nL 299.713499 224.64 \nz\n\" style=\"fill:#2ca02c;\"/>\n   </g>\n   <g id=\"patch_232\">\n    <path clip-path=\"url(#pf478af78c5)\" d=\"M 330.771005 224.64 \nL 331.185126 224.64 \nL 331.185126 224.64 \nL 330.771005 224.64 \nz\n\" style=\"fill:#2ca02c;\"/>\n   </g>\n   <g id=\"patch_233\">\n    <path clip-path=\"url(#pf478af78c5)\" d=\"M 51.667494 224.64 \nL 52.081616 224.64 \nL 52.081616 110.742857 \nL 51.667494 110.742857 \nz\n\" style=\"fill:#d62728;\"/>\n   </g>\n   <g id=\"patch_234\">\n    <path clip-path=\"url(#pf478af78c5)\" d=\"M 82.725 224.64 \nL 83.139122 224.64 \nL 83.139122 131.451429 \nL 82.725 131.451429 \nz\n\" style=\"fill:#d62728;\"/>\n   </g>\n   <g id=\"patch_235\">\n    <path clip-path=\"url(#pf478af78c5)\" d=\"M 113.782506 224.64 \nL 114.196627 224.64 \nL 114.196627 224.64 \nL 113.782506 224.64 \nz\n\" style=\"fill:#d62728;\"/>\n   </g>\n   <g id=\"patch_236\">\n    <path clip-path=\"url(#pf478af78c5)\" d=\"M 144.840011 224.64 \nL 145.254133 224.64 \nL 145.254133 224.64 \nL 144.840011 224.64 \nz\n\" style=\"fill:#d62728;\"/>\n   </g>\n   <g id=\"patch_237\">\n    <path clip-path=\"url(#pf478af78c5)\" d=\"M 175.897517 224.64 \nL 176.311639 224.64 \nL 176.311639 224.64 \nL 175.897517 224.64 \nz\n\" style=\"fill:#d62728;\"/>\n   </g>\n   <g id=\"patch_238\">\n    <path clip-path=\"url(#pf478af78c5)\" d=\"M 206.955103 224.64 \nL 207.369225 224.64 \nL 207.369225 224.64 \nL 206.955103 224.64 \nz\n\" style=\"fill:#d62728;\"/>\n   </g>\n   <g id=\"patch_239\">\n    <path clip-path=\"url(#pf478af78c5)\" d=\"M 238.012609 224.64 \nL 238.42673 224.64 \nL 238.42673 224.64 \nL 238.012609 224.64 \nz\n\" style=\"fill:#d62728;\"/>\n   </g>\n   <g id=\"patch_240\">\n    <path clip-path=\"url(#pf478af78c5)\" d=\"M 269.070115 224.64 \nL 269.484236 224.64 \nL 269.484236 224.64 \nL 269.070115 224.64 \nz\n\" style=\"fill:#d62728;\"/>\n   </g>\n   <g id=\"patch_241\">\n    <path clip-path=\"url(#pf478af78c5)\" d=\"M 300.12762 224.64 \nL 300.541742 224.64 \nL 300.541742 224.64 \nL 300.12762 224.64 \nz\n\" style=\"fill:#d62728;\"/>\n   </g>\n   <g id=\"patch_242\">\n    <path clip-path=\"url(#pf478af78c5)\" d=\"M 331.185126 224.64 \nL 331.599248 224.64 \nL 331.599248 224.64 \nL 331.185126 224.64 \nz\n\" style=\"fill:#d62728;\"/>\n   </g>\n   <g id=\"patch_243\">\n    <path clip-path=\"url(#pf478af78c5)\" d=\"M 52.081535 224.64 \nL 52.495657 224.64 \nL 52.495657 100.388571 \nL 52.081535 100.388571 \nz\n\" style=\"fill:#9467bd;\"/>\n   </g>\n   <g id=\"patch_244\">\n    <path clip-path=\"url(#pf478af78c5)\" d=\"M 83.139041 224.64 \nL 83.553163 224.64 \nL 83.553163 145.257143 \nL 83.139041 145.257143 \nz\n\" style=\"fill:#9467bd;\"/>\n   </g>\n   <g id=\"patch_245\">\n    <path clip-path=\"url(#pf478af78c5)\" d=\"M 114.196547 224.64 \nL 114.610668 224.64 \nL 114.610668 221.188571 \nL 114.196547 221.188571 \nz\n\" style=\"fill:#9467bd;\"/>\n   </g>\n   <g id=\"patch_246\">\n    <path clip-path=\"url(#pf478af78c5)\" d=\"M 145.254053 224.64 \nL 145.668174 224.64 \nL 145.668174 224.64 \nL 145.254053 224.64 \nz\n\" style=\"fill:#9467bd;\"/>\n   </g>\n   <g id=\"patch_247\">\n    <path clip-path=\"url(#pf478af78c5)\" d=\"M 176.311639 224.64 \nL 176.72576 224.64 \nL 176.72576 224.64 \nL 176.311639 224.64 \nz\n\" style=\"fill:#9467bd;\"/>\n   </g>\n   <g id=\"patch_248\">\n    <path clip-path=\"url(#pf478af78c5)\" d=\"M 207.369144 224.64 \nL 207.783266 224.64 \nL 207.783266 224.64 \nL 207.369144 224.64 \nz\n\" style=\"fill:#9467bd;\"/>\n   </g>\n   <g id=\"patch_249\">\n    <path clip-path=\"url(#pf478af78c5)\" d=\"M 238.42665 224.64 \nL 238.840772 224.64 \nL 238.840772 224.64 \nL 238.42665 224.64 \nz\n\" style=\"fill:#9467bd;\"/>\n   </g>\n   <g id=\"patch_250\">\n    <path clip-path=\"url(#pf478af78c5)\" d=\"M 269.484156 224.64 \nL 269.898277 224.64 \nL 269.898277 224.64 \nL 269.484156 224.64 \nz\n\" style=\"fill:#9467bd;\"/>\n   </g>\n   <g id=\"patch_251\">\n    <path clip-path=\"url(#pf478af78c5)\" d=\"M 300.541661 224.64 \nL 300.955783 224.64 \nL 300.955783 224.64 \nL 300.541661 224.64 \nz\n\" style=\"fill:#9467bd;\"/>\n   </g>\n   <g id=\"patch_252\">\n    <path clip-path=\"url(#pf478af78c5)\" d=\"M 331.599167 224.64 \nL 332.013289 224.64 \nL 332.013289 224.64 \nL 331.599167 224.64 \nz\n\" style=\"fill:#9467bd;\"/>\n   </g>\n   <g id=\"patch_253\">\n    <path clip-path=\"url(#pf478af78c5)\" d=\"M 52.495657 224.64 \nL 52.909778 224.64 \nL 52.909778 103.84 \nL 52.495657 103.84 \nz\n\" style=\"fill:#8c564b;\"/>\n   </g>\n   <g id=\"patch_254\">\n    <path clip-path=\"url(#pf478af78c5)\" d=\"M 83.553163 224.64 \nL 83.967284 224.64 \nL 83.967284 138.354286 \nL 83.553163 138.354286 \nz\n\" style=\"fill:#8c564b;\"/>\n   </g>\n   <g id=\"patch_255\">\n    <path clip-path=\"url(#pf478af78c5)\" d=\"M 114.610668 224.64 \nL 115.02479 224.64 \nL 115.02479 224.64 \nL 114.610668 224.64 \nz\n\" style=\"fill:#8c564b;\"/>\n   </g>\n   <g id=\"patch_256\">\n    <path clip-path=\"url(#pf478af78c5)\" d=\"M 145.668174 224.64 \nL 146.082296 224.64 \nL 146.082296 224.64 \nL 145.668174 224.64 \nz\n\" style=\"fill:#8c564b;\"/>\n   </g>\n   <g id=\"patch_257\">\n    <path clip-path=\"url(#pf478af78c5)\" d=\"M 176.72576 224.64 \nL 177.139882 224.64 \nL 177.139882 224.64 \nL 176.72576 224.64 \nz\n\" style=\"fill:#8c564b;\"/>\n   </g>\n   <g id=\"patch_258\">\n    <path clip-path=\"url(#pf478af78c5)\" d=\"M 207.783266 224.64 \nL 208.197387 224.64 \nL 208.197387 224.64 \nL 207.783266 224.64 \nz\n\" style=\"fill:#8c564b;\"/>\n   </g>\n   <g id=\"patch_259\">\n    <path clip-path=\"url(#pf478af78c5)\" d=\"M 238.840772 224.64 \nL 239.254893 224.64 \nL 239.254893 224.64 \nL 238.840772 224.64 \nz\n\" style=\"fill:#8c564b;\"/>\n   </g>\n   <g id=\"patch_260\">\n    <path clip-path=\"url(#pf478af78c5)\" d=\"M 269.898277 224.64 \nL 270.312399 224.64 \nL 270.312399 224.64 \nL 269.898277 224.64 \nz\n\" style=\"fill:#8c564b;\"/>\n   </g>\n   <g id=\"patch_261\">\n    <path clip-path=\"url(#pf478af78c5)\" d=\"M 300.955783 224.64 \nL 301.369905 224.64 \nL 301.369905 224.64 \nL 300.955783 224.64 \nz\n\" style=\"fill:#8c564b;\"/>\n   </g>\n   <g id=\"patch_262\">\n    <path clip-path=\"url(#pf478af78c5)\" d=\"M 332.013289 224.64 \nL 332.42741 224.64 \nL 332.42741 224.64 \nL 332.013289 224.64 \nz\n\" style=\"fill:#8c564b;\"/>\n   </g>\n   <g id=\"patch_263\">\n    <path clip-path=\"url(#pf478af78c5)\" d=\"M 52.909778 224.64 \nL 53.3239 224.64 \nL 53.3239 103.84 \nL 52.909778 103.84 \nz\n\" style=\"fill:#e377c2;\"/>\n   </g>\n   <g id=\"patch_264\">\n    <path clip-path=\"url(#pf478af78c5)\" d=\"M 83.967284 224.64 \nL 84.381406 224.64 \nL 84.381406 148.708571 \nL 83.967284 148.708571 \nz\n\" style=\"fill:#e377c2;\"/>\n   </g>\n   <g id=\"patch_265\">\n    <path clip-path=\"url(#pf478af78c5)\" d=\"M 115.02479 224.64 \nL 115.438911 224.64 \nL 115.438911 214.285714 \nL 115.02479 214.285714 \nz\n\" style=\"fill:#e377c2;\"/>\n   </g>\n   <g id=\"patch_266\">\n    <path clip-path=\"url(#pf478af78c5)\" d=\"M 146.082296 224.64 \nL 146.496417 224.64 \nL 146.496417 224.64 \nL 146.082296 224.64 \nz\n\" style=\"fill:#e377c2;\"/>\n   </g>\n   <g id=\"patch_267\">\n    <path clip-path=\"url(#pf478af78c5)\" d=\"M 177.139801 224.64 \nL 177.553923 224.64 \nL 177.553923 224.64 \nL 177.139801 224.64 \nz\n\" style=\"fill:#e377c2;\"/>\n   </g>\n   <g id=\"patch_268\">\n    <path clip-path=\"url(#pf478af78c5)\" d=\"M 208.197387 224.64 \nL 208.611509 224.64 \nL 208.611509 224.64 \nL 208.197387 224.64 \nz\n\" style=\"fill:#e377c2;\"/>\n   </g>\n   <g id=\"patch_269\">\n    <path clip-path=\"url(#pf478af78c5)\" d=\"M 239.254893 224.64 \nL 239.669015 224.64 \nL 239.669015 224.64 \nL 239.254893 224.64 \nz\n\" style=\"fill:#e377c2;\"/>\n   </g>\n   <g id=\"patch_270\">\n    <path clip-path=\"url(#pf478af78c5)\" d=\"M 270.312399 224.64 \nL 270.72652 224.64 \nL 270.72652 224.64 \nL 270.312399 224.64 \nz\n\" style=\"fill:#e377c2;\"/>\n   </g>\n   <g id=\"patch_271\">\n    <path clip-path=\"url(#pf478af78c5)\" d=\"M 301.369905 224.64 \nL 301.784026 224.64 \nL 301.784026 224.64 \nL 301.369905 224.64 \nz\n\" style=\"fill:#e377c2;\"/>\n   </g>\n   <g id=\"patch_272\">\n    <path clip-path=\"url(#pf478af78c5)\" d=\"M 332.42741 224.64 \nL 332.841532 224.64 \nL 332.841532 224.64 \nL 332.42741 224.64 \nz\n\" style=\"fill:#e377c2;\"/>\n   </g>\n   <g id=\"patch_273\">\n    <path clip-path=\"url(#pf478af78c5)\" d=\"M 53.3239 224.64 \nL 53.738021 224.64 \nL 53.738021 107.291429 \nL 53.3239 107.291429 \nz\n\" style=\"fill:#7f7f7f;\"/>\n   </g>\n   <g id=\"patch_274\">\n    <path clip-path=\"url(#pf478af78c5)\" d=\"M 84.381406 224.64 \nL 84.795527 224.64 \nL 84.795527 162.514286 \nL 84.381406 162.514286 \nz\n\" style=\"fill:#7f7f7f;\"/>\n   </g>\n   <g id=\"patch_275\">\n    <path clip-path=\"url(#pf478af78c5)\" d=\"M 115.438911 224.64 \nL 115.853033 224.64 \nL 115.853033 197.028571 \nL 115.438911 197.028571 \nz\n\" style=\"fill:#7f7f7f;\"/>\n   </g>\n   <g id=\"patch_276\">\n    <path clip-path=\"url(#pf478af78c5)\" d=\"M 146.496417 224.64 \nL 146.910539 224.64 \nL 146.910539 224.64 \nL 146.496417 224.64 \nz\n\" style=\"fill:#7f7f7f;\"/>\n   </g>\n   <g id=\"patch_277\">\n    <path clip-path=\"url(#pf478af78c5)\" d=\"M 177.553923 224.64 \nL 177.968044 224.64 \nL 177.968044 224.64 \nL 177.553923 224.64 \nz\n\" style=\"fill:#7f7f7f;\"/>\n   </g>\n   <g id=\"patch_278\">\n    <path clip-path=\"url(#pf478af78c5)\" d=\"M 208.611509 224.64 \nL 209.02563 224.64 \nL 209.02563 224.64 \nL 208.611509 224.64 \nz\n\" style=\"fill:#7f7f7f;\"/>\n   </g>\n   <g id=\"patch_279\">\n    <path clip-path=\"url(#pf478af78c5)\" d=\"M 239.669015 224.64 \nL 240.083136 224.64 \nL 240.083136 224.64 \nL 239.669015 224.64 \nz\n\" style=\"fill:#7f7f7f;\"/>\n   </g>\n   <g id=\"patch_280\">\n    <path clip-path=\"url(#pf478af78c5)\" d=\"M 270.72652 224.64 \nL 271.140642 224.64 \nL 271.140642 224.64 \nL 270.72652 224.64 \nz\n\" style=\"fill:#7f7f7f;\"/>\n   </g>\n   <g id=\"patch_281\">\n    <path clip-path=\"url(#pf478af78c5)\" d=\"M 301.784026 224.64 \nL 302.198148 224.64 \nL 302.198148 224.64 \nL 301.784026 224.64 \nz\n\" style=\"fill:#7f7f7f;\"/>\n   </g>\n   <g id=\"patch_282\">\n    <path clip-path=\"url(#pf478af78c5)\" d=\"M 332.841532 224.64 \nL 333.255653 224.64 \nL 333.255653 224.64 \nL 332.841532 224.64 \nz\n\" style=\"fill:#7f7f7f;\"/>\n   </g>\n   <g id=\"patch_283\">\n    <path clip-path=\"url(#pf478af78c5)\" d=\"M 53.737941 224.64 \nL 54.152063 224.64 \nL 54.152063 117.645714 \nL 53.737941 117.645714 \nz\n\" style=\"fill:#bcbd22;\"/>\n   </g>\n   <g id=\"patch_284\">\n    <path clip-path=\"url(#pf478af78c5)\" d=\"M 84.795447 224.64 \nL 85.209568 224.64 \nL 85.209568 155.611429 \nL 84.795447 155.611429 \nz\n\" style=\"fill:#bcbd22;\"/>\n   </g>\n   <g id=\"patch_285\">\n    <path clip-path=\"url(#pf478af78c5)\" d=\"M 115.852952 224.64 \nL 116.267074 224.64 \nL 116.267074 200.48 \nL 115.852952 200.48 \nz\n\" style=\"fill:#bcbd22;\"/>\n   </g>\n   <g id=\"patch_286\">\n    <path clip-path=\"url(#pf478af78c5)\" d=\"M 146.910458 224.64 \nL 147.32458 224.64 \nL 147.32458 217.737143 \nL 146.910458 217.737143 \nz\n\" style=\"fill:#bcbd22;\"/>\n   </g>\n   <g id=\"patch_287\">\n    <path clip-path=\"url(#pf478af78c5)\" d=\"M 177.968044 224.64 \nL 178.382166 224.64 \nL 178.382166 224.64 \nL 177.968044 224.64 \nz\n\" style=\"fill:#bcbd22;\"/>\n   </g>\n   <g id=\"patch_288\">\n    <path clip-path=\"url(#pf478af78c5)\" d=\"M 209.02555 224.64 \nL 209.439672 224.64 \nL 209.439672 224.64 \nL 209.02555 224.64 \nz\n\" style=\"fill:#bcbd22;\"/>\n   </g>\n   <g id=\"patch_289\">\n    <path clip-path=\"url(#pf478af78c5)\" d=\"M 240.083056 224.64 \nL 240.497177 224.64 \nL 240.497177 224.64 \nL 240.083056 224.64 \nz\n\" style=\"fill:#bcbd22;\"/>\n   </g>\n   <g id=\"patch_290\">\n    <path clip-path=\"url(#pf478af78c5)\" d=\"M 271.140561 224.64 \nL 271.554683 224.64 \nL 271.554683 224.64 \nL 271.140561 224.64 \nz\n\" style=\"fill:#bcbd22;\"/>\n   </g>\n   <g id=\"patch_291\">\n    <path clip-path=\"url(#pf478af78c5)\" d=\"M 302.198067 224.64 \nL 302.612189 224.64 \nL 302.612189 224.64 \nL 302.198067 224.64 \nz\n\" style=\"fill:#bcbd22;\"/>\n   </g>\n   <g id=\"patch_292\">\n    <path clip-path=\"url(#pf478af78c5)\" d=\"M 333.255573 224.64 \nL 333.669694 224.64 \nL 333.669694 224.64 \nL 333.255573 224.64 \nz\n\" style=\"fill:#bcbd22;\"/>\n   </g>\n   <g id=\"patch_293\">\n    <path clip-path=\"url(#pf478af78c5)\" d=\"M 54.152063 224.64 \nL 54.566184 224.64 \nL 54.566184 121.097143 \nL 54.152063 121.097143 \nz\n\" style=\"fill:#17becf;\"/>\n   </g>\n   <g id=\"patch_294\">\n    <path clip-path=\"url(#pf478af78c5)\" d=\"M 85.209568 224.64 \nL 85.62369 224.64 \nL 85.62369 159.062857 \nL 85.209568 159.062857 \nz\n\" style=\"fill:#17becf;\"/>\n   </g>\n   <g id=\"patch_295\">\n    <path clip-path=\"url(#pf478af78c5)\" d=\"M 116.267074 224.64 \nL 116.681196 224.64 \nL 116.681196 207.382857 \nL 116.267074 207.382857 \nz\n\" style=\"fill:#17becf;\"/>\n   </g>\n   <g id=\"patch_296\">\n    <path clip-path=\"url(#pf478af78c5)\" d=\"M 147.32458 224.64 \nL 147.738701 224.64 \nL 147.738701 217.737143 \nL 147.32458 217.737143 \nz\n\" style=\"fill:#17becf;\"/>\n   </g>\n   <g id=\"patch_297\">\n    <path clip-path=\"url(#pf478af78c5)\" d=\"M 178.382166 224.64 \nL 178.796287 224.64 \nL 178.796287 217.737143 \nL 178.382166 217.737143 \nz\n\" style=\"fill:#17becf;\"/>\n   </g>\n   <g id=\"patch_298\">\n    <path clip-path=\"url(#pf478af78c5)\" d=\"M 209.439672 224.64 \nL 209.853793 224.64 \nL 209.853793 217.737143 \nL 209.439672 217.737143 \nz\n\" style=\"fill:#17becf;\"/>\n   </g>\n   <g id=\"patch_299\">\n    <path clip-path=\"url(#pf478af78c5)\" d=\"M 240.497177 224.64 \nL 240.911299 224.64 \nL 240.911299 224.64 \nL 240.497177 224.64 \nz\n\" style=\"fill:#17becf;\"/>\n   </g>\n   <g id=\"patch_300\">\n    <path clip-path=\"url(#pf478af78c5)\" d=\"M 271.554683 224.64 \nL 271.968804 224.64 \nL 271.968804 224.64 \nL 271.554683 224.64 \nz\n\" style=\"fill:#17becf;\"/>\n   </g>\n   <g id=\"patch_301\">\n    <path clip-path=\"url(#pf478af78c5)\" d=\"M 302.612189 224.64 \nL 303.02631 224.64 \nL 303.02631 224.64 \nL 302.612189 224.64 \nz\n\" style=\"fill:#17becf;\"/>\n   </g>\n   <g id=\"patch_302\">\n    <path clip-path=\"url(#pf478af78c5)\" d=\"M 333.669694 224.64 \nL 334.083816 224.64 \nL 334.083816 224.64 \nL 333.669694 224.64 \nz\n\" style=\"fill:#17becf;\"/>\n   </g>\n   <g id=\"patch_303\">\n    <path clip-path=\"url(#pf478af78c5)\" d=\"M 54.566184 224.64 \nL 54.980306 224.64 \nL 54.980306 114.194286 \nL 54.566184 114.194286 \nz\n\" style=\"fill:#1f77b4;\"/>\n   </g>\n   <g id=\"patch_304\">\n    <path clip-path=\"url(#pf478af78c5)\" d=\"M 85.62369 224.64 \nL 86.037811 224.64 \nL 86.037811 172.868571 \nL 85.62369 172.868571 \nz\n\" style=\"fill:#1f77b4;\"/>\n   </g>\n   <g id=\"patch_305\">\n    <path clip-path=\"url(#pf478af78c5)\" d=\"M 116.681196 224.64 \nL 117.095317 224.64 \nL 117.095317 207.382857 \nL 116.681196 207.382857 \nz\n\" style=\"fill:#1f77b4;\"/>\n   </g>\n   <g id=\"patch_306\">\n    <path clip-path=\"url(#pf478af78c5)\" d=\"M 147.738701 224.64 \nL 148.152823 224.64 \nL 148.152823 217.737143 \nL 147.738701 217.737143 \nz\n\" style=\"fill:#1f77b4;\"/>\n   </g>\n   <g id=\"patch_307\">\n    <path clip-path=\"url(#pf478af78c5)\" d=\"M 178.796207 224.64 \nL 179.210328 224.64 \nL 179.210328 217.737143 \nL 178.796207 217.737143 \nz\n\" style=\"fill:#1f77b4;\"/>\n   </g>\n   <g id=\"patch_308\">\n    <path clip-path=\"url(#pf478af78c5)\" d=\"M 209.853793 224.64 \nL 210.267915 224.64 \nL 210.267915 224.64 \nL 209.853793 224.64 \nz\n\" style=\"fill:#1f77b4;\"/>\n   </g>\n   <g id=\"patch_309\">\n    <path clip-path=\"url(#pf478af78c5)\" d=\"M 240.911299 224.64 \nL 241.32542 224.64 \nL 241.32542 217.737143 \nL 240.911299 217.737143 \nz\n\" style=\"fill:#1f77b4;\"/>\n   </g>\n   <g id=\"patch_310\">\n    <path clip-path=\"url(#pf478af78c5)\" d=\"M 271.968804 224.64 \nL 272.382926 224.64 \nL 272.382926 224.64 \nL 271.968804 224.64 \nz\n\" style=\"fill:#1f77b4;\"/>\n   </g>\n   <g id=\"patch_311\">\n    <path clip-path=\"url(#pf478af78c5)\" d=\"M 303.02631 224.64 \nL 303.440432 224.64 \nL 303.440432 217.737143 \nL 303.02631 217.737143 \nz\n\" style=\"fill:#1f77b4;\"/>\n   </g>\n   <g id=\"patch_312\">\n    <path clip-path=\"url(#pf478af78c5)\" d=\"M 334.083816 224.64 \nL 334.497937 224.64 \nL 334.497937 224.64 \nL 334.083816 224.64 \nz\n\" style=\"fill:#1f77b4;\"/>\n   </g>\n   <g id=\"patch_313\">\n    <path clip-path=\"url(#pf478af78c5)\" d=\"M 54.980306 224.64 \nL 55.394427 224.64 \nL 55.394427 110.742857 \nL 54.980306 110.742857 \nz\n\" style=\"fill:#ff7f0e;\"/>\n   </g>\n   <g id=\"patch_314\">\n    <path clip-path=\"url(#pf478af78c5)\" d=\"M 86.037811 224.64 \nL 86.451933 224.64 \nL 86.451933 172.868571 \nL 86.037811 172.868571 \nz\n\" style=\"fill:#ff7f0e;\"/>\n   </g>\n   <g id=\"patch_315\">\n    <path clip-path=\"url(#pf478af78c5)\" d=\"M 117.095317 224.64 \nL 117.509439 224.64 \nL 117.509439 210.834286 \nL 117.095317 210.834286 \nz\n\" style=\"fill:#ff7f0e;\"/>\n   </g>\n   <g id=\"patch_316\">\n    <path clip-path=\"url(#pf478af78c5)\" d=\"M 148.152823 224.64 \nL 148.566944 224.64 \nL 148.566944 221.188571 \nL 148.152823 221.188571 \nz\n\" style=\"fill:#ff7f0e;\"/>\n   </g>\n   <g id=\"patch_317\">\n    <path clip-path=\"url(#pf478af78c5)\" d=\"M 179.210328 224.64 \nL 179.62445 224.64 \nL 179.62445 214.285714 \nL 179.210328 214.285714 \nz\n\" style=\"fill:#ff7f0e;\"/>\n   </g>\n   <g id=\"patch_318\">\n    <path clip-path=\"url(#pf478af78c5)\" d=\"M 210.267915 224.64 \nL 210.682036 224.64 \nL 210.682036 224.64 \nL 210.267915 224.64 \nz\n\" style=\"fill:#ff7f0e;\"/>\n   </g>\n   <g id=\"patch_319\">\n    <path clip-path=\"url(#pf478af78c5)\" d=\"M 241.32542 224.64 \nL 241.739542 224.64 \nL 241.739542 221.188571 \nL 241.32542 221.188571 \nz\n\" style=\"fill:#ff7f0e;\"/>\n   </g>\n   <g id=\"patch_320\">\n    <path clip-path=\"url(#pf478af78c5)\" d=\"M 272.382926 224.64 \nL 272.797048 224.64 \nL 272.797048 221.188571 \nL 272.382926 221.188571 \nz\n\" style=\"fill:#ff7f0e;\"/>\n   </g>\n   <g id=\"patch_321\">\n    <path clip-path=\"url(#pf478af78c5)\" d=\"M 303.440432 224.64 \nL 303.854553 224.64 \nL 303.854553 224.64 \nL 303.440432 224.64 \nz\n\" style=\"fill:#ff7f0e;\"/>\n   </g>\n   <g id=\"patch_322\">\n    <path clip-path=\"url(#pf478af78c5)\" d=\"M 334.497937 224.64 \nL 334.912059 224.64 \nL 334.912059 217.737143 \nL 334.497937 217.737143 \nz\n\" style=\"fill:#ff7f0e;\"/>\n   </g>\n   <g id=\"patch_323\">\n    <path clip-path=\"url(#pf478af78c5)\" d=\"M 55.394347 224.64 \nL 55.808468 224.64 \nL 55.808468 114.194286 \nL 55.394347 114.194286 \nz\n\" style=\"fill:#2ca02c;\"/>\n   </g>\n   <g id=\"patch_324\">\n    <path clip-path=\"url(#pf478af78c5)\" d=\"M 86.451852 224.64 \nL 86.865974 224.64 \nL 86.865974 162.514286 \nL 86.451852 162.514286 \nz\n\" style=\"fill:#2ca02c;\"/>\n   </g>\n   <g id=\"patch_325\">\n    <path clip-path=\"url(#pf478af78c5)\" d=\"M 117.509358 224.64 \nL 117.92348 224.64 \nL 117.92348 217.737143 \nL 117.509358 217.737143 \nz\n\" style=\"fill:#2ca02c;\"/>\n   </g>\n   <g id=\"patch_326\">\n    <path clip-path=\"url(#pf478af78c5)\" d=\"M 148.566864 224.64 \nL 148.980985 224.64 \nL 148.980985 217.737143 \nL 148.566864 217.737143 \nz\n\" style=\"fill:#2ca02c;\"/>\n   </g>\n   <g id=\"patch_327\">\n    <path clip-path=\"url(#pf478af78c5)\" d=\"M 179.62445 224.64 \nL 180.038571 224.64 \nL 180.038571 217.737143 \nL 179.62445 217.737143 \nz\n\" style=\"fill:#2ca02c;\"/>\n   </g>\n   <g id=\"patch_328\">\n    <path clip-path=\"url(#pf478af78c5)\" d=\"M 210.681956 224.64 \nL 211.096077 224.64 \nL 211.096077 224.64 \nL 210.681956 224.64 \nz\n\" style=\"fill:#2ca02c;\"/>\n   </g>\n   <g id=\"patch_329\">\n    <path clip-path=\"url(#pf478af78c5)\" d=\"M 241.739461 224.64 \nL 242.153583 224.64 \nL 242.153583 217.737143 \nL 241.739461 217.737143 \nz\n\" style=\"fill:#2ca02c;\"/>\n   </g>\n   <g id=\"patch_330\">\n    <path clip-path=\"url(#pf478af78c5)\" d=\"M 272.796967 224.64 \nL 273.211089 224.64 \nL 273.211089 224.64 \nL 272.796967 224.64 \nz\n\" style=\"fill:#2ca02c;\"/>\n   </g>\n   <g id=\"patch_331\">\n    <path clip-path=\"url(#pf478af78c5)\" d=\"M 303.854473 224.64 \nL 304.268594 224.64 \nL 304.268594 217.737143 \nL 303.854473 217.737143 \nz\n\" style=\"fill:#2ca02c;\"/>\n   </g>\n   <g id=\"patch_332\">\n    <path clip-path=\"url(#pf478af78c5)\" d=\"M 334.911979 224.64 \nL 335.3261 224.64 \nL 335.3261 224.64 \nL 334.911979 224.64 \nz\n\" style=\"fill:#2ca02c;\"/>\n   </g>\n   <g id=\"patch_333\">\n    <path clip-path=\"url(#pf478af78c5)\" d=\"M 55.808468 224.64 \nL 56.22259 224.64 \nL 56.22259 124.548571 \nL 55.808468 124.548571 \nz\n\" style=\"fill:#d62728;\"/>\n   </g>\n   <g id=\"patch_334\">\n    <path clip-path=\"url(#pf478af78c5)\" d=\"M 86.865974 224.64 \nL 87.280095 224.64 \nL 87.280095 148.708571 \nL 86.865974 148.708571 \nz\n\" style=\"fill:#d62728;\"/>\n   </g>\n   <g id=\"patch_335\">\n    <path clip-path=\"url(#pf478af78c5)\" d=\"M 117.92348 224.64 \nL 118.337601 224.64 \nL 118.337601 214.285714 \nL 117.92348 214.285714 \nz\n\" style=\"fill:#d62728;\"/>\n   </g>\n   <g id=\"patch_336\">\n    <path clip-path=\"url(#pf478af78c5)\" d=\"M 148.980985 224.64 \nL 149.395107 224.64 \nL 149.395107 217.737143 \nL 148.980985 217.737143 \nz\n\" style=\"fill:#d62728;\"/>\n   </g>\n   <g id=\"patch_337\">\n    <path clip-path=\"url(#pf478af78c5)\" d=\"M 180.038571 224.64 \nL 180.452693 224.64 \nL 180.452693 217.737143 \nL 180.038571 217.737143 \nz\n\" style=\"fill:#d62728;\"/>\n   </g>\n   <g id=\"patch_338\">\n    <path clip-path=\"url(#pf478af78c5)\" d=\"M 211.096077 224.64 \nL 211.510199 224.64 \nL 211.510199 217.737143 \nL 211.096077 217.737143 \nz\n\" style=\"fill:#d62728;\"/>\n   </g>\n   <g id=\"patch_339\">\n    <path clip-path=\"url(#pf478af78c5)\" d=\"M 242.153583 224.64 \nL 242.567704 224.64 \nL 242.567704 224.64 \nL 242.153583 224.64 \nz\n\" style=\"fill:#d62728;\"/>\n   </g>\n   <g id=\"patch_340\">\n    <path clip-path=\"url(#pf478af78c5)\" d=\"M 273.211089 224.64 \nL 273.62521 224.64 \nL 273.62521 224.64 \nL 273.211089 224.64 \nz\n\" style=\"fill:#d62728;\"/>\n   </g>\n   <g id=\"patch_341\">\n    <path clip-path=\"url(#pf478af78c5)\" d=\"M 304.268594 224.64 \nL 304.682716 224.64 \nL 304.682716 224.64 \nL 304.268594 224.64 \nz\n\" style=\"fill:#d62728;\"/>\n   </g>\n   <g id=\"patch_342\">\n    <path clip-path=\"url(#pf478af78c5)\" d=\"M 335.3261 224.64 \nL 335.740222 224.64 \nL 335.740222 224.64 \nL 335.3261 224.64 \nz\n\" style=\"fill:#d62728;\"/>\n   </g>\n   <g id=\"patch_343\">\n    <path clip-path=\"url(#pf478af78c5)\" d=\"M 56.22259 224.64 \nL 56.636711 224.64 \nL 56.636711 134.902857 \nL 56.22259 134.902857 \nz\n\" style=\"fill:#9467bd;\"/>\n   </g>\n   <g id=\"patch_344\">\n    <path clip-path=\"url(#pf478af78c5)\" d=\"M 87.280095 224.64 \nL 87.694217 224.64 \nL 87.694217 138.354286 \nL 87.280095 138.354286 \nz\n\" style=\"fill:#9467bd;\"/>\n   </g>\n   <g id=\"patch_345\">\n    <path clip-path=\"url(#pf478af78c5)\" d=\"M 118.337601 224.64 \nL 118.751723 224.64 \nL 118.751723 207.382857 \nL 118.337601 207.382857 \nz\n\" style=\"fill:#9467bd;\"/>\n   </g>\n   <g id=\"patch_346\">\n    <path clip-path=\"url(#pf478af78c5)\" d=\"M 149.395107 224.64 \nL 149.809228 224.64 \nL 149.809228 210.834286 \nL 149.395107 210.834286 \nz\n\" style=\"fill:#9467bd;\"/>\n   </g>\n   <g id=\"patch_347\">\n    <path clip-path=\"url(#pf478af78c5)\" d=\"M 180.452613 224.64 \nL 180.866734 224.64 \nL 180.866734 224.64 \nL 180.452613 224.64 \nz\n\" style=\"fill:#9467bd;\"/>\n   </g>\n   <g id=\"patch_348\">\n    <path clip-path=\"url(#pf478af78c5)\" d=\"M 211.510199 224.64 \nL 211.92432 224.64 \nL 211.92432 224.64 \nL 211.510199 224.64 \nz\n\" style=\"fill:#9467bd;\"/>\n   </g>\n   <g id=\"patch_349\">\n    <path clip-path=\"url(#pf478af78c5)\" d=\"M 242.567704 224.64 \nL 242.981826 224.64 \nL 242.981826 224.64 \nL 242.567704 224.64 \nz\n\" style=\"fill:#9467bd;\"/>\n   </g>\n   <g id=\"patch_350\">\n    <path clip-path=\"url(#pf478af78c5)\" d=\"M 273.62521 224.64 \nL 274.039332 224.64 \nL 274.039332 224.64 \nL 273.62521 224.64 \nz\n\" style=\"fill:#9467bd;\"/>\n   </g>\n   <g id=\"patch_351\">\n    <path clip-path=\"url(#pf478af78c5)\" d=\"M 304.682716 224.64 \nL 305.096837 224.64 \nL 305.096837 224.64 \nL 304.682716 224.64 \nz\n\" style=\"fill:#9467bd;\"/>\n   </g>\n   <g id=\"patch_352\">\n    <path clip-path=\"url(#pf478af78c5)\" d=\"M 335.740222 224.64 \nL 336.154343 224.64 \nL 336.154343 224.64 \nL 335.740222 224.64 \nz\n\" style=\"fill:#9467bd;\"/>\n   </g>\n   <g id=\"patch_353\">\n    <path clip-path=\"url(#pf478af78c5)\" d=\"M 56.636711 224.64 \nL 57.050833 224.64 \nL 57.050833 110.742857 \nL 56.636711 110.742857 \nz\n\" style=\"fill:#8c564b;\"/>\n   </g>\n   <g id=\"patch_354\">\n    <path clip-path=\"url(#pf478af78c5)\" d=\"M 87.694217 224.64 \nL 88.108339 224.64 \nL 88.108339 155.611429 \nL 87.694217 155.611429 \nz\n\" style=\"fill:#8c564b;\"/>\n   </g>\n   <g id=\"patch_355\">\n    <path clip-path=\"url(#pf478af78c5)\" d=\"M 118.751723 224.64 \nL 119.165844 224.64 \nL 119.165844 200.48 \nL 118.751723 200.48 \nz\n\" style=\"fill:#8c564b;\"/>\n   </g>\n   <g id=\"patch_356\">\n    <path clip-path=\"url(#pf478af78c5)\" d=\"M 149.809228 224.64 \nL 150.22335 224.64 \nL 150.22335 224.64 \nL 149.809228 224.64 \nz\n\" style=\"fill:#8c564b;\"/>\n   </g>\n   <g id=\"patch_357\">\n    <path clip-path=\"url(#pf478af78c5)\" d=\"M 180.866734 224.64 \nL 181.280856 224.64 \nL 181.280856 224.64 \nL 180.866734 224.64 \nz\n\" style=\"fill:#8c564b;\"/>\n   </g>\n   <g id=\"patch_358\">\n    <path clip-path=\"url(#pf478af78c5)\" d=\"M 211.92432 224.64 \nL 212.338442 224.64 \nL 212.338442 224.64 \nL 211.92432 224.64 \nz\n\" style=\"fill:#8c564b;\"/>\n   </g>\n   <g id=\"patch_359\">\n    <path clip-path=\"url(#pf478af78c5)\" d=\"M 242.981826 224.64 \nL 243.395947 224.64 \nL 243.395947 224.64 \nL 242.981826 224.64 \nz\n\" style=\"fill:#8c564b;\"/>\n   </g>\n   <g id=\"patch_360\">\n    <path clip-path=\"url(#pf478af78c5)\" d=\"M 274.039332 224.64 \nL 274.453453 224.64 \nL 274.453453 224.64 \nL 274.039332 224.64 \nz\n\" style=\"fill:#8c564b;\"/>\n   </g>\n   <g id=\"patch_361\">\n    <path clip-path=\"url(#pf478af78c5)\" d=\"M 305.096837 224.64 \nL 305.510959 224.64 \nL 305.510959 224.64 \nL 305.096837 224.64 \nz\n\" style=\"fill:#8c564b;\"/>\n   </g>\n   <g id=\"patch_362\">\n    <path clip-path=\"url(#pf478af78c5)\" d=\"M 336.154343 224.64 \nL 336.568465 224.64 \nL 336.568465 224.64 \nL 336.154343 224.64 \nz\n\" style=\"fill:#8c564b;\"/>\n   </g>\n   <g id=\"patch_363\">\n    <path clip-path=\"url(#pf478af78c5)\" d=\"M 57.050752 224.64 \nL 57.464874 224.64 \nL 57.464874 110.742857 \nL 57.050752 110.742857 \nz\n\" style=\"fill:#e377c2;\"/>\n   </g>\n   <g id=\"patch_364\">\n    <path clip-path=\"url(#pf478af78c5)\" d=\"M 88.108258 224.64 \nL 88.52238 224.64 \nL 88.52238 131.451429 \nL 88.108258 131.451429 \nz\n\" style=\"fill:#e377c2;\"/>\n   </g>\n   <g id=\"patch_365\">\n    <path clip-path=\"url(#pf478af78c5)\" d=\"M 119.165764 224.64 \nL 119.579885 224.64 \nL 119.579885 224.64 \nL 119.165764 224.64 \nz\n\" style=\"fill:#e377c2;\"/>\n   </g>\n   <g id=\"patch_366\">\n    <path clip-path=\"url(#pf478af78c5)\" d=\"M 150.22327 224.64 \nL 150.637391 224.64 \nL 150.637391 224.64 \nL 150.22327 224.64 \nz\n\" style=\"fill:#e377c2;\"/>\n   </g>\n   <g id=\"patch_367\">\n    <path clip-path=\"url(#pf478af78c5)\" d=\"M 181.280856 224.64 \nL 181.694977 224.64 \nL 181.694977 224.64 \nL 181.280856 224.64 \nz\n\" style=\"fill:#e377c2;\"/>\n   </g>\n   <g id=\"patch_368\">\n    <path clip-path=\"url(#pf478af78c5)\" d=\"M 212.338361 224.64 \nL 212.752483 224.64 \nL 212.752483 224.64 \nL 212.338361 224.64 \nz\n\" style=\"fill:#e377c2;\"/>\n   </g>\n   <g id=\"patch_369\">\n    <path clip-path=\"url(#pf478af78c5)\" d=\"M 243.395867 224.64 \nL 243.809989 224.64 \nL 243.809989 224.64 \nL 243.395867 224.64 \nz\n\" style=\"fill:#e377c2;\"/>\n   </g>\n   <g id=\"patch_370\">\n    <path clip-path=\"url(#pf478af78c5)\" d=\"M 274.453373 224.64 \nL 274.867494 224.64 \nL 274.867494 224.64 \nL 274.453373 224.64 \nz\n\" style=\"fill:#e377c2;\"/>\n   </g>\n   <g id=\"patch_371\">\n    <path clip-path=\"url(#pf478af78c5)\" d=\"M 305.510878 224.64 \nL 305.925 224.64 \nL 305.925 224.64 \nL 305.510878 224.64 \nz\n\" style=\"fill:#e377c2;\"/>\n   </g>\n   <g id=\"patch_372\">\n    <path clip-path=\"url(#pf478af78c5)\" d=\"M 336.568384 224.64 \nL 336.982506 224.64 \nL 336.982506 224.64 \nL 336.568384 224.64 \nz\n\" style=\"fill:#e377c2;\"/>\n   </g>\n   <g id=\"patch_373\">\n    <path clip-path=\"url(#pf478af78c5)\" d=\"M 57.464874 224.64 \nL 57.878995 224.64 \nL 57.878995 107.291429 \nL 57.464874 107.291429 \nz\n\" style=\"fill:#7f7f7f;\"/>\n   </g>\n   <g id=\"patch_374\">\n    <path clip-path=\"url(#pf478af78c5)\" d=\"M 88.52238 224.64 \nL 88.936501 224.64 \nL 88.936501 134.902857 \nL 88.52238 134.902857 \nz\n\" style=\"fill:#7f7f7f;\"/>\n   </g>\n   <g id=\"patch_375\">\n    <path clip-path=\"url(#pf478af78c5)\" d=\"M 119.579885 224.64 \nL 119.994007 224.64 \nL 119.994007 224.64 \nL 119.579885 224.64 \nz\n\" style=\"fill:#7f7f7f;\"/>\n   </g>\n   <g id=\"patch_376\">\n    <path clip-path=\"url(#pf478af78c5)\" d=\"M 150.637391 224.64 \nL 151.051513 224.64 \nL 151.051513 224.64 \nL 150.637391 224.64 \nz\n\" style=\"fill:#7f7f7f;\"/>\n   </g>\n   <g id=\"patch_377\">\n    <path clip-path=\"url(#pf478af78c5)\" d=\"M 181.694977 224.64 \nL 182.109099 224.64 \nL 182.109099 224.64 \nL 181.694977 224.64 \nz\n\" style=\"fill:#7f7f7f;\"/>\n   </g>\n   <g id=\"patch_378\">\n    <path clip-path=\"url(#pf478af78c5)\" d=\"M 212.752483 224.64 \nL 213.166604 224.64 \nL 213.166604 224.64 \nL 212.752483 224.64 \nz\n\" style=\"fill:#7f7f7f;\"/>\n   </g>\n   <g id=\"patch_379\">\n    <path clip-path=\"url(#pf478af78c5)\" d=\"M 243.809989 224.64 \nL 244.22411 224.64 \nL 244.22411 224.64 \nL 243.809989 224.64 \nz\n\" style=\"fill:#7f7f7f;\"/>\n   </g>\n   <g id=\"patch_380\">\n    <path clip-path=\"url(#pf478af78c5)\" d=\"M 274.867494 224.64 \nL 275.281616 224.64 \nL 275.281616 224.64 \nL 274.867494 224.64 \nz\n\" style=\"fill:#7f7f7f;\"/>\n   </g>\n   <g id=\"patch_381\">\n    <path clip-path=\"url(#pf478af78c5)\" d=\"M 305.925 224.64 \nL 306.339122 224.64 \nL 306.339122 224.64 \nL 305.925 224.64 \nz\n\" style=\"fill:#7f7f7f;\"/>\n   </g>\n   <g id=\"patch_382\">\n    <path clip-path=\"url(#pf478af78c5)\" d=\"M 336.982506 224.64 \nL 337.396627 224.64 \nL 337.396627 224.64 \nL 336.982506 224.64 \nz\n\" style=\"fill:#7f7f7f;\"/>\n   </g>\n   <g id=\"patch_383\">\n    <path clip-path=\"url(#pf478af78c5)\" d=\"M 57.878995 224.64 \nL 58.293117 224.64 \nL 58.293117 79.68 \nL 57.878995 79.68 \nz\n\" style=\"fill:#bcbd22;\"/>\n   </g>\n   <g id=\"patch_384\">\n    <path clip-path=\"url(#pf478af78c5)\" d=\"M 88.936501 224.64 \nL 89.350623 224.64 \nL 89.350623 162.514286 \nL 88.936501 162.514286 \nz\n\" style=\"fill:#bcbd22;\"/>\n   </g>\n   <g id=\"patch_385\">\n    <path clip-path=\"url(#pf478af78c5)\" d=\"M 119.994007 224.64 \nL 120.408128 224.64 \nL 120.408128 224.64 \nL 119.994007 224.64 \nz\n\" style=\"fill:#bcbd22;\"/>\n   </g>\n   <g id=\"patch_386\">\n    <path clip-path=\"url(#pf478af78c5)\" d=\"M 151.051513 224.64 \nL 151.465634 224.64 \nL 151.465634 224.64 \nL 151.051513 224.64 \nz\n\" style=\"fill:#bcbd22;\"/>\n   </g>\n   <g id=\"patch_387\">\n    <path clip-path=\"url(#pf478af78c5)\" d=\"M 182.109018 224.64 \nL 182.52314 224.64 \nL 182.52314 224.64 \nL 182.109018 224.64 \nz\n\" style=\"fill:#bcbd22;\"/>\n   </g>\n   <g id=\"patch_388\">\n    <path clip-path=\"url(#pf478af78c5)\" d=\"M 213.166604 224.64 \nL 213.580726 224.64 \nL 213.580726 224.64 \nL 213.166604 224.64 \nz\n\" style=\"fill:#bcbd22;\"/>\n   </g>\n   <g id=\"patch_389\">\n    <path clip-path=\"url(#pf478af78c5)\" d=\"M 244.22411 224.64 \nL 244.638232 224.64 \nL 244.638232 224.64 \nL 244.22411 224.64 \nz\n\" style=\"fill:#bcbd22;\"/>\n   </g>\n   <g id=\"patch_390\">\n    <path clip-path=\"url(#pf478af78c5)\" d=\"M 275.281616 224.64 \nL 275.695737 224.64 \nL 275.695737 224.64 \nL 275.281616 224.64 \nz\n\" style=\"fill:#bcbd22;\"/>\n   </g>\n   <g id=\"patch_391\">\n    <path clip-path=\"url(#pf478af78c5)\" d=\"M 306.339122 224.64 \nL 306.753243 224.64 \nL 306.753243 224.64 \nL 306.339122 224.64 \nz\n\" style=\"fill:#bcbd22;\"/>\n   </g>\n   <g id=\"patch_392\">\n    <path clip-path=\"url(#pf478af78c5)\" d=\"M 337.396627 224.64 \nL 337.810749 224.64 \nL 337.810749 224.64 \nL 337.396627 224.64 \nz\n\" style=\"fill:#bcbd22;\"/>\n   </g>\n   <g id=\"patch_393\">\n    <path clip-path=\"url(#pf478af78c5)\" d=\"M 58.293037 224.64 \nL 58.707158 224.64 \nL 58.707158 62.422857 \nL 58.293037 62.422857 \nz\n\" style=\"fill:#17becf;\"/>\n   </g>\n   <g id=\"patch_394\">\n    <path clip-path=\"url(#pf478af78c5)\" d=\"M 89.350542 224.64 \nL 89.764664 224.64 \nL 89.764664 179.771429 \nL 89.350542 179.771429 \nz\n\" style=\"fill:#17becf;\"/>\n   </g>\n   <g id=\"patch_395\">\n    <path clip-path=\"url(#pf478af78c5)\" d=\"M 120.408048 224.64 \nL 120.822169 224.64 \nL 120.822169 224.64 \nL 120.408048 224.64 \nz\n\" style=\"fill:#17becf;\"/>\n   </g>\n   <g id=\"patch_396\">\n    <path clip-path=\"url(#pf478af78c5)\" d=\"M 151.465554 224.64 \nL 151.879675 224.64 \nL 151.879675 224.64 \nL 151.465554 224.64 \nz\n\" style=\"fill:#17becf;\"/>\n   </g>\n   <g id=\"patch_397\">\n    <path clip-path=\"url(#pf478af78c5)\" d=\"M 182.52314 224.64 \nL 182.937261 224.64 \nL 182.937261 224.64 \nL 182.52314 224.64 \nz\n\" style=\"fill:#17becf;\"/>\n   </g>\n   <g id=\"patch_398\">\n    <path clip-path=\"url(#pf478af78c5)\" d=\"M 213.580726 224.64 \nL 213.994847 224.64 \nL 213.994847 224.64 \nL 213.580726 224.64 \nz\n\" style=\"fill:#17becf;\"/>\n   </g>\n   <g id=\"patch_399\">\n    <path clip-path=\"url(#pf478af78c5)\" d=\"M 244.638232 224.64 \nL 245.052353 224.64 \nL 245.052353 224.64 \nL 244.638232 224.64 \nz\n\" style=\"fill:#17becf;\"/>\n   </g>\n   <g id=\"patch_400\">\n    <path clip-path=\"url(#pf478af78c5)\" d=\"M 275.695737 224.64 \nL 276.109859 224.64 \nL 276.109859 224.64 \nL 275.695737 224.64 \nz\n\" style=\"fill:#17becf;\"/>\n   </g>\n   <g id=\"patch_401\">\n    <path clip-path=\"url(#pf478af78c5)\" d=\"M 306.753243 224.64 \nL 307.167365 224.64 \nL 307.167365 224.64 \nL 306.753243 224.64 \nz\n\" style=\"fill:#17becf;\"/>\n   </g>\n   <g id=\"patch_402\">\n    <path clip-path=\"url(#pf478af78c5)\" d=\"M 337.810749 224.64 \nL 338.22487 224.64 \nL 338.22487 224.64 \nL 337.810749 224.64 \nz\n\" style=\"fill:#17becf;\"/>\n   </g>\n   <g id=\"patch_403\">\n    <path clip-path=\"url(#pf478af78c5)\" d=\"M 58.707158 224.64 \nL 59.12128 224.64 \nL 59.12128 83.131429 \nL 58.707158 83.131429 \nz\n\" style=\"fill:#1f77b4;\"/>\n   </g>\n   <g id=\"patch_404\">\n    <path clip-path=\"url(#pf478af78c5)\" d=\"M 89.764664 224.64 \nL 90.178785 224.64 \nL 90.178785 159.062857 \nL 89.764664 159.062857 \nz\n\" style=\"fill:#1f77b4;\"/>\n   </g>\n   <g id=\"patch_405\">\n    <path clip-path=\"url(#pf478af78c5)\" d=\"M 120.822169 224.64 \nL 121.236291 224.64 \nL 121.236291 224.64 \nL 120.822169 224.64 \nz\n\" style=\"fill:#1f77b4;\"/>\n   </g>\n   <g id=\"patch_406\">\n    <path clip-path=\"url(#pf478af78c5)\" d=\"M 151.879675 224.64 \nL 152.293797 224.64 \nL 152.293797 224.64 \nL 151.879675 224.64 \nz\n\" style=\"fill:#1f77b4;\"/>\n   </g>\n   <g id=\"patch_407\">\n    <path clip-path=\"url(#pf478af78c5)\" d=\"M 182.937261 224.64 \nL 183.351383 224.64 \nL 183.351383 224.64 \nL 182.937261 224.64 \nz\n\" style=\"fill:#1f77b4;\"/>\n   </g>\n   <g id=\"patch_408\">\n    <path clip-path=\"url(#pf478af78c5)\" d=\"M 213.994767 224.64 \nL 214.408889 224.64 \nL 214.408889 224.64 \nL 213.994767 224.64 \nz\n\" style=\"fill:#1f77b4;\"/>\n   </g>\n   <g id=\"patch_409\">\n    <path clip-path=\"url(#pf478af78c5)\" d=\"M 245.052273 224.64 \nL 245.466394 224.64 \nL 245.466394 224.64 \nL 245.052273 224.64 \nz\n\" style=\"fill:#1f77b4;\"/>\n   </g>\n   <g id=\"patch_410\">\n    <path clip-path=\"url(#pf478af78c5)\" d=\"M 276.109778 224.64 \nL 276.5239 224.64 \nL 276.5239 224.64 \nL 276.109778 224.64 \nz\n\" style=\"fill:#1f77b4;\"/>\n   </g>\n   <g id=\"patch_411\">\n    <path clip-path=\"url(#pf478af78c5)\" d=\"M 307.167284 224.64 \nL 307.581406 224.64 \nL 307.581406 224.64 \nL 307.167284 224.64 \nz\n\" style=\"fill:#1f77b4;\"/>\n   </g>\n   <g id=\"patch_412\">\n    <path clip-path=\"url(#pf478af78c5)\" d=\"M 338.22479 224.64 \nL 338.638911 224.64 \nL 338.638911 224.64 \nL 338.22479 224.64 \nz\n\" style=\"fill:#1f77b4;\"/>\n   </g>\n   <g id=\"patch_413\">\n    <path clip-path=\"url(#pf478af78c5)\" d=\"M 59.12128 224.64 \nL 59.535401 224.64 \nL 59.535401 58.971429 \nL 59.12128 58.971429 \nz\n\" style=\"fill:#ff7f0e;\"/>\n   </g>\n   <g id=\"patch_414\">\n    <path clip-path=\"url(#pf478af78c5)\" d=\"M 90.178785 224.64 \nL 90.592907 224.64 \nL 90.592907 183.222857 \nL 90.178785 183.222857 \nz\n\" style=\"fill:#ff7f0e;\"/>\n   </g>\n   <g id=\"patch_415\">\n    <path clip-path=\"url(#pf478af78c5)\" d=\"M 121.236291 224.64 \nL 121.650413 224.64 \nL 121.650413 224.64 \nL 121.236291 224.64 \nz\n\" style=\"fill:#ff7f0e;\"/>\n   </g>\n   <g id=\"patch_416\">\n    <path clip-path=\"url(#pf478af78c5)\" d=\"M 152.293797 224.64 \nL 152.707918 224.64 \nL 152.707918 224.64 \nL 152.293797 224.64 \nz\n\" style=\"fill:#ff7f0e;\"/>\n   </g>\n   <g id=\"patch_417\">\n    <path clip-path=\"url(#pf478af78c5)\" d=\"M 183.351383 224.64 \nL 183.765504 224.64 \nL 183.765504 224.64 \nL 183.351383 224.64 \nz\n\" style=\"fill:#ff7f0e;\"/>\n   </g>\n   <g id=\"patch_418\">\n    <path clip-path=\"url(#pf478af78c5)\" d=\"M 214.408889 224.64 \nL 214.82301 224.64 \nL 214.82301 224.64 \nL 214.408889 224.64 \nz\n\" style=\"fill:#ff7f0e;\"/>\n   </g>\n   <g id=\"patch_419\">\n    <path clip-path=\"url(#pf478af78c5)\" d=\"M 245.466394 224.64 \nL 245.880516 224.64 \nL 245.880516 224.64 \nL 245.466394 224.64 \nz\n\" style=\"fill:#ff7f0e;\"/>\n   </g>\n   <g id=\"patch_420\">\n    <path clip-path=\"url(#pf478af78c5)\" d=\"M 276.5239 224.64 \nL 276.938021 224.64 \nL 276.938021 224.64 \nL 276.5239 224.64 \nz\n\" style=\"fill:#ff7f0e;\"/>\n   </g>\n   <g id=\"patch_421\">\n    <path clip-path=\"url(#pf478af78c5)\" d=\"M 307.581406 224.64 \nL 307.995527 224.64 \nL 307.995527 224.64 \nL 307.581406 224.64 \nz\n\" style=\"fill:#ff7f0e;\"/>\n   </g>\n   <g id=\"patch_422\">\n    <path clip-path=\"url(#pf478af78c5)\" d=\"M 338.638911 224.64 \nL 339.053033 224.64 \nL 339.053033 224.64 \nL 338.638911 224.64 \nz\n\" style=\"fill:#ff7f0e;\"/>\n   </g>\n   <g id=\"patch_423\">\n    <path clip-path=\"url(#pf478af78c5)\" d=\"M 59.535401 224.64 \nL 59.949523 224.64 \nL 59.949523 58.971429 \nL 59.535401 58.971429 \nz\n\" style=\"fill:#2ca02c;\"/>\n   </g>\n   <g id=\"patch_424\">\n    <path clip-path=\"url(#pf478af78c5)\" d=\"M 90.592907 224.64 \nL 91.007028 224.64 \nL 91.007028 183.222857 \nL 90.592907 183.222857 \nz\n\" style=\"fill:#2ca02c;\"/>\n   </g>\n   <g id=\"patch_425\">\n    <path clip-path=\"url(#pf478af78c5)\" d=\"M 121.650413 224.64 \nL 122.064534 224.64 \nL 122.064534 224.64 \nL 121.650413 224.64 \nz\n\" style=\"fill:#2ca02c;\"/>\n   </g>\n   <g id=\"patch_426\">\n    <path clip-path=\"url(#pf478af78c5)\" d=\"M 152.707918 224.64 \nL 153.12204 224.64 \nL 153.12204 224.64 \nL 152.707918 224.64 \nz\n\" style=\"fill:#2ca02c;\"/>\n   </g>\n   <g id=\"patch_427\">\n    <path clip-path=\"url(#pf478af78c5)\" d=\"M 183.765424 224.64 \nL 184.179545 224.64 \nL 184.179545 224.64 \nL 183.765424 224.64 \nz\n\" style=\"fill:#2ca02c;\"/>\n   </g>\n   <g id=\"patch_428\">\n    <path clip-path=\"url(#pf478af78c5)\" d=\"M 214.82301 224.64 \nL 215.237132 224.64 \nL 215.237132 224.64 \nL 214.82301 224.64 \nz\n\" style=\"fill:#2ca02c;\"/>\n   </g>\n   <g id=\"patch_429\">\n    <path clip-path=\"url(#pf478af78c5)\" d=\"M 245.880516 224.64 \nL 246.294637 224.64 \nL 246.294637 224.64 \nL 245.880516 224.64 \nz\n\" style=\"fill:#2ca02c;\"/>\n   </g>\n   <g id=\"patch_430\">\n    <path clip-path=\"url(#pf478af78c5)\" d=\"M 276.938021 224.64 \nL 277.352143 224.64 \nL 277.352143 224.64 \nL 276.938021 224.64 \nz\n\" style=\"fill:#2ca02c;\"/>\n   </g>\n   <g id=\"patch_431\">\n    <path clip-path=\"url(#pf478af78c5)\" d=\"M 307.995527 224.64 \nL 308.409649 224.64 \nL 308.409649 224.64 \nL 307.995527 224.64 \nz\n\" style=\"fill:#2ca02c;\"/>\n   </g>\n   <g id=\"patch_432\">\n    <path clip-path=\"url(#pf478af78c5)\" d=\"M 339.053033 224.64 \nL 339.467154 224.64 \nL 339.467154 224.64 \nL 339.053033 224.64 \nz\n\" style=\"fill:#2ca02c;\"/>\n   </g>\n   <g id=\"patch_433\">\n    <path clip-path=\"url(#pf478af78c5)\" d=\"M 59.949442 224.64 \nL 60.363564 224.64 \nL 60.363564 48.617143 \nL 59.949442 48.617143 \nz\n\" style=\"fill:#d62728;\"/>\n   </g>\n   <g id=\"patch_434\">\n    <path clip-path=\"url(#pf478af78c5)\" d=\"M 91.006948 224.64 \nL 91.421069 224.64 \nL 91.421069 193.577143 \nL 91.006948 193.577143 \nz\n\" style=\"fill:#d62728;\"/>\n   </g>\n   <g id=\"patch_435\">\n    <path clip-path=\"url(#pf478af78c5)\" d=\"M 122.064454 224.64 \nL 122.478575 224.64 \nL 122.478575 224.64 \nL 122.064454 224.64 \nz\n\" style=\"fill:#d62728;\"/>\n   </g>\n   <g id=\"patch_436\">\n    <path clip-path=\"url(#pf478af78c5)\" d=\"M 153.121959 224.64 \nL 153.536081 224.64 \nL 153.536081 224.64 \nL 153.121959 224.64 \nz\n\" style=\"fill:#d62728;\"/>\n   </g>\n   <g id=\"patch_437\">\n    <path clip-path=\"url(#pf478af78c5)\" d=\"M 184.179545 224.64 \nL 184.593667 224.64 \nL 184.593667 224.64 \nL 184.179545 224.64 \nz\n\" style=\"fill:#d62728;\"/>\n   </g>\n   <g id=\"patch_438\">\n    <path clip-path=\"url(#pf478af78c5)\" d=\"M 215.237051 224.64 \nL 215.651173 224.64 \nL 215.651173 224.64 \nL 215.237051 224.64 \nz\n\" style=\"fill:#d62728;\"/>\n   </g>\n   <g id=\"patch_439\">\n    <path clip-path=\"url(#pf478af78c5)\" d=\"M 246.294557 224.64 \nL 246.708678 224.64 \nL 246.708678 224.64 \nL 246.294557 224.64 \nz\n\" style=\"fill:#d62728;\"/>\n   </g>\n   <g id=\"patch_440\">\n    <path clip-path=\"url(#pf478af78c5)\" d=\"M 277.352063 224.64 \nL 277.766184 224.64 \nL 277.766184 224.64 \nL 277.352063 224.64 \nz\n\" style=\"fill:#d62728;\"/>\n   </g>\n   <g id=\"patch_441\">\n    <path clip-path=\"url(#pf478af78c5)\" d=\"M 308.409568 224.64 \nL 308.82369 224.64 \nL 308.82369 224.64 \nL 308.409568 224.64 \nz\n\" style=\"fill:#d62728;\"/>\n   </g>\n   <g id=\"patch_442\">\n    <path clip-path=\"url(#pf478af78c5)\" d=\"M 339.467074 224.64 \nL 339.881196 224.64 \nL 339.881196 224.64 \nL 339.467074 224.64 \nz\n\" style=\"fill:#d62728;\"/>\n   </g>\n   <g id=\"patch_443\">\n    <path clip-path=\"url(#pf478af78c5)\" d=\"M 60.363564 224.64 \nL 60.777685 224.64 \nL 60.777685 45.165714 \nL 60.363564 45.165714 \nz\n\" style=\"fill:#9467bd;\"/>\n   </g>\n   <g id=\"patch_444\">\n    <path clip-path=\"url(#pf478af78c5)\" d=\"M 91.421069 224.64 \nL 91.835191 224.64 \nL 91.835191 197.028571 \nL 91.421069 197.028571 \nz\n\" style=\"fill:#9467bd;\"/>\n   </g>\n   <g id=\"patch_445\">\n    <path clip-path=\"url(#pf478af78c5)\" d=\"M 122.478575 224.64 \nL 122.892697 224.64 \nL 122.892697 224.64 \nL 122.478575 224.64 \nz\n\" style=\"fill:#9467bd;\"/>\n   </g>\n   <g id=\"patch_446\">\n    <path clip-path=\"url(#pf478af78c5)\" d=\"M 153.536081 224.64 \nL 153.950202 224.64 \nL 153.950202 224.64 \nL 153.536081 224.64 \nz\n\" style=\"fill:#9467bd;\"/>\n   </g>\n   <g id=\"patch_447\">\n    <path clip-path=\"url(#pf478af78c5)\" d=\"M 184.593667 224.64 \nL 185.007788 224.64 \nL 185.007788 224.64 \nL 184.593667 224.64 \nz\n\" style=\"fill:#9467bd;\"/>\n   </g>\n   <g id=\"patch_448\">\n    <path clip-path=\"url(#pf478af78c5)\" d=\"M 215.651173 224.64 \nL 216.065294 224.64 \nL 216.065294 224.64 \nL 215.651173 224.64 \nz\n\" style=\"fill:#9467bd;\"/>\n   </g>\n   <g id=\"patch_449\">\n    <path clip-path=\"url(#pf478af78c5)\" d=\"M 246.708678 224.64 \nL 247.1228 224.64 \nL 247.1228 224.64 \nL 246.708678 224.64 \nz\n\" style=\"fill:#9467bd;\"/>\n   </g>\n   <g id=\"patch_450\">\n    <path clip-path=\"url(#pf478af78c5)\" d=\"M 277.766184 224.64 \nL 278.180306 224.64 \nL 278.180306 224.64 \nL 277.766184 224.64 \nz\n\" style=\"fill:#9467bd;\"/>\n   </g>\n   <g id=\"patch_451\">\n    <path clip-path=\"url(#pf478af78c5)\" d=\"M 308.82369 224.64 \nL 309.237811 224.64 \nL 309.237811 224.64 \nL 308.82369 224.64 \nz\n\" style=\"fill:#9467bd;\"/>\n   </g>\n   <g id=\"patch_452\">\n    <path clip-path=\"url(#pf478af78c5)\" d=\"M 339.881196 224.64 \nL 340.295317 224.64 \nL 340.295317 224.64 \nL 339.881196 224.64 \nz\n\" style=\"fill:#9467bd;\"/>\n   </g>\n   <g id=\"patch_453\">\n    <path clip-path=\"url(#pf478af78c5)\" d=\"M 60.777685 224.64 \nL 61.191807 224.64 \nL 61.191807 31.36 \nL 60.777685 31.36 \nz\n\" style=\"fill:#8c564b;\"/>\n   </g>\n   <g id=\"patch_454\">\n    <path clip-path=\"url(#pf478af78c5)\" d=\"M 91.835191 224.64 \nL 92.249312 224.64 \nL 92.249312 210.834286 \nL 91.835191 210.834286 \nz\n\" style=\"fill:#8c564b;\"/>\n   </g>\n   <g id=\"patch_455\">\n    <path clip-path=\"url(#pf478af78c5)\" d=\"M 122.892697 224.64 \nL 123.306818 224.64 \nL 123.306818 224.64 \nL 122.892697 224.64 \nz\n\" style=\"fill:#8c564b;\"/>\n   </g>\n   <g id=\"patch_456\">\n    <path clip-path=\"url(#pf478af78c5)\" d=\"M 153.950202 224.64 \nL 154.364324 224.64 \nL 154.364324 224.64 \nL 153.950202 224.64 \nz\n\" style=\"fill:#8c564b;\"/>\n   </g>\n   <g id=\"patch_457\">\n    <path clip-path=\"url(#pf478af78c5)\" d=\"M 185.007788 224.64 \nL 185.42191 224.64 \nL 185.42191 224.64 \nL 185.007788 224.64 \nz\n\" style=\"fill:#8c564b;\"/>\n   </g>\n   <g id=\"patch_458\">\n    <path clip-path=\"url(#pf478af78c5)\" d=\"M 216.065294 224.64 \nL 216.479416 224.64 \nL 216.479416 224.64 \nL 216.065294 224.64 \nz\n\" style=\"fill:#8c564b;\"/>\n   </g>\n   <g id=\"patch_459\">\n    <path clip-path=\"url(#pf478af78c5)\" d=\"M 247.1228 224.64 \nL 247.536921 224.64 \nL 247.536921 224.64 \nL 247.1228 224.64 \nz\n\" style=\"fill:#8c564b;\"/>\n   </g>\n   <g id=\"patch_460\">\n    <path clip-path=\"url(#pf478af78c5)\" d=\"M 278.180306 224.64 \nL 278.594427 224.64 \nL 278.594427 224.64 \nL 278.180306 224.64 \nz\n\" style=\"fill:#8c564b;\"/>\n   </g>\n   <g id=\"patch_461\">\n    <path clip-path=\"url(#pf478af78c5)\" d=\"M 309.237811 224.64 \nL 309.651933 224.64 \nL 309.651933 224.64 \nL 309.237811 224.64 \nz\n\" style=\"fill:#8c564b;\"/>\n   </g>\n   <g id=\"patch_462\">\n    <path clip-path=\"url(#pf478af78c5)\" d=\"M 340.295317 224.64 \nL 340.709439 224.64 \nL 340.709439 224.64 \nL 340.295317 224.64 \nz\n\" style=\"fill:#8c564b;\"/>\n   </g>\n   <g id=\"patch_463\">\n    <path clip-path=\"url(#pf478af78c5)\" d=\"M 61.191807 224.64 \nL 61.605928 224.64 \nL 61.605928 34.811429 \nL 61.191807 34.811429 \nz\n\" style=\"fill:#e377c2;\"/>\n   </g>\n   <g id=\"patch_464\">\n    <path clip-path=\"url(#pf478af78c5)\" d=\"M 92.249312 224.64 \nL 92.663434 224.64 \nL 92.663434 207.382857 \nL 92.249312 207.382857 \nz\n\" style=\"fill:#e377c2;\"/>\n   </g>\n   <g id=\"patch_465\">\n    <path clip-path=\"url(#pf478af78c5)\" d=\"M 123.306818 224.64 \nL 123.72094 224.64 \nL 123.72094 224.64 \nL 123.306818 224.64 \nz\n\" style=\"fill:#e377c2;\"/>\n   </g>\n   <g id=\"patch_466\">\n    <path clip-path=\"url(#pf478af78c5)\" d=\"M 154.364324 224.64 \nL 154.778445 224.64 \nL 154.778445 224.64 \nL 154.364324 224.64 \nz\n\" style=\"fill:#e377c2;\"/>\n   </g>\n   <g id=\"patch_467\">\n    <path clip-path=\"url(#pf478af78c5)\" d=\"M 185.42183 224.64 \nL 185.835951 224.64 \nL 185.835951 224.64 \nL 185.42183 224.64 \nz\n\" style=\"fill:#e377c2;\"/>\n   </g>\n   <g id=\"patch_468\">\n    <path clip-path=\"url(#pf478af78c5)\" d=\"M 216.479416 224.64 \nL 216.893537 224.64 \nL 216.893537 224.64 \nL 216.479416 224.64 \nz\n\" style=\"fill:#e377c2;\"/>\n   </g>\n   <g id=\"patch_469\">\n    <path clip-path=\"url(#pf478af78c5)\" d=\"M 247.536921 224.64 \nL 247.951043 224.64 \nL 247.951043 224.64 \nL 247.536921 224.64 \nz\n\" style=\"fill:#e377c2;\"/>\n   </g>\n   <g id=\"patch_470\">\n    <path clip-path=\"url(#pf478af78c5)\" d=\"M 278.594427 224.64 \nL 279.008549 224.64 \nL 279.008549 224.64 \nL 278.594427 224.64 \nz\n\" style=\"fill:#e377c2;\"/>\n   </g>\n   <g id=\"patch_471\">\n    <path clip-path=\"url(#pf478af78c5)\" d=\"M 309.651933 224.64 \nL 310.066054 224.64 \nL 310.066054 224.64 \nL 309.651933 224.64 \nz\n\" style=\"fill:#e377c2;\"/>\n   </g>\n   <g id=\"patch_472\">\n    <path clip-path=\"url(#pf478af78c5)\" d=\"M 340.709439 224.64 \nL 341.12356 224.64 \nL 341.12356 224.64 \nL 340.709439 224.64 \nz\n\" style=\"fill:#e377c2;\"/>\n   </g>\n   <g id=\"patch_473\">\n    <path clip-path=\"url(#pf478af78c5)\" d=\"M 61.605848 224.64 \nL 62.019969 224.64 \nL 62.019969 38.262857 \nL 61.605848 38.262857 \nz\n\" style=\"fill:#7f7f7f;\"/>\n   </g>\n   <g id=\"patch_474\">\n    <path clip-path=\"url(#pf478af78c5)\" d=\"M 92.663354 224.64 \nL 93.077475 224.64 \nL 93.077475 203.931429 \nL 92.663354 203.931429 \nz\n\" style=\"fill:#7f7f7f;\"/>\n   </g>\n   <g id=\"patch_475\">\n    <path clip-path=\"url(#pf478af78c5)\" d=\"M 123.720859 224.64 \nL 124.134981 224.64 \nL 124.134981 224.64 \nL 123.720859 224.64 \nz\n\" style=\"fill:#7f7f7f;\"/>\n   </g>\n   <g id=\"patch_476\">\n    <path clip-path=\"url(#pf478af78c5)\" d=\"M 154.778365 224.64 \nL 155.192487 224.64 \nL 155.192487 224.64 \nL 154.778365 224.64 \nz\n\" style=\"fill:#7f7f7f;\"/>\n   </g>\n   <g id=\"patch_477\">\n    <path clip-path=\"url(#pf478af78c5)\" d=\"M 185.835951 224.64 \nL 186.250073 224.64 \nL 186.250073 224.64 \nL 185.835951 224.64 \nz\n\" style=\"fill:#7f7f7f;\"/>\n   </g>\n   <g id=\"patch_478\">\n    <path clip-path=\"url(#pf478af78c5)\" d=\"M 216.893457 224.64 \nL 217.307578 224.64 \nL 217.307578 224.64 \nL 216.893457 224.64 \nz\n\" style=\"fill:#7f7f7f;\"/>\n   </g>\n   <g id=\"patch_479\">\n    <path clip-path=\"url(#pf478af78c5)\" d=\"M 247.950963 224.64 \nL 248.365084 224.64 \nL 248.365084 224.64 \nL 247.950963 224.64 \nz\n\" style=\"fill:#7f7f7f;\"/>\n   </g>\n   <g id=\"patch_480\">\n    <path clip-path=\"url(#pf478af78c5)\" d=\"M 279.008468 224.64 \nL 279.42259 224.64 \nL 279.42259 224.64 \nL 279.008468 224.64 \nz\n\" style=\"fill:#7f7f7f;\"/>\n   </g>\n   <g id=\"patch_481\">\n    <path clip-path=\"url(#pf478af78c5)\" d=\"M 310.065974 224.64 \nL 310.480095 224.64 \nL 310.480095 224.64 \nL 310.065974 224.64 \nz\n\" style=\"fill:#7f7f7f;\"/>\n   </g>\n   <g id=\"patch_482\">\n    <path clip-path=\"url(#pf478af78c5)\" d=\"M 341.12348 224.64 \nL 341.537601 224.64 \nL 341.537601 224.64 \nL 341.12348 224.64 \nz\n\" style=\"fill:#7f7f7f;\"/>\n   </g>\n   <g id=\"patch_483\">\n    <path clip-path=\"url(#pf478af78c5)\" d=\"M 62.019969 224.64 \nL 62.434091 224.64 \nL 62.434091 27.908571 \nL 62.019969 27.908571 \nz\n\" style=\"fill:#bcbd22;\"/>\n   </g>\n   <g id=\"patch_484\">\n    <path clip-path=\"url(#pf478af78c5)\" d=\"M 93.077475 224.64 \nL 93.491597 224.64 \nL 93.491597 214.285714 \nL 93.077475 214.285714 \nz\n\" style=\"fill:#bcbd22;\"/>\n   </g>\n   <g id=\"patch_485\">\n    <path clip-path=\"url(#pf478af78c5)\" d=\"M 124.134981 224.64 \nL 124.549102 224.64 \nL 124.549102 224.64 \nL 124.134981 224.64 \nz\n\" style=\"fill:#bcbd22;\"/>\n   </g>\n   <g id=\"patch_486\">\n    <path clip-path=\"url(#pf478af78c5)\" d=\"M 155.192487 224.64 \nL 155.606608 224.64 \nL 155.606608 224.64 \nL 155.192487 224.64 \nz\n\" style=\"fill:#bcbd22;\"/>\n   </g>\n   <g id=\"patch_487\">\n    <path clip-path=\"url(#pf478af78c5)\" d=\"M 186.250073 224.64 \nL 186.664194 224.64 \nL 186.664194 224.64 \nL 186.250073 224.64 \nz\n\" style=\"fill:#bcbd22;\"/>\n   </g>\n   <g id=\"patch_488\">\n    <path clip-path=\"url(#pf478af78c5)\" d=\"M 217.307578 224.64 \nL 217.7217 224.64 \nL 217.7217 224.64 \nL 217.307578 224.64 \nz\n\" style=\"fill:#bcbd22;\"/>\n   </g>\n   <g id=\"patch_489\">\n    <path clip-path=\"url(#pf478af78c5)\" d=\"M 248.365084 224.64 \nL 248.779206 224.64 \nL 248.779206 224.64 \nL 248.365084 224.64 \nz\n\" style=\"fill:#bcbd22;\"/>\n   </g>\n   <g id=\"patch_490\">\n    <path clip-path=\"url(#pf478af78c5)\" d=\"M 279.42259 224.64 \nL 279.836711 224.64 \nL 279.836711 224.64 \nL 279.42259 224.64 \nz\n\" style=\"fill:#bcbd22;\"/>\n   </g>\n   <g id=\"patch_491\">\n    <path clip-path=\"url(#pf478af78c5)\" d=\"M 310.480095 224.64 \nL 310.894217 224.64 \nL 310.894217 224.64 \nL 310.480095 224.64 \nz\n\" style=\"fill:#bcbd22;\"/>\n   </g>\n   <g id=\"patch_492\">\n    <path clip-path=\"url(#pf478af78c5)\" d=\"M 341.537601 224.64 \nL 341.951723 224.64 \nL 341.951723 224.64 \nL 341.537601 224.64 \nz\n\" style=\"fill:#bcbd22;\"/>\n   </g>\n   <g id=\"patch_493\">\n    <path clip-path=\"url(#pf478af78c5)\" d=\"M 62.434091 224.64 \nL 62.848212 224.64 \nL 62.848212 31.36 \nL 62.434091 31.36 \nz\n\" style=\"fill:#17becf;\"/>\n   </g>\n   <g id=\"patch_494\">\n    <path clip-path=\"url(#pf478af78c5)\" d=\"M 93.491597 224.64 \nL 93.905718 224.64 \nL 93.905718 210.834286 \nL 93.491597 210.834286 \nz\n\" style=\"fill:#17becf;\"/>\n   </g>\n   <g id=\"patch_495\">\n    <path clip-path=\"url(#pf478af78c5)\" d=\"M 124.549102 224.64 \nL 124.963224 224.64 \nL 124.963224 224.64 \nL 124.549102 224.64 \nz\n\" style=\"fill:#17becf;\"/>\n   </g>\n   <g id=\"patch_496\">\n    <path clip-path=\"url(#pf478af78c5)\" d=\"M 155.606608 224.64 \nL 156.02073 224.64 \nL 156.02073 224.64 \nL 155.606608 224.64 \nz\n\" style=\"fill:#17becf;\"/>\n   </g>\n   <g id=\"patch_497\">\n    <path clip-path=\"url(#pf478af78c5)\" d=\"M 186.664194 224.64 \nL 187.078316 224.64 \nL 187.078316 224.64 \nL 186.664194 224.64 \nz\n\" style=\"fill:#17becf;\"/>\n   </g>\n   <g id=\"patch_498\">\n    <path clip-path=\"url(#pf478af78c5)\" d=\"M 217.7217 224.64 \nL 218.135821 224.64 \nL 218.135821 224.64 \nL 217.7217 224.64 \nz\n\" style=\"fill:#17becf;\"/>\n   </g>\n   <g id=\"patch_499\">\n    <path clip-path=\"url(#pf478af78c5)\" d=\"M 248.779206 224.64 \nL 249.193327 224.64 \nL 249.193327 224.64 \nL 248.779206 224.64 \nz\n\" style=\"fill:#17becf;\"/>\n   </g>\n   <g id=\"patch_500\">\n    <path clip-path=\"url(#pf478af78c5)\" d=\"M 279.836711 224.64 \nL 280.250833 224.64 \nL 280.250833 224.64 \nL 279.836711 224.64 \nz\n\" style=\"fill:#17becf;\"/>\n   </g>\n   <g id=\"patch_501\">\n    <path clip-path=\"url(#pf478af78c5)\" d=\"M 310.894217 224.64 \nL 311.308339 224.64 \nL 311.308339 224.64 \nL 310.894217 224.64 \nz\n\" style=\"fill:#17becf;\"/>\n   </g>\n   <g id=\"patch_502\">\n    <path clip-path=\"url(#pf478af78c5)\" d=\"M 341.951723 224.64 \nL 342.365844 224.64 \nL 342.365844 224.64 \nL 341.951723 224.64 \nz\n\" style=\"fill:#17becf;\"/>\n   </g>\n   <g id=\"patch_503\">\n    <path clip-path=\"url(#pf478af78c5)\" d=\"M 62.848132 224.64 \nL 63.262254 224.64 \nL 63.262254 21.005714 \nL 62.848132 21.005714 \nz\n\" style=\"fill:#1f77b4;\"/>\n   </g>\n   <g id=\"patch_504\">\n    <path clip-path=\"url(#pf478af78c5)\" d=\"M 93.905638 224.64 \nL 94.319759 224.64 \nL 94.319759 221.188571 \nL 93.905638 221.188571 \nz\n\" style=\"fill:#1f77b4;\"/>\n   </g>\n   <g id=\"patch_505\">\n    <path clip-path=\"url(#pf478af78c5)\" d=\"M 124.963143 224.64 \nL 125.377265 224.64 \nL 125.377265 224.64 \nL 124.963143 224.64 \nz\n\" style=\"fill:#1f77b4;\"/>\n   </g>\n   <g id=\"patch_506\">\n    <path clip-path=\"url(#pf478af78c5)\" d=\"M 156.020649 224.64 \nL 156.434771 224.64 \nL 156.434771 224.64 \nL 156.020649 224.64 \nz\n\" style=\"fill:#1f77b4;\"/>\n   </g>\n   <g id=\"patch_507\">\n    <path clip-path=\"url(#pf478af78c5)\" d=\"M 187.078235 224.64 \nL 187.492357 224.64 \nL 187.492357 224.64 \nL 187.078235 224.64 \nz\n\" style=\"fill:#1f77b4;\"/>\n   </g>\n   <g id=\"patch_508\">\n    <path clip-path=\"url(#pf478af78c5)\" d=\"M 218.135741 224.64 \nL 218.549862 224.64 \nL 218.549862 224.64 \nL 218.135741 224.64 \nz\n\" style=\"fill:#1f77b4;\"/>\n   </g>\n   <g id=\"patch_509\">\n    <path clip-path=\"url(#pf478af78c5)\" d=\"M 249.193247 224.64 \nL 249.607368 224.64 \nL 249.607368 224.64 \nL 249.193247 224.64 \nz\n\" style=\"fill:#1f77b4;\"/>\n   </g>\n   <g id=\"patch_510\">\n    <path clip-path=\"url(#pf478af78c5)\" d=\"M 280.250752 224.64 \nL 280.664874 224.64 \nL 280.664874 224.64 \nL 280.250752 224.64 \nz\n\" style=\"fill:#1f77b4;\"/>\n   </g>\n   <g id=\"patch_511\">\n    <path clip-path=\"url(#pf478af78c5)\" d=\"M 311.308258 224.64 \nL 311.72238 224.64 \nL 311.72238 224.64 \nL 311.308258 224.64 \nz\n\" style=\"fill:#1f77b4;\"/>\n   </g>\n   <g id=\"patch_512\">\n    <path clip-path=\"url(#pf478af78c5)\" d=\"M 342.365764 224.64 \nL 342.779885 224.64 \nL 342.779885 224.64 \nL 342.365764 224.64 \nz\n\" style=\"fill:#1f77b4;\"/>\n   </g>\n   <g id=\"patch_513\">\n    <path clip-path=\"url(#pf478af78c5)\" d=\"M 63.262254 224.64 \nL 63.676375 224.64 \nL 63.676375 34.811429 \nL 63.262254 34.811429 \nz\n\" style=\"fill:#ff7f0e;\"/>\n   </g>\n   <g id=\"patch_514\">\n    <path clip-path=\"url(#pf478af78c5)\" d=\"M 94.319759 224.64 \nL 94.733881 224.64 \nL 94.733881 207.382857 \nL 94.319759 207.382857 \nz\n\" style=\"fill:#ff7f0e;\"/>\n   </g>\n   <g id=\"patch_515\">\n    <path clip-path=\"url(#pf478af78c5)\" d=\"M 125.377265 224.64 \nL 125.791386 224.64 \nL 125.791386 224.64 \nL 125.377265 224.64 \nz\n\" style=\"fill:#ff7f0e;\"/>\n   </g>\n   <g id=\"patch_516\">\n    <path clip-path=\"url(#pf478af78c5)\" d=\"M 156.434771 224.64 \nL 156.848892 224.64 \nL 156.848892 224.64 \nL 156.434771 224.64 \nz\n\" style=\"fill:#ff7f0e;\"/>\n   </g>\n   <g id=\"patch_517\">\n    <path clip-path=\"url(#pf478af78c5)\" d=\"M 187.492357 224.64 \nL 187.906478 224.64 \nL 187.906478 224.64 \nL 187.492357 224.64 \nz\n\" style=\"fill:#ff7f0e;\"/>\n   </g>\n   <g id=\"patch_518\">\n    <path clip-path=\"url(#pf478af78c5)\" d=\"M 218.549862 224.64 \nL 218.963984 224.64 \nL 218.963984 224.64 \nL 218.549862 224.64 \nz\n\" style=\"fill:#ff7f0e;\"/>\n   </g>\n   <g id=\"patch_519\">\n    <path clip-path=\"url(#pf478af78c5)\" d=\"M 249.607368 224.64 \nL 250.02149 224.64 \nL 250.02149 224.64 \nL 249.607368 224.64 \nz\n\" style=\"fill:#ff7f0e;\"/>\n   </g>\n   <g id=\"patch_520\">\n    <path clip-path=\"url(#pf478af78c5)\" d=\"M 280.664874 224.64 \nL 281.078995 224.64 \nL 281.078995 224.64 \nL 280.664874 224.64 \nz\n\" style=\"fill:#ff7f0e;\"/>\n   </g>\n   <g id=\"patch_521\">\n    <path clip-path=\"url(#pf478af78c5)\" d=\"M 311.72238 224.64 \nL 312.136501 224.64 \nL 312.136501 224.64 \nL 311.72238 224.64 \nz\n\" style=\"fill:#ff7f0e;\"/>\n   </g>\n   <g id=\"patch_522\">\n    <path clip-path=\"url(#pf478af78c5)\" d=\"M 342.779885 224.64 \nL 343.194007 224.64 \nL 343.194007 224.64 \nL 342.779885 224.64 \nz\n\" style=\"fill:#ff7f0e;\"/>\n   </g>\n   <g id=\"patch_523\">\n    <path clip-path=\"url(#pf478af78c5)\" d=\"M 63.676375 224.64 \nL 64.090497 224.64 \nL 64.090497 45.165714 \nL 63.676375 45.165714 \nz\n\" style=\"fill:#2ca02c;\"/>\n   </g>\n   <g id=\"patch_524\">\n    <path clip-path=\"url(#pf478af78c5)\" d=\"M 94.733881 224.64 \nL 95.148002 224.64 \nL 95.148002 197.028571 \nL 94.733881 197.028571 \nz\n\" style=\"fill:#2ca02c;\"/>\n   </g>\n   <g id=\"patch_525\">\n    <path clip-path=\"url(#pf478af78c5)\" d=\"M 125.791386 224.64 \nL 126.205508 224.64 \nL 126.205508 224.64 \nL 125.791386 224.64 \nz\n\" style=\"fill:#2ca02c;\"/>\n   </g>\n   <g id=\"patch_526\">\n    <path clip-path=\"url(#pf478af78c5)\" d=\"M 156.848892 224.64 \nL 157.263014 224.64 \nL 157.263014 224.64 \nL 156.848892 224.64 \nz\n\" style=\"fill:#2ca02c;\"/>\n   </g>\n   <g id=\"patch_527\">\n    <path clip-path=\"url(#pf478af78c5)\" d=\"M 187.906478 224.64 \nL 188.3206 224.64 \nL 188.3206 224.64 \nL 187.906478 224.64 \nz\n\" style=\"fill:#2ca02c;\"/>\n   </g>\n   <g id=\"patch_528\">\n    <path clip-path=\"url(#pf478af78c5)\" d=\"M 218.963984 224.64 \nL 219.378106 224.64 \nL 219.378106 224.64 \nL 218.963984 224.64 \nz\n\" style=\"fill:#2ca02c;\"/>\n   </g>\n   <g id=\"patch_529\">\n    <path clip-path=\"url(#pf478af78c5)\" d=\"M 250.02149 224.64 \nL 250.435611 224.64 \nL 250.435611 224.64 \nL 250.02149 224.64 \nz\n\" style=\"fill:#2ca02c;\"/>\n   </g>\n   <g id=\"patch_530\">\n    <path clip-path=\"url(#pf478af78c5)\" d=\"M 281.078995 224.64 \nL 281.493117 224.64 \nL 281.493117 224.64 \nL 281.078995 224.64 \nz\n\" style=\"fill:#2ca02c;\"/>\n   </g>\n   <g id=\"patch_531\">\n    <path clip-path=\"url(#pf478af78c5)\" d=\"M 312.136501 224.64 \nL 312.550623 224.64 \nL 312.550623 224.64 \nL 312.136501 224.64 \nz\n\" style=\"fill:#2ca02c;\"/>\n   </g>\n   <g id=\"patch_532\">\n    <path clip-path=\"url(#pf478af78c5)\" d=\"M 343.194007 224.64 \nL 343.608128 224.64 \nL 343.608128 224.64 \nL 343.194007 224.64 \nz\n\" style=\"fill:#2ca02c;\"/>\n   </g>\n   <g id=\"patch_533\">\n    <path clip-path=\"url(#pf478af78c5)\" d=\"M 64.090497 224.64 \nL 64.504618 224.64 \nL 64.504618 31.36 \nL 64.090497 31.36 \nz\n\" style=\"fill:#d62728;\"/>\n   </g>\n   <g id=\"patch_534\">\n    <path clip-path=\"url(#pf478af78c5)\" d=\"M 95.148002 224.64 \nL 95.562124 224.64 \nL 95.562124 210.834286 \nL 95.148002 210.834286 \nz\n\" style=\"fill:#d62728;\"/>\n   </g>\n   <g id=\"patch_535\">\n    <path clip-path=\"url(#pf478af78c5)\" d=\"M 126.205508 224.64 \nL 126.61963 224.64 \nL 126.61963 224.64 \nL 126.205508 224.64 \nz\n\" style=\"fill:#d62728;\"/>\n   </g>\n   <g id=\"patch_536\">\n    <path clip-path=\"url(#pf478af78c5)\" d=\"M 157.263014 224.64 \nL 157.677135 224.64 \nL 157.677135 224.64 \nL 157.263014 224.64 \nz\n\" style=\"fill:#d62728;\"/>\n   </g>\n   <g id=\"patch_537\">\n    <path clip-path=\"url(#pf478af78c5)\" d=\"M 188.3206 224.64 \nL 188.734721 224.64 \nL 188.734721 224.64 \nL 188.3206 224.64 \nz\n\" style=\"fill:#d62728;\"/>\n   </g>\n   <g id=\"patch_538\">\n    <path clip-path=\"url(#pf478af78c5)\" d=\"M 219.378106 224.64 \nL 219.792227 224.64 \nL 219.792227 224.64 \nL 219.378106 224.64 \nz\n\" style=\"fill:#d62728;\"/>\n   </g>\n   <g id=\"patch_539\">\n    <path clip-path=\"url(#pf478af78c5)\" d=\"M 250.435611 224.64 \nL 250.849733 224.64 \nL 250.849733 224.64 \nL 250.435611 224.64 \nz\n\" style=\"fill:#d62728;\"/>\n   </g>\n   <g id=\"patch_540\">\n    <path clip-path=\"url(#pf478af78c5)\" d=\"M 281.493117 224.64 \nL 281.907238 224.64 \nL 281.907238 224.64 \nL 281.493117 224.64 \nz\n\" style=\"fill:#d62728;\"/>\n   </g>\n   <g id=\"patch_541\">\n    <path clip-path=\"url(#pf478af78c5)\" d=\"M 312.550623 224.64 \nL 312.964744 224.64 \nL 312.964744 224.64 \nL 312.550623 224.64 \nz\n\" style=\"fill:#d62728;\"/>\n   </g>\n   <g id=\"patch_542\">\n    <path clip-path=\"url(#pf478af78c5)\" d=\"M 343.608128 224.64 \nL 344.02225 224.64 \nL 344.02225 224.64 \nL 343.608128 224.64 \nz\n\" style=\"fill:#d62728;\"/>\n   </g>\n   <g id=\"patch_543\">\n    <path clip-path=\"url(#pf478af78c5)\" d=\"M 64.504538 224.64 \nL 64.918659 224.64 \nL 64.918659 34.811429 \nL 64.504538 34.811429 \nz\n\" style=\"fill:#9467bd;\"/>\n   </g>\n   <g id=\"patch_544\">\n    <path clip-path=\"url(#pf478af78c5)\" d=\"M 95.562043 224.64 \nL 95.976165 224.64 \nL 95.976165 207.382857 \nL 95.562043 207.382857 \nz\n\" style=\"fill:#9467bd;\"/>\n   </g>\n   <g id=\"patch_545\">\n    <path clip-path=\"url(#pf478af78c5)\" d=\"M 126.619549 224.64 \nL 127.033671 224.64 \nL 127.033671 224.64 \nL 126.619549 224.64 \nz\n\" style=\"fill:#9467bd;\"/>\n   </g>\n   <g id=\"patch_546\">\n    <path clip-path=\"url(#pf478af78c5)\" d=\"M 157.677055 224.64 \nL 158.091176 224.64 \nL 158.091176 224.64 \nL 157.677055 224.64 \nz\n\" style=\"fill:#9467bd;\"/>\n   </g>\n   <g id=\"patch_547\">\n    <path clip-path=\"url(#pf478af78c5)\" d=\"M 188.734641 224.64 \nL 189.148762 224.64 \nL 189.148762 224.64 \nL 188.734641 224.64 \nz\n\" style=\"fill:#9467bd;\"/>\n   </g>\n   <g id=\"patch_548\">\n    <path clip-path=\"url(#pf478af78c5)\" d=\"M 219.792147 224.64 \nL 220.206268 224.64 \nL 220.206268 224.64 \nL 219.792147 224.64 \nz\n\" style=\"fill:#9467bd;\"/>\n   </g>\n   <g id=\"patch_549\">\n    <path clip-path=\"url(#pf478af78c5)\" d=\"M 250.849652 224.64 \nL 251.263774 224.64 \nL 251.263774 224.64 \nL 250.849652 224.64 \nz\n\" style=\"fill:#9467bd;\"/>\n   </g>\n   <g id=\"patch_550\">\n    <path clip-path=\"url(#pf478af78c5)\" d=\"M 281.907158 224.64 \nL 282.32128 224.64 \nL 282.32128 224.64 \nL 281.907158 224.64 \nz\n\" style=\"fill:#9467bd;\"/>\n   </g>\n   <g id=\"patch_551\">\n    <path clip-path=\"url(#pf478af78c5)\" d=\"M 312.964664 224.64 \nL 313.378785 224.64 \nL 313.378785 224.64 \nL 312.964664 224.64 \nz\n\" style=\"fill:#9467bd;\"/>\n   </g>\n   <g id=\"patch_552\">\n    <path clip-path=\"url(#pf478af78c5)\" d=\"M 344.022169 224.64 \nL 344.436291 224.64 \nL 344.436291 224.64 \nL 344.022169 224.64 \nz\n\" style=\"fill:#9467bd;\"/>\n   </g>\n   <g id=\"patch_553\">\n    <path clip-path=\"url(#pf478af78c5)\" d=\"M 64.918659 224.64 \nL 65.332781 224.64 \nL 65.332781 27.908571 \nL 64.918659 27.908571 \nz\n\" style=\"fill:#8c564b;\"/>\n   </g>\n   <g id=\"patch_554\">\n    <path clip-path=\"url(#pf478af78c5)\" d=\"M 95.976165 224.64 \nL 96.390286 224.64 \nL 96.390286 214.285714 \nL 95.976165 214.285714 \nz\n\" style=\"fill:#8c564b;\"/>\n   </g>\n   <g id=\"patch_555\">\n    <path clip-path=\"url(#pf478af78c5)\" d=\"M 127.033671 224.64 \nL 127.447792 224.64 \nL 127.447792 224.64 \nL 127.033671 224.64 \nz\n\" style=\"fill:#8c564b;\"/>\n   </g>\n   <g id=\"patch_556\">\n    <path clip-path=\"url(#pf478af78c5)\" d=\"M 158.091176 224.64 \nL 158.505298 224.64 \nL 158.505298 224.64 \nL 158.091176 224.64 \nz\n\" style=\"fill:#8c564b;\"/>\n   </g>\n   <g id=\"patch_557\">\n    <path clip-path=\"url(#pf478af78c5)\" d=\"M 189.148762 224.64 \nL 189.562884 224.64 \nL 189.562884 224.64 \nL 189.148762 224.64 \nz\n\" style=\"fill:#8c564b;\"/>\n   </g>\n   <g id=\"patch_558\">\n    <path clip-path=\"url(#pf478af78c5)\" d=\"M 220.206268 224.64 \nL 220.62039 224.64 \nL 220.62039 224.64 \nL 220.206268 224.64 \nz\n\" style=\"fill:#8c564b;\"/>\n   </g>\n   <g id=\"patch_559\">\n    <path clip-path=\"url(#pf478af78c5)\" d=\"M 251.263774 224.64 \nL 251.677895 224.64 \nL 251.677895 224.64 \nL 251.263774 224.64 \nz\n\" style=\"fill:#8c564b;\"/>\n   </g>\n   <g id=\"patch_560\">\n    <path clip-path=\"url(#pf478af78c5)\" d=\"M 282.32128 224.64 \nL 282.735401 224.64 \nL 282.735401 224.64 \nL 282.32128 224.64 \nz\n\" style=\"fill:#8c564b;\"/>\n   </g>\n   <g id=\"patch_561\">\n    <path clip-path=\"url(#pf478af78c5)\" d=\"M 313.378785 224.64 \nL 313.792907 224.64 \nL 313.792907 224.64 \nL 313.378785 224.64 \nz\n\" style=\"fill:#8c564b;\"/>\n   </g>\n   <g id=\"patch_562\">\n    <path clip-path=\"url(#pf478af78c5)\" d=\"M 344.436291 224.64 \nL 344.850413 224.64 \nL 344.850413 224.64 \nL 344.436291 224.64 \nz\n\" style=\"fill:#8c564b;\"/>\n   </g>\n   <g id=\"patch_563\">\n    <path clip-path=\"url(#pf478af78c5)\" d=\"M 65.332781 224.64 \nL 65.746902 224.64 \nL 65.746902 31.36 \nL 65.332781 31.36 \nz\n\" style=\"fill:#e377c2;\"/>\n   </g>\n   <g id=\"patch_564\">\n    <path clip-path=\"url(#pf478af78c5)\" d=\"M 96.390286 224.64 \nL 96.804408 224.64 \nL 96.804408 210.834286 \nL 96.390286 210.834286 \nz\n\" style=\"fill:#e377c2;\"/>\n   </g>\n   <g id=\"patch_565\">\n    <path clip-path=\"url(#pf478af78c5)\" d=\"M 127.447792 224.64 \nL 127.861914 224.64 \nL 127.861914 224.64 \nL 127.447792 224.64 \nz\n\" style=\"fill:#e377c2;\"/>\n   </g>\n   <g id=\"patch_566\">\n    <path clip-path=\"url(#pf478af78c5)\" d=\"M 158.505298 224.64 \nL 158.919419 224.64 \nL 158.919419 224.64 \nL 158.505298 224.64 \nz\n\" style=\"fill:#e377c2;\"/>\n   </g>\n   <g id=\"patch_567\">\n    <path clip-path=\"url(#pf478af78c5)\" d=\"M 189.562884 224.64 \nL 189.977005 224.64 \nL 189.977005 224.64 \nL 189.562884 224.64 \nz\n\" style=\"fill:#e377c2;\"/>\n   </g>\n   <g id=\"patch_568\">\n    <path clip-path=\"url(#pf478af78c5)\" d=\"M 220.62039 224.64 \nL 221.034511 224.64 \nL 221.034511 224.64 \nL 220.62039 224.64 \nz\n\" style=\"fill:#e377c2;\"/>\n   </g>\n   <g id=\"patch_569\">\n    <path clip-path=\"url(#pf478af78c5)\" d=\"M 251.677895 224.64 \nL 252.092017 224.64 \nL 252.092017 224.64 \nL 251.677895 224.64 \nz\n\" style=\"fill:#e377c2;\"/>\n   </g>\n   <g id=\"patch_570\">\n    <path clip-path=\"url(#pf478af78c5)\" d=\"M 282.735401 224.64 \nL 283.149523 224.64 \nL 283.149523 224.64 \nL 282.735401 224.64 \nz\n\" style=\"fill:#e377c2;\"/>\n   </g>\n   <g id=\"patch_571\">\n    <path clip-path=\"url(#pf478af78c5)\" d=\"M 313.792907 224.64 \nL 314.207028 224.64 \nL 314.207028 224.64 \nL 313.792907 224.64 \nz\n\" style=\"fill:#e377c2;\"/>\n   </g>\n   <g id=\"patch_572\">\n    <path clip-path=\"url(#pf478af78c5)\" d=\"M 344.850413 224.64 \nL 345.264534 224.64 \nL 345.264534 224.64 \nL 344.850413 224.64 \nz\n\" style=\"fill:#e377c2;\"/>\n   </g>\n   <g id=\"patch_573\">\n    <path clip-path=\"url(#pf478af78c5)\" d=\"M 65.746902 224.64 \nL 66.161024 224.64 \nL 66.161024 27.908571 \nL 65.746902 27.908571 \nz\n\" style=\"fill:#7f7f7f;\"/>\n   </g>\n   <g id=\"patch_574\">\n    <path clip-path=\"url(#pf478af78c5)\" d=\"M 96.804408 224.64 \nL 97.218529 224.64 \nL 97.218529 214.285714 \nL 96.804408 214.285714 \nz\n\" style=\"fill:#7f7f7f;\"/>\n   </g>\n   <g id=\"patch_575\">\n    <path clip-path=\"url(#pf478af78c5)\" d=\"M 127.861914 224.64 \nL 128.276035 224.64 \nL 128.276035 224.64 \nL 127.861914 224.64 \nz\n\" style=\"fill:#7f7f7f;\"/>\n   </g>\n   <g id=\"patch_576\">\n    <path clip-path=\"url(#pf478af78c5)\" d=\"M 158.919419 224.64 \nL 159.333541 224.64 \nL 159.333541 224.64 \nL 158.919419 224.64 \nz\n\" style=\"fill:#7f7f7f;\"/>\n   </g>\n   <g id=\"patch_577\">\n    <path clip-path=\"url(#pf478af78c5)\" d=\"M 189.977005 224.64 \nL 190.391127 224.64 \nL 190.391127 224.64 \nL 189.977005 224.64 \nz\n\" style=\"fill:#7f7f7f;\"/>\n   </g>\n   <g id=\"patch_578\">\n    <path clip-path=\"url(#pf478af78c5)\" d=\"M 221.034431 224.64 \nL 221.448552 224.64 \nL 221.448552 224.64 \nL 221.034431 224.64 \nz\n\" style=\"fill:#7f7f7f;\"/>\n   </g>\n   <g id=\"patch_579\">\n    <path clip-path=\"url(#pf478af78c5)\" d=\"M 252.091936 224.64 \nL 252.506058 224.64 \nL 252.506058 224.64 \nL 252.091936 224.64 \nz\n\" style=\"fill:#7f7f7f;\"/>\n   </g>\n   <g id=\"patch_580\">\n    <path clip-path=\"url(#pf478af78c5)\" d=\"M 283.149442 224.64 \nL 283.563564 224.64 \nL 283.563564 224.64 \nL 283.149442 224.64 \nz\n\" style=\"fill:#7f7f7f;\"/>\n   </g>\n   <g id=\"patch_581\">\n    <path clip-path=\"url(#pf478af78c5)\" d=\"M 314.206948 224.64 \nL 314.621069 224.64 \nL 314.621069 224.64 \nL 314.206948 224.64 \nz\n\" style=\"fill:#7f7f7f;\"/>\n   </g>\n   <g id=\"patch_582\">\n    <path clip-path=\"url(#pf478af78c5)\" d=\"M 345.264454 224.64 \nL 345.678575 224.64 \nL 345.678575 224.64 \nL 345.264454 224.64 \nz\n\" style=\"fill:#7f7f7f;\"/>\n   </g>\n   <g id=\"patch_583\">\n    <path clip-path=\"url(#pf478af78c5)\" d=\"M 66.160943 224.64 \nL 66.575065 224.64 \nL 66.575065 41.714286 \nL 66.160943 41.714286 \nz\n\" style=\"fill:#bcbd22;\"/>\n   </g>\n   <g id=\"patch_584\">\n    <path clip-path=\"url(#pf478af78c5)\" d=\"M 97.218449 224.64 \nL 97.632571 224.64 \nL 97.632571 200.48 \nL 97.218449 200.48 \nz\n\" style=\"fill:#bcbd22;\"/>\n   </g>\n   <g id=\"patch_585\">\n    <path clip-path=\"url(#pf478af78c5)\" d=\"M 128.275955 224.64 \nL 128.690076 224.64 \nL 128.690076 224.64 \nL 128.275955 224.64 \nz\n\" style=\"fill:#bcbd22;\"/>\n   </g>\n   <g id=\"patch_586\">\n    <path clip-path=\"url(#pf478af78c5)\" d=\"M 159.33346 224.64 \nL 159.747582 224.64 \nL 159.747582 224.64 \nL 159.33346 224.64 \nz\n\" style=\"fill:#bcbd22;\"/>\n   </g>\n   <g id=\"patch_587\">\n    <path clip-path=\"url(#pf478af78c5)\" d=\"M 190.391047 224.64 \nL 190.805168 224.64 \nL 190.805168 224.64 \nL 190.391047 224.64 \nz\n\" style=\"fill:#bcbd22;\"/>\n   </g>\n   <g id=\"patch_588\">\n    <path clip-path=\"url(#pf478af78c5)\" d=\"M 221.448552 224.64 \nL 221.862674 224.64 \nL 221.862674 224.64 \nL 221.448552 224.64 \nz\n\" style=\"fill:#bcbd22;\"/>\n   </g>\n   <g id=\"patch_589\">\n    <path clip-path=\"url(#pf478af78c5)\" d=\"M 252.506058 224.64 \nL 252.92018 224.64 \nL 252.92018 224.64 \nL 252.506058 224.64 \nz\n\" style=\"fill:#bcbd22;\"/>\n   </g>\n   <g id=\"patch_590\">\n    <path clip-path=\"url(#pf478af78c5)\" d=\"M 283.563564 224.64 \nL 283.977685 224.64 \nL 283.977685 224.64 \nL 283.563564 224.64 \nz\n\" style=\"fill:#bcbd22;\"/>\n   </g>\n   <g id=\"patch_591\">\n    <path clip-path=\"url(#pf478af78c5)\" d=\"M 314.621069 224.64 \nL 315.035191 224.64 \nL 315.035191 224.64 \nL 314.621069 224.64 \nz\n\" style=\"fill:#bcbd22;\"/>\n   </g>\n   <g id=\"patch_592\">\n    <path clip-path=\"url(#pf478af78c5)\" d=\"M 345.678575 224.64 \nL 346.092697 224.64 \nL 346.092697 224.64 \nL 345.678575 224.64 \nz\n\" style=\"fill:#bcbd22;\"/>\n   </g>\n   <g id=\"patch_593\">\n    <path clip-path=\"url(#pf478af78c5)\" d=\"M 66.575065 224.64 \nL 66.989186 224.64 \nL 66.989186 27.908571 \nL 66.575065 27.908571 \nz\n\" style=\"fill:#17becf;\"/>\n   </g>\n   <g id=\"patch_594\">\n    <path clip-path=\"url(#pf478af78c5)\" d=\"M 97.632571 224.64 \nL 98.046692 224.64 \nL 98.046692 214.285714 \nL 97.632571 214.285714 \nz\n\" style=\"fill:#17becf;\"/>\n   </g>\n   <g id=\"patch_595\">\n    <path clip-path=\"url(#pf478af78c5)\" d=\"M 128.690076 224.64 \nL 129.104198 224.64 \nL 129.104198 224.64 \nL 128.690076 224.64 \nz\n\" style=\"fill:#17becf;\"/>\n   </g>\n   <g id=\"patch_596\">\n    <path clip-path=\"url(#pf478af78c5)\" d=\"M 159.747582 224.64 \nL 160.161704 224.64 \nL 160.161704 224.64 \nL 159.747582 224.64 \nz\n\" style=\"fill:#17becf;\"/>\n   </g>\n   <g id=\"patch_597\">\n    <path clip-path=\"url(#pf478af78c5)\" d=\"M 190.805168 224.64 \nL 191.21929 224.64 \nL 191.21929 224.64 \nL 190.805168 224.64 \nz\n\" style=\"fill:#17becf;\"/>\n   </g>\n   <g id=\"patch_598\">\n    <path clip-path=\"url(#pf478af78c5)\" d=\"M 221.862674 224.64 \nL 222.276795 224.64 \nL 222.276795 224.64 \nL 221.862674 224.64 \nz\n\" style=\"fill:#17becf;\"/>\n   </g>\n   <g id=\"patch_599\">\n    <path clip-path=\"url(#pf478af78c5)\" d=\"M 252.92018 224.64 \nL 253.334301 224.64 \nL 253.334301 224.64 \nL 252.92018 224.64 \nz\n\" style=\"fill:#17becf;\"/>\n   </g>\n   <g id=\"patch_600\">\n    <path clip-path=\"url(#pf478af78c5)\" d=\"M 283.977685 224.64 \nL 284.391807 224.64 \nL 284.391807 224.64 \nL 283.977685 224.64 \nz\n\" style=\"fill:#17becf;\"/>\n   </g>\n   <g id=\"patch_601\">\n    <path clip-path=\"url(#pf478af78c5)\" d=\"M 315.035191 224.64 \nL 315.449312 224.64 \nL 315.449312 224.64 \nL 315.035191 224.64 \nz\n\" style=\"fill:#17becf;\"/>\n   </g>\n   <g id=\"patch_602\">\n    <path clip-path=\"url(#pf478af78c5)\" d=\"M 346.092697 224.64 \nL 346.506818 224.64 \nL 346.506818 224.64 \nL 346.092697 224.64 \nz\n\" style=\"fill:#17becf;\"/>\n   </g>\n   <g id=\"matplotlib.axis_1\">\n    <g id=\"xtick_1\">\n     <g id=\"line2d_1\">\n      <defs>\n       <path d=\"M 0 0 \nL 0 3.5 \n\" id=\"ma458617960\" style=\"stroke:#000000;stroke-width:0.8;\"/>\n      </defs>\n      <g>\n       <use style=\"stroke:#000000;stroke-width:0.8;\" x=\"79.794853\" xlink:href=\"#ma458617960\" y=\"224.64\"/>\n      </g>\n     </g>\n     <g id=\"text_1\">\n      <!-- 0.80 -->\n      <g transform=\"translate(68.662041 239.238437)scale(0.1 -0.1)\">\n       <defs>\n        <path d=\"M 31.78125 66.40625 \nQ 24.171875 66.40625 20.328125 58.90625 \nQ 16.5 51.421875 16.5 36.375 \nQ 16.5 21.390625 20.328125 13.890625 \nQ 24.171875 6.390625 31.78125 6.390625 \nQ 39.453125 6.390625 43.28125 13.890625 \nQ 47.125 21.390625 47.125 36.375 \nQ 47.125 51.421875 43.28125 58.90625 \nQ 39.453125 66.40625 31.78125 66.40625 \nz\nM 31.78125 74.21875 \nQ 44.046875 74.21875 50.515625 64.515625 \nQ 56.984375 54.828125 56.984375 36.375 \nQ 56.984375 17.96875 50.515625 8.265625 \nQ 44.046875 -1.421875 31.78125 -1.421875 \nQ 19.53125 -1.421875 13.0625 8.265625 \nQ 6.59375 17.96875 6.59375 36.375 \nQ 6.59375 54.828125 13.0625 64.515625 \nQ 19.53125 74.21875 31.78125 74.21875 \nz\n\" id=\"DejaVuSans-48\"/>\n        <path d=\"M 10.6875 12.40625 \nL 21 12.40625 \nL 21 0 \nL 10.6875 0 \nz\n\" id=\"DejaVuSans-46\"/>\n        <path d=\"M 31.78125 34.625 \nQ 24.75 34.625 20.71875 30.859375 \nQ 16.703125 27.09375 16.703125 20.515625 \nQ 16.703125 13.921875 20.71875 10.15625 \nQ 24.75 6.390625 31.78125 6.390625 \nQ 38.8125 6.390625 42.859375 10.171875 \nQ 46.921875 13.96875 46.921875 20.515625 \nQ 46.921875 27.09375 42.890625 30.859375 \nQ 38.875 34.625 31.78125 34.625 \nz\nM 21.921875 38.8125 \nQ 15.578125 40.375 12.03125 44.71875 \nQ 8.5 49.078125 8.5 55.328125 \nQ 8.5 64.0625 14.71875 69.140625 \nQ 20.953125 74.21875 31.78125 74.21875 \nQ 42.671875 74.21875 48.875 69.140625 \nQ 55.078125 64.0625 55.078125 55.328125 \nQ 55.078125 49.078125 51.53125 44.71875 \nQ 48 40.375 41.703125 38.8125 \nQ 48.828125 37.15625 52.796875 32.3125 \nQ 56.78125 27.484375 56.78125 20.515625 \nQ 56.78125 9.90625 50.3125 4.234375 \nQ 43.84375 -1.421875 31.78125 -1.421875 \nQ 19.734375 -1.421875 13.25 4.234375 \nQ 6.78125 9.90625 6.78125 20.515625 \nQ 6.78125 27.484375 10.78125 32.3125 \nQ 14.796875 37.15625 21.921875 38.8125 \nz\nM 18.3125 54.390625 \nQ 18.3125 48.734375 21.84375 45.5625 \nQ 25.390625 42.390625 31.78125 42.390625 \nQ 38.140625 42.390625 41.71875 45.5625 \nQ 45.3125 48.734375 45.3125 54.390625 \nQ 45.3125 60.0625 41.71875 63.234375 \nQ 38.140625 66.40625 31.78125 66.40625 \nQ 25.390625 66.40625 21.84375 63.234375 \nQ 18.3125 60.0625 18.3125 54.390625 \nz\n\" id=\"DejaVuSans-56\"/>\n       </defs>\n       <use xlink:href=\"#DejaVuSans-48\"/>\n       <use x=\"63.623047\" xlink:href=\"#DejaVuSans-46\"/>\n       <use x=\"95.410156\" xlink:href=\"#DejaVuSans-56\"/>\n       <use x=\"159.033203\" xlink:href=\"#DejaVuSans-48\"/>\n      </g>\n     </g>\n    </g>\n    <g id=\"xtick_2\">\n     <g id=\"line2d_2\">\n      <g>\n       <use style=\"stroke:#000000;stroke-width:0.8;\" x=\"147.249282\" xlink:href=\"#ma458617960\" y=\"224.64\"/>\n      </g>\n     </g>\n     <g id=\"text_2\">\n      <!-- 0.85 -->\n      <g transform=\"translate(136.116469 239.238437)scale(0.1 -0.1)\">\n       <defs>\n        <path d=\"M 10.796875 72.90625 \nL 49.515625 72.90625 \nL 49.515625 64.59375 \nL 19.828125 64.59375 \nL 19.828125 46.734375 \nQ 21.96875 47.46875 24.109375 47.828125 \nQ 26.265625 48.1875 28.421875 48.1875 \nQ 40.625 48.1875 47.75 41.5 \nQ 54.890625 34.8125 54.890625 23.390625 \nQ 54.890625 11.625 47.5625 5.09375 \nQ 40.234375 -1.421875 26.90625 -1.421875 \nQ 22.3125 -1.421875 17.546875 -0.640625 \nQ 12.796875 0.140625 7.71875 1.703125 \nL 7.71875 11.625 \nQ 12.109375 9.234375 16.796875 8.0625 \nQ 21.484375 6.890625 26.703125 6.890625 \nQ 35.15625 6.890625 40.078125 11.328125 \nQ 45.015625 15.765625 45.015625 23.390625 \nQ 45.015625 31 40.078125 35.4375 \nQ 35.15625 39.890625 26.703125 39.890625 \nQ 22.75 39.890625 18.8125 39.015625 \nQ 14.890625 38.140625 10.796875 36.28125 \nz\n\" id=\"DejaVuSans-53\"/>\n       </defs>\n       <use xlink:href=\"#DejaVuSans-48\"/>\n       <use x=\"63.623047\" xlink:href=\"#DejaVuSans-46\"/>\n       <use x=\"95.410156\" xlink:href=\"#DejaVuSans-56\"/>\n       <use x=\"159.033203\" xlink:href=\"#DejaVuSans-53\"/>\n      </g>\n     </g>\n    </g>\n    <g id=\"xtick_3\">\n     <g id=\"line2d_3\">\n      <g>\n       <use style=\"stroke:#000000;stroke-width:0.8;\" x=\"214.703711\" xlink:href=\"#ma458617960\" y=\"224.64\"/>\n      </g>\n     </g>\n     <g id=\"text_3\">\n      <!-- 0.90 -->\n      <g transform=\"translate(203.570898 239.238437)scale(0.1 -0.1)\">\n       <defs>\n        <path d=\"M 10.984375 1.515625 \nL 10.984375 10.5 \nQ 14.703125 8.734375 18.5 7.8125 \nQ 22.3125 6.890625 25.984375 6.890625 \nQ 35.75 6.890625 40.890625 13.453125 \nQ 46.046875 20.015625 46.78125 33.40625 \nQ 43.953125 29.203125 39.59375 26.953125 \nQ 35.25 24.703125 29.984375 24.703125 \nQ 19.046875 24.703125 12.671875 31.3125 \nQ 6.296875 37.9375 6.296875 49.421875 \nQ 6.296875 60.640625 12.9375 67.421875 \nQ 19.578125 74.21875 30.609375 74.21875 \nQ 43.265625 74.21875 49.921875 64.515625 \nQ 56.59375 54.828125 56.59375 36.375 \nQ 56.59375 19.140625 48.40625 8.859375 \nQ 40.234375 -1.421875 26.421875 -1.421875 \nQ 22.703125 -1.421875 18.890625 -0.6875 \nQ 15.09375 0.046875 10.984375 1.515625 \nz\nM 30.609375 32.421875 \nQ 37.25 32.421875 41.125 36.953125 \nQ 45.015625 41.5 45.015625 49.421875 \nQ 45.015625 57.28125 41.125 61.84375 \nQ 37.25 66.40625 30.609375 66.40625 \nQ 23.96875 66.40625 20.09375 61.84375 \nQ 16.21875 57.28125 16.21875 49.421875 \nQ 16.21875 41.5 20.09375 36.953125 \nQ 23.96875 32.421875 30.609375 32.421875 \nz\n\" id=\"DejaVuSans-57\"/>\n       </defs>\n       <use xlink:href=\"#DejaVuSans-48\"/>\n       <use x=\"63.623047\" xlink:href=\"#DejaVuSans-46\"/>\n       <use x=\"95.410156\" xlink:href=\"#DejaVuSans-57\"/>\n       <use x=\"159.033203\" xlink:href=\"#DejaVuSans-48\"/>\n      </g>\n     </g>\n    </g>\n    <g id=\"xtick_4\">\n     <g id=\"line2d_4\">\n      <g>\n       <use style=\"stroke:#000000;stroke-width:0.8;\" x=\"282.15814\" xlink:href=\"#ma458617960\" y=\"224.64\"/>\n      </g>\n     </g>\n     <g id=\"text_4\">\n      <!-- 0.95 -->\n      <g transform=\"translate(271.025327 239.238437)scale(0.1 -0.1)\">\n       <use xlink:href=\"#DejaVuSans-48\"/>\n       <use x=\"63.623047\" xlink:href=\"#DejaVuSans-46\"/>\n       <use x=\"95.410156\" xlink:href=\"#DejaVuSans-57\"/>\n       <use x=\"159.033203\" xlink:href=\"#DejaVuSans-53\"/>\n      </g>\n     </g>\n    </g>\n    <g id=\"xtick_5\">\n     <g id=\"line2d_5\">\n      <g>\n       <use style=\"stroke:#000000;stroke-width:0.8;\" x=\"349.612569\" xlink:href=\"#ma458617960\" y=\"224.64\"/>\n      </g>\n     </g>\n     <g id=\"text_5\">\n      <!-- 1.00 -->\n      <g transform=\"translate(338.479756 239.238437)scale(0.1 -0.1)\">\n       <defs>\n        <path d=\"M 12.40625 8.296875 \nL 28.515625 8.296875 \nL 28.515625 63.921875 \nL 10.984375 60.40625 \nL 10.984375 69.390625 \nL 28.421875 72.90625 \nL 38.28125 72.90625 \nL 38.28125 8.296875 \nL 54.390625 8.296875 \nL 54.390625 0 \nL 12.40625 0 \nz\n\" id=\"DejaVuSans-49\"/>\n       </defs>\n       <use xlink:href=\"#DejaVuSans-49\"/>\n       <use x=\"63.623047\" xlink:href=\"#DejaVuSans-46\"/>\n       <use x=\"95.410156\" xlink:href=\"#DejaVuSans-48\"/>\n       <use x=\"159.033203\" xlink:href=\"#DejaVuSans-48\"/>\n      </g>\n     </g>\n    </g>\n   </g>\n   <g id=\"matplotlib.axis_2\">\n    <g id=\"ytick_1\">\n     <g id=\"line2d_6\">\n      <defs>\n       <path d=\"M 0 0 \nL -3.5 0 \n\" id=\"m6c67e4d42c\" style=\"stroke:#000000;stroke-width:0.8;\"/>\n      </defs>\n      <g>\n       <use style=\"stroke:#000000;stroke-width:0.8;\" x=\"26.925\" xlink:href=\"#m6c67e4d42c\" y=\"224.64\"/>\n      </g>\n     </g>\n     <g id=\"text_6\">\n      <!-- 0 -->\n      <g transform=\"translate(13.5625 228.439219)scale(0.1 -0.1)\">\n       <use xlink:href=\"#DejaVuSans-48\"/>\n      </g>\n     </g>\n    </g>\n    <g id=\"ytick_2\">\n     <g id=\"line2d_7\">\n      <g>\n       <use style=\"stroke:#000000;stroke-width:0.8;\" x=\"26.925\" xlink:href=\"#m6c67e4d42c\" y=\"190.125714\"/>\n      </g>\n     </g>\n     <g id=\"text_7\">\n      <!-- 10 -->\n      <g transform=\"translate(7.2 193.924933)scale(0.1 -0.1)\">\n       <use xlink:href=\"#DejaVuSans-49\"/>\n       <use x=\"63.623047\" xlink:href=\"#DejaVuSans-48\"/>\n      </g>\n     </g>\n    </g>\n    <g id=\"ytick_3\">\n     <g id=\"line2d_8\">\n      <g>\n       <use style=\"stroke:#000000;stroke-width:0.8;\" x=\"26.925\" xlink:href=\"#m6c67e4d42c\" y=\"155.611429\"/>\n      </g>\n     </g>\n     <g id=\"text_8\">\n      <!-- 20 -->\n      <g transform=\"translate(7.2 159.410647)scale(0.1 -0.1)\">\n       <defs>\n        <path d=\"M 19.1875 8.296875 \nL 53.609375 8.296875 \nL 53.609375 0 \nL 7.328125 0 \nL 7.328125 8.296875 \nQ 12.9375 14.109375 22.625 23.890625 \nQ 32.328125 33.6875 34.8125 36.53125 \nQ 39.546875 41.84375 41.421875 45.53125 \nQ 43.3125 49.21875 43.3125 52.78125 \nQ 43.3125 58.59375 39.234375 62.25 \nQ 35.15625 65.921875 28.609375 65.921875 \nQ 23.96875 65.921875 18.8125 64.3125 \nQ 13.671875 62.703125 7.8125 59.421875 \nL 7.8125 69.390625 \nQ 13.765625 71.78125 18.9375 73 \nQ 24.125 74.21875 28.421875 74.21875 \nQ 39.75 74.21875 46.484375 68.546875 \nQ 53.21875 62.890625 53.21875 53.421875 \nQ 53.21875 48.921875 51.53125 44.890625 \nQ 49.859375 40.875 45.40625 35.40625 \nQ 44.1875 33.984375 37.640625 27.21875 \nQ 31.109375 20.453125 19.1875 8.296875 \nz\n\" id=\"DejaVuSans-50\"/>\n       </defs>\n       <use xlink:href=\"#DejaVuSans-50\"/>\n       <use x=\"63.623047\" xlink:href=\"#DejaVuSans-48\"/>\n      </g>\n     </g>\n    </g>\n    <g id=\"ytick_4\">\n     <g id=\"line2d_9\">\n      <g>\n       <use style=\"stroke:#000000;stroke-width:0.8;\" x=\"26.925\" xlink:href=\"#m6c67e4d42c\" y=\"121.097143\"/>\n      </g>\n     </g>\n     <g id=\"text_9\">\n      <!-- 30 -->\n      <g transform=\"translate(7.2 124.896362)scale(0.1 -0.1)\">\n       <defs>\n        <path d=\"M 40.578125 39.3125 \nQ 47.65625 37.796875 51.625 33 \nQ 55.609375 28.21875 55.609375 21.1875 \nQ 55.609375 10.40625 48.1875 4.484375 \nQ 40.765625 -1.421875 27.09375 -1.421875 \nQ 22.515625 -1.421875 17.65625 -0.515625 \nQ 12.796875 0.390625 7.625 2.203125 \nL 7.625 11.71875 \nQ 11.71875 9.328125 16.59375 8.109375 \nQ 21.484375 6.890625 26.8125 6.890625 \nQ 36.078125 6.890625 40.9375 10.546875 \nQ 45.796875 14.203125 45.796875 21.1875 \nQ 45.796875 27.640625 41.28125 31.265625 \nQ 36.765625 34.90625 28.71875 34.90625 \nL 20.21875 34.90625 \nL 20.21875 43.015625 \nL 29.109375 43.015625 \nQ 36.375 43.015625 40.234375 45.921875 \nQ 44.09375 48.828125 44.09375 54.296875 \nQ 44.09375 59.90625 40.109375 62.90625 \nQ 36.140625 65.921875 28.71875 65.921875 \nQ 24.65625 65.921875 20.015625 65.03125 \nQ 15.375 64.15625 9.8125 62.3125 \nL 9.8125 71.09375 \nQ 15.4375 72.65625 20.34375 73.4375 \nQ 25.25 74.21875 29.59375 74.21875 \nQ 40.828125 74.21875 47.359375 69.109375 \nQ 53.90625 64.015625 53.90625 55.328125 \nQ 53.90625 49.265625 50.4375 45.09375 \nQ 46.96875 40.921875 40.578125 39.3125 \nz\n\" id=\"DejaVuSans-51\"/>\n       </defs>\n       <use xlink:href=\"#DejaVuSans-51\"/>\n       <use x=\"63.623047\" xlink:href=\"#DejaVuSans-48\"/>\n      </g>\n     </g>\n    </g>\n    <g id=\"ytick_5\">\n     <g id=\"line2d_10\">\n      <g>\n       <use style=\"stroke:#000000;stroke-width:0.8;\" x=\"26.925\" xlink:href=\"#m6c67e4d42c\" y=\"86.582857\"/>\n      </g>\n     </g>\n     <g id=\"text_10\">\n      <!-- 40 -->\n      <g transform=\"translate(7.2 90.382076)scale(0.1 -0.1)\">\n       <defs>\n        <path d=\"M 37.796875 64.3125 \nL 12.890625 25.390625 \nL 37.796875 25.390625 \nz\nM 35.203125 72.90625 \nL 47.609375 72.90625 \nL 47.609375 25.390625 \nL 58.015625 25.390625 \nL 58.015625 17.1875 \nL 47.609375 17.1875 \nL 47.609375 0 \nL 37.796875 0 \nL 37.796875 17.1875 \nL 4.890625 17.1875 \nL 4.890625 26.703125 \nz\n\" id=\"DejaVuSans-52\"/>\n       </defs>\n       <use xlink:href=\"#DejaVuSans-52\"/>\n       <use x=\"63.623047\" xlink:href=\"#DejaVuSans-48\"/>\n      </g>\n     </g>\n    </g>\n    <g id=\"ytick_6\">\n     <g id=\"line2d_11\">\n      <g>\n       <use style=\"stroke:#000000;stroke-width:0.8;\" x=\"26.925\" xlink:href=\"#m6c67e4d42c\" y=\"52.068571\"/>\n      </g>\n     </g>\n     <g id=\"text_11\">\n      <!-- 50 -->\n      <g transform=\"translate(7.2 55.86779)scale(0.1 -0.1)\">\n       <use xlink:href=\"#DejaVuSans-53\"/>\n       <use x=\"63.623047\" xlink:href=\"#DejaVuSans-48\"/>\n      </g>\n     </g>\n    </g>\n    <g id=\"ytick_7\">\n     <g id=\"line2d_12\">\n      <g>\n       <use style=\"stroke:#000000;stroke-width:0.8;\" x=\"26.925\" xlink:href=\"#m6c67e4d42c\" y=\"17.554286\"/>\n      </g>\n     </g>\n     <g id=\"text_12\">\n      <!-- 60 -->\n      <g transform=\"translate(7.2 21.353504)scale(0.1 -0.1)\">\n       <defs>\n        <path d=\"M 33.015625 40.375 \nQ 26.375 40.375 22.484375 35.828125 \nQ 18.609375 31.296875 18.609375 23.390625 \nQ 18.609375 15.53125 22.484375 10.953125 \nQ 26.375 6.390625 33.015625 6.390625 \nQ 39.65625 6.390625 43.53125 10.953125 \nQ 47.40625 15.53125 47.40625 23.390625 \nQ 47.40625 31.296875 43.53125 35.828125 \nQ 39.65625 40.375 33.015625 40.375 \nz\nM 52.59375 71.296875 \nL 52.59375 62.3125 \nQ 48.875 64.0625 45.09375 64.984375 \nQ 41.3125 65.921875 37.59375 65.921875 \nQ 27.828125 65.921875 22.671875 59.328125 \nQ 17.53125 52.734375 16.796875 39.40625 \nQ 19.671875 43.65625 24.015625 45.921875 \nQ 28.375 48.1875 33.59375 48.1875 \nQ 44.578125 48.1875 50.953125 41.515625 \nQ 57.328125 34.859375 57.328125 23.390625 \nQ 57.328125 12.15625 50.6875 5.359375 \nQ 44.046875 -1.421875 33.015625 -1.421875 \nQ 20.359375 -1.421875 13.671875 8.265625 \nQ 6.984375 17.96875 6.984375 36.375 \nQ 6.984375 53.65625 15.1875 63.9375 \nQ 23.390625 74.21875 37.203125 74.21875 \nQ 40.921875 74.21875 44.703125 73.484375 \nQ 48.484375 72.75 52.59375 71.296875 \nz\n\" id=\"DejaVuSans-54\"/>\n       </defs>\n       <use xlink:href=\"#DejaVuSans-54\"/>\n       <use x=\"63.623047\" xlink:href=\"#DejaVuSans-48\"/>\n      </g>\n     </g>\n    </g>\n   </g>\n   <g id=\"patch_603\">\n    <path d=\"M 26.925 224.64 \nL 26.925 7.2 \n\" style=\"fill:none;stroke:#000000;stroke-linecap:square;stroke-linejoin:miter;stroke-width:0.8;\"/>\n   </g>\n   <g id=\"patch_604\">\n    <path d=\"M 361.725 224.64 \nL 361.725 7.2 \n\" style=\"fill:none;stroke:#000000;stroke-linecap:square;stroke-linejoin:miter;stroke-width:0.8;\"/>\n   </g>\n   <g id=\"patch_605\">\n    <path d=\"M 26.925 224.64 \nL 361.725 224.64 \n\" style=\"fill:none;stroke:#000000;stroke-linecap:square;stroke-linejoin:miter;stroke-width:0.8;\"/>\n   </g>\n   <g id=\"patch_606\">\n    <path d=\"M 26.925 7.2 \nL 361.725 7.2 \n\" style=\"fill:none;stroke:#000000;stroke-linecap:square;stroke-linejoin:miter;stroke-width:0.8;\"/>\n   </g>\n  </g>\n </g>\n <defs>\n  <clipPath id=\"pf478af78c5\">\n   <rect height=\"217.44\" width=\"334.8\" x=\"26.925\" y=\"7.2\"/>\n  </clipPath>\n </defs>\n</svg>\n",
      "image/png": "[encoded data removed]"
     },
     "metadata": {
      "needs_background": "light"
     }
    }
   ],
   "source": [
    "# ヒストグラム出してみる\n",
    "plt.hist(X[0]);plt.show()"
   ]
  },
  {
   "source": [
    "## 正規化"
   ],
   "cell_type": "markdown",
   "metadata": {}
  },
  {
   "cell_type": "code",
   "execution_count": 19,
   "metadata": {
    "scrolled": true
   },
   "outputs": [],
   "source": [
    "# 正規化\n",
    "for i in range(len(gz_table)):\n",
    "    idx = np.unravel_index(np.argmax(X[i]), X[i].shape)\n",
    "    idx_content = X[i][idx]\n",
    "    X[i] = X[i]/idx_content"
   ]
  },
  {
   "cell_type": "code",
   "execution_count": 12,
   "metadata": {},
   "outputs": [
    {
     "name": "stdout",
     "output_type": "stream",
     "text": [
      "[[0.7889182  0.78364116 0.78957784 ... 0.78562003 0.78562003 0.7829815 ]\n",
      " [0.7777045  0.7816623  0.7777045  ... 0.7889182  0.7843008  0.78562003]\n",
      " [0.78759897 0.7843008  0.78957784 ... 0.78759897 0.7908971  0.7889182 ]\n",
      " ...\n",
      " [0.78364116 0.7843008  0.78759897 ... 0.7829815  0.792876   0.7823219 ]\n",
      " [0.7777045  0.7843008  0.78496045 ... 0.7908971  0.78825855 0.7948549 ]\n",
      " [0.7889182  0.7889182  0.7843008  ... 0.7829815  0.7843008  0.7816623 ]]\n",
      "(31, 31) max =  1.0\n"
     ]
    }
   ],
   "source": [
    "print(X[0])\n",
    "idx2 = np.unravel_index(np.argmax(X[0]), X[0].shape)\n",
    "idx_content2 = X[0][idx2]\n",
    "print(idx2, 'max = ',idx_content2)"
   ]
  },
  {
   "cell_type": "code",
   "execution_count": 9,
   "metadata": {},
   "outputs": [],
   "source": [
    "# y(正解ラベル)をロード\n",
    "Y = []\n",
    "for i in gz_table[:1000]:\n",
    "    if i[13] == '1':\n",
    "        Y.append(0)\n",
    "    elif i[14] == '1':\n",
    "        Y.append(1)\n",
    "    elif i[15] == '1':\n",
    "        Y.append(2)"
   ]
  },
  {
   "cell_type": "code",
   "execution_count": 10,
   "metadata": {},
   "outputs": [],
   "source": [
    "# ワンホットエンコーディング\n",
    "Y = np_utils.to_categorical(Y,3)"
   ]
  },
  {
   "cell_type": "code",
   "execution_count": 11,
   "metadata": {},
   "outputs": [
    {
     "name": "stdout",
     "output_type": "stream",
     "text": [
      "800\n",
      "(60, 60, 1)\n",
      "<class 'numpy.ndarray'>\n"
     ]
    }
   ],
   "source": [
    "# 訓練データとテストデータを切り分ける\n",
    "X_train, X_test, Y_train, Y_test = X[:800], X[800:], Y[:800], Y[800:]\n",
    "Y_test_backup = Y_test\n",
    "\n",
    "X_train = X_train.reshape(800, 60, 60, 1)\n",
    "X_test  = X_test.reshape(200, 60, 60, 1)\n",
    "\n",
    "# 両方のサイズを確認\n",
    "print(len(X_train))\n",
    "print(X_train[0].shape)\n",
    "print(type(X_train))"
   ]
  },
  {
   "cell_type": "markdown",
   "metadata": {},
   "source": [
    "# モデル構築とトレーニング"
   ]
  },
  {
   "cell_type": "code",
   "execution_count": 13,
   "metadata": {
    "scrolled": true
   },
   "outputs": [
    {
     "name": "stdout",
     "output_type": "stream",
     "text": [
      "Model: \"sequential_2\"\n",
      "_________________________________________________________________\n",
      "Layer (type)                 Output Shape              Param #   \n",
      "=================================================================\n",
      "conv2d_5 (Conv2D)            (None, 56, 56, 32)        832       \n",
      "_________________________________________________________________\n",
      "conv2d_6 (Conv2D)            (None, 52, 52, 64)        51264     \n",
      "_________________________________________________________________\n",
      "max_pooling2d_3 (MaxPooling2 (None, 13, 13, 64)        0         \n",
      "_________________________________________________________________\n",
      "conv2d_7 (Conv2D)            (None, 11, 11, 128)       73856     \n",
      "_________________________________________________________________\n",
      "conv2d_8 (Conv2D)            (None, 9, 9, 128)         147584    \n",
      "_________________________________________________________________\n",
      "max_pooling2d_4 (MaxPooling2 (None, 4, 4, 128)         0         \n",
      "_________________________________________________________________\n",
      "dropout_4 (Dropout)          (None, 4, 4, 128)         0         \n",
      "_________________________________________________________________\n",
      "flatten_2 (Flatten)          (None, 2048)              0         \n",
      "_________________________________________________________________\n",
      "dense_4 (Dense)              (None, 64)                131136    \n",
      "_________________________________________________________________\n",
      "dropout_5 (Dropout)          (None, 64)                0         \n",
      "_________________________________________________________________\n",
      "dense_5 (Dense)              (None, 64)                4160      \n",
      "_________________________________________________________________\n",
      "dropout_6 (Dropout)          (None, 64)                0         \n",
      "_________________________________________________________________\n",
      "dense_6 (Dense)              (None, 3)                 195       \n",
      "=================================================================\n",
      "Total params: 409,027\n",
      "Trainable params: 409,027\n",
      "Non-trainable params: 0\n",
      "_________________________________________________________________\n",
      "Train on 800 samples, validate on 200 samples\n",
      "Epoch 1/300\n",
      "800/800 [==============================] - 7s 8ms/step - loss: 1.0777 - accuracy: 0.5300 - val_loss: 0.9069 - val_accuracy: 0.6200\n",
      "Epoch 2/300\n",
      "800/800 [==============================] - 8s 10ms/step - loss: 0.9473 - accuracy: 0.5612 - val_loss: 0.9176 - val_accuracy: 0.6200\n",
      "Epoch 3/300\n",
      "800/800 [==============================] - 7s 9ms/step - loss: 0.9471 - accuracy: 0.5600 - val_loss: 0.9019 - val_accuracy: 0.6200\n",
      "Epoch 4/300\n",
      "800/800 [==============================] - 7s 8ms/step - loss: 0.9325 - accuracy: 0.5813 - val_loss: 0.9325 - val_accuracy: 0.6200\n",
      "Epoch 5/300\n",
      "800/800 [==============================] - 6s 7ms/step - loss: 0.9495 - accuracy: 0.5800 - val_loss: 0.9469 - val_accuracy: 0.6200\n",
      "Epoch 6/300\n",
      "800/800 [==============================] - 6s 7ms/step - loss: 0.9375 - accuracy: 0.5838 - val_loss: 0.8792 - val_accuracy: 0.6200\n",
      "Epoch 7/300\n",
      "800/800 [==============================] - 6s 7ms/step - loss: 0.9346 - accuracy: 0.5838 - val_loss: 0.8904 - val_accuracy: 0.6200\n",
      "Epoch 8/300\n",
      "800/800 [==============================] - 6s 7ms/step - loss: 0.9157 - accuracy: 0.5875 - val_loss: 0.8792 - val_accuracy: 0.6200\n",
      "Epoch 9/300\n",
      "800/800 [==============================] - 6s 7ms/step - loss: 0.9351 - accuracy: 0.5875 - val_loss: 0.9225 - val_accuracy: 0.6200\n",
      "Epoch 10/300\n",
      "800/800 [==============================] - 6s 7ms/step - loss: 0.9256 - accuracy: 0.5863 - val_loss: 0.8967 - val_accuracy: 0.6200\n",
      "Epoch 11/300\n",
      "800/800 [==============================] - 6s 8ms/step - loss: 0.9164 - accuracy: 0.5875 - val_loss: 0.8902 - val_accuracy: 0.6200\n",
      "Epoch 12/300\n",
      "800/800 [==============================] - 6s 8ms/step - loss: 0.9231 - accuracy: 0.5863 - val_loss: 0.9013 - val_accuracy: 0.6200\n",
      "Epoch 13/300\n",
      "800/800 [==============================] - 6s 7ms/step - loss: 0.9253 - accuracy: 0.5863 - val_loss: 0.8876 - val_accuracy: 0.6200\n",
      "Epoch 14/300\n",
      "800/800 [==============================] - 6s 7ms/step - loss: 0.9679 - accuracy: 0.5863 - val_loss: 0.8850 - val_accuracy: 0.6200\n",
      "Epoch 15/300\n",
      "800/800 [==============================] - 6s 7ms/step - loss: 0.9192 - accuracy: 0.5938 - val_loss: 0.9083 - val_accuracy: 0.6200\n",
      "Epoch 16/300\n",
      "800/800 [==============================] - 6s 8ms/step - loss: 0.9377 - accuracy: 0.5913 - val_loss: 0.8950 - val_accuracy: 0.6200\n",
      "Epoch 17/300\n",
      "800/800 [==============================] - 6s 7ms/step - loss: 0.9051 - accuracy: 0.5875 - val_loss: 0.8852 - val_accuracy: 0.6200\n",
      "Epoch 18/300\n",
      "800/800 [==============================] - 5s 7ms/step - loss: 0.9457 - accuracy: 0.5875 - val_loss: 0.9307 - val_accuracy: 0.6200\n",
      "Epoch 19/300\n",
      "800/800 [==============================] - 6s 7ms/step - loss: 0.9182 - accuracy: 0.5863 - val_loss: 0.8782 - val_accuracy: 0.6200\n",
      "Epoch 20/300\n",
      "800/800 [==============================] - 5s 7ms/step - loss: 0.8866 - accuracy: 0.5838 - val_loss: 0.8700 - val_accuracy: 0.6200\n",
      "Epoch 21/300\n",
      "800/800 [==============================] - 5s 7ms/step - loss: 0.9072 - accuracy: 0.5875 - val_loss: 1.1287 - val_accuracy: 0.3400\n",
      "Epoch 22/300\n",
      "800/800 [==============================] - 5s 7ms/step - loss: 0.9093 - accuracy: 0.5750 - val_loss: 0.8509 - val_accuracy: 0.6200\n",
      "Epoch 23/300\n",
      "800/800 [==============================] - 5s 7ms/step - loss: 0.8759 - accuracy: 0.5913 - val_loss: 0.8468 - val_accuracy: 0.6200\n",
      "Epoch 24/300\n",
      "800/800 [==============================] - 5s 7ms/step - loss: 0.8877 - accuracy: 0.5612 - val_loss: 0.8883 - val_accuracy: 0.6100\n",
      "Epoch 25/300\n",
      "800/800 [==============================] - 5s 6ms/step - loss: 0.8656 - accuracy: 0.5738 - val_loss: 1.0013 - val_accuracy: 0.6200\n",
      "Epoch 26/300\n",
      "800/800 [==============================] - 5s 6ms/step - loss: 0.8849 - accuracy: 0.5725 - val_loss: 0.8975 - val_accuracy: 0.6200\n",
      "Epoch 27/300\n",
      "800/800 [==============================] - 5s 7ms/step - loss: 0.8901 - accuracy: 0.5875 - val_loss: 0.8790 - val_accuracy: 0.6150\n",
      "Epoch 28/300\n",
      "800/800 [==============================] - 5s 7ms/step - loss: 0.8954 - accuracy: 0.5800 - val_loss: 0.8907 - val_accuracy: 0.6250\n",
      "Epoch 29/300\n",
      "800/800 [==============================] - 5s 7ms/step - loss: 0.8682 - accuracy: 0.6037 - val_loss: 0.9057 - val_accuracy: 0.6200\n",
      "Epoch 30/300\n",
      "800/800 [==============================] - 5s 7ms/step - loss: 0.8922 - accuracy: 0.5775 - val_loss: 0.8655 - val_accuracy: 0.6200\n",
      "Epoch 31/300\n",
      "800/800 [==============================] - 6s 7ms/step - loss: 0.8797 - accuracy: 0.5775 - val_loss: 0.8825 - val_accuracy: 0.6200\n",
      "Epoch 32/300\n",
      "800/800 [==============================] - 5s 7ms/step - loss: 0.8819 - accuracy: 0.5800 - val_loss: 0.8869 - val_accuracy: 0.6200\n",
      "Epoch 33/300\n",
      "800/800 [==============================] - 5s 7ms/step - loss: 0.8667 - accuracy: 0.5888 - val_loss: 0.8923 - val_accuracy: 0.6200\n",
      "Epoch 34/300\n",
      "800/800 [==============================] - 5s 7ms/step - loss: 0.8649 - accuracy: 0.5950 - val_loss: 0.8584 - val_accuracy: 0.6200\n",
      "Epoch 35/300\n",
      "800/800 [==============================] - 5s 7ms/step - loss: 0.8681 - accuracy: 0.5888 - val_loss: 0.8632 - val_accuracy: 0.6150\n",
      "Epoch 36/300\n",
      "800/800 [==============================] - 5s 7ms/step - loss: 0.8709 - accuracy: 0.5750 - val_loss: 0.8808 - val_accuracy: 0.6200\n",
      "Epoch 37/300\n",
      "800/800 [==============================] - 5s 7ms/step - loss: 0.8409 - accuracy: 0.5925 - val_loss: 0.8802 - val_accuracy: 0.6200\n",
      "Epoch 38/300\n",
      "800/800 [==============================] - 5s 7ms/step - loss: 0.8920 - accuracy: 0.5750 - val_loss: 0.8902 - val_accuracy: 0.6100\n",
      "Epoch 39/300\n",
      "800/800 [==============================] - 5s 7ms/step - loss: 0.8539 - accuracy: 0.5975 - val_loss: 0.8771 - val_accuracy: 0.6150\n",
      "Epoch 40/300\n",
      "800/800 [==============================] - 5s 6ms/step - loss: 0.8445 - accuracy: 0.5975 - val_loss: 0.9030 - val_accuracy: 0.6150\n",
      "Epoch 41/300\n",
      "800/800 [==============================] - 5s 7ms/step - loss: 0.8518 - accuracy: 0.5962 - val_loss: 0.9454 - val_accuracy: 0.6250\n",
      "Epoch 42/300\n",
      "800/800 [==============================] - 5s 7ms/step - loss: 0.8537 - accuracy: 0.5838 - val_loss: 0.8946 - val_accuracy: 0.6150\n",
      "Epoch 43/300\n",
      "800/800 [==============================] - 5s 7ms/step - loss: 0.8355 - accuracy: 0.6012 - val_loss: 0.9930 - val_accuracy: 0.6250\n",
      "Epoch 44/300\n",
      "800/800 [==============================] - 5s 6ms/step - loss: 0.8634 - accuracy: 0.5713 - val_loss: 0.8914 - val_accuracy: 0.6150\n",
      "Epoch 45/300\n",
      "800/800 [==============================] - 5s 7ms/step - loss: 0.8375 - accuracy: 0.5913 - val_loss: 0.8965 - val_accuracy: 0.5850\n",
      "Epoch 46/300\n",
      "800/800 [==============================] - 5s 6ms/step - loss: 0.8486 - accuracy: 0.5800 - val_loss: 0.9373 - val_accuracy: 0.6100\n",
      "Epoch 47/300\n",
      "800/800 [==============================] - 5s 6ms/step - loss: 0.8543 - accuracy: 0.6025 - val_loss: 0.8829 - val_accuracy: 0.6150\n",
      "Epoch 48/300\n",
      "800/800 [==============================] - 5s 6ms/step - loss: 0.8591 - accuracy: 0.5962 - val_loss: 0.9154 - val_accuracy: 0.5850\n",
      "Epoch 49/300\n",
      "800/800 [==============================] - 5s 6ms/step - loss: 0.8324 - accuracy: 0.6137 - val_loss: 0.9389 - val_accuracy: 0.6100\n",
      "Epoch 50/300\n",
      "800/800 [==============================] - 5s 6ms/step - loss: 0.8457 - accuracy: 0.6000 - val_loss: 0.9226 - val_accuracy: 0.5600\n",
      "Epoch 51/300\n",
      "800/800 [==============================] - 5s 7ms/step - loss: 0.8407 - accuracy: 0.5975 - val_loss: 0.9179 - val_accuracy: 0.6150\n",
      "Epoch 52/300\n",
      "800/800 [==============================] - 5s 7ms/step - loss: 0.8346 - accuracy: 0.5950 - val_loss: 0.9192 - val_accuracy: 0.6100\n",
      "Epoch 53/300\n",
      "800/800 [==============================] - 5s 7ms/step - loss: 0.8407 - accuracy: 0.5925 - val_loss: 0.9061 - val_accuracy: 0.5800\n",
      "Epoch 54/300\n",
      "800/800 [==============================] - 5s 6ms/step - loss: 0.8302 - accuracy: 0.5875 - val_loss: 0.9405 - val_accuracy: 0.6150\n",
      "Epoch 55/300\n",
      "800/800 [==============================] - 5s 7ms/step - loss: 0.8234 - accuracy: 0.5875 - val_loss: 0.9021 - val_accuracy: 0.5900\n",
      "Epoch 56/300\n",
      "800/800 [==============================] - 5s 6ms/step - loss: 0.9018 - accuracy: 0.5913 - val_loss: 0.8859 - val_accuracy: 0.6050\n",
      "Epoch 57/300\n",
      "800/800 [==============================] - 5s 6ms/step - loss: 0.8195 - accuracy: 0.6025 - val_loss: 0.8934 - val_accuracy: 0.5800\n",
      "Epoch 58/300\n",
      "800/800 [==============================] - 5s 7ms/step - loss: 0.8334 - accuracy: 0.5888 - val_loss: 0.9071 - val_accuracy: 0.6100\n",
      "Epoch 59/300\n",
      "800/800 [==============================] - 5s 7ms/step - loss: 0.8188 - accuracy: 0.6012 - val_loss: 0.9174 - val_accuracy: 0.5950\n",
      "Epoch 60/300\n",
      "800/800 [==============================] - 5s 6ms/step - loss: 0.7993 - accuracy: 0.6175 - val_loss: 0.9569 - val_accuracy: 0.6050\n",
      "Epoch 61/300\n",
      "800/800 [==============================] - 6s 7ms/step - loss: 0.8308 - accuracy: 0.5863 - val_loss: 0.9448 - val_accuracy: 0.5700\n",
      "Epoch 62/300\n",
      "800/800 [==============================] - 5s 6ms/step - loss: 0.8109 - accuracy: 0.5987 - val_loss: 0.9089 - val_accuracy: 0.5800\n",
      "Epoch 63/300\n",
      "800/800 [==============================] - 5s 7ms/step - loss: 0.8163 - accuracy: 0.6087 - val_loss: 0.9580 - val_accuracy: 0.6150\n",
      "Epoch 64/300\n",
      "800/800 [==============================] - 5s 7ms/step - loss: 0.8347 - accuracy: 0.5913 - val_loss: 0.8923 - val_accuracy: 0.6100\n",
      "Epoch 65/300\n",
      "800/800 [==============================] - 5s 6ms/step - loss: 0.7955 - accuracy: 0.6112 - val_loss: 0.9098 - val_accuracy: 0.5850\n",
      "Epoch 66/300\n",
      "800/800 [==============================] - 6s 7ms/step - loss: 0.8199 - accuracy: 0.5950 - val_loss: 0.8940 - val_accuracy: 0.5850\n",
      "Epoch 67/300\n",
      "800/800 [==============================] - 5s 7ms/step - loss: 0.8359 - accuracy: 0.5925 - val_loss: 0.8903 - val_accuracy: 0.6200\n",
      "Epoch 68/300\n",
      "800/800 [==============================] - 5s 7ms/step - loss: 0.8095 - accuracy: 0.6100 - val_loss: 0.9199 - val_accuracy: 0.5900\n",
      "Epoch 69/300\n",
      "800/800 [==============================] - 5s 7ms/step - loss: 0.8091 - accuracy: 0.6237 - val_loss: 0.9055 - val_accuracy: 0.5900\n",
      "Epoch 70/300\n",
      "800/800 [==============================] - 5s 6ms/step - loss: 0.8135 - accuracy: 0.6300 - val_loss: 0.8941 - val_accuracy: 0.5900\n",
      "Epoch 71/300\n",
      "800/800 [==============================] - 5s 6ms/step - loss: 0.8090 - accuracy: 0.5950 - val_loss: 0.9392 - val_accuracy: 0.6200\n",
      "Epoch 72/300\n",
      "800/800 [==============================] - 6s 7ms/step - loss: 0.7980 - accuracy: 0.6100 - val_loss: 0.9300 - val_accuracy: 0.5750\n",
      "Epoch 73/300\n",
      "800/800 [==============================] - 5s 7ms/step - loss: 0.8035 - accuracy: 0.6100 - val_loss: 0.9054 - val_accuracy: 0.5800\n",
      "Epoch 74/300\n",
      "800/800 [==============================] - 5s 7ms/step - loss: 0.7922 - accuracy: 0.6325 - val_loss: 0.9248 - val_accuracy: 0.5900\n",
      "Epoch 75/300\n",
      "800/800 [==============================] - 5s 7ms/step - loss: 0.8003 - accuracy: 0.6250 - val_loss: 0.9207 - val_accuracy: 0.5950\n",
      "Epoch 76/300\n",
      "800/800 [==============================] - 5s 7ms/step - loss: 0.7953 - accuracy: 0.6187 - val_loss: 1.0023 - val_accuracy: 0.6100\n",
      "Epoch 77/300\n",
      "800/800 [==============================] - 5s 6ms/step - loss: 0.7791 - accuracy: 0.6375 - val_loss: 0.9543 - val_accuracy: 0.5900\n",
      "Epoch 78/300\n",
      "800/800 [==============================] - 5s 7ms/step - loss: 0.7967 - accuracy: 0.6112 - val_loss: 0.9499 - val_accuracy: 0.5800\n",
      "Epoch 79/300\n",
      "800/800 [==============================] - 5s 7ms/step - loss: 0.7855 - accuracy: 0.6162 - val_loss: 0.9598 - val_accuracy: 0.5950\n",
      "Epoch 80/300\n",
      "800/800 [==============================] - 5s 7ms/step - loss: 0.7835 - accuracy: 0.6125 - val_loss: 0.9317 - val_accuracy: 0.5750\n",
      "Epoch 81/300\n",
      "800/800 [==============================] - 5s 7ms/step - loss: 0.7663 - accuracy: 0.6500 - val_loss: 0.9436 - val_accuracy: 0.5800\n",
      "Epoch 82/300\n",
      "800/800 [==============================] - 5s 7ms/step - loss: 0.7772 - accuracy: 0.6463 - val_loss: 0.9724 - val_accuracy: 0.6150\n",
      "Epoch 83/300\n",
      "800/800 [==============================] - 5s 7ms/step - loss: 0.7707 - accuracy: 0.6325 - val_loss: 0.9508 - val_accuracy: 0.5900\n",
      "Epoch 84/300\n",
      "800/800 [==============================] - 5s 7ms/step - loss: 0.7631 - accuracy: 0.6338 - val_loss: 0.9336 - val_accuracy: 0.5900\n",
      "Epoch 85/300\n",
      "800/800 [==============================] - 6s 7ms/step - loss: 0.7536 - accuracy: 0.6438 - val_loss: 1.0482 - val_accuracy: 0.5650\n",
      "Epoch 86/300\n",
      "800/800 [==============================] - 5s 7ms/step - loss: 0.7882 - accuracy: 0.6363 - val_loss: 0.9593 - val_accuracy: 0.6000\n",
      "Epoch 87/300\n",
      "800/800 [==============================] - 6s 7ms/step - loss: 0.7567 - accuracy: 0.6475 - val_loss: 0.9563 - val_accuracy: 0.5950\n",
      "Epoch 88/300\n",
      "800/800 [==============================] - 5s 7ms/step - loss: 0.7929 - accuracy: 0.6363 - val_loss: 0.9067 - val_accuracy: 0.6050\n",
      "Epoch 89/300\n",
      "800/800 [==============================] - 5s 7ms/step - loss: 0.7540 - accuracy: 0.6475 - val_loss: 0.9209 - val_accuracy: 0.5750\n",
      "Epoch 90/300\n",
      "800/800 [==============================] - 5s 6ms/step - loss: 0.7622 - accuracy: 0.6275 - val_loss: 0.9752 - val_accuracy: 0.5950\n",
      "Epoch 91/300\n",
      "800/800 [==============================] - 5s 7ms/step - loss: 0.7695 - accuracy: 0.6500 - val_loss: 0.9398 - val_accuracy: 0.6100\n",
      "Epoch 92/300\n",
      "800/800 [==============================] - 5s 7ms/step - loss: 0.7576 - accuracy: 0.6425 - val_loss: 0.9821 - val_accuracy: 0.6000\n",
      "Epoch 93/300\n",
      "800/800 [==============================] - 5s 6ms/step - loss: 0.7450 - accuracy: 0.6500 - val_loss: 0.9534 - val_accuracy: 0.6200\n",
      "Epoch 94/300\n",
      "800/800 [==============================] - 5s 7ms/step - loss: 0.7532 - accuracy: 0.6413 - val_loss: 0.8963 - val_accuracy: 0.6200\n",
      "Epoch 95/300\n",
      "800/800 [==============================] - 5s 6ms/step - loss: 0.7118 - accuracy: 0.6687 - val_loss: 1.1079 - val_accuracy: 0.5450\n",
      "Epoch 96/300\n",
      "800/800 [==============================] - 5s 7ms/step - loss: 0.7396 - accuracy: 0.6750 - val_loss: 0.9984 - val_accuracy: 0.5950\n",
      "Epoch 97/300\n",
      "800/800 [==============================] - 5s 6ms/step - loss: 0.7449 - accuracy: 0.6488 - val_loss: 0.9283 - val_accuracy: 0.5950\n",
      "Epoch 98/300\n",
      "800/800 [==============================] - 5s 6ms/step - loss: 0.7501 - accuracy: 0.6675 - val_loss: 0.9350 - val_accuracy: 0.6550\n",
      "Epoch 99/300\n",
      "800/800 [==============================] - 5s 7ms/step - loss: 0.7305 - accuracy: 0.6575 - val_loss: 0.9732 - val_accuracy: 0.6000\n"
     ]
    },
    {
     "name": "stdout",
     "output_type": "stream",
     "text": [
      "Epoch 100/300\n",
      "800/800 [==============================] - 5s 6ms/step - loss: 0.7343 - accuracy: 0.6562 - val_loss: 1.0426 - val_accuracy: 0.6300\n",
      "Epoch 101/300\n",
      "800/800 [==============================] - 5s 7ms/step - loss: 0.7463 - accuracy: 0.6500 - val_loss: 0.9346 - val_accuracy: 0.6500\n",
      "Epoch 102/300\n",
      "800/800 [==============================] - 5s 7ms/step - loss: 0.7346 - accuracy: 0.6837 - val_loss: 0.9137 - val_accuracy: 0.6300\n",
      "Epoch 103/300\n",
      "800/800 [==============================] - 5s 7ms/step - loss: 0.7068 - accuracy: 0.6637 - val_loss: 0.9756 - val_accuracy: 0.6050\n",
      "Epoch 104/300\n",
      "800/800 [==============================] - 5s 6ms/step - loss: 0.7190 - accuracy: 0.6612 - val_loss: 0.9518 - val_accuracy: 0.6200\n",
      "Epoch 105/300\n",
      "800/800 [==============================] - 5s 6ms/step - loss: 0.7321 - accuracy: 0.6612 - val_loss: 0.9547 - val_accuracy: 0.6350\n",
      "Epoch 106/300\n",
      "800/800 [==============================] - 5s 7ms/step - loss: 0.6880 - accuracy: 0.6825 - val_loss: 1.0376 - val_accuracy: 0.5750\n",
      "Epoch 107/300\n",
      "800/800 [==============================] - 5s 7ms/step - loss: 0.7245 - accuracy: 0.6825 - val_loss: 1.0229 - val_accuracy: 0.6600\n",
      "Epoch 108/300\n",
      "800/800 [==============================] - 6s 7ms/step - loss: 0.6938 - accuracy: 0.6762 - val_loss: 0.9802 - val_accuracy: 0.6300\n",
      "Epoch 109/300\n",
      "800/800 [==============================] - 6s 7ms/step - loss: 0.7186 - accuracy: 0.6637 - val_loss: 0.9316 - val_accuracy: 0.6400\n",
      "Epoch 110/300\n",
      "800/800 [==============================] - 5s 6ms/step - loss: 0.7112 - accuracy: 0.6687 - val_loss: 1.0564 - val_accuracy: 0.6400\n",
      "Epoch 111/300\n",
      "800/800 [==============================] - 5s 6ms/step - loss: 0.7123 - accuracy: 0.6900 - val_loss: 1.0000 - val_accuracy: 0.6350\n",
      "Epoch 112/300\n",
      "800/800 [==============================] - 5s 6ms/step - loss: 0.6966 - accuracy: 0.6875 - val_loss: 0.9944 - val_accuracy: 0.6250\n",
      "Epoch 113/300\n",
      "800/800 [==============================] - 5s 6ms/step - loss: 0.7134 - accuracy: 0.6675 - val_loss: 0.9331 - val_accuracy: 0.6750\n",
      "Epoch 114/300\n",
      "800/800 [==============================] - 5s 6ms/step - loss: 0.7009 - accuracy: 0.6825 - val_loss: 0.9894 - val_accuracy: 0.6400\n",
      "Epoch 115/300\n",
      "800/800 [==============================] - 5s 6ms/step - loss: 0.7048 - accuracy: 0.6825 - val_loss: 0.9937 - val_accuracy: 0.6700\n",
      "Epoch 116/300\n",
      "800/800 [==============================] - 5s 7ms/step - loss: 0.7175 - accuracy: 0.6750 - val_loss: 0.9660 - val_accuracy: 0.6500\n",
      "Epoch 117/300\n",
      "800/800 [==============================] - 6s 7ms/step - loss: 0.7044 - accuracy: 0.6837 - val_loss: 1.0357 - val_accuracy: 0.6150\n",
      "Epoch 118/300\n",
      "800/800 [==============================] - 5s 7ms/step - loss: 0.6825 - accuracy: 0.6875 - val_loss: 1.0028 - val_accuracy: 0.6400\n",
      "Epoch 119/300\n",
      "800/800 [==============================] - 5s 7ms/step - loss: 0.6928 - accuracy: 0.6800 - val_loss: 0.9706 - val_accuracy: 0.6750\n",
      "Epoch 120/300\n",
      "800/800 [==============================] - 5s 7ms/step - loss: 0.6801 - accuracy: 0.6762 - val_loss: 1.0029 - val_accuracy: 0.6350\n",
      "Epoch 121/300\n",
      "800/800 [==============================] - 5s 6ms/step - loss: 0.6815 - accuracy: 0.7000 - val_loss: 1.0798 - val_accuracy: 0.6600\n",
      "Epoch 122/300\n",
      "800/800 [==============================] - 5s 6ms/step - loss: 0.6821 - accuracy: 0.7075 - val_loss: 1.0913 - val_accuracy: 0.6300\n",
      "Epoch 123/300\n",
      "800/800 [==============================] - 5s 7ms/step - loss: 0.6619 - accuracy: 0.6925 - val_loss: 1.0790 - val_accuracy: 0.6550\n",
      "Epoch 124/300\n",
      "800/800 [==============================] - 5s 6ms/step - loss: 0.6583 - accuracy: 0.7125 - val_loss: 1.0557 - val_accuracy: 0.6750\n",
      "Epoch 125/300\n",
      "800/800 [==============================] - 5s 6ms/step - loss: 0.6425 - accuracy: 0.7013 - val_loss: 1.0460 - val_accuracy: 0.6800\n",
      "Epoch 126/300\n",
      "800/800 [==============================] - 5s 7ms/step - loss: 0.6533 - accuracy: 0.7063 - val_loss: 1.1064 - val_accuracy: 0.6650\n",
      "Epoch 127/300\n",
      "800/800 [==============================] - 5s 7ms/step - loss: 0.6687 - accuracy: 0.7050 - val_loss: 0.9851 - val_accuracy: 0.6700\n",
      "Epoch 128/300\n",
      "800/800 [==============================] - 5s 7ms/step - loss: 0.6527 - accuracy: 0.6938 - val_loss: 1.0944 - val_accuracy: 0.5900\n",
      "Epoch 129/300\n",
      "800/800 [==============================] - 6s 7ms/step - loss: 0.6695 - accuracy: 0.6900 - val_loss: 1.1488 - val_accuracy: 0.6300\n",
      "Epoch 130/300\n",
      "800/800 [==============================] - 5s 6ms/step - loss: 0.6711 - accuracy: 0.6875 - val_loss: 1.0302 - val_accuracy: 0.6750\n",
      "Epoch 131/300\n",
      "800/800 [==============================] - 5s 7ms/step - loss: 0.6661 - accuracy: 0.7013 - val_loss: 1.2150 - val_accuracy: 0.6450\n",
      "Epoch 132/300\n",
      "800/800 [==============================] - 5s 7ms/step - loss: 0.6526 - accuracy: 0.7038 - val_loss: 1.2981 - val_accuracy: 0.6550\n",
      "Epoch 133/300\n",
      "800/800 [==============================] - 6s 7ms/step - loss: 0.6827 - accuracy: 0.6988 - val_loss: 1.1409 - val_accuracy: 0.6300\n",
      "Epoch 134/300\n",
      "800/800 [==============================] - 5s 7ms/step - loss: 0.6579 - accuracy: 0.7013 - val_loss: 1.0996 - val_accuracy: 0.6900\n",
      "Epoch 135/300\n",
      "800/800 [==============================] - 5s 7ms/step - loss: 0.6447 - accuracy: 0.7000 - val_loss: 1.0280 - val_accuracy: 0.6400\n",
      "Epoch 136/300\n",
      "800/800 [==============================] - 5s 7ms/step - loss: 0.6468 - accuracy: 0.7038 - val_loss: 1.1464 - val_accuracy: 0.6750\n",
      "Epoch 137/300\n",
      "800/800 [==============================] - 5s 6ms/step - loss: 0.6548 - accuracy: 0.7163 - val_loss: 1.0928 - val_accuracy: 0.6900\n",
      "Epoch 138/300\n",
      "800/800 [==============================] - 5s 6ms/step - loss: 0.6506 - accuracy: 0.7163 - val_loss: 1.0993 - val_accuracy: 0.6750\n",
      "Epoch 139/300\n",
      "800/800 [==============================] - 5s 6ms/step - loss: 0.6207 - accuracy: 0.7063 - val_loss: 1.1664 - val_accuracy: 0.6600\n",
      "Epoch 140/300\n",
      "800/800 [==============================] - 5s 7ms/step - loss: 0.6335 - accuracy: 0.7050 - val_loss: 1.1296 - val_accuracy: 0.6750\n",
      "Epoch 141/300\n",
      "800/800 [==============================] - 5s 7ms/step - loss: 0.7456 - accuracy: 0.6475 - val_loss: 1.1693 - val_accuracy: 0.6650\n",
      "Epoch 142/300\n",
      "800/800 [==============================] - 5s 6ms/step - loss: 0.6497 - accuracy: 0.6913 - val_loss: 1.1458 - val_accuracy: 0.6800\n",
      "Epoch 143/300\n",
      "800/800 [==============================] - 5s 7ms/step - loss: 0.6385 - accuracy: 0.7100 - val_loss: 1.1433 - val_accuracy: 0.6700\n",
      "Epoch 144/300\n",
      "800/800 [==============================] - 5s 7ms/step - loss: 0.6180 - accuracy: 0.7200 - val_loss: 1.0669 - val_accuracy: 0.7000\n",
      "Epoch 145/300\n",
      "800/800 [==============================] - 5s 6ms/step - loss: 0.6234 - accuracy: 0.7125 - val_loss: 1.1065 - val_accuracy: 0.6850\n",
      "Epoch 146/300\n",
      "800/800 [==============================] - 5s 7ms/step - loss: 0.6421 - accuracy: 0.7150 - val_loss: 1.0221 - val_accuracy: 0.6800\n",
      "Epoch 147/300\n",
      "800/800 [==============================] - 5s 6ms/step - loss: 0.6143 - accuracy: 0.7175 - val_loss: 1.0531 - val_accuracy: 0.6800\n",
      "Epoch 148/300\n",
      "800/800 [==============================] - 5s 6ms/step - loss: 0.6380 - accuracy: 0.7188 - val_loss: 1.0870 - val_accuracy: 0.6750\n",
      "Epoch 149/300\n",
      "800/800 [==============================] - 5s 7ms/step - loss: 0.5937 - accuracy: 0.7425 - val_loss: 1.2487 - val_accuracy: 0.6150\n",
      "Epoch 150/300\n",
      "800/800 [==============================] - 5s 6ms/step - loss: 0.6362 - accuracy: 0.7088 - val_loss: 1.1463 - val_accuracy: 0.6750\n",
      "Epoch 151/300\n",
      "800/800 [==============================] - 5s 7ms/step - loss: 0.6133 - accuracy: 0.7350 - val_loss: 1.0770 - val_accuracy: 0.6950\n",
      "Epoch 152/300\n",
      "800/800 [==============================] - 5s 6ms/step - loss: 0.5823 - accuracy: 0.7350 - val_loss: 1.1592 - val_accuracy: 0.6650\n",
      "Epoch 153/300\n",
      "800/800 [==============================] - 5s 6ms/step - loss: 0.6008 - accuracy: 0.7300 - val_loss: 1.1559 - val_accuracy: 0.6550\n",
      "Epoch 154/300\n",
      "800/800 [==============================] - 5s 7ms/step - loss: 0.6198 - accuracy: 0.7188 - val_loss: 1.1212 - val_accuracy: 0.6800\n",
      "Epoch 155/300\n",
      "800/800 [==============================] - 5s 7ms/step - loss: 0.5900 - accuracy: 0.7275 - val_loss: 1.2091 - val_accuracy: 0.6700\n",
      "Epoch 156/300\n",
      "800/800 [==============================] - 5s 7ms/step - loss: 0.5974 - accuracy: 0.7387 - val_loss: 1.1841 - val_accuracy: 0.6950\n",
      "Epoch 157/300\n",
      "800/800 [==============================] - 5s 7ms/step - loss: 0.6057 - accuracy: 0.7088 - val_loss: 1.1239 - val_accuracy: 0.7050\n",
      "Epoch 158/300\n",
      "800/800 [==============================] - 5s 7ms/step - loss: 0.5962 - accuracy: 0.7225 - val_loss: 1.2289 - val_accuracy: 0.6850\n",
      "Epoch 159/300\n",
      "800/800 [==============================] - 5s 7ms/step - loss: 0.6726 - accuracy: 0.6888 - val_loss: 1.2146 - val_accuracy: 0.7000\n",
      "Epoch 160/300\n",
      "800/800 [==============================] - 5s 7ms/step - loss: 0.5859 - accuracy: 0.7550 - val_loss: 1.3117 - val_accuracy: 0.6850\n",
      "Epoch 161/300\n",
      "800/800 [==============================] - 5s 6ms/step - loss: 0.5645 - accuracy: 0.7400 - val_loss: 1.2915 - val_accuracy: 0.6950\n",
      "Epoch 162/300\n",
      "800/800 [==============================] - 5s 7ms/step - loss: 0.5792 - accuracy: 0.7437 - val_loss: 1.3538 - val_accuracy: 0.6750\n",
      "Epoch 163/300\n",
      "800/800 [==============================] - 5s 6ms/step - loss: 0.6153 - accuracy: 0.7350 - val_loss: 1.2734 - val_accuracy: 0.6500\n",
      "Epoch 164/300\n",
      "800/800 [==============================] - 5s 6ms/step - loss: 0.5770 - accuracy: 0.7425 - val_loss: 1.2189 - val_accuracy: 0.6850\n",
      "Epoch 165/300\n",
      "800/800 [==============================] - 5s 7ms/step - loss: 0.5601 - accuracy: 0.7538 - val_loss: 1.2686 - val_accuracy: 0.7050\n",
      "Epoch 166/300\n",
      "800/800 [==============================] - 5s 6ms/step - loss: 0.5935 - accuracy: 0.7337 - val_loss: 1.2256 - val_accuracy: 0.6950\n",
      "Epoch 167/300\n",
      "800/800 [==============================] - 5s 7ms/step - loss: 0.5704 - accuracy: 0.7437 - val_loss: 1.2785 - val_accuracy: 0.7100\n",
      "Epoch 168/300\n",
      "800/800 [==============================] - 5s 7ms/step - loss: 0.5358 - accuracy: 0.7700 - val_loss: 1.3002 - val_accuracy: 0.6850\n",
      "Epoch 169/300\n",
      "800/800 [==============================] - 5s 7ms/step - loss: 0.5859 - accuracy: 0.7350 - val_loss: 1.2795 - val_accuracy: 0.6700\n",
      "Epoch 170/300\n",
      "800/800 [==============================] - 5s 6ms/step - loss: 0.5518 - accuracy: 0.7487 - val_loss: 1.5799 - val_accuracy: 0.5350\n",
      "Epoch 171/300\n",
      "800/800 [==============================] - 5s 7ms/step - loss: 0.5454 - accuracy: 0.7650 - val_loss: 1.3688 - val_accuracy: 0.7150\n",
      "Epoch 172/300\n",
      "800/800 [==============================] - 5s 7ms/step - loss: 0.5442 - accuracy: 0.7437 - val_loss: 1.2915 - val_accuracy: 0.6800\n",
      "Epoch 173/300\n",
      "800/800 [==============================] - 5s 7ms/step - loss: 0.5702 - accuracy: 0.7325 - val_loss: 1.3093 - val_accuracy: 0.6500\n",
      "Epoch 174/300\n",
      "800/800 [==============================] - 5s 7ms/step - loss: 0.5570 - accuracy: 0.7525 - val_loss: 1.3237 - val_accuracy: 0.7050\n",
      "Epoch 175/300\n",
      "800/800 [==============================] - 5s 6ms/step - loss: 0.5488 - accuracy: 0.7588 - val_loss: 1.6099 - val_accuracy: 0.6600\n",
      "Epoch 176/300\n",
      "800/800 [==============================] - 5s 7ms/step - loss: 0.6214 - accuracy: 0.7450 - val_loss: 1.3617 - val_accuracy: 0.6950\n",
      "Epoch 177/300\n",
      "800/800 [==============================] - 5s 6ms/step - loss: 0.5308 - accuracy: 0.7613 - val_loss: 1.3762 - val_accuracy: 0.6900\n",
      "Epoch 178/300\n",
      "800/800 [==============================] - 5s 7ms/step - loss: 0.5463 - accuracy: 0.7613 - val_loss: 1.6889 - val_accuracy: 0.5250\n",
      "Epoch 179/300\n",
      "800/800 [==============================] - 6s 7ms/step - loss: 0.6004 - accuracy: 0.7487 - val_loss: 1.2376 - val_accuracy: 0.6850\n",
      "Epoch 180/300\n",
      "800/800 [==============================] - 5s 7ms/step - loss: 0.5194 - accuracy: 0.7550 - val_loss: 1.3341 - val_accuracy: 0.6850\n",
      "Epoch 181/300\n",
      "800/800 [==============================] - 5s 7ms/step - loss: 0.5595 - accuracy: 0.7688 - val_loss: 1.1972 - val_accuracy: 0.6850\n",
      "Epoch 182/300\n",
      "800/800 [==============================] - 5s 7ms/step - loss: 0.5207 - accuracy: 0.7650 - val_loss: 1.2316 - val_accuracy: 0.6950\n",
      "Epoch 183/300\n",
      "800/800 [==============================] - 5s 6ms/step - loss: 0.5634 - accuracy: 0.7625 - val_loss: 1.2849 - val_accuracy: 0.6800\n",
      "Epoch 184/300\n",
      "800/800 [==============================] - 5s 7ms/step - loss: 0.5260 - accuracy: 0.7575 - val_loss: 1.3975 - val_accuracy: 0.6650\n",
      "Epoch 185/300\n",
      "800/800 [==============================] - 5s 7ms/step - loss: 0.5654 - accuracy: 0.7563 - val_loss: 1.3101 - val_accuracy: 0.6950\n",
      "Epoch 186/300\n",
      "800/800 [==============================] - 5s 7ms/step - loss: 0.5419 - accuracy: 0.7575 - val_loss: 1.4117 - val_accuracy: 0.6900\n",
      "Epoch 187/300\n",
      "800/800 [==============================] - 5s 7ms/step - loss: 0.5481 - accuracy: 0.7613 - val_loss: 1.4997 - val_accuracy: 0.7050\n",
      "Epoch 188/300\n",
      "800/800 [==============================] - 5s 7ms/step - loss: 0.5431 - accuracy: 0.7487 - val_loss: 1.5573 - val_accuracy: 0.6800\n",
      "Epoch 189/300\n",
      "800/800 [==============================] - 5s 7ms/step - loss: 0.5307 - accuracy: 0.7575 - val_loss: 1.3142 - val_accuracy: 0.6800\n",
      "Epoch 190/300\n",
      "800/800 [==============================] - 5s 7ms/step - loss: 0.5124 - accuracy: 0.7538 - val_loss: 1.4244 - val_accuracy: 0.7000\n",
      "Epoch 191/300\n",
      "800/800 [==============================] - 5s 6ms/step - loss: 0.6159 - accuracy: 0.7462 - val_loss: 1.4143 - val_accuracy: 0.6750\n",
      "Epoch 192/300\n",
      "800/800 [==============================] - 5s 7ms/step - loss: 0.5911 - accuracy: 0.7400 - val_loss: 1.3433 - val_accuracy: 0.6900\n",
      "Epoch 193/300\n",
      "800/800 [==============================] - 5s 7ms/step - loss: 0.5483 - accuracy: 0.7750 - val_loss: 1.6447 - val_accuracy: 0.6650\n",
      "Epoch 194/300\n",
      "800/800 [==============================] - 5s 6ms/step - loss: 0.4871 - accuracy: 0.7837 - val_loss: 1.4457 - val_accuracy: 0.6600\n",
      "Epoch 195/300\n",
      "800/800 [==============================] - 5s 7ms/step - loss: 0.5236 - accuracy: 0.7525 - val_loss: 1.4823 - val_accuracy: 0.6850\n",
      "Epoch 196/300\n",
      "800/800 [==============================] - 5s 6ms/step - loss: 0.4884 - accuracy: 0.7788 - val_loss: 1.5884 - val_accuracy: 0.6850\n",
      "Epoch 197/300\n",
      "800/800 [==============================] - 5s 7ms/step - loss: 0.5124 - accuracy: 0.7738 - val_loss: 1.5045 - val_accuracy: 0.7000\n",
      "Epoch 198/300\n",
      "800/800 [==============================] - 5s 6ms/step - loss: 0.5373 - accuracy: 0.7613 - val_loss: 1.5672 - val_accuracy: 0.6300\n",
      "Epoch 199/300\n",
      "800/800 [==============================] - 5s 7ms/step - loss: 0.4971 - accuracy: 0.7675 - val_loss: 1.5206 - val_accuracy: 0.6850\n",
      "Epoch 200/300\n",
      "800/800 [==============================] - 5s 7ms/step - loss: 0.5218 - accuracy: 0.7563 - val_loss: 1.5621 - val_accuracy: 0.6700\n",
      "Epoch 201/300\n",
      "800/800 [==============================] - 5s 7ms/step - loss: 0.4967 - accuracy: 0.7738 - val_loss: 1.5280 - val_accuracy: 0.7000\n",
      "Epoch 202/300\n",
      "800/800 [==============================] - 5s 7ms/step - loss: 0.4965 - accuracy: 0.7800 - val_loss: 1.5008 - val_accuracy: 0.6750\n",
      "Epoch 203/300\n",
      "800/800 [==============================] - 5s 7ms/step - loss: 0.4967 - accuracy: 0.7850 - val_loss: 1.5033 - val_accuracy: 0.7050\n",
      "Epoch 204/300\n",
      "800/800 [==============================] - 5s 6ms/step - loss: 0.5035 - accuracy: 0.7850 - val_loss: 1.5935 - val_accuracy: 0.6700\n",
      "Epoch 205/300\n",
      "800/800 [==============================] - 5s 7ms/step - loss: 0.5144 - accuracy: 0.7688 - val_loss: 1.5968 - val_accuracy: 0.7100\n",
      "Epoch 206/300\n",
      "800/800 [==============================] - 5s 7ms/step - loss: 0.4729 - accuracy: 0.7875 - val_loss: 1.5338 - val_accuracy: 0.6750\n",
      "Epoch 207/300\n",
      "800/800 [==============================] - 5s 7ms/step - loss: 0.4720 - accuracy: 0.8050 - val_loss: 1.4703 - val_accuracy: 0.6950\n",
      "Epoch 208/300\n",
      "800/800 [==============================] - 5s 7ms/step - loss: 0.5113 - accuracy: 0.7875 - val_loss: 1.6423 - val_accuracy: 0.6850\n",
      "Epoch 209/300\n",
      "800/800 [==============================] - 5s 7ms/step - loss: 0.4993 - accuracy: 0.7887 - val_loss: 1.4441 - val_accuracy: 0.6600\n",
      "Epoch 210/300\n",
      "800/800 [==============================] - 5s 7ms/step - loss: 0.4701 - accuracy: 0.7775 - val_loss: 1.9026 - val_accuracy: 0.5900\n",
      "Epoch 211/300\n",
      "800/800 [==============================] - 5s 7ms/step - loss: 0.5095 - accuracy: 0.7763 - val_loss: 1.5416 - val_accuracy: 0.6850\n",
      "Epoch 212/300\n"
     ]
    },
    {
     "name": "stdout",
     "output_type": "stream",
     "text": [
      "800/800 [==============================] - 5s 6ms/step - loss: 0.4551 - accuracy: 0.8037 - val_loss: 1.7622 - val_accuracy: 0.6700\n",
      "Epoch 213/300\n",
      "800/800 [==============================] - 5s 7ms/step - loss: 0.4702 - accuracy: 0.7862 - val_loss: 1.8814 - val_accuracy: 0.6650\n",
      "Epoch 214/300\n",
      "800/800 [==============================] - 5s 7ms/step - loss: 0.4952 - accuracy: 0.7950 - val_loss: 1.5743 - val_accuracy: 0.6750\n",
      "Epoch 215/300\n",
      "800/800 [==============================] - 5s 7ms/step - loss: 0.4816 - accuracy: 0.7887 - val_loss: 1.8517 - val_accuracy: 0.6450\n",
      "Epoch 216/300\n",
      "800/800 [==============================] - 5s 7ms/step - loss: 0.4762 - accuracy: 0.7887 - val_loss: 1.6223 - val_accuracy: 0.7100\n",
      "Epoch 217/300\n",
      "800/800 [==============================] - 6s 7ms/step - loss: 0.4878 - accuracy: 0.7875 - val_loss: 1.6373 - val_accuracy: 0.6550\n",
      "Epoch 218/300\n",
      "800/800 [==============================] - 6s 8ms/step - loss: 0.4466 - accuracy: 0.8037 - val_loss: 1.7645 - val_accuracy: 0.6550\n",
      "Epoch 219/300\n",
      "800/800 [==============================] - 5s 7ms/step - loss: 0.4740 - accuracy: 0.8087 - val_loss: 1.6142 - val_accuracy: 0.7150\n",
      "Epoch 220/300\n",
      "800/800 [==============================] - 5s 7ms/step - loss: 0.4526 - accuracy: 0.7925 - val_loss: 1.5855 - val_accuracy: 0.7000\n",
      "Epoch 221/300\n",
      "800/800 [==============================] - 5s 6ms/step - loss: 0.5158 - accuracy: 0.7850 - val_loss: 1.4392 - val_accuracy: 0.7100\n",
      "Epoch 222/300\n",
      "800/800 [==============================] - 6s 7ms/step - loss: 0.4487 - accuracy: 0.8125 - val_loss: 1.5487 - val_accuracy: 0.7000\n",
      "Epoch 223/300\n",
      "800/800 [==============================] - 5s 7ms/step - loss: 0.4732 - accuracy: 0.7900 - val_loss: 1.5859 - val_accuracy: 0.7050\n",
      "Epoch 224/300\n",
      "800/800 [==============================] - 5s 6ms/step - loss: 0.4328 - accuracy: 0.8050 - val_loss: 1.7417 - val_accuracy: 0.7050\n",
      "Epoch 225/300\n",
      "800/800 [==============================] - 5s 7ms/step - loss: 0.4597 - accuracy: 0.7912 - val_loss: 1.8253 - val_accuracy: 0.6400\n",
      "Epoch 226/300\n",
      "800/800 [==============================] - 5s 6ms/step - loss: 0.4549 - accuracy: 0.7937 - val_loss: 2.1771 - val_accuracy: 0.7000\n",
      "Epoch 227/300\n",
      "800/800 [==============================] - 5s 6ms/step - loss: 0.4760 - accuracy: 0.7937 - val_loss: 1.8323 - val_accuracy: 0.6750\n",
      "Epoch 228/300\n",
      "800/800 [==============================] - 5s 7ms/step - loss: 0.4524 - accuracy: 0.8012 - val_loss: 1.8519 - val_accuracy: 0.6800\n",
      "Epoch 229/300\n",
      "800/800 [==============================] - 5s 7ms/step - loss: 0.4570 - accuracy: 0.7912 - val_loss: 1.7111 - val_accuracy: 0.6950\n",
      "Epoch 230/300\n",
      "800/800 [==============================] - 5s 7ms/step - loss: 0.4590 - accuracy: 0.7937 - val_loss: 1.9139 - val_accuracy: 0.6750\n",
      "Epoch 231/300\n",
      "800/800 [==============================] - 5s 7ms/step - loss: 0.4397 - accuracy: 0.8138 - val_loss: 2.0021 - val_accuracy: 0.6650\n",
      "Epoch 232/300\n",
      "800/800 [==============================] - 5s 7ms/step - loss: 0.4346 - accuracy: 0.8062 - val_loss: 1.8343 - val_accuracy: 0.6450\n",
      "Epoch 233/300\n",
      "800/800 [==============================] - 5s 6ms/step - loss: 0.4727 - accuracy: 0.7875 - val_loss: 1.9903 - val_accuracy: 0.6600\n",
      "Epoch 234/300\n",
      "800/800 [==============================] - 5s 6ms/step - loss: 0.4575 - accuracy: 0.7925 - val_loss: 2.0319 - val_accuracy: 0.6100\n",
      "Epoch 235/300\n",
      "800/800 [==============================] - 5s 6ms/step - loss: 0.4392 - accuracy: 0.8100 - val_loss: 1.8921 - val_accuracy: 0.6900\n",
      "Epoch 236/300\n",
      "800/800 [==============================] - 5s 7ms/step - loss: 0.5361 - accuracy: 0.7750 - val_loss: 1.9508 - val_accuracy: 0.6850\n",
      "Epoch 237/300\n",
      "800/800 [==============================] - 5s 7ms/step - loss: 0.4486 - accuracy: 0.8050 - val_loss: 2.2598 - val_accuracy: 0.6950\n",
      "Epoch 238/300\n",
      "800/800 [==============================] - 5s 7ms/step - loss: 0.4123 - accuracy: 0.8263 - val_loss: 2.1402 - val_accuracy: 0.6800\n",
      "Epoch 239/300\n",
      "800/800 [==============================] - 5s 7ms/step - loss: 0.4350 - accuracy: 0.8087 - val_loss: 2.1431 - val_accuracy: 0.6950\n",
      "Epoch 240/300\n",
      "800/800 [==============================] - 5s 6ms/step - loss: 0.4409 - accuracy: 0.8062 - val_loss: 2.4834 - val_accuracy: 0.6750\n",
      "Epoch 241/300\n",
      "800/800 [==============================] - 5s 7ms/step - loss: 0.4619 - accuracy: 0.8050 - val_loss: 1.7571 - val_accuracy: 0.6900\n",
      "Epoch 242/300\n",
      "800/800 [==============================] - 5s 7ms/step - loss: 0.4077 - accuracy: 0.8125 - val_loss: 1.9376 - val_accuracy: 0.6700\n",
      "Epoch 243/300\n",
      "800/800 [==============================] - 5s 6ms/step - loss: 0.4404 - accuracy: 0.8075 - val_loss: 1.9110 - val_accuracy: 0.6850\n",
      "Epoch 244/300\n",
      "800/800 [==============================] - 6s 7ms/step - loss: 0.4099 - accuracy: 0.8300 - val_loss: 1.8183 - val_accuracy: 0.6900\n",
      "Epoch 245/300\n",
      "800/800 [==============================] - 5s 7ms/step - loss: 0.4038 - accuracy: 0.8275 - val_loss: 2.0236 - val_accuracy: 0.6550\n",
      "Epoch 246/300\n",
      "800/800 [==============================] - 5s 6ms/step - loss: 0.6287 - accuracy: 0.8087 - val_loss: 1.8290 - val_accuracy: 0.6700\n",
      "Epoch 247/300\n",
      "800/800 [==============================] - 5s 7ms/step - loss: 0.4010 - accuracy: 0.8225 - val_loss: 1.8393 - val_accuracy: 0.6500\n",
      "Epoch 248/300\n",
      "800/800 [==============================] - 5s 6ms/step - loss: 0.4399 - accuracy: 0.8175 - val_loss: 1.8388 - val_accuracy: 0.6750\n",
      "Epoch 249/300\n",
      "800/800 [==============================] - 5s 7ms/step - loss: 0.3830 - accuracy: 0.8438 - val_loss: 2.0812 - val_accuracy: 0.6650\n",
      "Epoch 250/300\n",
      "800/800 [==============================] - 5s 7ms/step - loss: 0.4132 - accuracy: 0.8100 - val_loss: 1.8257 - val_accuracy: 0.6700\n",
      "Epoch 251/300\n",
      "800/800 [==============================] - 5s 7ms/step - loss: 0.4219 - accuracy: 0.8112 - val_loss: 2.0129 - val_accuracy: 0.6800\n",
      "Epoch 252/300\n",
      "800/800 [==============================] - 5s 7ms/step - loss: 0.3976 - accuracy: 0.8250 - val_loss: 1.8664 - val_accuracy: 0.6800\n",
      "Epoch 253/300\n",
      "800/800 [==============================] - 5s 6ms/step - loss: 0.3864 - accuracy: 0.8400 - val_loss: 2.0760 - val_accuracy: 0.6750\n",
      "Epoch 254/300\n",
      "800/800 [==============================] - 5s 7ms/step - loss: 0.5772 - accuracy: 0.7825 - val_loss: 1.9130 - val_accuracy: 0.7100\n",
      "Epoch 255/300\n",
      "800/800 [==============================] - 5s 7ms/step - loss: 0.3704 - accuracy: 0.8425 - val_loss: 2.0523 - val_accuracy: 0.6700\n",
      "Epoch 256/300\n",
      "800/800 [==============================] - 5s 7ms/step - loss: 0.4803 - accuracy: 0.8062 - val_loss: 1.9474 - val_accuracy: 0.6750\n",
      "Epoch 257/300\n",
      "800/800 [==============================] - 5s 6ms/step - loss: 0.3789 - accuracy: 0.8350 - val_loss: 2.0038 - val_accuracy: 0.6800\n",
      "Epoch 258/300\n",
      "800/800 [==============================] - 5s 6ms/step - loss: 0.3874 - accuracy: 0.8350 - val_loss: 1.7778 - val_accuracy: 0.6950\n",
      "Epoch 259/300\n",
      "800/800 [==============================] - 5s 7ms/step - loss: 0.4601 - accuracy: 0.8225 - val_loss: 2.4013 - val_accuracy: 0.5650\n",
      "Epoch 260/300\n",
      "800/800 [==============================] - 5s 7ms/step - loss: 0.5091 - accuracy: 0.8300 - val_loss: 2.0965 - val_accuracy: 0.6900\n",
      "Epoch 261/300\n",
      "800/800 [==============================] - 5s 6ms/step - loss: 0.3750 - accuracy: 0.8275 - val_loss: 2.0608 - val_accuracy: 0.6700\n",
      "Epoch 262/300\n",
      "800/800 [==============================] - 5s 7ms/step - loss: 0.3724 - accuracy: 0.8413 - val_loss: 2.0418 - val_accuracy: 0.6700\n",
      "Epoch 263/300\n",
      "800/800 [==============================] - 5s 6ms/step - loss: 0.3981 - accuracy: 0.8213 - val_loss: 2.0609 - val_accuracy: 0.6350\n",
      "Epoch 264/300\n",
      "800/800 [==============================] - 5s 7ms/step - loss: 0.4033 - accuracy: 0.8238 - val_loss: 2.0126 - val_accuracy: 0.6550\n",
      "Epoch 265/300\n",
      "800/800 [==============================] - 5s 7ms/step - loss: 0.3712 - accuracy: 0.8413 - val_loss: 1.9548 - val_accuracy: 0.6550\n",
      "Epoch 266/300\n",
      "800/800 [==============================] - 5s 7ms/step - loss: 0.4040 - accuracy: 0.8300 - val_loss: 2.1141 - val_accuracy: 0.6750\n",
      "Epoch 267/300\n",
      "800/800 [==============================] - 5s 7ms/step - loss: 0.3724 - accuracy: 0.8300 - val_loss: 2.1387 - val_accuracy: 0.6700\n",
      "Epoch 268/300\n",
      "800/800 [==============================] - 5s 7ms/step - loss: 0.3721 - accuracy: 0.8413 - val_loss: 2.1846 - val_accuracy: 0.6800\n",
      "Epoch 269/300\n",
      "800/800 [==============================] - 5s 7ms/step - loss: 0.4347 - accuracy: 0.8062 - val_loss: 1.9417 - val_accuracy: 0.6850\n",
      "Epoch 270/300\n",
      "800/800 [==============================] - 5s 7ms/step - loss: 0.3713 - accuracy: 0.8238 - val_loss: 2.1852 - val_accuracy: 0.6750\n",
      "Epoch 271/300\n",
      "800/800 [==============================] - 5s 7ms/step - loss: 0.4021 - accuracy: 0.8275 - val_loss: 1.8020 - val_accuracy: 0.6600\n",
      "Epoch 272/300\n",
      "800/800 [==============================] - 5s 7ms/step - loss: 0.4048 - accuracy: 0.8313 - val_loss: 2.0734 - val_accuracy: 0.6700\n",
      "Epoch 273/300\n",
      "800/800 [==============================] - 6s 7ms/step - loss: 0.3713 - accuracy: 0.8363 - val_loss: 2.1181 - val_accuracy: 0.6150\n",
      "Epoch 274/300\n",
      "800/800 [==============================] - 5s 6ms/step - loss: 0.3547 - accuracy: 0.8537 - val_loss: 2.0262 - val_accuracy: 0.6800\n",
      "Epoch 275/300\n",
      "800/800 [==============================] - 5s 7ms/step - loss: 0.3311 - accuracy: 0.8625 - val_loss: 2.3564 - val_accuracy: 0.6650\n",
      "Epoch 276/300\n",
      "800/800 [==============================] - 5s 7ms/step - loss: 0.3886 - accuracy: 0.8313 - val_loss: 2.0708 - val_accuracy: 0.6900\n",
      "Epoch 277/300\n",
      "800/800 [==============================] - 5s 7ms/step - loss: 0.3707 - accuracy: 0.8450 - val_loss: 2.3461 - val_accuracy: 0.6550\n",
      "Epoch 278/300\n",
      "800/800 [==============================] - 5s 7ms/step - loss: 0.3630 - accuracy: 0.8388 - val_loss: 2.4775 - val_accuracy: 0.6500\n",
      "Epoch 279/300\n",
      "800/800 [==============================] - 5s 7ms/step - loss: 0.3365 - accuracy: 0.8525 - val_loss: 2.2787 - val_accuracy: 0.7000\n",
      "Epoch 280/300\n",
      "800/800 [==============================] - 5s 7ms/step - loss: 0.3664 - accuracy: 0.8363 - val_loss: 2.1947 - val_accuracy: 0.6800\n",
      "Epoch 281/300\n",
      "800/800 [==============================] - 5s 7ms/step - loss: 0.4033 - accuracy: 0.8350 - val_loss: 2.2860 - val_accuracy: 0.6950\n",
      "Epoch 282/300\n",
      "800/800 [==============================] - 5s 7ms/step - loss: 0.3442 - accuracy: 0.8525 - val_loss: 2.3338 - val_accuracy: 0.6650\n",
      "Epoch 283/300\n",
      "800/800 [==============================] - 5s 7ms/step - loss: 0.4351 - accuracy: 0.8687 - val_loss: 2.2678 - val_accuracy: 0.6750\n",
      "Epoch 284/300\n",
      "800/800 [==============================] - 5s 6ms/step - loss: 0.3734 - accuracy: 0.8350 - val_loss: 2.4268 - val_accuracy: 0.6850\n",
      "Epoch 285/300\n",
      "800/800 [==============================] - 5s 7ms/step - loss: 0.3599 - accuracy: 0.8425 - val_loss: 2.1191 - val_accuracy: 0.6800\n",
      "Epoch 286/300\n",
      "800/800 [==============================] - 5s 7ms/step - loss: 0.3408 - accuracy: 0.8413 - val_loss: 1.9060 - val_accuracy: 0.7000\n",
      "Epoch 287/300\n",
      "800/800 [==============================] - 5s 7ms/step - loss: 0.3124 - accuracy: 0.8575 - val_loss: 2.2501 - val_accuracy: 0.6600\n",
      "Epoch 288/300\n",
      "800/800 [==============================] - 5s 7ms/step - loss: 0.3861 - accuracy: 0.8225 - val_loss: 2.5616 - val_accuracy: 0.6350\n",
      "Epoch 289/300\n",
      "800/800 [==============================] - 5s 7ms/step - loss: 0.3343 - accuracy: 0.8500 - val_loss: 2.6054 - val_accuracy: 0.6650\n",
      "Epoch 290/300\n",
      "800/800 [==============================] - 5s 7ms/step - loss: 0.3477 - accuracy: 0.8525 - val_loss: 2.1341 - val_accuracy: 0.6800\n",
      "Epoch 291/300\n",
      "800/800 [==============================] - 5s 7ms/step - loss: 0.3724 - accuracy: 0.8550 - val_loss: 2.2870 - val_accuracy: 0.6600\n",
      "Epoch 292/300\n",
      "800/800 [==============================] - 5s 7ms/step - loss: 0.3741 - accuracy: 0.8637 - val_loss: 2.5410 - val_accuracy: 0.5650\n",
      "Epoch 293/300\n",
      "800/800 [==============================] - 5s 7ms/step - loss: 0.3418 - accuracy: 0.8587 - val_loss: 2.2599 - val_accuracy: 0.6600\n",
      "Epoch 294/300\n",
      "800/800 [==============================] - 5s 7ms/step - loss: 0.3106 - accuracy: 0.8675 - val_loss: 2.7534 - val_accuracy: 0.6600\n",
      "Epoch 295/300\n",
      "800/800 [==============================] - 5s 7ms/step - loss: 0.3936 - accuracy: 0.8512 - val_loss: 2.7266 - val_accuracy: 0.6650\n",
      "Epoch 296/300\n",
      "800/800 [==============================] - 5s 7ms/step - loss: 0.3759 - accuracy: 0.8537 - val_loss: 2.3780 - val_accuracy: 0.6650\n",
      "Epoch 297/300\n",
      "800/800 [==============================] - 5s 7ms/step - loss: 0.2974 - accuracy: 0.8712 - val_loss: 2.4302 - val_accuracy: 0.6550\n",
      "Epoch 298/300\n",
      "800/800 [==============================] - 5s 7ms/step - loss: 0.3195 - accuracy: 0.8675 - val_loss: 2.5717 - val_accuracy: 0.5750\n",
      "Epoch 299/300\n",
      "800/800 [==============================] - 5s 6ms/step - loss: 0.3157 - accuracy: 0.8587 - val_loss: 2.5123 - val_accuracy: 0.6750\n",
      "Epoch 300/300\n",
      "800/800 [==============================] - 5s 7ms/step - loss: 0.3081 - accuracy: 0.8712 - val_loss: 2.6057 - val_accuracy: 0.6300\n",
      "Test loss: 2.6056908655166624\n",
      "Test accuracy: 0.6299999952316284\n"
     ]
    }
   ],
   "source": [
    "# Parameter\n",
    "batch_size = 64\n",
    "epochs = 300\n",
    "\n",
    "# Model Construction                                                                                \n",
    "model = Sequential()\n",
    "model.add(Conv2D(32, kernel_size=(5, 5), activation='relu', input_shape=(60, 60, 1)))\n",
    "model.add(Conv2D(64, kernel_size=(5,5), activation='relu'))\n",
    "model.add(MaxPooling2D(pool_size=(4,4)))\n",
    "model.add(Conv2D(128, kernel_size=(3,3), activation='relu'))\n",
    "model.add(Conv2D(128, kernel_size=(3,3), activation='relu'))\n",
    "model.add(MaxPooling2D(pool_size=(2,2)))\n",
    "model.add(Dropout(0.25))\n",
    "model.add(Flatten())\n",
    "model.add(Dense(64, activation='relu'))\n",
    "model.add(Dropout(0.25))\n",
    "model.add(Dense(64, activation='relu'))\n",
    "model.add(Dropout(0.25))\n",
    "model.add(Dense(3, activation='softmax'))\n",
    "\n",
    "model.summary()\n",
    "\n",
    "model.compile(loss='categorical_crossentropy',\n",
    "              optimizer=RMSprop(),\n",
    "              metrics=['accuracy'])\n",
    "\n",
    "\n",
    "\n",
    "# Learning and Score                                                                                \n",
    "history = model.fit(X_train, Y_train,\n",
    "                    batch_size=batch_size,\n",
    "                    epochs=epochs,\n",
    "                    verbose=1,\n",
    "                    validation_data=(X_test, Y_test))\n",
    "score = model.evaluate(X_test, Y_test, verbose=0)\n",
    "print('Test loss:', score[0])\n",
    "print('Test accuracy:', score[1])"
   ]
  },
  {
   "source": [
    "## history回避、きちんとやる"
   ],
   "cell_type": "markdown",
   "metadata": {}
  },
  {
   "cell_type": "code",
   "execution_count": 16,
   "metadata": {},
   "outputs": [
    {
     "data": {
      "image/png": "[encoded data removed]",
      "text/plain": [
       "<Figure size 432x288 with 1 Axes>"
      ]
     },
     "metadata": {
      "needs_background": "light"
     },
     "output_type": "display_data"
    }
   ],
   "source": [
    "# 可視化\n",
    "plt.plot(range(1,epochs+1), history.history['accuracy'], label=\"training\")\n",
    "plt.plot(range(1,epochs+1), history.history['val_accuracy'], label=\"validation\")\n",
    "plt.xlabel('Epochs')\n",
    "plt.ylabel('Accuracy')\n",
    "plt.legend()\n",
    "plt.show()"
   ]
  },
  {
   "cell_type": "code",
   "execution_count": 16,
   "metadata": {
    "scrolled": true
   },
   "outputs": [
    {
     "data": {
      "text/html": [
       "\n",
       "      <iframe id=\"tensorboard-frame-646657a8fccda602\" width=\"100%\" height=\"800\" frameborder=\"0\">\n",
       "      </iframe>\n",
       "      <script>\n",
       "        (function() {\n",
       "          const frame = document.getElementById(\"tensorboard-frame-646657a8fccda602\");\n",
       "          const url = new URL(\"/\", window.location);\n",
       "          url.port = 6006;\n",
       "          frame.src = url;\n",
       "        })();\n",
       "      </script>\n",
       "  "
      ],
      "text/plain": [
       "<IPython.core.display.HTML object>"
      ]
     },
     "metadata": {},
     "output_type": "display_data"
    }
   ],
   "source": [
    "# tensorboard　(準備中) \n",
    "%tensorboard --logdir logs/fit"
   ]
  },
  {
   "cell_type": "code",
   "execution_count": 18,
   "metadata": {},
   "outputs": [
    {
     "data": {
      "text/html": [
       "<div>\n",
       "<style scoped>\n",
       "    .dataframe tbody tr th:only-of-type {\n",
       "        vertical-align: middle;\n",
       "    }\n",
       "\n",
       "    .dataframe tbody tr th {\n",
       "        vertical-align: top;\n",
       "    }\n",
       "\n",
       "    .dataframe thead th {\n",
       "        text-align: right;\n",
       "    }\n",
       "</style>\n",
       "<table border=\"1\" class=\"dataframe\">\n",
       "  <thead>\n",
       "    <tr style=\"text-align: right;\">\n",
       "      <th></th>\n",
       "      <th>Actual</th>\n",
       "      <th>Predictions</th>\n",
       "    </tr>\n",
       "  </thead>\n",
       "  <tbody>\n",
       "    <tr>\n",
       "      <th>1</th>\n",
       "      <td>[1.0, 0.0, 0.0]</td>\n",
       "      <td>2</td>\n",
       "    </tr>\n",
       "    <tr>\n",
       "      <th>2</th>\n",
       "      <td>[0.0, 0.0, 1.0]</td>\n",
       "      <td>2</td>\n",
       "    </tr>\n",
       "  </tbody>\n",
       "</table>\n",
       "</div>"
      ],
      "text/plain": [
       "            Actual  Predictions\n",
       "1  [1.0, 0.0, 0.0]            2\n",
       "2  [0.0, 0.0, 1.0]            2"
      ]
     },
     "execution_count": 18,
     "metadata": {},
     "output_type": "execute_result"
    }
   ],
   "source": [
    "# X_testを使って予測を行う\n",
    "predictions = model.predict_classes(X_test)\n",
    "xa = list(predictions)\n",
    "ya = list(Y_test_backup)\n",
    "results = pd.DataFrame({'Actual': ya, 'Predictions': xa})\n",
    "results[1:3]\n"
   ]
  }
 ],
 "metadata": {
  "kernelspec": {
   "display_name": "Python 3",
   "language": "python",
   "name": "python3"
  },
  "language_info": {
   "codemirror_mode": {
    "name": "ipython",
    "version": 3
   },
   "file_extension": ".py",
   "mimetype": "text/x-python",
   "name": "python",
   "nbconvert_exporter": "python",
   "pygments_lexer": "ipython3",
   "version": "3.6.12-final"
  }
 },
 "nbformat": 4,
 "nbformat_minor": 4
}