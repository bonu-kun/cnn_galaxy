{
 "cells": [
  {
   "source": [
    "# GPU計算必要なときだけロードする"
   ],
   "cell_type": "markdown",
   "metadata": {}
  },
  {
   "cell_type": "code",
   "execution_count": 27,
   "metadata": {},
   "outputs": [
    {
     "output_type": "execute_result",
     "data": {
      "text/plain": [
       "[name: \"/device:CPU:0\"\n",
       " device_type: \"CPU\"\n",
       " memory_limit: 268435456\n",
       " locality {\n",
       " }\n",
       " incarnation: 5532634856330883502,\n",
       " name: \"/device:XLA_CPU:0\"\n",
       " device_type: \"XLA_CPU\"\n",
       " memory_limit: 17179869184\n",
       " locality {\n",
       " }\n",
       " incarnation: 2561652894390585191\n",
       " physical_device_desc: \"device: XLA_CPU device\",\n",
       " name: \"/device:XLA_GPU:0\"\n",
       " device_type: \"XLA_GPU\"\n",
       " memory_limit: 17179869184\n",
       " locality {\n",
       " }\n",
       " incarnation: 5864969355738606043\n",
       " physical_device_desc: \"device: XLA_GPU device\",\n",
       " name: \"/device:GPU:0\"\n",
       " device_type: \"GPU\"\n",
       " memory_limit: 10815605965\n",
       " locality {\n",
       "   bus_id: 1\n",
       "   links {\n",
       "   }\n",
       " }\n",
       " incarnation: 12195509047490485476\n",
       " physical_device_desc: \"device: 0, name: GeForce RTX 2080 Ti, pci bus id: 0000:17:00.0, compute capability: 7.5\"]"
      ]
     },
     "metadata": {},
     "execution_count": 27
    }
   ],
   "source": [
    "from tensorflow.python.client import device_lib\n",
    "device_lib.list_local_devices()"
   ]
  },
  {
   "cell_type": "code",
   "execution_count": 28,
   "metadata": {},
   "outputs": [
    {
     "output_type": "stream",
     "name": "stdout",
     "text": [
      "2.1.0\n"
     ]
    }
   ],
   "source": [
    "import tensorflow as tf\n",
    "\n",
    "gpu_id = 0\n",
    "print(tf.__version__)\n",
    "if tf.__version__ >= \"2.1.0\":\n",
    "    physical_devices = tf.config.list_physical_devices('GPU')\n",
    "    tf.config.list_physical_devices('GPU')\n",
    "    tf.config.set_visible_devices(physical_devices[gpu_id], 'GPU')\n",
    "    tf.config.experimental.set_memory_growth(physical_devices[gpu_id], True)\n",
    "elif tf.__version__ >= \"2.0.0\":\n",
    "    #TF2.0\n",
    "    physical_devices = tf.config.experimental.list_physical_devices('GPU')\n",
    "    tf.config.experimental.set_visible_devices(physical_devices[gpu_id], 'GPU')\n",
    "    tf.config.experimental.set_memory_growth(physical_devices[gpu_id], True)\n",
    "else:\n",
    "    from keras.backend.tensorflow_backend import set_session\n",
    "    config = tf.ConfigProto(\n",
    "        gpu_options=tf.GPUOptions(\n",
    "            visible_device_list=str(gpu_id), # specify GPU number\n",
    "            allow_growth=True\n",
    "        )\n",
    "    )\n",
    "    set_session(tf.Session(config=config))"
   ]
  },
  {
   "cell_type": "code",
   "execution_count": 3,
   "metadata": {},
   "outputs": [
    {
     "output_type": "execute_result",
     "data": {
      "text/plain": [
       "'/iida/cnn_galaxy'"
      ]
     },
     "metadata": {},
     "execution_count": 3
    }
   ],
   "source": [
    "pwd"
   ]
  },
  {
   "source": [
    "## モジュールインポート"
   ],
   "cell_type": "markdown",
   "metadata": {}
  },
  {
   "cell_type": "code",
   "execution_count": 1,
   "metadata": {
    "scrolled": true
   },
   "outputs": [
    {
     "output_type": "stream",
     "name": "stderr",
     "text": [
      "Using TensorFlow backend.\n"
     ]
    }
   ],
   "source": [
    "import os\n",
    "import tensorflow as tf\n",
    "import keras"
   ]
  },
  {
   "cell_type": "code",
   "execution_count": 2,
   "metadata": {},
   "outputs": [],
   "source": [
    "# Kerasの必要なコンポーネントをインポート\n",
    "from keras.models import Sequential, model_from_json\n",
    "from keras.layers import Dense, Dropout, Flatten, Conv2D, MaxPooling2D, Activation\n",
    "from keras.optimizers import RMSprop\n",
    "from keras.utils import np_utils, plot_model\n",
    "\n",
    "# Scikit-learn(Sklearn)のインポート\n",
    "#  from sklearn.datasets import fetch_openml\n",
    "\n",
    "# データを高速かつ効率的に使えるPandasをインポート\n",
    "import pandas as pd\n",
    "# 数値計算を効率的に行うNumpyをインポート\n",
    "import numpy as np\n",
    "#グラフが簡単に描写できるMatplotlibをインポート\n",
    "import matplotlib\n",
    "import matplotlib.pyplot as plt\n",
    "\n",
    "#astropy関連のインポート\n",
    "from astropy.table import Table\n",
    "\n",
    "#csv\n",
    "import csv\n",
    "\n",
    "# tqdm\n",
    "from tqdm.notebook import tqdm"
   ]
  },
  {
   "cell_type": "code",
   "execution_count": 3,
   "metadata": {},
   "outputs": [],
   "source": [
    "# Load the TensorBoard notebook extension\n",
    "%load_ext tensorboard"
   ]
  },
  {
   "cell_type": "code",
   "execution_count": 4,
   "metadata": {},
   "outputs": [],
   "source": [
    "import datetime\n",
    "import pydot"
   ]
  },
  {
   "cell_type": "code",
   "execution_count": 5,
   "metadata": {},
   "outputs": [],
   "source": [
    " # Clear any logs from previous runs\n",
    "!rm -rf ./logs/ "
   ]
  },
  {
   "source": [
    "# テスト - 一旦画像表示させてみる"
   ],
   "cell_type": "markdown",
   "metadata": {}
  },
  {
   "cell_type": "code",
   "execution_count": 5,
   "metadata": {
    "scrolled": false
   },
   "outputs": [],
   "source": [
    "galaxy_arr = np.load(\"data/npz/587727178986356823.npy\")"
   ]
  },
  {
   "cell_type": "code",
   "execution_count": 19,
   "metadata": {},
   "outputs": [
    {
     "name": "stdout",
     "output_type": "stream",
     "text": [
      "[[1196 1188 1197 ... 1191 1191 1187]\n",
      " [1179 1185 1179 ... 1196 1189 1191]\n",
      " [1194 1189 1197 ... 1194 1199 1196]\n",
      " ...\n",
      " [1188 1189 1194 ... 1187 1202 1186]\n",
      " [1179 1189 1190 ... 1199 1195 1205]\n",
      " [1196 1196 1189 ... 1187 1189 1185]]\n",
      "(60, 60)\n"
     ]
    }
   ],
   "source": [
    "# 画像\n",
    "print(galaxy_arr)\n",
    "print(galaxy_arr.shape)"
   ]
  },
  {
   "cell_type": "code",
   "execution_count": 7,
   "metadata": {},
   "outputs": [
    {
     "data": {
      "text/plain": [
       "<matplotlib.image.AxesImage at 0x29a04a2c198>"
      ]
     },
     "execution_count": 7,
     "metadata": {},
     "output_type": "execute_result"
    },
    {
     "data": {
      "image/png": "[encoded data removed]",
      "text/plain": [
       "<Figure size 432x288 with 1 Axes>"
      ]
     },
     "metadata": {
      "needs_background": "light"
     },
     "output_type": "display_data"
    }
   ],
   "source": [
    "# 画像表示\n",
    "plt.imshow(np.log10(galaxy_arr.T[::-1, ::-1]), cmap='gray', vmin=3.05, vmax=3.09)"
   ]
  },
  {
   "cell_type": "code",
   "execution_count": 17,
   "metadata": {},
   "outputs": [
    {
     "name": "stdout",
     "output_type": "stream",
     "text": [
      "1891\n",
      "(31, 31)\n",
      "1516\n"
     ]
    }
   ],
   "source": [
    "#最大値参照\n",
    "print(np.argmax(galaxy_arr)) #これは平坦化した際のインデックス\n",
    "print(np.unravel_index(np.argmax(galaxy_arr),galaxy_arr.shape))\n",
    "print(galaxy_arr[31,31])"
   ]
  },
  {
   "cell_type": "markdown",
   "metadata": {},
   "source": [
    "# データセット生成"
   ]
  },
  {
   "source": [
    "## 準備"
   ],
   "cell_type": "markdown",
   "metadata": {}
  },
  {
   "cell_type": "code",
   "execution_count": 46,
   "metadata": {},
   "outputs": [],
   "source": [
    "# 使うデータの数を決定\n",
    "num_of_data = 10000"
   ]
  },
  {
   "cell_type": "code",
   "execution_count": 47,
   "metadata": {},
   "outputs": [
    {
     "output_type": "display_data",
     "data": {
      "text/plain": "HBox(children=(HTML(value=''), FloatProgress(value=0.0, max=667944.0), HTML(value='')))",
      "application/vnd.jupyter.widget-view+json": {
       "version_major": 2,
       "version_minor": 0,
       "model_id": "2eee15c758c9416a9d59c1fe262c3135"
      }
     },
     "metadata": {}
    },
    {
     "output_type": "stream",
     "name": "stdout",
     "text": [
      "error\nerror\n\n"
     ]
    }
   ],
   "source": [
    "# まず、用いる銀河のtableを作成\n",
    "# とりあえず手動で蹴る\n",
    "gz_table = []\n",
    "count = 0\n",
    "table_hontai = Table.read('GalaxyZoo1_DR_table2.fits',memmap=True)\n",
    "for i in tqdm(table_hontai):\n",
    "    if i[0] == 587724198813433876 or i[0] == 587724199349518483:\n",
    "        print('error')\n",
    "        continue\n",
    "    gz_table.append(i)\n",
    "    count+=1\n",
    "    if count == num_of_data:\n",
    "        break\n",
    "\n",
    "\n",
    "# csv版\n",
    "# csv_obj = open('data/csv/galaxy_csv.csv')\n",
    "# csv_reader = csv.reader(csv_obj)\n",
    "# gz_table = [row for c,row in enumerate(csv_reader) if c < num_of_data]"
   ]
  },
  {
   "cell_type": "code",
   "execution_count": 10,
   "metadata": {},
   "outputs": [
    {
     "output_type": "display_data",
     "data": {
      "text/plain": "HBox(children=(HTML(value=''), FloatProgress(value=0.0, max=9999.0), HTML(value='')))",
      "application/vnd.jupyter.widget-view+json": {
       "version_major": 2,
       "version_minor": 0,
       "model_id": "f01e0d66003141a2ae8b11f45255ae73"
      }
     },
     "metadata": {}
    },
    {
     "output_type": "stream",
     "name": "stdout",
     "text": [
      "\n"
     ]
    }
   ],
   "source": [
    "# x(画像データ)のロード　(最初からndarrayで用意ver.)\n",
    "x = np.load('data/npz/' + str(gz_table[0][0]) + '.npy')\n",
    "x = x.reshape(1,60,60)\n",
    "\n",
    "for i in tqdm(gz_table[1:len(gz_table)]):\n",
    "    tmp =  np.load('data/npz/' + str(i[0]) + '.npy')\n",
    "    tmp = tmp.reshape(1,60,60)\n",
    "    x = np.append(x,tmp,axis=0)"
   ]
  },
  {
   "cell_type": "code",
   "execution_count": 48,
   "metadata": {},
   "outputs": [],
   "source": [
    "# x(画像データ)のロード (listに入れてから、ndarrayに変換ver.)前こっちはバグったのに大丈夫になった)\n",
    "x = [np.load('data/npz/' + str(i[0]) + '.npy') for i in gz_table]\n",
    "\n",
    "# list → nparray、およびint → float\n",
    "X = np.array(x)\n",
    "X = X.astype('float32')"
   ]
  },
  {
   "cell_type": "code",
   "execution_count": 6,
   "metadata": {},
   "outputs": [
    {
     "output_type": "error",
     "ename": "NameError",
     "evalue": "name 'X' is not defined",
     "traceback": [
      "\u001b[0;31m---------------------------------------------------------------------------\u001b[0m",
      "\u001b[0;31mNameError\u001b[0m                                 Traceback (most recent call last)",
      "\u001b[0;32m<ipython-input-6-045b3ef83596>\u001b[0m in \u001b[0;36m<module>\u001b[0;34m\u001b[0m\n\u001b[1;32m      1\u001b[0m \u001b[0;31m# ヒストグラム出してみる\u001b[0m\u001b[0;34m\u001b[0m\u001b[0;34m\u001b[0m\u001b[0;34m\u001b[0m\u001b[0m\n\u001b[0;32m----> 2\u001b[0;31m \u001b[0mplt\u001b[0m\u001b[0;34m.\u001b[0m\u001b[0mhist\u001b[0m\u001b[0;34m(\u001b[0m\u001b[0mX\u001b[0m\u001b[0;34m[\u001b[0m\u001b[0;36m0\u001b[0m\u001b[0;34m]\u001b[0m\u001b[0;34m)\u001b[0m\u001b[0;34m;\u001b[0m\u001b[0mplt\u001b[0m\u001b[0;34m.\u001b[0m\u001b[0mshow\u001b[0m\u001b[0;34m(\u001b[0m\u001b[0;34m)\u001b[0m\u001b[0;34m\u001b[0m\u001b[0;34m\u001b[0m\u001b[0m\n\u001b[0m",
      "\u001b[0;31mNameError\u001b[0m: name 'X' is not defined"
     ]
    }
   ],
   "source": [
    "# ヒストグラム出してみる\n",
    "plt.hist(X[0]);plt.show()"
   ]
  },
  {
   "source": [
    "## 正規化"
   ],
   "cell_type": "markdown",
   "metadata": {}
  },
  {
   "cell_type": "code",
   "execution_count": 49,
   "metadata": {
    "scrolled": true
   },
   "outputs": [],
   "source": [
    "# 正規化\n",
    "for i in range(len(gz_table)):\n",
    "    idx = np.unravel_index(np.argmax(X[i]), X[i].shape)\n",
    "    idx_content = X[i][idx]\n",
    "    X[i] = X[i]/idx_content"
   ]
  },
  {
   "cell_type": "code",
   "execution_count": 33,
   "metadata": {},
   "outputs": [
    {
     "output_type": "stream",
     "name": "stdout",
     "text": [
      "[[0.7889182  0.78364116 0.78957784 ... 0.78562003 0.78562003 0.7829815 ]\n [0.7777045  0.7816623  0.7777045  ... 0.7889182  0.7843008  0.78562003]\n [0.78759897 0.7843008  0.78957784 ... 0.78759897 0.7908971  0.7889182 ]\n ...\n [0.78364116 0.7843008  0.78759897 ... 0.7829815  0.792876   0.7823219 ]\n [0.7777045  0.7843008  0.78496045 ... 0.7908971  0.78825855 0.7948549 ]\n [0.7889182  0.7889182  0.7843008  ... 0.7829815  0.7843008  0.7816623 ]]\n(31, 31) max =  1.0\n"
     ]
    }
   ],
   "source": [
    "# 正規化 確認用\n",
    "print(X[0])\n",
    "idx2 = np.unravel_index(np.argmax(X[0]), X[0].shape)\n",
    "idx_content2 = X[0][idx2]\n",
    "print(idx2, 'max = ',idx_content2)"
   ]
  },
  {
   "cell_type": "code",
   "execution_count": 56,
   "metadata": {},
   "outputs": [],
   "source": [
    "# y(正解ラベル)をロード\n",
    "Y = []\n",
    "for i in gz_table:\n",
    "    if i[13] == 1:\n",
    "        Y.append(0)\n",
    "    elif i[14] == 1:\n",
    "        Y.append(1)\n",
    "    elif i[15] == 1:\n",
    "        Y.append(2)"
   ]
  },
  {
   "cell_type": "code",
   "execution_count": 57,
   "metadata": {},
   "outputs": [],
   "source": [
    "# ワンホットエンコーディング\n",
    "Y = np_utils.to_categorical(Y,3)"
   ]
  },
  {
   "cell_type": "code",
   "execution_count": 59,
   "metadata": {},
   "outputs": [
    {
     "output_type": "stream",
     "name": "stdout",
     "text": [
      "8000\n(60, 60, 1)\n<class 'numpy.ndarray'>\n"
     ]
    }
   ],
   "source": [
    "# 訓練データとテストデータを切り分ける\n",
    "X_train, X_test, Y_train, Y_test = X[:8000], X[8000:], Y[:8000], Y[8000:]\n",
    "Y_test_backup = Y_test\n",
    "\n",
    "X_train = X_train.reshape(8000, 60, 60, 1)\n",
    "X_test  = X_test.reshape(2000, 60, 60, 1)\n",
    "\n",
    "# 両方のサイズを確認\n",
    "print(len(X_train))\n",
    "print(X_train[0].shape)\n",
    "print(type(X_train))"
   ]
  },
  {
   "cell_type": "code",
   "execution_count": 54,
   "metadata": {},
   "outputs": [
    {
     "output_type": "stream",
     "name": "stdout",
     "text": [
      "(2000, 60, 60, 1)\n"
     ]
    }
   ],
   "source": [
    "print(X_test.shape)"
   ]
  },
  {
   "cell_type": "markdown",
   "metadata": {},
   "source": [
    "# モデル構築とトレーニング"
   ]
  },
  {
   "cell_type": "code",
   "execution_count": 60,
   "metadata": {
    "scrolled": true,
    "tags": [
     "outputPrepend"
    ]
   },
   "outputs": [
    {
     "output_type": "stream",
     "name": "stdout",
     "text": [
      "=========================] - 2s 219us/step - loss: 0.4788 - accuracy: 0.8037 - val_loss: 1.1978 - val_accuracy: 0.7410\n",
      "Epoch 168/300\n",
      "8000/8000 [==============================] - 2s 219us/step - loss: 0.4845 - accuracy: 0.7966 - val_loss: 1.2171 - val_accuracy: 0.7385\n",
      "Epoch 169/300\n",
      "8000/8000 [==============================] - 2s 219us/step - loss: 0.4733 - accuracy: 0.7983 - val_loss: 1.0056 - val_accuracy: 0.7490\n",
      "Epoch 170/300\n",
      "8000/8000 [==============================] - 2s 220us/step - loss: 0.4769 - accuracy: 0.7984 - val_loss: 1.4603 - val_accuracy: 0.7495\n",
      "Epoch 171/300\n",
      "8000/8000 [==============================] - 2s 217us/step - loss: 0.4818 - accuracy: 0.8009 - val_loss: 0.9900 - val_accuracy: 0.7425\n",
      "Epoch 172/300\n",
      "8000/8000 [==============================] - 2s 220us/step - loss: 0.4738 - accuracy: 0.8033 - val_loss: 1.4631 - val_accuracy: 0.7415\n",
      "Epoch 173/300\n",
      "8000/8000 [==============================] - 2s 220us/step - loss: 0.4808 - accuracy: 0.7949 - val_loss: 1.3715 - val_accuracy: 0.7365\n",
      "Epoch 174/300\n",
      "8000/8000 [==============================] - 2s 220us/step - loss: 0.4867 - accuracy: 0.7964 - val_loss: 1.2216 - val_accuracy: 0.7450\n",
      "Epoch 175/300\n",
      "8000/8000 [==============================] - 2s 220us/step - loss: 0.4754 - accuracy: 0.8029 - val_loss: 1.3396 - val_accuracy: 0.7460\n",
      "Epoch 176/300\n",
      "8000/8000 [==============================] - 2s 219us/step - loss: 0.4705 - accuracy: 0.8021 - val_loss: 1.3708 - val_accuracy: 0.7420\n",
      "Epoch 177/300\n",
      "8000/8000 [==============================] - 2s 219us/step - loss: 0.4912 - accuracy: 0.7935 - val_loss: 0.9679 - val_accuracy: 0.7120\n",
      "Epoch 178/300\n",
      "8000/8000 [==============================] - 2s 219us/step - loss: 0.5087 - accuracy: 0.7839 - val_loss: 0.9560 - val_accuracy: 0.7415\n",
      "Epoch 179/300\n",
      "8000/8000 [==============================] - 2s 220us/step - loss: 0.4893 - accuracy: 0.7919 - val_loss: 1.2191 - val_accuracy: 0.7320\n",
      "Epoch 180/300\n",
      "8000/8000 [==============================] - 2s 219us/step - loss: 0.4762 - accuracy: 0.7983 - val_loss: 1.3085 - val_accuracy: 0.7280\n",
      "Epoch 181/300\n",
      "8000/8000 [==============================] - 2s 219us/step - loss: 0.4820 - accuracy: 0.7991 - val_loss: 1.0412 - val_accuracy: 0.7345\n",
      "Epoch 182/300\n",
      "8000/8000 [==============================] - 2s 219us/step - loss: 0.4724 - accuracy: 0.8029 - val_loss: 1.3344 - val_accuracy: 0.7425\n",
      "Epoch 183/300\n",
      "8000/8000 [==============================] - 2s 218us/step - loss: 0.5061 - accuracy: 0.8010 - val_loss: 1.1002 - val_accuracy: 0.7515\n",
      "Epoch 184/300\n",
      "8000/8000 [==============================] - 2s 220us/step - loss: 0.4618 - accuracy: 0.8027 - val_loss: 1.2587 - val_accuracy: 0.7445\n",
      "Epoch 185/300\n",
      "8000/8000 [==============================] - 2s 219us/step - loss: 0.4567 - accuracy: 0.8089 - val_loss: 1.1538 - val_accuracy: 0.7400\n",
      "Epoch 186/300\n",
      "8000/8000 [==============================] - 2s 220us/step - loss: 0.4665 - accuracy: 0.8050 - val_loss: 1.2644 - val_accuracy: 0.7275\n",
      "Epoch 187/300\n",
      "8000/8000 [==============================] - 2s 219us/step - loss: 0.4677 - accuracy: 0.8054 - val_loss: 1.3476 - val_accuracy: 0.7405\n",
      "Epoch 188/300\n",
      "8000/8000 [==============================] - 2s 219us/step - loss: 0.4733 - accuracy: 0.7955 - val_loss: 1.3037 - val_accuracy: 0.7455\n",
      "Epoch 189/300\n",
      "8000/8000 [==============================] - 2s 219us/step - loss: 0.4807 - accuracy: 0.8024 - val_loss: 1.1147 - val_accuracy: 0.7555\n",
      "Epoch 190/300\n",
      "8000/8000 [==============================] - 2s 220us/step - loss: 0.4714 - accuracy: 0.8034 - val_loss: 1.1048 - val_accuracy: 0.7300\n",
      "Epoch 191/300\n",
      "8000/8000 [==============================] - 2s 219us/step - loss: 0.4831 - accuracy: 0.8006 - val_loss: 1.0404 - val_accuracy: 0.7455\n",
      "Epoch 192/300\n",
      "8000/8000 [==============================] - 2s 219us/step - loss: 0.4766 - accuracy: 0.7985 - val_loss: 1.2592 - val_accuracy: 0.7305\n",
      "Epoch 193/300\n",
      "8000/8000 [==============================] - 2s 220us/step - loss: 0.4760 - accuracy: 0.7999 - val_loss: 1.2249 - val_accuracy: 0.7335\n",
      "Epoch 194/300\n",
      "8000/8000 [==============================] - 2s 221us/step - loss: 0.4660 - accuracy: 0.8014 - val_loss: 1.1014 - val_accuracy: 0.7435\n",
      "Epoch 195/300\n",
      "8000/8000 [==============================] - 2s 220us/step - loss: 0.4614 - accuracy: 0.8071 - val_loss: 1.4243 - val_accuracy: 0.7460\n",
      "Epoch 196/300\n",
      "8000/8000 [==============================] - 2s 219us/step - loss: 0.4692 - accuracy: 0.8033 - val_loss: 1.2177 - val_accuracy: 0.7475\n",
      "Epoch 197/300\n",
      "8000/8000 [==============================] - 2s 219us/step - loss: 0.4732 - accuracy: 0.8056 - val_loss: 1.4591 - val_accuracy: 0.7415\n",
      "Epoch 198/300\n",
      "8000/8000 [==============================] - 2s 216us/step - loss: 1.1325 - accuracy: 0.7604 - val_loss: 0.9879 - val_accuracy: 0.7430\n",
      "Epoch 199/300\n",
      "8000/8000 [==============================] - 2s 219us/step - loss: 0.4834 - accuracy: 0.7958 - val_loss: 1.3479 - val_accuracy: 0.7420\n",
      "Epoch 200/300\n",
      "8000/8000 [==============================] - 2s 218us/step - loss: 0.4743 - accuracy: 0.8089 - val_loss: 0.9862 - val_accuracy: 0.7450\n",
      "Epoch 201/300\n",
      "8000/8000 [==============================] - 2s 219us/step - loss: 0.4659 - accuracy: 0.8020 - val_loss: 1.4090 - val_accuracy: 0.7420\n",
      "Epoch 202/300\n",
      "8000/8000 [==============================] - 2s 219us/step - loss: 0.4828 - accuracy: 0.8006 - val_loss: 0.9489 - val_accuracy: 0.7425\n",
      "Epoch 203/300\n",
      "8000/8000 [==============================] - 2s 219us/step - loss: 0.4702 - accuracy: 0.8021 - val_loss: 1.2845 - val_accuracy: 0.7530\n",
      "Epoch 204/300\n",
      "8000/8000 [==============================] - 2s 220us/step - loss: 0.4714 - accuracy: 0.8016 - val_loss: 1.2818 - val_accuracy: 0.7470\n",
      "Epoch 205/300\n",
      "8000/8000 [==============================] - 2s 218us/step - loss: 0.4808 - accuracy: 0.8025 - val_loss: 1.3018 - val_accuracy: 0.7445\n",
      "Epoch 206/300\n",
      "8000/8000 [==============================] - 2s 217us/step - loss: 0.4651 - accuracy: 0.8048 - val_loss: 1.1236 - val_accuracy: 0.7400\n",
      "Epoch 207/300\n",
      "8000/8000 [==============================] - 2s 220us/step - loss: 0.4706 - accuracy: 0.8029 - val_loss: 1.3305 - val_accuracy: 0.7465\n",
      "Epoch 208/300\n",
      "8000/8000 [==============================] - 2s 219us/step - loss: 0.4656 - accuracy: 0.8055 - val_loss: 1.4086 - val_accuracy: 0.7345\n",
      "Epoch 209/300\n",
      "8000/8000 [==============================] - 2s 219us/step - loss: 0.4720 - accuracy: 0.8035 - val_loss: 1.2857 - val_accuracy: 0.7410\n",
      "Epoch 210/300\n",
      "8000/8000 [==============================] - 2s 219us/step - loss: 0.4866 - accuracy: 0.8027 - val_loss: 1.2029 - val_accuracy: 0.7500\n",
      "Epoch 211/300\n",
      "8000/8000 [==============================] - 2s 220us/step - loss: 0.4785 - accuracy: 0.8054 - val_loss: 1.0130 - val_accuracy: 0.7395\n",
      "Epoch 212/300\n",
      "8000/8000 [==============================] - 2s 220us/step - loss: 0.4852 - accuracy: 0.8023 - val_loss: 1.2149 - val_accuracy: 0.7380\n",
      "Epoch 213/300\n",
      "8000/8000 [==============================] - 2s 222us/step - loss: 0.4579 - accuracy: 0.8101 - val_loss: 1.0069 - val_accuracy: 0.7460\n",
      "Epoch 214/300\n",
      "8000/8000 [==============================] - 2s 218us/step - loss: 0.4803 - accuracy: 0.7991 - val_loss: 1.1048 - val_accuracy: 0.7295\n",
      "Epoch 215/300\n",
      "8000/8000 [==============================] - 2s 220us/step - loss: 0.4627 - accuracy: 0.8073 - val_loss: 1.3955 - val_accuracy: 0.7285\n",
      "Epoch 216/300\n",
      "8000/8000 [==============================] - 2s 220us/step - loss: 0.4615 - accuracy: 0.8034 - val_loss: 1.4921 - val_accuracy: 0.7310\n",
      "Epoch 217/300\n",
      "8000/8000 [==============================] - 2s 220us/step - loss: 0.4681 - accuracy: 0.8039 - val_loss: 1.1140 - val_accuracy: 0.7240\n",
      "Epoch 218/300\n",
      "8000/8000 [==============================] - 2s 220us/step - loss: 0.4675 - accuracy: 0.8069 - val_loss: 1.2827 - val_accuracy: 0.7490\n",
      "Epoch 219/300\n",
      "8000/8000 [==============================] - 2s 219us/step - loss: 0.4622 - accuracy: 0.8089 - val_loss: 1.3180 - val_accuracy: 0.7380\n",
      "Epoch 220/300\n",
      "8000/8000 [==============================] - 2s 219us/step - loss: 0.4741 - accuracy: 0.8104 - val_loss: 1.3414 - val_accuracy: 0.7430\n",
      "Epoch 221/300\n",
      "8000/8000 [==============================] - 2s 218us/step - loss: 0.4632 - accuracy: 0.8026 - val_loss: 1.4218 - val_accuracy: 0.7410\n",
      "Epoch 222/300\n",
      "8000/8000 [==============================] - 2s 219us/step - loss: 0.4627 - accuracy: 0.8121 - val_loss: 1.3821 - val_accuracy: 0.7350\n",
      "Epoch 223/300\n",
      "8000/8000 [==============================] - 2s 219us/step - loss: 0.4605 - accuracy: 0.8099 - val_loss: 1.1818 - val_accuracy: 0.7320\n",
      "Epoch 224/300\n",
      "8000/8000 [==============================] - 2s 219us/step - loss: 0.4593 - accuracy: 0.8061 - val_loss: 1.4473 - val_accuracy: 0.7525\n",
      "Epoch 225/300\n",
      "8000/8000 [==============================] - 2s 219us/step - loss: 0.4583 - accuracy: 0.8134 - val_loss: 1.4072 - val_accuracy: 0.7380\n",
      "Epoch 226/300\n",
      "8000/8000 [==============================] - 2s 219us/step - loss: 0.4775 - accuracy: 0.8015 - val_loss: 1.2081 - val_accuracy: 0.7430\n",
      "Epoch 227/300\n",
      "8000/8000 [==============================] - 2s 220us/step - loss: 0.4595 - accuracy: 0.8031 - val_loss: 1.5517 - val_accuracy: 0.7440\n",
      "Epoch 228/300\n",
      "8000/8000 [==============================] - 2s 220us/step - loss: 0.4944 - accuracy: 0.8076 - val_loss: 1.2689 - val_accuracy: 0.7485\n",
      "Epoch 229/300\n",
      "8000/8000 [==============================] - 2s 218us/step - loss: 0.5488 - accuracy: 0.7924 - val_loss: 1.5095 - val_accuracy: 0.7465\n",
      "Epoch 230/300\n",
      "8000/8000 [==============================] - 2s 220us/step - loss: 0.4704 - accuracy: 0.8095 - val_loss: 1.3046 - val_accuracy: 0.7160\n",
      "Epoch 231/300\n",
      "8000/8000 [==============================] - 2s 218us/step - loss: 0.4599 - accuracy: 0.8075 - val_loss: 1.2265 - val_accuracy: 0.7500\n",
      "Epoch 232/300\n",
      "8000/8000 [==============================] - 2s 220us/step - loss: 0.4578 - accuracy: 0.8123 - val_loss: 1.1545 - val_accuracy: 0.7405\n",
      "Epoch 233/300\n",
      "8000/8000 [==============================] - 2s 219us/step - loss: 0.4562 - accuracy: 0.8087 - val_loss: 1.1947 - val_accuracy: 0.7280\n",
      "Epoch 234/300\n",
      "8000/8000 [==============================] - 2s 219us/step - loss: 0.4650 - accuracy: 0.8046 - val_loss: 1.3759 - val_accuracy: 0.7455\n",
      "Epoch 235/300\n",
      "8000/8000 [==============================] - 2s 220us/step - loss: 0.4699 - accuracy: 0.8098 - val_loss: 1.2587 - val_accuracy: 0.7470\n",
      "Epoch 236/300\n",
      "8000/8000 [==============================] - 2s 221us/step - loss: 0.4862 - accuracy: 0.8033 - val_loss: 1.3098 - val_accuracy: 0.7465\n",
      "Epoch 237/300\n",
      "8000/8000 [==============================] - 2s 218us/step - loss: 0.4560 - accuracy: 0.8136 - val_loss: 1.3379 - val_accuracy: 0.7400\n",
      "Epoch 238/300\n",
      "8000/8000 [==============================] - 2s 215us/step - loss: 0.4730 - accuracy: 0.8067 - val_loss: 1.3236 - val_accuracy: 0.7450\n",
      "Epoch 239/300\n",
      "8000/8000 [==============================] - 2s 218us/step - loss: 0.4497 - accuracy: 0.8159 - val_loss: 1.6291 - val_accuracy: 0.7530\n",
      "Epoch 240/300\n",
      "8000/8000 [==============================] - 2s 219us/step - loss: 0.4653 - accuracy: 0.8139 - val_loss: 1.3688 - val_accuracy: 0.7410\n",
      "Epoch 241/300\n",
      "8000/8000 [==============================] - 2s 220us/step - loss: 0.4690 - accuracy: 0.8123 - val_loss: 1.3521 - val_accuracy: 0.7460\n",
      "Epoch 242/300\n",
      "8000/8000 [==============================] - 2s 220us/step - loss: 0.4637 - accuracy: 0.8061 - val_loss: 1.2869 - val_accuracy: 0.7430\n",
      "Epoch 243/300\n",
      "8000/8000 [==============================] - 2s 219us/step - loss: 0.4584 - accuracy: 0.8076 - val_loss: 1.4994 - val_accuracy: 0.7415\n",
      "Epoch 244/300\n",
      "8000/8000 [==============================] - 2s 219us/step - loss: 0.4900 - accuracy: 0.8069 - val_loss: 1.2633 - val_accuracy: 0.7320\n",
      "Epoch 245/300\n",
      "8000/8000 [==============================] - 2s 219us/step - loss: 0.4618 - accuracy: 0.8045 - val_loss: 1.3425 - val_accuracy: 0.7490\n",
      "Epoch 246/300\n",
      "8000/8000 [==============================] - 2s 218us/step - loss: 0.4588 - accuracy: 0.8098 - val_loss: 1.3037 - val_accuracy: 0.7110\n",
      "Epoch 247/300\n",
      "8000/8000 [==============================] - 2s 220us/step - loss: 0.4792 - accuracy: 0.8001 - val_loss: 1.3862 - val_accuracy: 0.7435\n",
      "Epoch 248/300\n",
      "8000/8000 [==============================] - 2s 220us/step - loss: 0.4503 - accuracy: 0.8066 - val_loss: 1.4739 - val_accuracy: 0.7375\n",
      "Epoch 249/300\n",
      "8000/8000 [==============================] - 2s 219us/step - loss: 0.4529 - accuracy: 0.8129 - val_loss: 1.3456 - val_accuracy: 0.7410\n",
      "Epoch 250/300\n",
      "8000/8000 [==============================] - 2s 219us/step - loss: 0.4537 - accuracy: 0.8110 - val_loss: 1.9622 - val_accuracy: 0.7450\n",
      "Epoch 251/300\n",
      "8000/8000 [==============================] - 2s 219us/step - loss: 0.4609 - accuracy: 0.8142 - val_loss: 1.2724 - val_accuracy: 0.7405\n",
      "Epoch 252/300\n",
      "8000/8000 [==============================] - 2s 220us/step - loss: 0.4565 - accuracy: 0.8131 - val_loss: 1.3105 - val_accuracy: 0.7460\n",
      "Epoch 253/300\n",
      "8000/8000 [==============================] - 2s 219us/step - loss: 0.4538 - accuracy: 0.8115 - val_loss: 1.2974 - val_accuracy: 0.7360\n",
      "Epoch 254/300\n",
      "8000/8000 [==============================] - 2s 220us/step - loss: 0.4755 - accuracy: 0.8116 - val_loss: 1.6152 - val_accuracy: 0.7435\n",
      "Epoch 255/300\n",
      "8000/8000 [==============================] - 2s 220us/step - loss: 0.4613 - accuracy: 0.8090 - val_loss: 1.5622 - val_accuracy: 0.7380\n",
      "Epoch 256/300\n",
      "8000/8000 [==============================] - 2s 215us/step - loss: 0.4484 - accuracy: 0.8164 - val_loss: 1.4565 - val_accuracy: 0.7445\n",
      "Epoch 257/300\n",
      "8000/8000 [==============================] - 2s 219us/step - loss: 0.4660 - accuracy: 0.8105 - val_loss: 1.3756 - val_accuracy: 0.7370\n",
      "Epoch 258/300\n",
      "8000/8000 [==============================] - 2s 220us/step - loss: 0.4450 - accuracy: 0.8165 - val_loss: 1.4583 - val_accuracy: 0.7340\n",
      "Epoch 259/300\n",
      "8000/8000 [==============================] - 2s 220us/step - loss: 0.4568 - accuracy: 0.8170 - val_loss: 1.5037 - val_accuracy: 0.7325\n",
      "Epoch 260/300\n",
      "8000/8000 [==============================] - 2s 219us/step - loss: 0.4697 - accuracy: 0.8101 - val_loss: 2.1188 - val_accuracy: 0.7450\n",
      "Epoch 261/300\n",
      "8000/8000 [==============================] - 2s 220us/step - loss: 0.4567 - accuracy: 0.8123 - val_loss: 1.3788 - val_accuracy: 0.7160\n",
      "Epoch 262/300\n",
      "8000/8000 [==============================] - 2s 219us/step - loss: 0.4577 - accuracy: 0.8099 - val_loss: 1.6646 - val_accuracy: 0.7400\n",
      "Epoch 263/300\n",
      "8000/8000 [==============================] - 2s 220us/step - loss: 0.4828 - accuracy: 0.8123 - val_loss: 1.2798 - val_accuracy: 0.7315\n",
      "Epoch 264/300\n",
      "8000/8000 [==============================] - 2s 219us/step - loss: 0.5087 - accuracy: 0.7890 - val_loss: 1.0734 - val_accuracy: 0.7385\n",
      "Epoch 265/300\n",
      "8000/8000 [==============================] - 2s 219us/step - loss: 0.4489 - accuracy: 0.8115 - val_loss: 1.4093 - val_accuracy: 0.7250\n",
      "Epoch 266/300\n",
      "8000/8000 [==============================] - 2s 219us/step - loss: 0.4507 - accuracy: 0.8151 - val_loss: 1.7911 - val_accuracy: 0.7430\n",
      "Epoch 267/300\n",
      "8000/8000 [==============================] - 2s 220us/step - loss: 0.4508 - accuracy: 0.8156 - val_loss: 1.2531 - val_accuracy: 0.7320\n",
      "Epoch 268/300\n",
      "8000/8000 [==============================] - 2s 219us/step - loss: 0.4469 - accuracy: 0.8149 - val_loss: 1.3054 - val_accuracy: 0.7285\n",
      "Epoch 269/300\n",
      "8000/8000 [==============================] - 2s 221us/step - loss: 0.4519 - accuracy: 0.8181 - val_loss: 1.6549 - val_accuracy: 0.7475\n",
      "Epoch 270/300\n",
      "8000/8000 [==============================] - 2s 220us/step - loss: 0.4521 - accuracy: 0.8146 - val_loss: 1.4524 - val_accuracy: 0.7325\n",
      "Epoch 271/300\n",
      "8000/8000 [==============================] - 2s 220us/step - loss: 0.4352 - accuracy: 0.8232 - val_loss: 1.5366 - val_accuracy: 0.7335\n",
      "Epoch 272/300\n",
      "8000/8000 [==============================] - 2s 219us/step - loss: 0.4575 - accuracy: 0.8144 - val_loss: 1.4363 - val_accuracy: 0.7325\n",
      "Epoch 273/300\n",
      "8000/8000 [==============================] - 2s 219us/step - loss: 0.4583 - accuracy: 0.8158 - val_loss: 1.5697 - val_accuracy: 0.7465\n",
      "Epoch 274/300\n",
      "8000/8000 [==============================] - 2s 219us/step - loss: 0.4603 - accuracy: 0.8144 - val_loss: 1.4139 - val_accuracy: 0.7395\n",
      "Epoch 275/300\n",
      "8000/8000 [==============================] - 2s 216us/step - loss: 0.4458 - accuracy: 0.8163 - val_loss: 1.4908 - val_accuracy: 0.7430\n",
      "Epoch 276/300\n",
      "8000/8000 [==============================] - 2s 220us/step - loss: 0.4475 - accuracy: 0.8158 - val_loss: 1.5708 - val_accuracy: 0.7355\n",
      "Epoch 277/300\n",
      "8000/8000 [==============================] - 2s 218us/step - loss: 0.4526 - accuracy: 0.8160 - val_loss: 1.5749 - val_accuracy: 0.7380\n",
      "Epoch 278/300\n",
      "8000/8000 [==============================] - 2s 221us/step - loss: 0.4920 - accuracy: 0.8000 - val_loss: 1.3816 - val_accuracy: 0.7210\n",
      "Epoch 279/300\n",
      "8000/8000 [==============================] - 2s 220us/step - loss: 0.4656 - accuracy: 0.8089 - val_loss: 1.3624 - val_accuracy: 0.7425\n",
      "Epoch 280/300\n",
      "8000/8000 [==============================] - 2s 221us/step - loss: 0.4958 - accuracy: 0.8090 - val_loss: 1.8152 - val_accuracy: 0.7510\n",
      "Epoch 281/300\n",
      "8000/8000 [==============================] - 2s 220us/step - loss: 0.4560 - accuracy: 0.8098 - val_loss: 1.3995 - val_accuracy: 0.7385\n",
      "Epoch 282/300\n",
      "8000/8000 [==============================] - 2s 219us/step - loss: 0.4575 - accuracy: 0.8160 - val_loss: 1.7250 - val_accuracy: 0.7125\n",
      "Epoch 283/300\n",
      "8000/8000 [==============================] - 2s 220us/step - loss: 0.4526 - accuracy: 0.8191 - val_loss: 1.5102 - val_accuracy: 0.7420\n",
      "Epoch 284/300\n",
      "8000/8000 [==============================] - 2s 218us/step - loss: 0.4438 - accuracy: 0.8160 - val_loss: 1.5620 - val_accuracy: 0.7425\n",
      "Epoch 285/300\n",
      "8000/8000 [==============================] - 2s 220us/step - loss: 0.4590 - accuracy: 0.8135 - val_loss: 1.3129 - val_accuracy: 0.7455\n",
      "Epoch 286/300\n",
      "8000/8000 [==============================] - 2s 219us/step - loss: 0.4548 - accuracy: 0.8116 - val_loss: 1.3413 - val_accuracy: 0.7275\n",
      "Epoch 287/300\n",
      "8000/8000 [==============================] - 2s 219us/step - loss: 0.4493 - accuracy: 0.8121 - val_loss: 1.7495 - val_accuracy: 0.7405\n",
      "Epoch 288/300\n",
      "8000/8000 [==============================] - 2s 219us/step - loss: 0.4862 - accuracy: 0.8106 - val_loss: 1.9887 - val_accuracy: 0.7315\n",
      "Epoch 289/300\n",
      "8000/8000 [==============================] - 2s 220us/step - loss: 0.4631 - accuracy: 0.8169 - val_loss: 1.6138 - val_accuracy: 0.7360\n",
      "Epoch 290/300\n",
      "8000/8000 [==============================] - 2s 221us/step - loss: 0.4389 - accuracy: 0.8269 - val_loss: 1.4783 - val_accuracy: 0.7350\n",
      "Epoch 291/300\n",
      "8000/8000 [==============================] - 2s 221us/step - loss: 0.4504 - accuracy: 0.8114 - val_loss: 1.4091 - val_accuracy: 0.7470\n",
      "Epoch 292/300\n",
      "8000/8000 [==============================] - 2s 221us/step - loss: 0.4533 - accuracy: 0.8185 - val_loss: 1.4605 - val_accuracy: 0.7365\n",
      "Epoch 293/300\n",
      "8000/8000 [==============================] - 2s 221us/step - loss: 0.4559 - accuracy: 0.8129 - val_loss: 1.5891 - val_accuracy: 0.7295\n",
      "Epoch 294/300\n",
      "8000/8000 [==============================] - 2s 219us/step - loss: 0.4347 - accuracy: 0.8236 - val_loss: 1.9774 - val_accuracy: 0.7385\n",
      "Epoch 295/300\n",
      "8000/8000 [==============================] - 2s 219us/step - loss: 0.4639 - accuracy: 0.8195 - val_loss: 1.6445 - val_accuracy: 0.7390\n",
      "Epoch 296/300\n",
      "8000/8000 [==============================] - 2s 217us/step - loss: 0.4538 - accuracy: 0.8152 - val_loss: 1.5790 - val_accuracy: 0.7350\n",
      "Epoch 297/300\n",
      "8000/8000 [==============================] - 2s 219us/step - loss: 0.4425 - accuracy: 0.8234 - val_loss: 1.5281 - val_accuracy: 0.7345\n",
      "Epoch 298/300\n",
      "8000/8000 [==============================] - 2s 220us/step - loss: 0.4386 - accuracy: 0.8246 - val_loss: 1.8451 - val_accuracy: 0.7405\n",
      "Epoch 299/300\n",
      "8000/8000 [==============================] - 2s 218us/step - loss: 0.4380 - accuracy: 0.8230 - val_loss: 1.6336 - val_accuracy: 0.7225\n",
      "Epoch 300/300\n",
      "8000/8000 [==============================] - 2s 219us/step - loss: 0.4642 - accuracy: 0.8180 - val_loss: 1.5096 - val_accuracy: 0.7360\n",
      "Test loss: 1.5095511698722839\n",
      "Test accuracy: 0.7360000014305115\n"
     ]
    }
   ],
   "source": [
    "# Parameter\n",
    "batch_size = 64\n",
    "epochs = 50\n",
    "\n",
    "# Model Construction                                                                                \n",
    "model = Sequential()\n",
    "model.add(Conv2D(32, kernel_size=(5, 5), activation='relu', input_shape=(60, 60, 1)))\n",
    "model.add(Conv2D(64, kernel_size=(5,5), activation='relu'))\n",
    "model.add(MaxPooling2D(pool_size=(4,4)))\n",
    "model.add(Conv2D(128, kernel_size=(3,3), activation='relu'))\n",
    "model.add(Conv2D(128, kernel_size=(3,3), activation='relu'))\n",
    "model.add(MaxPooling2D(pool_size=(2,2)))\n",
    "model.add(Dropout(0.2))\n",
    "model.add(Flatten())\n",
    "model.add(Dense(3200, activation='relu'))\n",
    "model.add(Dropout(0.5))\n",
    "model.add(Dense(3200, activation='relu'))\n",
    "model.add(Dropout(0.5))\n",
    "model.add(Dense(3, activation='softmax'))\n",
    "\n",
    "model.summary()\n",
    "\n",
    "model.compile(loss='categorical_crossentropy',\n",
    "              optimizer=RMSprop(),\n",
    "              metrics=['accuracy'])\n",
    "\n",
    "\n",
    "\n",
    "# Learning and Score                                                                                \n",
    "history = model.fit(X_train, Y_train,\n",
    "                    batch_size=batch_size,\n",
    "                    epochs=epochs,\n",
    "                    verbose=1,\n",
    "                    validation_data=(X_test, Y_test))\n",
    "score = model.evaluate(X_test, Y_test, verbose=0)\n",
    "print('Test loss:', score[0])\n",
    "print('Test accuracy:', score[1])"
   ]
  },
  {
   "source": [
    "## history回避、きちんとやる"
   ],
   "cell_type": "markdown",
   "metadata": {}
  },
  {
   "cell_type": "code",
   "execution_count": 61,
   "metadata": {},
   "outputs": [
    {
     "output_type": "display_data",
     "data": {
      "text/plain": "<Figure size 432x288 with 1 Axes>",
      "image/svg+xml": "<?xml version=\"1.0\" encoding=\"utf-8\" standalone=\"no\"?>\n<!DOCTYPE svg PUBLIC \"-//W3C//DTD SVG 1.1//EN\"\n  \"http://www.w3.org/Graphics/SVG/1.1/DTD/svg11.dtd\">\n<!-- Created with matplotlib (https://matplotlib.org/) -->\n<svg height=\"262.19625pt\" version=\"1.1\" viewBox=\"0 0 392.14375 262.19625\" width=\"392.14375pt\" xmlns=\"http://www.w3.org/2000/svg\" xmlns:xlink=\"http://www.w3.org/1999/xlink\">\n <metadata>\n  <rdf:RDF xmlns:cc=\"http://creativecommons.org/ns#\" xmlns:dc=\"http://purl.org/dc/elements/1.1/\" xmlns:rdf=\"http://www.w3.org/1999/02/22-rdf-syntax-ns#\">\n   <cc:Work>\n    <dc:type rdf:resource=\"http://purl.org/dc/dcmitype/StillImage\"/>\n    <dc:date>2020-11-11T10:19:58.498588</dc:date>\n    <dc:format>image/svg+xml</dc:format>\n    <dc:creator>\n     <cc:Agent>\n      <dc:title>Matplotlib v3.3.2, https://matplotlib.org/</dc:title>\n     </cc:Agent>\n    </dc:creator>\n   </cc:Work>\n  </rdf:RDF>\n </metadata>\n <defs>\n  <style type=\"text/css\">*{stroke-linecap:butt;stroke-linejoin:round;}</style>\n </defs>\n <g id=\"figure_1\">\n  <g id=\"patch_1\">\n   <path d=\"M 0 262.19625 \nL 392.14375 262.19625 \nL 392.14375 0 \nL 0 0 \nz\n\" style=\"fill:none;\"/>\n  </g>\n  <g id=\"axes_1\">\n   <g id=\"patch_2\">\n    <path d=\"M 50.14375 224.64 \nL 384.94375 224.64 \nL 384.94375 7.2 \nL 50.14375 7.2 \nz\n\" style=\"fill:#ffffff;\"/>\n   </g>\n   <g id=\"matplotlib.axis_1\">\n    <g id=\"xtick_1\">\n     <g id=\"line2d_1\">\n      <defs>\n       <path d=\"M 0 0 \nL 0 3.5 \n\" id=\"ma241c6ac05\" style=\"stroke:#000000;stroke-width:0.8;\"/>\n      </defs>\n      <g>\n       <use style=\"stroke:#000000;stroke-width:0.8;\" x=\"64.343993\" xlink:href=\"#ma241c6ac05\" y=\"224.64\"/>\n      </g>\n     </g>\n     <g id=\"text_1\">\n      <!-- 0 -->\n      <g transform=\"translate(61.162743 239.238438)scale(0.1 -0.1)\">\n       <defs>\n        <path d=\"M 31.78125 66.40625 \nQ 24.171875 66.40625 20.328125 58.90625 \nQ 16.5 51.421875 16.5 36.375 \nQ 16.5 21.390625 20.328125 13.890625 \nQ 24.171875 6.390625 31.78125 6.390625 \nQ 39.453125 6.390625 43.28125 13.890625 \nQ 47.125 21.390625 47.125 36.375 \nQ 47.125 51.421875 43.28125 58.90625 \nQ 39.453125 66.40625 31.78125 66.40625 \nz\nM 31.78125 74.21875 \nQ 44.046875 74.21875 50.515625 64.515625 \nQ 56.984375 54.828125 56.984375 36.375 \nQ 56.984375 17.96875 50.515625 8.265625 \nQ 44.046875 -1.421875 31.78125 -1.421875 \nQ 19.53125 -1.421875 13.0625 8.265625 \nQ 6.59375 17.96875 6.59375 36.375 \nQ 6.59375 54.828125 13.0625 64.515625 \nQ 19.53125 74.21875 31.78125 74.21875 \nz\n\" id=\"DejaVuSans-48\"/>\n       </defs>\n       <use xlink:href=\"#DejaVuSans-48\"/>\n      </g>\n     </g>\n    </g>\n    <g id=\"xtick_2\">\n     <g id=\"line2d_2\">\n      <g>\n       <use style=\"stroke:#000000;stroke-width:0.8;\" x=\"115.240922\" xlink:href=\"#ma241c6ac05\" y=\"224.64\"/>\n      </g>\n     </g>\n     <g id=\"text_2\">\n      <!-- 50 -->\n      <g transform=\"translate(108.878422 239.238438)scale(0.1 -0.1)\">\n       <defs>\n        <path d=\"M 10.796875 72.90625 \nL 49.515625 72.90625 \nL 49.515625 64.59375 \nL 19.828125 64.59375 \nL 19.828125 46.734375 \nQ 21.96875 47.46875 24.109375 47.828125 \nQ 26.265625 48.1875 28.421875 48.1875 \nQ 40.625 48.1875 47.75 41.5 \nQ 54.890625 34.8125 54.890625 23.390625 \nQ 54.890625 11.625 47.5625 5.09375 \nQ 40.234375 -1.421875 26.90625 -1.421875 \nQ 22.3125 -1.421875 17.546875 -0.640625 \nQ 12.796875 0.140625 7.71875 1.703125 \nL 7.71875 11.625 \nQ 12.109375 9.234375 16.796875 8.0625 \nQ 21.484375 6.890625 26.703125 6.890625 \nQ 35.15625 6.890625 40.078125 11.328125 \nQ 45.015625 15.765625 45.015625 23.390625 \nQ 45.015625 31 40.078125 35.4375 \nQ 35.15625 39.890625 26.703125 39.890625 \nQ 22.75 39.890625 18.8125 39.015625 \nQ 14.890625 38.140625 10.796875 36.28125 \nz\n\" id=\"DejaVuSans-53\"/>\n       </defs>\n       <use xlink:href=\"#DejaVuSans-53\"/>\n       <use x=\"63.623047\" xlink:href=\"#DejaVuSans-48\"/>\n      </g>\n     </g>\n    </g>\n    <g id=\"xtick_3\">\n     <g id=\"line2d_3\">\n      <g>\n       <use style=\"stroke:#000000;stroke-width:0.8;\" x=\"166.137852\" xlink:href=\"#ma241c6ac05\" y=\"224.64\"/>\n      </g>\n     </g>\n     <g id=\"text_3\">\n      <!-- 100 -->\n      <g transform=\"translate(156.594102 239.238438)scale(0.1 -0.1)\">\n       <defs>\n        <path d=\"M 12.40625 8.296875 \nL 28.515625 8.296875 \nL 28.515625 63.921875 \nL 10.984375 60.40625 \nL 10.984375 69.390625 \nL 28.421875 72.90625 \nL 38.28125 72.90625 \nL 38.28125 8.296875 \nL 54.390625 8.296875 \nL 54.390625 0 \nL 12.40625 0 \nz\n\" id=\"DejaVuSans-49\"/>\n       </defs>\n       <use xlink:href=\"#DejaVuSans-49\"/>\n       <use x=\"63.623047\" xlink:href=\"#DejaVuSans-48\"/>\n       <use x=\"127.246094\" xlink:href=\"#DejaVuSans-48\"/>\n      </g>\n     </g>\n    </g>\n    <g id=\"xtick_4\">\n     <g id=\"line2d_4\">\n      <g>\n       <use style=\"stroke:#000000;stroke-width:0.8;\" x=\"217.034781\" xlink:href=\"#ma241c6ac05\" y=\"224.64\"/>\n      </g>\n     </g>\n     <g id=\"text_4\">\n      <!-- 150 -->\n      <g transform=\"translate(207.491031 239.238438)scale(0.1 -0.1)\">\n       <use xlink:href=\"#DejaVuSans-49\"/>\n       <use x=\"63.623047\" xlink:href=\"#DejaVuSans-53\"/>\n       <use x=\"127.246094\" xlink:href=\"#DejaVuSans-48\"/>\n      </g>\n     </g>\n    </g>\n    <g id=\"xtick_5\">\n     <g id=\"line2d_5\">\n      <g>\n       <use style=\"stroke:#000000;stroke-width:0.8;\" x=\"267.93171\" xlink:href=\"#ma241c6ac05\" y=\"224.64\"/>\n      </g>\n     </g>\n     <g id=\"text_5\">\n      <!-- 200 -->\n      <g transform=\"translate(258.38796 239.238438)scale(0.1 -0.1)\">\n       <defs>\n        <path d=\"M 19.1875 8.296875 \nL 53.609375 8.296875 \nL 53.609375 0 \nL 7.328125 0 \nL 7.328125 8.296875 \nQ 12.9375 14.109375 22.625 23.890625 \nQ 32.328125 33.6875 34.8125 36.53125 \nQ 39.546875 41.84375 41.421875 45.53125 \nQ 43.3125 49.21875 43.3125 52.78125 \nQ 43.3125 58.59375 39.234375 62.25 \nQ 35.15625 65.921875 28.609375 65.921875 \nQ 23.96875 65.921875 18.8125 64.3125 \nQ 13.671875 62.703125 7.8125 59.421875 \nL 7.8125 69.390625 \nQ 13.765625 71.78125 18.9375 73 \nQ 24.125 74.21875 28.421875 74.21875 \nQ 39.75 74.21875 46.484375 68.546875 \nQ 53.21875 62.890625 53.21875 53.421875 \nQ 53.21875 48.921875 51.53125 44.890625 \nQ 49.859375 40.875 45.40625 35.40625 \nQ 44.1875 33.984375 37.640625 27.21875 \nQ 31.109375 20.453125 19.1875 8.296875 \nz\n\" id=\"DejaVuSans-50\"/>\n       </defs>\n       <use xlink:href=\"#DejaVuSans-50\"/>\n       <use x=\"63.623047\" xlink:href=\"#DejaVuSans-48\"/>\n       <use x=\"127.246094\" xlink:href=\"#DejaVuSans-48\"/>\n      </g>\n     </g>\n    </g>\n    <g id=\"xtick_6\">\n     <g id=\"line2d_6\">\n      <g>\n       <use style=\"stroke:#000000;stroke-width:0.8;\" x=\"318.828639\" xlink:href=\"#ma241c6ac05\" y=\"224.64\"/>\n      </g>\n     </g>\n     <g id=\"text_6\">\n      <!-- 250 -->\n      <g transform=\"translate(309.284889 239.238438)scale(0.1 -0.1)\">\n       <use xlink:href=\"#DejaVuSans-50\"/>\n       <use x=\"63.623047\" xlink:href=\"#DejaVuSans-53\"/>\n       <use x=\"127.246094\" xlink:href=\"#DejaVuSans-48\"/>\n      </g>\n     </g>\n    </g>\n    <g id=\"xtick_7\">\n     <g id=\"line2d_7\">\n      <g>\n       <use style=\"stroke:#000000;stroke-width:0.8;\" x=\"369.725568\" xlink:href=\"#ma241c6ac05\" y=\"224.64\"/>\n      </g>\n     </g>\n     <g id=\"text_7\">\n      <!-- 300 -->\n      <g transform=\"translate(360.181818 239.238438)scale(0.1 -0.1)\">\n       <defs>\n        <path d=\"M 40.578125 39.3125 \nQ 47.65625 37.796875 51.625 33 \nQ 55.609375 28.21875 55.609375 21.1875 \nQ 55.609375 10.40625 48.1875 4.484375 \nQ 40.765625 -1.421875 27.09375 -1.421875 \nQ 22.515625 -1.421875 17.65625 -0.515625 \nQ 12.796875 0.390625 7.625 2.203125 \nL 7.625 11.71875 \nQ 11.71875 9.328125 16.59375 8.109375 \nQ 21.484375 6.890625 26.8125 6.890625 \nQ 36.078125 6.890625 40.9375 10.546875 \nQ 45.796875 14.203125 45.796875 21.1875 \nQ 45.796875 27.640625 41.28125 31.265625 \nQ 36.765625 34.90625 28.71875 34.90625 \nL 20.21875 34.90625 \nL 20.21875 43.015625 \nL 29.109375 43.015625 \nQ 36.375 43.015625 40.234375 45.921875 \nQ 44.09375 48.828125 44.09375 54.296875 \nQ 44.09375 59.90625 40.109375 62.90625 \nQ 36.140625 65.921875 28.71875 65.921875 \nQ 24.65625 65.921875 20.015625 65.03125 \nQ 15.375 64.15625 9.8125 62.3125 \nL 9.8125 71.09375 \nQ 15.4375 72.65625 20.34375 73.4375 \nQ 25.25 74.21875 29.59375 74.21875 \nQ 40.828125 74.21875 47.359375 69.109375 \nQ 53.90625 64.015625 53.90625 55.328125 \nQ 53.90625 49.265625 50.4375 45.09375 \nQ 46.96875 40.921875 40.578125 39.3125 \nz\n\" id=\"DejaVuSans-51\"/>\n       </defs>\n       <use xlink:href=\"#DejaVuSans-51\"/>\n       <use x=\"63.623047\" xlink:href=\"#DejaVuSans-48\"/>\n       <use x=\"127.246094\" xlink:href=\"#DejaVuSans-48\"/>\n      </g>\n     </g>\n    </g>\n    <g id=\"text_8\">\n     <!-- Epochs -->\n     <g transform=\"translate(199.628125 252.916563)scale(0.1 -0.1)\">\n      <defs>\n       <path d=\"M 9.8125 72.90625 \nL 55.90625 72.90625 \nL 55.90625 64.59375 \nL 19.671875 64.59375 \nL 19.671875 43.015625 \nL 54.390625 43.015625 \nL 54.390625 34.71875 \nL 19.671875 34.71875 \nL 19.671875 8.296875 \nL 56.78125 8.296875 \nL 56.78125 0 \nL 9.8125 0 \nz\n\" id=\"DejaVuSans-69\"/>\n       <path d=\"M 18.109375 8.203125 \nL 18.109375 -20.796875 \nL 9.078125 -20.796875 \nL 9.078125 54.6875 \nL 18.109375 54.6875 \nL 18.109375 46.390625 \nQ 20.953125 51.265625 25.265625 53.625 \nQ 29.59375 56 35.59375 56 \nQ 45.5625 56 51.78125 48.09375 \nQ 58.015625 40.1875 58.015625 27.296875 \nQ 58.015625 14.40625 51.78125 6.484375 \nQ 45.5625 -1.421875 35.59375 -1.421875 \nQ 29.59375 -1.421875 25.265625 0.953125 \nQ 20.953125 3.328125 18.109375 8.203125 \nz\nM 48.6875 27.296875 \nQ 48.6875 37.203125 44.609375 42.84375 \nQ 40.53125 48.484375 33.40625 48.484375 \nQ 26.265625 48.484375 22.1875 42.84375 \nQ 18.109375 37.203125 18.109375 27.296875 \nQ 18.109375 17.390625 22.1875 11.75 \nQ 26.265625 6.109375 33.40625 6.109375 \nQ 40.53125 6.109375 44.609375 11.75 \nQ 48.6875 17.390625 48.6875 27.296875 \nz\n\" id=\"DejaVuSans-112\"/>\n       <path d=\"M 30.609375 48.390625 \nQ 23.390625 48.390625 19.1875 42.75 \nQ 14.984375 37.109375 14.984375 27.296875 \nQ 14.984375 17.484375 19.15625 11.84375 \nQ 23.34375 6.203125 30.609375 6.203125 \nQ 37.796875 6.203125 41.984375 11.859375 \nQ 46.1875 17.53125 46.1875 27.296875 \nQ 46.1875 37.015625 41.984375 42.703125 \nQ 37.796875 48.390625 30.609375 48.390625 \nz\nM 30.609375 56 \nQ 42.328125 56 49.015625 48.375 \nQ 55.71875 40.765625 55.71875 27.296875 \nQ 55.71875 13.875 49.015625 6.21875 \nQ 42.328125 -1.421875 30.609375 -1.421875 \nQ 18.84375 -1.421875 12.171875 6.21875 \nQ 5.515625 13.875 5.515625 27.296875 \nQ 5.515625 40.765625 12.171875 48.375 \nQ 18.84375 56 30.609375 56 \nz\n\" id=\"DejaVuSans-111\"/>\n       <path d=\"M 48.78125 52.59375 \nL 48.78125 44.1875 \nQ 44.96875 46.296875 41.140625 47.34375 \nQ 37.3125 48.390625 33.40625 48.390625 \nQ 24.65625 48.390625 19.8125 42.84375 \nQ 14.984375 37.3125 14.984375 27.296875 \nQ 14.984375 17.28125 19.8125 11.734375 \nQ 24.65625 6.203125 33.40625 6.203125 \nQ 37.3125 6.203125 41.140625 7.25 \nQ 44.96875 8.296875 48.78125 10.40625 \nL 48.78125 2.09375 \nQ 45.015625 0.34375 40.984375 -0.53125 \nQ 36.96875 -1.421875 32.421875 -1.421875 \nQ 20.0625 -1.421875 12.78125 6.34375 \nQ 5.515625 14.109375 5.515625 27.296875 \nQ 5.515625 40.671875 12.859375 48.328125 \nQ 20.21875 56 33.015625 56 \nQ 37.15625 56 41.109375 55.140625 \nQ 45.0625 54.296875 48.78125 52.59375 \nz\n\" id=\"DejaVuSans-99\"/>\n       <path d=\"M 54.890625 33.015625 \nL 54.890625 0 \nL 45.90625 0 \nL 45.90625 32.71875 \nQ 45.90625 40.484375 42.875 44.328125 \nQ 39.84375 48.1875 33.796875 48.1875 \nQ 26.515625 48.1875 22.3125 43.546875 \nQ 18.109375 38.921875 18.109375 30.90625 \nL 18.109375 0 \nL 9.078125 0 \nL 9.078125 75.984375 \nL 18.109375 75.984375 \nL 18.109375 46.1875 \nQ 21.34375 51.125 25.703125 53.5625 \nQ 30.078125 56 35.796875 56 \nQ 45.21875 56 50.046875 50.171875 \nQ 54.890625 44.34375 54.890625 33.015625 \nz\n\" id=\"DejaVuSans-104\"/>\n       <path d=\"M 44.28125 53.078125 \nL 44.28125 44.578125 \nQ 40.484375 46.53125 36.375 47.5 \nQ 32.28125 48.484375 27.875 48.484375 \nQ 21.1875 48.484375 17.84375 46.4375 \nQ 14.5 44.390625 14.5 40.28125 \nQ 14.5 37.15625 16.890625 35.375 \nQ 19.28125 33.59375 26.515625 31.984375 \nL 29.59375 31.296875 \nQ 39.15625 29.25 43.1875 25.515625 \nQ 47.21875 21.78125 47.21875 15.09375 \nQ 47.21875 7.46875 41.1875 3.015625 \nQ 35.15625 -1.421875 24.609375 -1.421875 \nQ 20.21875 -1.421875 15.453125 -0.5625 \nQ 10.6875 0.296875 5.421875 2 \nL 5.421875 11.28125 \nQ 10.40625 8.6875 15.234375 7.390625 \nQ 20.0625 6.109375 24.8125 6.109375 \nQ 31.15625 6.109375 34.5625 8.28125 \nQ 37.984375 10.453125 37.984375 14.40625 \nQ 37.984375 18.0625 35.515625 20.015625 \nQ 33.0625 21.96875 24.703125 23.78125 \nL 21.578125 24.515625 \nQ 13.234375 26.265625 9.515625 29.90625 \nQ 5.8125 33.546875 5.8125 39.890625 \nQ 5.8125 47.609375 11.28125 51.796875 \nQ 16.75 56 26.8125 56 \nQ 31.78125 56 36.171875 55.265625 \nQ 40.578125 54.546875 44.28125 53.078125 \nz\n\" id=\"DejaVuSans-115\"/>\n      </defs>\n      <use xlink:href=\"#DejaVuSans-69\"/>\n      <use x=\"63.183594\" xlink:href=\"#DejaVuSans-112\"/>\n      <use x=\"126.660156\" xlink:href=\"#DejaVuSans-111\"/>\n      <use x=\"187.841797\" xlink:href=\"#DejaVuSans-99\"/>\n      <use x=\"242.822266\" xlink:href=\"#DejaVuSans-104\"/>\n      <use x=\"306.201172\" xlink:href=\"#DejaVuSans-115\"/>\n     </g>\n    </g>\n   </g>\n   <g id=\"matplotlib.axis_2\">\n    <g id=\"ytick_1\">\n     <g id=\"line2d_8\">\n      <defs>\n       <path d=\"M 0 0 \nL -3.5 0 \n\" id=\"m2646d7ad32\" style=\"stroke:#000000;stroke-width:0.8;\"/>\n      </defs>\n      <g>\n       <use style=\"stroke:#000000;stroke-width:0.8;\" x=\"50.14375\" xlink:href=\"#m2646d7ad32\" y=\"220.933639\"/>\n      </g>\n     </g>\n     <g id=\"text_9\">\n      <!-- 0.60 -->\n      <g transform=\"translate(20.878125 224.732858)scale(0.1 -0.1)\">\n       <defs>\n        <path d=\"M 10.6875 12.40625 \nL 21 12.40625 \nL 21 0 \nL 10.6875 0 \nz\n\" id=\"DejaVuSans-46\"/>\n        <path d=\"M 33.015625 40.375 \nQ 26.375 40.375 22.484375 35.828125 \nQ 18.609375 31.296875 18.609375 23.390625 \nQ 18.609375 15.53125 22.484375 10.953125 \nQ 26.375 6.390625 33.015625 6.390625 \nQ 39.65625 6.390625 43.53125 10.953125 \nQ 47.40625 15.53125 47.40625 23.390625 \nQ 47.40625 31.296875 43.53125 35.828125 \nQ 39.65625 40.375 33.015625 40.375 \nz\nM 52.59375 71.296875 \nL 52.59375 62.3125 \nQ 48.875 64.0625 45.09375 64.984375 \nQ 41.3125 65.921875 37.59375 65.921875 \nQ 27.828125 65.921875 22.671875 59.328125 \nQ 17.53125 52.734375 16.796875 39.40625 \nQ 19.671875 43.65625 24.015625 45.921875 \nQ 28.375 48.1875 33.59375 48.1875 \nQ 44.578125 48.1875 50.953125 41.515625 \nQ 57.328125 34.859375 57.328125 23.390625 \nQ 57.328125 12.15625 50.6875 5.359375 \nQ 44.046875 -1.421875 33.015625 -1.421875 \nQ 20.359375 -1.421875 13.671875 8.265625 \nQ 6.984375 17.96875 6.984375 36.375 \nQ 6.984375 53.65625 15.1875 63.9375 \nQ 23.390625 74.21875 37.203125 74.21875 \nQ 40.921875 74.21875 44.703125 73.484375 \nQ 48.484375 72.75 52.59375 71.296875 \nz\n\" id=\"DejaVuSans-54\"/>\n       </defs>\n       <use xlink:href=\"#DejaVuSans-48\"/>\n       <use x=\"63.623047\" xlink:href=\"#DejaVuSans-46\"/>\n       <use x=\"95.410156\" xlink:href=\"#DejaVuSans-54\"/>\n       <use x=\"159.033203\" xlink:href=\"#DejaVuSans-48\"/>\n      </g>\n     </g>\n    </g>\n    <g id=\"ytick_2\">\n     <g id=\"line2d_9\">\n      <g>\n       <use style=\"stroke:#000000;stroke-width:0.8;\" x=\"50.14375\" xlink:href=\"#m2646d7ad32\" y=\"176.008013\"/>\n      </g>\n     </g>\n     <g id=\"text_10\">\n      <!-- 0.65 -->\n      <g transform=\"translate(20.878125 179.807232)scale(0.1 -0.1)\">\n       <use xlink:href=\"#DejaVuSans-48\"/>\n       <use x=\"63.623047\" xlink:href=\"#DejaVuSans-46\"/>\n       <use x=\"95.410156\" xlink:href=\"#DejaVuSans-54\"/>\n       <use x=\"159.033203\" xlink:href=\"#DejaVuSans-53\"/>\n      </g>\n     </g>\n    </g>\n    <g id=\"ytick_3\">\n     <g id=\"line2d_10\">\n      <g>\n       <use style=\"stroke:#000000;stroke-width:0.8;\" x=\"50.14375\" xlink:href=\"#m2646d7ad32\" y=\"131.082387\"/>\n      </g>\n     </g>\n     <g id=\"text_11\">\n      <!-- 0.70 -->\n      <g transform=\"translate(20.878125 134.881606)scale(0.1 -0.1)\">\n       <defs>\n        <path d=\"M 8.203125 72.90625 \nL 55.078125 72.90625 \nL 55.078125 68.703125 \nL 28.609375 0 \nL 18.3125 0 \nL 43.21875 64.59375 \nL 8.203125 64.59375 \nz\n\" id=\"DejaVuSans-55\"/>\n       </defs>\n       <use xlink:href=\"#DejaVuSans-48\"/>\n       <use x=\"63.623047\" xlink:href=\"#DejaVuSans-46\"/>\n       <use x=\"95.410156\" xlink:href=\"#DejaVuSans-55\"/>\n       <use x=\"159.033203\" xlink:href=\"#DejaVuSans-48\"/>\n      </g>\n     </g>\n    </g>\n    <g id=\"ytick_4\">\n     <g id=\"line2d_11\">\n      <g>\n       <use style=\"stroke:#000000;stroke-width:0.8;\" x=\"50.14375\" xlink:href=\"#m2646d7ad32\" y=\"86.156761\"/>\n      </g>\n     </g>\n     <g id=\"text_12\">\n      <!-- 0.75 -->\n      <g transform=\"translate(20.878125 89.95598)scale(0.1 -0.1)\">\n       <use xlink:href=\"#DejaVuSans-48\"/>\n       <use x=\"63.623047\" xlink:href=\"#DejaVuSans-46\"/>\n       <use x=\"95.410156\" xlink:href=\"#DejaVuSans-55\"/>\n       <use x=\"159.033203\" xlink:href=\"#DejaVuSans-53\"/>\n      </g>\n     </g>\n    </g>\n    <g id=\"ytick_5\">\n     <g id=\"line2d_12\">\n      <g>\n       <use style=\"stroke:#000000;stroke-width:0.8;\" x=\"50.14375\" xlink:href=\"#m2646d7ad32\" y=\"41.231135\"/>\n      </g>\n     </g>\n     <g id=\"text_13\">\n      <!-- 0.80 -->\n      <g transform=\"translate(20.878125 45.030353)scale(0.1 -0.1)\">\n       <defs>\n        <path d=\"M 31.78125 34.625 \nQ 24.75 34.625 20.71875 30.859375 \nQ 16.703125 27.09375 16.703125 20.515625 \nQ 16.703125 13.921875 20.71875 10.15625 \nQ 24.75 6.390625 31.78125 6.390625 \nQ 38.8125 6.390625 42.859375 10.171875 \nQ 46.921875 13.96875 46.921875 20.515625 \nQ 46.921875 27.09375 42.890625 30.859375 \nQ 38.875 34.625 31.78125 34.625 \nz\nM 21.921875 38.8125 \nQ 15.578125 40.375 12.03125 44.71875 \nQ 8.5 49.078125 8.5 55.328125 \nQ 8.5 64.0625 14.71875 69.140625 \nQ 20.953125 74.21875 31.78125 74.21875 \nQ 42.671875 74.21875 48.875 69.140625 \nQ 55.078125 64.0625 55.078125 55.328125 \nQ 55.078125 49.078125 51.53125 44.71875 \nQ 48 40.375 41.703125 38.8125 \nQ 48.828125 37.15625 52.796875 32.3125 \nQ 56.78125 27.484375 56.78125 20.515625 \nQ 56.78125 9.90625 50.3125 4.234375 \nQ 43.84375 -1.421875 31.78125 -1.421875 \nQ 19.734375 -1.421875 13.25 4.234375 \nQ 6.78125 9.90625 6.78125 20.515625 \nQ 6.78125 27.484375 10.78125 32.3125 \nQ 14.796875 37.15625 21.921875 38.8125 \nz\nM 18.3125 54.390625 \nQ 18.3125 48.734375 21.84375 45.5625 \nQ 25.390625 42.390625 31.78125 42.390625 \nQ 38.140625 42.390625 41.71875 45.5625 \nQ 45.3125 48.734375 45.3125 54.390625 \nQ 45.3125 60.0625 41.71875 63.234375 \nQ 38.140625 66.40625 31.78125 66.40625 \nQ 25.390625 66.40625 21.84375 63.234375 \nQ 18.3125 60.0625 18.3125 54.390625 \nz\n\" id=\"DejaVuSans-56\"/>\n       </defs>\n       <use xlink:href=\"#DejaVuSans-48\"/>\n       <use x=\"63.623047\" xlink:href=\"#DejaVuSans-46\"/>\n       <use x=\"95.410156\" xlink:href=\"#DejaVuSans-56\"/>\n       <use x=\"159.033203\" xlink:href=\"#DejaVuSans-48\"/>\n      </g>\n     </g>\n    </g>\n    <g id=\"text_14\">\n     <!-- Accuracy -->\n     <g transform=\"translate(14.798438 138.748125)rotate(-90)scale(0.1 -0.1)\">\n      <defs>\n       <path d=\"M 34.1875 63.1875 \nL 20.796875 26.90625 \nL 47.609375 26.90625 \nz\nM 28.609375 72.90625 \nL 39.796875 72.90625 \nL 67.578125 0 \nL 57.328125 0 \nL 50.6875 18.703125 \nL 17.828125 18.703125 \nL 11.1875 0 \nL 0.78125 0 \nz\n\" id=\"DejaVuSans-65\"/>\n       <path d=\"M 8.5 21.578125 \nL 8.5 54.6875 \nL 17.484375 54.6875 \nL 17.484375 21.921875 \nQ 17.484375 14.15625 20.5 10.265625 \nQ 23.53125 6.390625 29.59375 6.390625 \nQ 36.859375 6.390625 41.078125 11.03125 \nQ 45.3125 15.671875 45.3125 23.6875 \nL 45.3125 54.6875 \nL 54.296875 54.6875 \nL 54.296875 0 \nL 45.3125 0 \nL 45.3125 8.40625 \nQ 42.046875 3.421875 37.71875 1 \nQ 33.40625 -1.421875 27.6875 -1.421875 \nQ 18.265625 -1.421875 13.375 4.4375 \nQ 8.5 10.296875 8.5 21.578125 \nz\nM 31.109375 56 \nz\n\" id=\"DejaVuSans-117\"/>\n       <path d=\"M 41.109375 46.296875 \nQ 39.59375 47.171875 37.8125 47.578125 \nQ 36.03125 48 33.890625 48 \nQ 26.265625 48 22.1875 43.046875 \nQ 18.109375 38.09375 18.109375 28.8125 \nL 18.109375 0 \nL 9.078125 0 \nL 9.078125 54.6875 \nL 18.109375 54.6875 \nL 18.109375 46.1875 \nQ 20.953125 51.171875 25.484375 53.578125 \nQ 30.03125 56 36.53125 56 \nQ 37.453125 56 38.578125 55.875 \nQ 39.703125 55.765625 41.0625 55.515625 \nz\n\" id=\"DejaVuSans-114\"/>\n       <path d=\"M 34.28125 27.484375 \nQ 23.390625 27.484375 19.1875 25 \nQ 14.984375 22.515625 14.984375 16.5 \nQ 14.984375 11.71875 18.140625 8.90625 \nQ 21.296875 6.109375 26.703125 6.109375 \nQ 34.1875 6.109375 38.703125 11.40625 \nQ 43.21875 16.703125 43.21875 25.484375 \nL 43.21875 27.484375 \nz\nM 52.203125 31.203125 \nL 52.203125 0 \nL 43.21875 0 \nL 43.21875 8.296875 \nQ 40.140625 3.328125 35.546875 0.953125 \nQ 30.953125 -1.421875 24.3125 -1.421875 \nQ 15.921875 -1.421875 10.953125 3.296875 \nQ 6 8.015625 6 15.921875 \nQ 6 25.140625 12.171875 29.828125 \nQ 18.359375 34.515625 30.609375 34.515625 \nL 43.21875 34.515625 \nL 43.21875 35.40625 \nQ 43.21875 41.609375 39.140625 45 \nQ 35.0625 48.390625 27.6875 48.390625 \nQ 23 48.390625 18.546875 47.265625 \nQ 14.109375 46.140625 10.015625 43.890625 \nL 10.015625 52.203125 \nQ 14.9375 54.109375 19.578125 55.046875 \nQ 24.21875 56 28.609375 56 \nQ 40.484375 56 46.34375 49.84375 \nQ 52.203125 43.703125 52.203125 31.203125 \nz\n\" id=\"DejaVuSans-97\"/>\n       <path d=\"M 32.171875 -5.078125 \nQ 28.375 -14.84375 24.75 -17.8125 \nQ 21.140625 -20.796875 15.09375 -20.796875 \nL 7.90625 -20.796875 \nL 7.90625 -13.28125 \nL 13.1875 -13.28125 \nQ 16.890625 -13.28125 18.9375 -11.515625 \nQ 21 -9.765625 23.484375 -3.21875 \nL 25.09375 0.875 \nL 2.984375 54.6875 \nL 12.5 54.6875 \nL 29.59375 11.921875 \nL 46.6875 54.6875 \nL 56.203125 54.6875 \nz\n\" id=\"DejaVuSans-121\"/>\n      </defs>\n      <use xlink:href=\"#DejaVuSans-65\"/>\n      <use x=\"66.658203\" xlink:href=\"#DejaVuSans-99\"/>\n      <use x=\"121.638672\" xlink:href=\"#DejaVuSans-99\"/>\n      <use x=\"176.619141\" xlink:href=\"#DejaVuSans-117\"/>\n      <use x=\"239.998047\" xlink:href=\"#DejaVuSans-114\"/>\n      <use x=\"281.111328\" xlink:href=\"#DejaVuSans-97\"/>\n      <use x=\"342.390625\" xlink:href=\"#DejaVuSans-99\"/>\n      <use x=\"397.371094\" xlink:href=\"#DejaVuSans-121\"/>\n     </g>\n    </g>\n   </g>\n   <g id=\"line2d_13\">\n    <path clip-path=\"url(#p22093cad4b)\" d=\"M 65.361932 214.756364 \nL 66.37987 207.006719 \nL 67.397809 206.782054 \nL 68.415748 208.691415 \nL 69.433686 208.803721 \nL 70.451625 212.285473 \nL 71.469563 211.836195 \nL 72.487502 213.970169 \nL 73.50544 206.89436 \nL 75.541318 189.598016 \nL 76.559256 176.232646 \nL 77.577195 169.830727 \nL 78.595133 156.68997 \nL 79.613072 157.363859 \nL 80.631011 153.657495 \nL 81.648949 138.719736 \nL 82.666888 143.773878 \nL 83.684826 136.361151 \nL 84.702765 130.633121 \nL 85.720703 131.082398 \nL 86.738642 130.183897 \nL 87.756581 121.086421 \nL 88.774519 115.246084 \nL 89.792458 123.220394 \nL 90.810396 117.941641 \nL 91.828335 115.919973 \nL 92.846274 113.561388 \nL 93.864212 117.492363 \nL 94.882151 112.325916 \nL 95.900089 111.764386 \nL 96.918028 110.416608 \nL 97.935966 105.811744 \nL 98.953905 106.036356 \nL 99.971844 108.844218 \nL 102.007721 101.431491 \nL 103.025659 99.971407 \nL 104.043598 102.66691 \nL 106.079475 100.083713 \nL 107.097414 98.848241 \nL 109.133291 91.54782 \nL 110.151229 101.656103 \nL 111.169168 97.275851 \nL 112.187107 95.478849 \nL 113.205045 92.895598 \nL 114.222984 92.221709 \nL 115.240922 90.873931 \nL 116.258861 90.649319 \nL 117.2768 90.649319 \nL 118.294738 89.413847 \nL 119.312677 90.649319 \nL 120.330615 87.392233 \nL 121.348554 90.424707 \nL 122.366492 91.54782 \nL 123.384431 87.167568 \nL 124.40237 86.156761 \nL 125.420308 88.852317 \nL 126.438247 84.135094 \nL 127.456185 86.606038 \nL 128.474124 83.461204 \nL 129.492063 80.765702 \nL 130.510001 80.091812 \nL 131.52794 84.584371 \nL 132.545878 81.327231 \nL 133.563817 76.048478 \nL 134.581755 83.124287 \nL 135.599694 74.026864 \nL 136.617633 75.71156 \nL 137.635571 76.497755 \nL 138.65351 72.117503 \nL 139.671448 75.71156 \nL 140.689387 74.925365 \nL 141.707326 70.994336 \nL 142.725264 74.363782 \nL 143.743203 76.273143 \nL 144.761141 76.273143 \nL 145.77908 73.12831 \nL 146.797018 74.251476 \nL 147.814957 72.005197 \nL 148.832896 75.262283 \nL 149.850834 74.7007 \nL 150.868773 74.7007 \nL 152.90465 67.73725 \nL 153.922589 70.208141 \nL 154.940527 67.961862 \nL 155.958466 66.277166 \nL 156.976404 67.400333 \nL 157.994343 66.277166 \nL 159.012281 70.545113 \nL 160.03022 67.400333 \nL 161.048159 70.657419 \nL 162.066097 69.421946 \nL 163.084036 63.469304 \nL 164.101974 64.929388 \nL 165.119913 68.972723 \nL 166.137852 72.229809 \nL 167.15579 64.704776 \nL 168.173729 65.490971 \nL 169.191667 58.86444 \nL 170.209606 64.817082 \nL 171.227544 68.074222 \nL 172.245483 60.099912 \nL 173.263422 58.415162 \nL 174.28136 61.672302 \nL 175.299299 61.110719 \nL 176.317237 63.02008 \nL 177.335176 62.795415 \nL 178.353115 60.099912 \nL 179.371053 61.896914 \nL 180.388992 57.516661 \nL 181.40693 58.527522 \nL 182.424869 61.110719 \nL 183.442807 57.179744 \nL 184.460746 59.201411 \nL 185.478685 56.168883 \nL 186.496623 57.29205 \nL 187.514562 52.574879 \nL 188.5325 54.034963 \nL 189.550439 56.281243 \nL 190.568378 54.484187 \nL 191.586316 57.516661 \nL 192.604255 53.248715 \nL 193.622193 55.04577 \nL 194.640132 54.933464 \nL 195.65807 55.04577 \nL 196.676009 57.516661 \nL 197.693948 58.527522 \nL 198.711886 57.404355 \nL 199.729825 50.89013 \nL 200.747763 52.687185 \nL 201.765702 53.361074 \nL 202.783641 54.821158 \nL 203.801579 55.719659 \nL 204.819518 52.911797 \nL 205.837456 52.350214 \nL 206.855395 53.585686 \nL 207.873333 46.846849 \nL 208.891272 48.531545 \nL 209.909211 43.140485 \nL 210.927149 48.868516 \nL 211.945088 48.643851 \nL 212.963026 46.959155 \nL 213.980965 52.799491 \nL 214.998904 47.408432 \nL 216.016842 46.959155 \nL 217.034781 48.868516 \nL 218.052719 45.611376 \nL 219.070658 49.879323 \nL 220.088596 48.756157 \nL 221.106535 45.835988 \nL 222.124474 49.093128 \nL 223.142412 50.553212 \nL 224.160351 51.114795 \nL 225.178289 50.216241 \nL 226.196228 49.542352 \nL 227.214167 42.129625 \nL 228.232105 40.669541 \nL 229.250044 43.028179 \nL 230.267982 46.509877 \nL 231.285921 39.77104 \nL 232.303859 48.082267 \nL 233.321798 39.77104 \nL 234.339737 37.861732 \nL 235.357675 44.263598 \nL 236.375614 42.803514 \nL 237.393552 42.691208 \nL 239.42943 38.310956 \nL 240.447368 45.835988 \nL 241.465307 44.488264 \nL 242.483245 38.647927 \nL 243.501184 39.321816 \nL 244.519122 47.071461 \nL 245.537061 55.719659 \nL 246.555 48.531545 \nL 247.572938 42.803514 \nL 248.590877 42.017319 \nL 249.608815 38.647927 \nL 250.626754 40.332623 \nL 251.644693 38.760233 \nL 252.662631 33.256814 \nL 253.68057 36.738566 \nL 254.698508 36.401648 \nL 255.716447 45.274459 \nL 256.734385 39.097151 \nL 257.752324 38.19865 \nL 258.770263 40.669541 \nL 259.788201 42.578902 \nL 261.824078 39.995705 \nL 262.842017 34.829258 \nL 263.859956 38.310956 \nL 264.877894 36.176982 \nL 265.895833 76.834673 \nL 266.913771 45.049793 \nL 267.93171 33.256814 \nL 268.949648 39.434122 \nL 269.967587 40.669541 \nL 270.985526 39.321816 \nL 272.003464 39.77104 \nL 273.021403 38.984845 \nL 274.039341 36.963178 \nL 275.05728 38.647927 \nL 276.075219 36.289342 \nL 277.093157 38.086344 \nL 278.111096 38.760233 \nL 279.129034 36.401648 \nL 280.146973 39.209457 \nL 281.164911 32.133701 \nL 282.18285 42.017319 \nL 283.200789 34.716898 \nL 284.218727 38.19865 \nL 285.236666 37.749373 \nL 286.254604 35.05387 \nL 287.272543 33.256814 \nL 288.290482 31.90909 \nL 289.30842 38.872539 \nL 290.326359 30.336646 \nL 291.344297 32.358313 \nL 292.362236 35.727759 \nL 293.380174 29.213533 \nL 294.398113 39.883346 \nL 295.416052 38.423262 \nL 296.43399 34.379981 \nL 297.451929 48.082267 \nL 298.469867 32.695285 \nL 299.487806 34.492287 \nL 300.505745 30.22434 \nL 301.523683 33.369174 \nL 302.541622 37.075537 \nL 303.55956 32.470619 \nL 304.577499 38.310956 \nL 305.595437 28.988921 \nL 306.613376 35.166176 \nL 307.631315 26.967254 \nL 308.649253 28.764256 \nL 309.667192 30.22434 \nL 310.68513 35.727759 \nL 311.703069 34.379981 \nL 312.721008 35.05387 \nL 313.738946 37.187843 \nL 314.756885 32.470619 \nL 315.774823 41.118818 \nL 317.8107 29.66281 \nL 318.828639 31.347506 \nL 319.846578 28.427338 \nL 320.864516 29.438145 \nL 321.882455 30.898229 \nL 322.900393 30.785923 \nL 323.918332 33.144508 \nL 324.936271 26.517977 \nL 325.954209 31.79673 \nL 326.972148 26.405671 \nL 327.990086 25.956447 \nL 329.008025 32.133701 \nL 330.025963 30.22434 \nL 331.043902 32.358313 \nL 332.061841 30.22434 \nL 333.079779 51.114795 \nL 334.097718 30.898229 \nL 335.115656 27.641143 \nL 336.133595 27.191866 \nL 337.151534 27.865755 \nL 338.169472 24.945587 \nL 339.187411 28.090367 \nL 340.205349 20.340722 \nL 341.223288 28.315032 \nL 342.241226 27.07956 \nL 343.259165 28.315032 \nL 344.277104 26.630283 \nL 345.295042 27.07956 \nL 346.312981 26.854948 \nL 347.330919 41.231124 \nL 348.348858 33.256814 \nL 349.366797 33.144508 \nL 350.384735 32.470619 \nL 351.402674 26.854948 \nL 352.420612 24.047086 \nL 353.438551 26.854948 \nL 354.456489 29.101227 \nL 355.474428 30.785923 \nL 356.492367 30.336646 \nL 357.510305 31.684424 \nL 358.528244 26.068753 \nL 359.546182 17.083636 \nL 360.564121 31.010535 \nL 361.58206 24.608669 \nL 362.599998 29.66281 \nL 363.617937 20.003751 \nL 365.653814 27.528837 \nL 366.671752 20.228416 \nL 367.689691 19.10525 \nL 368.70763 20.565334 \nL 369.725568 25.057893 \nL 369.725568 25.057893 \n\" style=\"fill:none;stroke:#1f77b4;stroke-linecap:square;stroke-width:1.5;\"/>\n   </g>\n   <g id=\"line2d_14\">\n    <path clip-path=\"url(#p22093cad4b)\" d=\"M 65.361932 176.906536 \nL 70.451625 176.906536 \nL 71.469563 178.254314 \nL 72.487502 171.066199 \nL 73.50544 167.921419 \nL 74.523379 177.805037 \nL 75.541318 165.67514 \nL 76.559256 141.864516 \nL 77.577195 139.618237 \nL 78.595133 152.646688 \nL 79.613072 122.097281 \nL 80.631011 122.546505 \nL 81.648949 114.909166 \nL 82.666888 116.256945 \nL 83.684826 123.894283 \nL 84.702765 118.503224 \nL 85.720703 109.06883 \nL 86.738642 92.446375 \nL 87.756581 122.097281 \nL 88.774519 100.982214 \nL 89.792458 102.329992 \nL 90.810396 105.025549 \nL 91.828335 89.750818 \nL 92.846274 86.606038 \nL 93.864212 109.518107 \nL 94.882151 102.329992 \nL 95.900089 85.707484 \nL 96.918028 112.662887 \nL 97.935966 85.25826 \nL 98.953905 111.764386 \nL 99.971844 93.344876 \nL 100.989782 100.083713 \nL 102.007721 84.808983 \nL 103.025659 86.156761 \nL 104.043598 102.779216 \nL 105.061537 79.867147 \nL 106.079475 92.446375 \nL 107.097414 91.098596 \nL 108.115352 82.562704 \nL 109.133291 103.228493 \nL 110.151229 82.562704 \nL 111.169168 78.968646 \nL 112.187107 91.54782 \nL 113.205045 98.286658 \nL 114.222984 96.938933 \nL 115.240922 85.25826 \nL 116.258861 94.243377 \nL 117.2768 86.156761 \nL 118.294738 87.953763 \nL 119.312677 90.200042 \nL 120.330615 90.200042 \nL 121.348554 91.098596 \nL 122.366492 87.953763 \nL 123.384431 102.329992 \nL 124.40237 104.126994 \nL 125.420308 89.750818 \nL 126.438247 89.301541 \nL 127.456185 83.461204 \nL 128.474124 88.852317 \nL 129.492063 87.504539 \nL 130.510001 127.039063 \nL 131.52794 86.606038 \nL 132.545878 87.953763 \nL 133.563817 86.606038 \nL 134.581755 105.025549 \nL 135.599694 91.997097 \nL 136.617633 92.446375 \nL 137.635571 85.25826 \nL 138.65351 87.504539 \nL 139.671448 92.895598 \nL 140.689387 87.504539 \nL 141.707326 86.606038 \nL 143.743203 86.606038 \nL 144.761141 93.794099 \nL 145.77908 86.156761 \nL 146.797018 96.489656 \nL 147.814957 85.707484 \nL 148.832896 94.243377 \nL 149.850834 114.459889 \nL 150.868773 90.200042 \nL 151.886711 86.606038 \nL 152.90465 95.591155 \nL 153.922589 89.301541 \nL 154.940527 95.591155 \nL 155.958466 109.06883 \nL 156.976404 83.461204 \nL 157.994343 104.576271 \nL 159.012281 85.25826 \nL 160.03022 88.852317 \nL 162.066097 102.329992 \nL 163.084036 79.867147 \nL 164.101974 105.474772 \nL 165.119913 88.852317 \nL 166.137852 87.953763 \nL 167.15579 90.200042 \nL 168.173729 92.895598 \nL 169.191667 100.083713 \nL 170.209606 110.865832 \nL 171.227544 87.953763 \nL 172.245483 97.388157 \nL 173.263422 92.446375 \nL 174.28136 95.591155 \nL 175.299299 95.141878 \nL 176.317237 99.634436 \nL 177.335176 108.170329 \nL 178.353115 81.664203 \nL 179.371053 101.431491 \nL 180.388992 105.025549 \nL 181.40693 88.852317 \nL 182.424869 85.25826 \nL 183.442807 93.344876 \nL 184.460746 83.461204 \nL 185.478685 87.055262 \nL 186.496623 97.388157 \nL 187.514562 85.25826 \nL 188.5325 96.040379 \nL 189.550439 88.40304 \nL 190.568378 87.504539 \nL 192.604255 105.92405 \nL 193.622193 94.243377 \nL 195.65807 83.011981 \nL 196.676009 198.021549 \nL 197.693948 91.997097 \nL 198.711886 116.256945 \nL 199.729825 121.198727 \nL 200.747763 94.692654 \nL 201.765702 95.591155 \nL 202.783641 93.344876 \nL 203.801579 96.938933 \nL 204.819518 88.40304 \nL 205.837456 111.315109 \nL 206.855395 85.707484 \nL 207.873333 94.692654 \nL 208.891272 97.837434 \nL 209.909211 91.54782 \nL 210.927149 96.489656 \nL 211.945088 85.25826 \nL 212.963026 84.808983 \nL 213.980965 95.591155 \nL 214.998904 114.909166 \nL 216.016842 91.098596 \nL 217.034781 87.504539 \nL 218.052719 91.098596 \nL 219.070658 99.185212 \nL 220.088596 102.329992 \nL 221.106535 88.40304 \nL 222.124474 87.055262 \nL 223.142412 95.591155 \nL 224.160351 88.40304 \nL 225.178289 91.997097 \nL 226.196228 88.40304 \nL 227.214167 99.185212 \nL 228.232105 84.808983 \nL 229.250044 93.344876 \nL 230.267982 108.619553 \nL 231.285921 100.532937 \nL 232.303859 89.301541 \nL 233.321798 99.185212 \nL 234.339737 94.243377 \nL 235.357675 96.489656 \nL 236.375614 87.055262 \nL 237.393552 86.606038 \nL 238.411491 92.895598 \nL 239.42943 93.794099 \nL 240.447368 98.286658 \nL 241.465307 90.649319 \nL 242.483245 89.750818 \nL 243.501184 93.344876 \nL 244.519122 120.300226 \nL 245.537061 93.794099 \nL 246.555 102.329992 \nL 247.572938 105.92405 \nL 248.590877 100.083713 \nL 249.608815 92.895598 \nL 250.626754 84.808983 \nL 251.644693 91.098596 \nL 252.662631 95.141878 \nL 253.68057 106.373273 \nL 254.698508 94.692654 \nL 255.716447 90.200042 \nL 256.734385 81.214925 \nL 257.752324 104.126994 \nL 258.770263 90.200042 \nL 259.788201 103.677771 \nL 260.80614 100.982214 \nL 261.824078 91.997097 \nL 262.842017 89.750818 \nL 263.859956 88.40304 \nL 264.877894 93.794099 \nL 265.895833 92.446375 \nL 266.913771 93.344876 \nL 267.93171 90.649319 \nL 268.949648 93.344876 \nL 269.967587 92.895598 \nL 270.985526 83.461204 \nL 272.003464 88.852317 \nL 273.021403 91.098596 \nL 274.039341 95.141878 \nL 275.05728 89.301541 \nL 276.075219 100.083713 \nL 277.093157 94.243377 \nL 278.111096 86.156761 \nL 279.129034 95.591155 \nL 280.146973 96.938933 \nL 281.164911 89.750818 \nL 282.18285 104.576271 \nL 283.200789 105.474772 \nL 284.218727 103.228493 \nL 285.236666 109.518107 \nL 286.254604 87.055262 \nL 287.272543 96.938933 \nL 288.290482 92.446375 \nL 289.30842 94.243377 \nL 290.326359 99.634436 \nL 291.344297 102.329992 \nL 292.362236 83.910482 \nL 293.380174 96.938933 \nL 294.398113 92.446375 \nL 295.416052 91.54782 \nL 296.43399 87.504539 \nL 297.451929 89.301541 \nL 298.469867 116.706168 \nL 299.487806 86.156761 \nL 300.505745 94.692654 \nL 301.523683 105.92405 \nL 302.541622 90.200042 \nL 303.55956 88.852317 \nL 304.577499 89.301541 \nL 305.595437 95.141878 \nL 306.613376 90.649319 \nL 307.631315 83.461204 \nL 308.649253 94.243377 \nL 309.667192 89.750818 \nL 310.68513 92.446375 \nL 311.703069 93.794099 \nL 312.721008 102.329992 \nL 313.738946 87.055262 \nL 314.756885 121.198727 \nL 315.774823 91.997097 \nL 316.792762 97.388157 \nL 317.8107 94.243377 \nL 318.828639 90.649319 \nL 319.846578 94.692654 \nL 320.864516 89.750818 \nL 321.882455 98.735935 \nL 322.900393 91.997097 \nL 323.918332 96.938933 \nL 324.936271 91.098596 \nL 325.954209 97.837434 \nL 326.972148 100.532937 \nL 327.990086 101.880715 \nL 329.008025 90.649319 \nL 330.025963 116.706168 \nL 331.043902 95.141878 \nL 332.061841 102.779216 \nL 333.079779 96.489656 \nL 334.097718 108.619553 \nL 335.115656 92.446375 \nL 336.133595 102.329992 \nL 337.151534 105.474772 \nL 338.169472 88.40304 \nL 339.187411 101.880715 \nL 340.205349 100.982214 \nL 341.223288 101.880715 \nL 342.241226 89.301541 \nL 343.259165 95.591155 \nL 344.277104 92.446375 \nL 345.295042 99.185212 \nL 346.312981 96.938933 \nL 347.330919 112.21361 \nL 348.348858 92.895598 \nL 349.366797 85.25826 \nL 350.384735 96.489656 \nL 351.402674 119.851002 \nL 352.420612 93.344876 \nL 353.438551 92.895598 \nL 354.456489 90.200042 \nL 355.474428 106.373273 \nL 356.492367 94.692654 \nL 357.510305 102.779216 \nL 358.528244 98.735935 \nL 359.546182 99.634436 \nL 360.564121 88.852317 \nL 361.58206 98.286658 \nL 362.599998 104.576271 \nL 363.617937 96.489656 \nL 364.635875 96.040379 \nL 365.653814 99.634436 \nL 366.671752 100.083713 \nL 367.689691 94.692654 \nL 368.70763 110.865832 \nL 369.725568 98.735935 \nL 369.725568 98.735935 \n\" style=\"fill:none;stroke:#ff7f0e;stroke-linecap:square;stroke-width:1.5;\"/>\n   </g>\n   <g id=\"patch_3\">\n    <path d=\"M 50.14375 224.64 \nL 50.14375 7.2 \n\" style=\"fill:none;stroke:#000000;stroke-linecap:square;stroke-linejoin:miter;stroke-width:0.8;\"/>\n   </g>\n   <g id=\"patch_4\">\n    <path d=\"M 384.94375 224.64 \nL 384.94375 7.2 \n\" style=\"fill:none;stroke:#000000;stroke-linecap:square;stroke-linejoin:miter;stroke-width:0.8;\"/>\n   </g>\n   <g id=\"patch_5\">\n    <path d=\"M 50.14375 224.64 \nL 384.94375 224.64 \n\" style=\"fill:none;stroke:#000000;stroke-linecap:square;stroke-linejoin:miter;stroke-width:0.8;\"/>\n   </g>\n   <g id=\"patch_6\">\n    <path d=\"M 50.14375 7.2 \nL 384.94375 7.2 \n\" style=\"fill:none;stroke:#000000;stroke-linecap:square;stroke-linejoin:miter;stroke-width:0.8;\"/>\n   </g>\n   <g id=\"legend_1\">\n    <g id=\"patch_7\">\n     <path d=\"M 57.14375 44.55625 \nL 138.378125 44.55625 \nQ 140.378125 44.55625 140.378125 42.55625 \nL 140.378125 14.2 \nQ 140.378125 12.2 138.378125 12.2 \nL 57.14375 12.2 \nQ 55.14375 12.2 55.14375 14.2 \nL 55.14375 42.55625 \nQ 55.14375 44.55625 57.14375 44.55625 \nz\n\" style=\"fill:#ffffff;opacity:0.8;stroke:#cccccc;stroke-linejoin:miter;\"/>\n    </g>\n    <g id=\"line2d_15\">\n     <path d=\"M 59.14375 20.298438 \nL 79.14375 20.298438 \n\" style=\"fill:none;stroke:#1f77b4;stroke-linecap:square;stroke-width:1.5;\"/>\n    </g>\n    <g id=\"line2d_16\"/>\n    <g id=\"text_15\">\n     <!-- training -->\n     <g transform=\"translate(87.14375 23.798438)scale(0.1 -0.1)\">\n      <defs>\n       <path d=\"M 18.3125 70.21875 \nL 18.3125 54.6875 \nL 36.8125 54.6875 \nL 36.8125 47.703125 \nL 18.3125 47.703125 \nL 18.3125 18.015625 \nQ 18.3125 11.328125 20.140625 9.421875 \nQ 21.96875 7.515625 27.59375 7.515625 \nL 36.8125 7.515625 \nL 36.8125 0 \nL 27.59375 0 \nQ 17.1875 0 13.234375 3.875 \nQ 9.28125 7.765625 9.28125 18.015625 \nL 9.28125 47.703125 \nL 2.6875 47.703125 \nL 2.6875 54.6875 \nL 9.28125 54.6875 \nL 9.28125 70.21875 \nz\n\" id=\"DejaVuSans-116\"/>\n       <path d=\"M 9.421875 54.6875 \nL 18.40625 54.6875 \nL 18.40625 0 \nL 9.421875 0 \nz\nM 9.421875 75.984375 \nL 18.40625 75.984375 \nL 18.40625 64.59375 \nL 9.421875 64.59375 \nz\n\" id=\"DejaVuSans-105\"/>\n       <path d=\"M 54.890625 33.015625 \nL 54.890625 0 \nL 45.90625 0 \nL 45.90625 32.71875 \nQ 45.90625 40.484375 42.875 44.328125 \nQ 39.84375 48.1875 33.796875 48.1875 \nQ 26.515625 48.1875 22.3125 43.546875 \nQ 18.109375 38.921875 18.109375 30.90625 \nL 18.109375 0 \nL 9.078125 0 \nL 9.078125 54.6875 \nL 18.109375 54.6875 \nL 18.109375 46.1875 \nQ 21.34375 51.125 25.703125 53.5625 \nQ 30.078125 56 35.796875 56 \nQ 45.21875 56 50.046875 50.171875 \nQ 54.890625 44.34375 54.890625 33.015625 \nz\n\" id=\"DejaVuSans-110\"/>\n       <path d=\"M 45.40625 27.984375 \nQ 45.40625 37.75 41.375 43.109375 \nQ 37.359375 48.484375 30.078125 48.484375 \nQ 22.859375 48.484375 18.828125 43.109375 \nQ 14.796875 37.75 14.796875 27.984375 \nQ 14.796875 18.265625 18.828125 12.890625 \nQ 22.859375 7.515625 30.078125 7.515625 \nQ 37.359375 7.515625 41.375 12.890625 \nQ 45.40625 18.265625 45.40625 27.984375 \nz\nM 54.390625 6.78125 \nQ 54.390625 -7.171875 48.1875 -13.984375 \nQ 42 -20.796875 29.203125 -20.796875 \nQ 24.46875 -20.796875 20.265625 -20.09375 \nQ 16.0625 -19.390625 12.109375 -17.921875 \nL 12.109375 -9.1875 \nQ 16.0625 -11.328125 19.921875 -12.34375 \nQ 23.78125 -13.375 27.78125 -13.375 \nQ 36.625 -13.375 41.015625 -8.765625 \nQ 45.40625 -4.15625 45.40625 5.171875 \nL 45.40625 9.625 \nQ 42.625 4.78125 38.28125 2.390625 \nQ 33.9375 0 27.875 0 \nQ 17.828125 0 11.671875 7.65625 \nQ 5.515625 15.328125 5.515625 27.984375 \nQ 5.515625 40.671875 11.671875 48.328125 \nQ 17.828125 56 27.875 56 \nQ 33.9375 56 38.28125 53.609375 \nQ 42.625 51.21875 45.40625 46.390625 \nL 45.40625 54.6875 \nL 54.390625 54.6875 \nz\n\" id=\"DejaVuSans-103\"/>\n      </defs>\n      <use xlink:href=\"#DejaVuSans-116\"/>\n      <use x=\"39.208984\" xlink:href=\"#DejaVuSans-114\"/>\n      <use x=\"80.322266\" xlink:href=\"#DejaVuSans-97\"/>\n      <use x=\"141.601562\" xlink:href=\"#DejaVuSans-105\"/>\n      <use x=\"169.384766\" xlink:href=\"#DejaVuSans-110\"/>\n      <use x=\"232.763672\" xlink:href=\"#DejaVuSans-105\"/>\n      <use x=\"260.546875\" xlink:href=\"#DejaVuSans-110\"/>\n      <use x=\"323.925781\" xlink:href=\"#DejaVuSans-103\"/>\n     </g>\n    </g>\n    <g id=\"line2d_17\">\n     <path d=\"M 59.14375 34.976562 \nL 79.14375 34.976562 \n\" style=\"fill:none;stroke:#ff7f0e;stroke-linecap:square;stroke-width:1.5;\"/>\n    </g>\n    <g id=\"line2d_18\"/>\n    <g id=\"text_16\">\n     <!-- validation -->\n     <g transform=\"translate(87.14375 38.476562)scale(0.1 -0.1)\">\n      <defs>\n       <path d=\"M 2.984375 54.6875 \nL 12.5 54.6875 \nL 29.59375 8.796875 \nL 46.6875 54.6875 \nL 56.203125 54.6875 \nL 35.6875 0 \nL 23.484375 0 \nz\n\" id=\"DejaVuSans-118\"/>\n       <path d=\"M 9.421875 75.984375 \nL 18.40625 75.984375 \nL 18.40625 0 \nL 9.421875 0 \nz\n\" id=\"DejaVuSans-108\"/>\n       <path d=\"M 45.40625 46.390625 \nL 45.40625 75.984375 \nL 54.390625 75.984375 \nL 54.390625 0 \nL 45.40625 0 \nL 45.40625 8.203125 \nQ 42.578125 3.328125 38.25 0.953125 \nQ 33.9375 -1.421875 27.875 -1.421875 \nQ 17.96875 -1.421875 11.734375 6.484375 \nQ 5.515625 14.40625 5.515625 27.296875 \nQ 5.515625 40.1875 11.734375 48.09375 \nQ 17.96875 56 27.875 56 \nQ 33.9375 56 38.25 53.625 \nQ 42.578125 51.265625 45.40625 46.390625 \nz\nM 14.796875 27.296875 \nQ 14.796875 17.390625 18.875 11.75 \nQ 22.953125 6.109375 30.078125 6.109375 \nQ 37.203125 6.109375 41.296875 11.75 \nQ 45.40625 17.390625 45.40625 27.296875 \nQ 45.40625 37.203125 41.296875 42.84375 \nQ 37.203125 48.484375 30.078125 48.484375 \nQ 22.953125 48.484375 18.875 42.84375 \nQ 14.796875 37.203125 14.796875 27.296875 \nz\n\" id=\"DejaVuSans-100\"/>\n      </defs>\n      <use xlink:href=\"#DejaVuSans-118\"/>\n      <use x=\"59.179688\" xlink:href=\"#DejaVuSans-97\"/>\n      <use x=\"120.458984\" xlink:href=\"#DejaVuSans-108\"/>\n      <use x=\"148.242188\" xlink:href=\"#DejaVuSans-105\"/>\n      <use x=\"176.025391\" xlink:href=\"#DejaVuSans-100\"/>\n      <use x=\"239.501953\" xlink:href=\"#DejaVuSans-97\"/>\n      <use x=\"300.78125\" xlink:href=\"#DejaVuSans-116\"/>\n      <use x=\"339.990234\" xlink:href=\"#DejaVuSans-105\"/>\n      <use x=\"367.773438\" xlink:href=\"#DejaVuSans-111\"/>\n      <use x=\"428.955078\" xlink:href=\"#DejaVuSans-110\"/>\n     </g>\n    </g>\n   </g>\n  </g>\n </g>\n <defs>\n  <clipPath id=\"p22093cad4b\">\n   <rect height=\"217.44\" width=\"334.8\" x=\"50.14375\" y=\"7.2\"/>\n  </clipPath>\n </defs>\n</svg>\n",
      "image/png": "[encoded data removed]"
     },
     "metadata": {
      "needs_background": "light"
     }
    }
   ],
   "source": [
    "# 可視化\n",
    "plt.plot(range(1,epochs+1), history.history['accuracy'], label=\"training\")\n",
    "plt.plot(range(1,epochs+1), history.history['val_accuracy'], label=\"validation\")\n",
    "plt.xlabel('Epochs')\n",
    "plt.ylabel('Accuracy')\n",
    "plt.legend()\n",
    "plt.show()"
   ]
  },
  {
   "cell_type": "code",
   "execution_count": null,
   "metadata": {
    "scrolled": true
   },
   "outputs": [],
   "source": [
    "# tensorboard　(準備中) \n",
    "%tensorboard --logdir logs/fit"
   ]
  },
  {
   "cell_type": "code",
   "execution_count": null,
   "metadata": {},
   "outputs": [],
   "source": [
    "# X_testを使って予測を行う\n",
    "predictions = model.predict_classes(X_test)\n",
    "xa = list(predictions)\n",
    "ya = list(Y_test_backup)\n",
    "results = pd.DataFrame({'Actual': ya, 'Predictions': xa})\n",
    "results[1:3]\n"
   ]
  }
 ],
 "metadata": {
  "kernelspec": {
   "name": "Python 3.6.9 64-bit",
   "display_name": "Python 3.6.9 64-bit",
   "metadata": {
    "interpreter": {
     "hash": "31f2aee4e71d21fbe5cf8b01ff0e069b9275f58929596ceb00d14d90e3e16cd6"
    }
   }
  },
  "language_info": {
   "codemirror_mode": {
    "name": "ipython",
    "version": 3
   },
   "file_extension": ".py",
   "mimetype": "text/x-python",
   "name": "python",
   "nbconvert_exporter": "python",
   "pygments_lexer": "ipython3",
   "version": "3.6.9-final"
  }
 },
 "nbformat": 4,
 "nbformat_minor": 4
}